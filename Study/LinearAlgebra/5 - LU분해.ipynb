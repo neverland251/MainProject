{
 "cells": [
  {
   "cell_type": "code",
   "execution_count": 2,
   "metadata": {},
   "outputs": [],
   "source": [
    "import numpy as np\n",
    "import matplotlib.pyplot as plt\n",
    "from mpl_toolkits import mplot3d"
   ]
  },
  {
   "cell_type": "code",
   "execution_count": 3,
   "metadata": {},
   "outputs": [],
   "source": [
    "# 어떤 행렬을 정의한다.\n",
    "\n",
    "x = np.matrix([[1,5,3],[2,3,6],[3,1,7]])"
   ]
  },
  {
   "cell_type": "markdown",
   "metadata": {},
   "source": [
    "# 5. LU분해"
   ]
  },
  {
   "cell_type": "markdown",
   "metadata": {},
   "source": [
    "## 1) 기본 개념\n",
    "### (1) 기본 개념은, 각각 소블럭의 1행과 1열을 외적하여 행렬로 전개한 값을, 원래 행렬에서 지속적으로 빼서\n",
    "### (2) a11 성분으로 나누어 1행과 1열을 원래 행렬의 값과 동일하게 만들어 준 후에\n",
    "### (3) 1행과 1열을 0으로 만들어주면서 지속적으로 축소해준다."
   ]
  },
  {
   "cell_type": "markdown",
   "metadata": {},
   "source": [
    "## 2) 기본 알고리즘"
   ]
  },
  {
   "cell_type": "code",
   "execution_count": 4,
   "metadata": {},
   "outputs": [
    {
     "name": "stdout",
     "output_type": "stream",
     "text": [
      "[[1.]\n",
      " [5.]\n",
      " [3.]] [[1 2 3]]\n"
     ]
    }
   ],
   "source": [
    "# 1열에 1행을 외적할 경우, 생성되는 행렬의 1행과 1열엔 a00성분이 중복해서 들어가게 된다.\n",
    "# normalizer는 a00로 나눠줌으로서 중복성을 제거해주고, 원래 행렬에서 잔차 행렬을 뺄 때 1행 1열은 0이 되도록 만들어주는 \n",
    "# 핵심 역할을 담당한다.\n",
    "normalizer = 1/(x[0,0])\n",
    "\n",
    "# 1행에 normalizer를 곱해준다.\n",
    "temp_l = normalizer * x[0].T\n",
    "# 1열을 임시로 저장해주고\n",
    "temp_u = x.T[0]\n",
    "l = normalizer * x[0].T\n",
    "u = x.T[0]\n",
    "\n",
    "print(l,u)"
   ]
  },
  {
   "cell_type": "code",
   "execution_count": 5,
   "metadata": {},
   "outputs": [
    {
     "name": "stdout",
     "output_type": "stream",
     "text": [
      "[[ 1.  5.  3.]\n",
      " [ 2. 10.  6.]\n",
      " [ 3. 15.  9.]]\n"
     ]
    }
   ],
   "source": [
    "# 1행과 1열을 외적하여 n*m 잔차행렬을 새로 생성해준다.\n",
    "temp = np.matmul(temp_l,temp_u).T\n",
    "print(temp)"
   ]
  },
  {
   "cell_type": "code",
   "execution_count": 6,
   "metadata": {},
   "outputs": [
    {
     "name": "stdout",
     "output_type": "stream",
     "text": [
      "[[  0.   0.   0.]\n",
      " [  0.  -7.   0.]\n",
      " [  0. -14.  -2.]]\n"
     ]
    }
   ],
   "source": [
    "# 원래 행렬에서 잔차행렬을 빼 1행과 1열을 0으로 만들어준다.\n",
    "x = x - temp\n",
    "print(x)"
   ]
  },
  {
   "cell_type": "code",
   "execution_count": 7,
   "metadata": {},
   "outputs": [],
   "source": [
    "normalizer = 1/x[1,1]\n",
    "temp_l = normalizer * x[1].T\n",
    "temp_u = x.T[1]\n",
    "\n",
    "#위 iteration의 반복이나, i=2부터는 하삼각행렬과 상삼각행렬을 numpy의 stack으로 지속적으로 누적해준다.\n",
    "l = np.hstack([l,temp_l])\n",
    "u = np.vstack([u,temp_u])\n",
    "temp = np.matmul(temp_l,temp_u).T\n",
    "x = x - temp"
   ]
  },
  {
   "cell_type": "code",
   "execution_count": 8,
   "metadata": {},
   "outputs": [
    {
     "name": "stdout",
     "output_type": "stream",
     "text": [
      "[[0. 0. 0.]\n",
      " [0. 0. 0.]\n",
      " [0. 0. 0.]]\n"
     ]
    }
   ],
   "source": [
    "normalizer = 1/x[2,2]\n",
    "temp_l = normalizer * x[2].T\n",
    "temp_u = x.T[2]\n",
    "l = np.hstack([l,temp_l])\n",
    "u = np.vstack([u,temp_u])\n",
    "temp = np.matmul(temp_l,temp_u).T\n",
    "x = x - temp\n",
    "# 최종적인 잔차행렬이 0행렬이 되면 성공이다.\n",
    "print(x)"
   ]
  },
  {
   "cell_type": "code",
   "execution_count": 9,
   "metadata": {},
   "outputs": [],
   "source": [
    "# 함수로 정의한 LU분해\n",
    "def LUdecomp(x) :\n",
    "    if type(x) != type(np.matrix([0])):\n",
    "        raise ValueError \n",
    "    \n",
    "    #행렬의 행과 열 차원중 작은쪽을 s로 지정해준다.\n",
    "    s = np.min(x.shape)\n",
    "    \n",
    "    normalizer = 1/(x[0,0])\n",
    "    l = normalizer * x[0].T\n",
    "    u = x.T[0]\n",
    "    temp = np.matmul(l,u).T\n",
    "    x = x - temp\n",
    "    \n",
    "    for i in range(1,s):\n",
    "        normalizer = 1/x[i,i]\n",
    "        temp_l = normalizer * x[i].T\n",
    "        temp_u = x.T[i]\n",
    "        l = np.hstack([l,temp_l])\n",
    "        u = np.vstack([u,temp_u])\n",
    "        temp = np.matmul(temp_l,temp_u).T\n",
    "        x = x - temp\n",
    "    return (l,u)"
   ]
  },
  {
   "cell_type": "code",
   "execution_count": 10,
   "metadata": {},
   "outputs": [
    {
     "name": "stdout",
     "output_type": "stream",
     "text": [
      "하삼각행렬\n",
      "[[ 1. -0. -0.]\n",
      " [ 5.  1. -0.]\n",
      " [ 3. -0.  1.]]\n",
      "상삼각행렬\n",
      "[[  1.   2.   3.]\n",
      " [  0.  -7. -14.]\n",
      " [  0.   0.  -2.]]\n"
     ]
    }
   ],
   "source": [
    "x = np.matrix([[1,5,3],[2,3,6],[3,1,7]])\n",
    "\n",
    "L,U = LUdecomp(x)\n",
    "\n",
    "print(\"하삼각행렬\")\n",
    "print(L)\n",
    "print(\"상삼각행렬\")\n",
    "print(U)"
   ]
  },
  {
   "cell_type": "markdown",
   "metadata": {},
   "source": [
    "## 3) a00 = 0일때의 대처법(피보팅)"
   ]
  },
  {
   "cell_type": "markdown",
   "metadata": {},
   "source": [
    "### (1) a00 = 0일때의 문제는, 1/a00를 곱하는 과정에서 1/0이 되기 때문에 연산이 불가능해지는 점이다.\n",
    "### (2) 이를 해결하기 위해, 0이 아닌 다른 행으로 교체한 후, 앞전 연산의 결과도 동일한 순서로 행교환을 해준다.\n",
    "### (3) 알고리즘적으로는, 치환된 순서를 규정하는 '치환행렬'을 만들어 이를 계산에 활용한다.\n",
    "\n",
    "- Ax = y에서 LUx = y로 분해했을 경우, 치환행렬 P를 이용하여 이를 다시 나타내면 PLUx = y, \n",
    "- 이때, P는 정규직교행렬이므로 inverse(P) = transpose(P)가 성립되고. 우변으로 이항하면 LUx = transpose(T) * y 즉 y쪽의 순서를 변경한다.\n",
    "- Sxy를 i번째 iteration의 x행과 y행의 교환을 나타내는 치환행렬이라고 할 때\n",
    "- P = Sxy1 * Sxy2 * ..... 이다."
   ]
  },
  {
   "cell_type": "code",
   "execution_count": 125,
   "metadata": {},
   "outputs": [
    {
     "name": "stdout",
     "output_type": "stream",
     "text": [
      "[[0 5 3 1]\n",
      " [2 3 6 5]\n",
      " [3 1 7 3]\n",
      " [2 1 5 6]]\n"
     ]
    }
   ],
   "source": [
    "A = np.matrix([[0,5,3,1],[2,3,6,5],[3,1,7,3],[2,1,5,6]])\n",
    "print(x)"
   ]
  },
  {
   "cell_type": "code",
   "execution_count": 126,
   "metadata": {},
   "outputs": [
    {
     "name": "stderr",
     "output_type": "stream",
     "text": [
      "C:\\Users\\never\\Anaconda3\\lib\\site-packages\\ipykernel_launcher.py:9: RuntimeWarning: divide by zero encountered in long_scalars\n",
      "  if __name__ == '__main__':\n",
      "C:\\Users\\never\\Anaconda3\\lib\\site-packages\\ipykernel_launcher.py:10: RuntimeWarning: invalid value encountered in multiply\n",
      "  # Remove the CWD from sys.path while we load stuff.\n",
      "C:\\Users\\never\\Anaconda3\\lib\\site-packages\\ipykernel_launcher.py:17: RuntimeWarning: invalid value encountered in multiply\n"
     ]
    },
    {
     "data": {
      "text/plain": [
       "(matrix([[nan, nan, nan, nan],\n",
       "         [inf, nan, nan, nan],\n",
       "         [inf, nan, nan, nan],\n",
       "         [inf, nan, nan, nan]]), matrix([[  0.,   2.,   3.,   2.],\n",
       "         [ nan, -inf, -inf, -inf],\n",
       "         [ nan,  nan,  nan,  nan],\n",
       "         [ nan,  nan,  nan,  nan]]))"
      ]
     },
     "execution_count": 126,
     "metadata": {},
     "output_type": "execute_result"
    }
   ],
   "source": [
    "LUdecomp(A) "
   ]
  },
  {
   "cell_type": "markdown",
   "metadata": {},
   "source": [
    "- a00성분이 0이기 때문에, 무한으로 발산(inf)한다."
   ]
  },
  {
   "cell_type": "markdown",
   "metadata": {},
   "source": [
    "### (4) 핵심요소는 다음과 같다."
   ]
  },
  {
   "cell_type": "markdown",
   "metadata": {},
   "source": [
    "- 대각성분이 1인 피봇행렬을 생성한다."
   ]
  },
  {
   "cell_type": "code",
   "execution_count": 127,
   "metadata": {},
   "outputs": [
    {
     "name": "stdout",
     "output_type": "stream",
     "text": [
      "[[0 5 3 1]\n",
      " [2 3 6 5]\n",
      " [3 1 7 3]\n",
      " [2 1 5 6]]\n",
      "[[2 3 6 5]\n",
      " [0 5 3 1]\n",
      " [3 1 7 3]\n",
      " [2 1 5 6]]\n"
     ]
    }
   ],
   "source": [
    "\n",
    "# 그리고, 행 교환을 원하는 행의 '피봇 행렬의 행'을 서로 바꿔준다. 아래에서 그 예를 확인할 수 있다.\n",
    "\n",
    "print(A)\n",
    "\n",
    "pivot_table = np.matrix([[0,1,0,0],[1,0,0,0],[0,0,1,0],[0,0,0,1]]) #1행과 2행의 순서가 바뀐 pivottable을 만든다.\n",
    "\n",
    "print(np.dot(pivot_table,x))# 2행과 1행의 순서가 바뀐것을 확인할 수 있다."
   ]
  },
  {
   "cell_type": "markdown",
   "metadata": {},
   "source": [
    "- 0이 아닌 행을 찾는다.\n"
   ]
  },
  {
   "cell_type": "code",
   "execution_count": 128,
   "metadata": {},
   "outputs": [
    {
     "name": "stdout",
     "output_type": "stream",
     "text": [
      "1\n"
     ]
    }
   ],
   "source": [
    "# X의 전치 행렬에서, 0이 아닌 가장 가까운 행을 np.where로 찾는다.\n",
    "ind = np.where(A.T[0] != 0)[1][0]\n",
    "print(ind) # 해당 잔차블록행렬의 첫 번째 원소가 0이 아님을 보여준다."
   ]
  },
  {
   "cell_type": "code",
   "execution_count": 129,
   "metadata": {},
   "outputs": [],
   "source": [
    "def making_pivot(x):\n",
    "    rows = np.shape(x)[0]\n",
    "    pivot_table = np.diag([1 for i in range(0,rows)])\n",
    "    return pivot_table"
   ]
  },
  {
   "cell_type": "code",
   "execution_count": 130,
   "metadata": {},
   "outputs": [],
   "source": [
    "def pivoting(pivot_table,where,ind):\n",
    "    temp = pivot_table[where].copy()\n",
    "    pivot_table[where] = pivot_table[ind].copy()\n",
    "    pivot_table[ind] = temp.copy()\n",
    "    return pivot_table"
   ]
  },
  {
   "cell_type": "code",
   "execution_count": 131,
   "metadata": {},
   "outputs": [],
   "source": [
    "# 함수로 정의한 LU분해\n",
    "def LUdecomp_pivot(x) :\n",
    "    if type(x) != type(np.matrix([0])):\n",
    "        raise ValueError \n",
    "    \n",
    "    #행렬의 행과 열 차원중 작은쪽을 s로 지정해준다.\n",
    "    s = np.min(x.shape)\n",
    "    \n",
    "    # X의 전치행렬에서 0이 아닌 가장 가까운 행을 np.where로 찾는다.\n",
    "    ind = np.where(x.T[0] != 0)[1][0]\n",
    "    # 행의 순서 교환을 기록한 pivot_table을 생성한다.\n",
    "    pivot_table = pivoting(making_pivot(x),0,ind)\n",
    "    x = np.matmul(pivot_table,x)\n",
    "    pivot_table_summary = pivot_table.copy()\n",
    "    \n",
    "    normalizer = 1/(x[0,0])\n",
    "    l = normalizer * x[0].T\n",
    "    u = x.T[0]\n",
    "    temp = np.matmul(l,u).T\n",
    "    x = np.matrix(np.round(x - temp,decimals = 5))\n",
    "    \n",
    "    for i in range(1,s):\n",
    "        # X의 전치행렬에서 0이 아닌 가장 가까운 행을 np.where로 찾는다.\n",
    "        ind = np.where(x.T[i] != 0)[1][0]\n",
    "        # 행의 순서 교환을 기록한 pivot_table을 생성한다.\n",
    "        pivot_table = pivoting(making_pivot(x),i,ind)\n",
    "        x = np.matmul(pivot_table,x)\n",
    "        pivot_table_summary = np.matmul(pivot_table_summary,pivot_table)\n",
    "        \n",
    "        normalizer = 1/x[i,i]\n",
    "        temp_l = normalizer * x[i].T\n",
    "        temp_u = x.T[i]\n",
    "        l = np.hstack([l,temp_l])\n",
    "        u = np.vstack([u,temp_u])\n",
    "        temp = np.matmul(temp_l,temp_u).T\n",
    "        x = np.matrix(np.round(x - temp,decimals = 5))\n",
    "    return (l,u,pivot_table_summary)"
   ]
  },
  {
   "cell_type": "code",
   "execution_count": 132,
   "metadata": {},
   "outputs": [],
   "source": [
    "l,u,pivot = LUdecomp_pivot(A)"
   ]
  },
  {
   "cell_type": "code",
   "execution_count": 133,
   "metadata": {},
   "outputs": [
    {
     "data": {
      "text/plain": [
       "matrix([[0, 5, 3, 1],\n",
       "        [2, 3, 6, 5],\n",
       "        [3, 1, 7, 3],\n",
       "        [2, 1, 5, 6]])"
      ]
     },
     "execution_count": 133,
     "metadata": {},
     "output_type": "execute_result"
    }
   ],
   "source": [
    "A"
   ]
  },
  {
   "cell_type": "code",
   "execution_count": 134,
   "metadata": {},
   "outputs": [],
   "source": [
    "LU = np.matmul(l,u).T"
   ]
  },
  {
   "cell_type": "markdown",
   "metadata": {},
   "source": [
    "### 피보팅된 LU분해가 끝난후, 원 행렬과 비교하면 원래와는 달리 순서가 뒤바뀌어 있음을 확인할 수 있다."
   ]
  },
  {
   "cell_type": "code",
   "execution_count": 135,
   "metadata": {},
   "outputs": [
    {
     "data": {
      "text/plain": [
       "matrix([[0., 5., 3., 1.],\n",
       "        [2., 3., 6., 5.],\n",
       "        [3., 1., 7., 3.],\n",
       "        [2., 1., 5., 6.]])"
      ]
     },
     "execution_count": 135,
     "metadata": {},
     "output_type": "execute_result"
    }
   ],
   "source": [
    "np.matmul(pivot,LU)"
   ]
  },
  {
   "cell_type": "markdown",
   "metadata": {},
   "source": [
    "### 피보팅 행렬과 LU분해된 행렬을 곱하면, 원래 행렬이 비로소 복원됨을 확인할 수 있다."
   ]
  },
  {
   "cell_type": "markdown",
   "metadata": {},
   "source": [
    "## 4) LU분해된 행렬을 이용해 해 x를 구하기"
   ]
  },
  {
   "cell_type": "markdown",
   "metadata": {},
   "source": [
    "### (1) 개요\n",
    "- 순서는 다음과 같다.\n",
    "\n",
    "Ax = y일 때 : pivot행렬 * (L * U)^T * x = y 인 상황이다."
   ]
  },
  {
   "cell_type": "markdown",
   "metadata": {},
   "source": [
    "열공간에 속하는 벡터 y에, pivot행렬의 역행렬을 곱해 알맞는 순서로 바꾸어준다.\n",
    "\n",
    "(U^T * L^T)x = pivot^(-1) * y = y' "
   ]
  },
  {
   "cell_type": "markdown",
   "metadata": {},
   "source": [
    "##### - U^T(L^T)x = y' 이므로, (L^T)x = z로 놓으면, 이 방정식은 U^T * Z = y'가 된다. 우선, 중간 단계인 z를 구하는 것을 우선으로 한다."
   ]
  },
  {
   "cell_type": "code",
   "execution_count": 114,
   "metadata": {},
   "outputs": [],
   "source": [
    "def sol_U(U,y,pivot,debug):\n",
    "    # U를 전치해준다.\n",
    "    U = U.T\n",
    "    # 정답벡터 y에, pivot을 우변으로 이항하여(즉, 역행렬로 만들어) y에 행렬곱해준다.\n",
    "    y_pivot = np.matmul(np.linalg.inv(pivot),y)\n",
    "    # 행렬의 모양을 가져온다.\n",
    "    shape = U.shape[0]\n",
    "    # 차원 만큼 0로 차있는, 임시 벡터 0를 만들어준다.\n",
    "    z = np.zeros(shape)\n",
    "    # 초깃값 z[0]는 정답벡터 y'를 상삼각행렬의 첫번째 대각성분으로 나눠준 값으로 한다.\n",
    "    z[0] = y_pivot[0]/U[0,0]\n",
    "\n",
    "    if debug:\n",
    "        print(z)\n",
    "\n",
    "    for i in range(1,shape):\n",
    "        # 여기가 핵심이다.\n",
    "        # 노리는 효과는, z는 기본적으로 i-1번째 요소까지만 값이 저장되어있고, 나머지는 0인 상태를 이용하는 것이다.\n",
    "        # 상삼각행렬 U의 i번째 행과 i-1번째 요소까지만 값이 저장되어있는 z를 행렬곱하면, 구하고자 하는 성분인 i번째 열에 속하는 \n",
    "        # 변수 z[i]는 0으로 처리되어 계산에 전혀 영향을 주지 않는다.(디버그 모드를 키면 무슨 말인지 이해할 수 있다)\n",
    "        # z[i]에 속하는 대각성분인 U[i,i]를 계산한 값에 나누기 해주면, z[i]를 구할 수 있다.\n",
    "        z[i] = (y_pivot[i] - np.matmul(U[i],z))/U[i,i]\n",
    "        if debug:\n",
    "            print(z)\n",
    "    if debug:\n",
    "        print(\"상삼각행렬 연산 종료\")\n",
    "    return z"
   ]
  },
  {
   "cell_type": "markdown",
   "metadata": {},
   "source": [
    "##### - 중간단계 벡터인 z를 구했으므로, 이제 (L^T)x = z가 되도록 하는 x를 구하면 연산이 완료된다."
   ]
  },
  {
   "cell_type": "code",
   "execution_count": 117,
   "metadata": {},
   "outputs": [],
   "source": [
    "def sol_L(L,z,debug):\n",
    "    L = L.T\n",
    "    shape = L.shape[0] - 1\n",
    "    x = np.zeros(shape + 1)\n",
    "    x[shape] = z[shape]/L[shape,shape]\n",
    "    if debug:\n",
    "        print(x)\n",
    "    for i in reversed(range(0,shape)):\n",
    "        x[i] = z[i] - np.matmul(L[i],x)/L[i,i]\n",
    "        if debug:\n",
    "            print(x)\n",
    "    if debug:\n",
    "        print(\"하삼각행렬 연산 종료\")\n",
    "    return x"
   ]
  },
  {
   "cell_type": "code",
   "execution_count": 118,
   "metadata": {},
   "outputs": [],
   "source": [
    "def solving_pivot(L,U,pivot,y,debug = False):\n",
    "    z = sol_U(U,y,pivot,debug)\n",
    "    x = sol_L(L,z,debug)\n",
    "    return x"
   ]
  },
  {
   "cell_type": "code",
   "execution_count": 139,
   "metadata": {},
   "outputs": [
    {
     "name": "stdout",
     "output_type": "stream",
     "text": [
      "[1.5 0.  0.  0. ]\n",
      "[1.5 0.4 0.  0. ]\n",
      "[1.5 0.4 9.  0. ]\n",
      "[ 1.5         0.4         9.         -0.33333333]\n",
      "상삼각행렬 연산 종료\n",
      "[ 0.          0.          0.         -0.33333333]\n",
      "[ 0.          0.         -3.66666667 -0.33333333]\n",
      "[ 0.          2.66666667 -3.66666667 -0.33333333]\n",
      "[ 9.33333333  2.66666667 -3.66666667 -0.33333333]\n",
      "하삼각행렬 연산 종료\n",
      "[ 9.33333333  2.66666667 -3.66666667 -0.33333333]\n"
     ]
    }
   ],
   "source": [
    "y = np.array([2,3,4,1])\n",
    "x = solving_pivot(l,u,pivot,y,debug=True)\n",
    "print(x)"
   ]
  },
  {
   "cell_type": "markdown",
   "metadata": {},
   "source": [
    "### (2) 검산"
   ]
  },
  {
   "cell_type": "code",
   "execution_count": 141,
   "metadata": {},
   "outputs": [
    {
     "data": {
      "text/plain": [
       "matrix([[2., 3., 4., 1.]])"
      ]
     },
     "execution_count": 141,
     "metadata": {},
     "output_type": "execute_result"
    }
   ],
   "source": [
    "# 도출된 x와 원래 벡터 A를 내적하면\n",
    "\n",
    "np.matmul(A,x)\n",
    "\n",
    "# 원래 의도했던 y = [2,3,4,1]이 정상적으로 출력되는 것을 볼 수 있다."
   ]
  },
  {
   "cell_type": "markdown",
   "metadata": {},
   "source": [
    "### (3) LU분해에서 계산까지"
   ]
  },
  {
   "cell_type": "code",
   "execution_count": 142,
   "metadata": {},
   "outputs": [],
   "source": [
    "def solver(A,y,debug=False):\n",
    "    L,U,pivot = LUdecomp_pivot(A)\n",
    "    x = solving_pivot(L,U,pivot,y)\n",
    "    return x"
   ]
  },
  {
   "cell_type": "code",
   "execution_count": 143,
   "metadata": {},
   "outputs": [
    {
     "data": {
      "text/plain": [
       "array([ 9.33333333,  2.66666667, -3.66666667, -0.33333333])"
      ]
     },
     "execution_count": 143,
     "metadata": {},
     "output_type": "execute_result"
    }
   ],
   "source": [
    "solver(A,y)"
   ]
  }
 ],
 "metadata": {
  "kernelspec": {
   "display_name": "Python 3",
   "language": "python",
   "name": "python3"
  },
  "language_info": {
   "codemirror_mode": {
    "name": "ipython",
    "version": 3
   },
   "file_extension": ".py",
   "mimetype": "text/x-python",
   "name": "python",
   "nbconvert_exporter": "python",
   "pygments_lexer": "ipython3",
   "version": "3.7.0"
  }
 },
 "nbformat": 4,
 "nbformat_minor": 2
}
