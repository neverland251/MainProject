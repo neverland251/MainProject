{
 "cells": [
  {
   "cell_type": "code",
   "execution_count": 1,
   "metadata": {},
   "outputs": [],
   "source": [
    "import numpy as np\n",
    "import matplotlib.pyplot as plt\n",
    "from mpl_toolkits import mplot3d"
   ]
  },
  {
   "cell_type": "code",
   "execution_count": 549,
   "metadata": {},
   "outputs": [],
   "source": [
    "# 어떤 행렬을 정의한다.\n",
    "\n",
    "x = np.matrix([[1,5,3,4],[2,3,6,2],[3,1,7,8]])"
   ]
  },
  {
   "cell_type": "markdown",
   "metadata": {},
   "source": [
    "# 5. LU분해"
   ]
  },
  {
   "cell_type": "markdown",
   "metadata": {},
   "source": [
    "## 1) 기본 개념\n",
    "### (1) 기본 개념은, 각각 소블럭의 1행과 1열을 외적하여 행렬로 전개한 값을, 원래 행렬에서 지속적으로 빼서\n",
    "### (2) a11 성분으로 나누어 1행과 1열을 원래 행렬의 값과 동일하게 만들어 준 후에\n",
    "### (3) 1행과 1열을 0으로 만들어주면서 지속적으로 축소해준다."
   ]
  },
  {
   "cell_type": "code",
   "execution_count": 541,
   "metadata": {},
   "outputs": [],
   "source": [
    "normalizer = 1/(x[0,0])\n",
    "temp_l = normalizer * x[0].T\n",
    "temp_u = x.T[0]\n",
    "l = normalizer * x[0].T\n",
    "u = x.T[0]\n",
    "temp = np.matmul(temp_l,temp_u).T\n",
    "x = x - temp"
   ]
  },
  {
   "cell_type": "code",
   "execution_count": 542,
   "metadata": {},
   "outputs": [],
   "source": [
    "normalizer = 1/x[1,1]\n",
    "temp_l = normalizer * x[1].T\n",
    "temp_u = x.T[1]\n",
    "l = np.hstack([l,temp_l])\n",
    "u = np.vstack([u,temp_u])\n",
    "temp = np.matmul(temp_l,temp_u).T\n",
    "x = x - temp"
   ]
  },
  {
   "cell_type": "code",
   "execution_count": 543,
   "metadata": {},
   "outputs": [],
   "source": [
    "normalizer = 1/x[2,2]\n",
    "temp_l = normalizer * x[2].T\n",
    "temp_u = x.T[2]\n",
    "l = np.hstack([l,temp_l])\n",
    "u = np.vstack([u,temp_u])\n",
    "temp = np.matmul(temp_l,temp_u).T\n",
    "x = x - temp"
   ]
  },
  {
   "cell_type": "code",
   "execution_count": 567,
   "metadata": {},
   "outputs": [],
   "source": [
    "def LUdecomp(x) :\n",
    "    if type(x) != type(np.matrix([0])):\n",
    "        raise ValueError \n",
    "    s = np.min(x.shape)\n",
    "    \n",
    "    normalizer = 1/(x[0,0])\n",
    "    l = normalizer * x[0].T\n",
    "    u = x.T[0]\n",
    "    temp = np.matmul(l,u).T\n",
    "    x = x - temp\n",
    "    \n",
    "    for i in range(1,s):\n",
    "        normalizer = 1/x[i,i]\n",
    "        temp_l = normalizer * x[i].T\n",
    "        temp_u = x.T[i]\n",
    "        l = np.hstack([l,temp_l])\n",
    "        u = np.vstack([u,temp_u])\n",
    "        temp = np.matmul(temp_l,temp_u).T\n",
    "        x = x - temp\n",
    "    return (l,u)"
   ]
  },
  {
   "cell_type": "code",
   "execution_count": 569,
   "metadata": {},
   "outputs": [],
   "source": [
    "L,U = LUdecomp(x)"
   ]
  }
 ],
 "metadata": {
  "kernelspec": {
   "display_name": "Python 3",
   "language": "python",
   "name": "python3"
  },
  "language_info": {
   "codemirror_mode": {
    "name": "ipython",
    "version": 3
   },
   "file_extension": ".py",
   "mimetype": "text/x-python",
   "name": "python",
   "nbconvert_exporter": "python",
   "pygments_lexer": "ipython3",
   "version": "3.7.0"
  }
 },
 "nbformat": 4,
 "nbformat_minor": 2
}
