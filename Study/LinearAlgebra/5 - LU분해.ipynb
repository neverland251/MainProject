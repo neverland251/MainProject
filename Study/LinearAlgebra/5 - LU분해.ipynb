{
 "cells": [
  {
   "cell_type": "code",
   "execution_count": 32,
   "metadata": {},
   "outputs": [],
   "source": [
    "import numpy as np\n",
    "import matplotlib.pyplot as plt\n",
    "from mpl_toolkits import mplot3d"
   ]
  },
  {
   "cell_type": "code",
   "execution_count": 50,
   "metadata": {},
   "outputs": [],
   "source": [
    "# 어떤 행렬을 정의한다.\n",
    "\n",
    "x = np.matrix([[1,5,3],[2,3,6],[3,1,7]])"
   ]
  },
  {
   "cell_type": "markdown",
   "metadata": {},
   "source": [
    "# 5. LU분해"
   ]
  },
  {
   "cell_type": "markdown",
   "metadata": {},
   "source": [
    "## 1) 기본 개념\n",
    "### (1) 기본 개념은, 각각 소블럭의 1행과 1열을 외적하여 행렬로 전개한 값을, 원래 행렬에서 지속적으로 빼서\n",
    "### (2) a11 성분으로 나누어 1행과 1열을 원래 행렬의 값과 동일하게 만들어 준 후에\n",
    "### (3) 1행과 1열을 0으로 만들어주면서 지속적으로 축소해준다."
   ]
  },
  {
   "cell_type": "markdown",
   "metadata": {},
   "source": [
    "## 2) 기본 알고리즘"
   ]
  },
  {
   "cell_type": "code",
   "execution_count": 51,
   "metadata": {},
   "outputs": [
    {
     "name": "stdout",
     "output_type": "stream",
     "text": [
      "[[1.]\n",
      " [5.]\n",
      " [3.]] [[1 2 3]]\n"
     ]
    }
   ],
   "source": [
    "# 1열에 1행을 외적할 경우, 생성되는 행렬의 1행과 1열엔 a00성분이 중복해서 들어가게 된다.\n",
    "# normalizer는 a00로 나눠줌으로서 중복성을 제거해주고, 원래 행렬에서 잔차 행렬을 뺄 때 1행 1열은 0이 되도록 만들어주는 \n",
    "# 핵심 역할을 담당한다.\n",
    "normalizer = 1/(x[0,0])\n",
    "\n",
    "# 1행에 normalizer를 곱해준다.\n",
    "temp_l = normalizer * x[0].T\n",
    "# 1열을 임시로 저장해주고\n",
    "temp_u = x.T[0]\n",
    "l = normalizer * x[0].T\n",
    "u = x.T[0]\n",
    "\n",
    "print(l,u)"
   ]
  },
  {
   "cell_type": "code",
   "execution_count": 52,
   "metadata": {},
   "outputs": [
    {
     "name": "stdout",
     "output_type": "stream",
     "text": [
      "[[ 1.  5.  3.]\n",
      " [ 2. 10.  6.]\n",
      " [ 3. 15.  9.]]\n"
     ]
    }
   ],
   "source": [
    "# 1행과 1열을 외적하여 n*m 잔차행렬을 새로 생성해준다.\n",
    "temp = np.matmul(temp_l,temp_u).T\n",
    "print(temp)"
   ]
  },
  {
   "cell_type": "code",
   "execution_count": 53,
   "metadata": {},
   "outputs": [
    {
     "name": "stdout",
     "output_type": "stream",
     "text": [
      "[[  0.   0.   0.]\n",
      " [  0.  -7.   0.]\n",
      " [  0. -14.  -2.]]\n"
     ]
    }
   ],
   "source": [
    "# 원래 행렬에서 잔차행렬을 빼 1행과 1열을 0으로 만들어준다.\n",
    "x = x - temp\n",
    "print(x)"
   ]
  },
  {
   "cell_type": "code",
   "execution_count": 54,
   "metadata": {},
   "outputs": [],
   "source": [
    "normalizer = 1/x[1,1]\n",
    "temp_l = normalizer * x[1].T\n",
    "temp_u = x.T[1]\n",
    "\n",
    "#위 iteration의 반복이나, i=2부터는 하삼각행렬과 상삼각행렬을 numpy의 stack으로 지속적으로 누적해준다.\n",
    "l = np.hstack([l,temp_l])\n",
    "u = np.vstack([u,temp_u])\n",
    "temp = np.matmul(temp_l,temp_u).T\n",
    "x = x - temp"
   ]
  },
  {
   "cell_type": "code",
   "execution_count": 55,
   "metadata": {},
   "outputs": [
    {
     "name": "stdout",
     "output_type": "stream",
     "text": [
      "[[0. 0. 0.]\n",
      " [0. 0. 0.]\n",
      " [0. 0. 0.]]\n"
     ]
    }
   ],
   "source": [
    "normalizer = 1/x[2,2]\n",
    "temp_l = normalizer * x[2].T\n",
    "temp_u = x.T[2]\n",
    "l = np.hstack([l,temp_l])\n",
    "u = np.vstack([u,temp_u])\n",
    "temp = np.matmul(temp_l,temp_u).T\n",
    "x = x - temp\n",
    "# 최종적인 잔차행렬이 0행렬이 되면 성공이다.\n",
    "print(x)"
   ]
  },
  {
   "cell_type": "code",
   "execution_count": 243,
   "metadata": {},
   "outputs": [],
   "source": [
    "# 함수로 정의한 LU분해\n",
    "def LUdecomp(x) :\n",
    "    if type(x) != type(np.matrix([0])):\n",
    "        raise ValueError \n",
    "    \n",
    "    #행렬의 행과 열 차원중 작은쪽을 s로 지정해준다.\n",
    "    s = np.min(x.shape)\n",
    "    \n",
    "    normalizer = 1/(x[0,0])\n",
    "    l = normalizer * x[0].T\n",
    "    u = x.T[0]\n",
    "    temp = np.matmul(l,u).T\n",
    "    x = x - temp\n",
    "    \n",
    "    for i in range(1,s):\n",
    "        normalizer = 1/x[i,i]\n",
    "        temp_l = normalizer * x[i].T\n",
    "        temp_u = x.T[i]\n",
    "        l = np.hstack([l,temp_l])\n",
    "        u = np.vstack([u,temp_u])\n",
    "        temp = np.matmul(temp_l,temp_u).T\n",
    "        x = x - temp\n",
    "    return (l,u)"
   ]
  },
  {
   "cell_type": "code",
   "execution_count": 58,
   "metadata": {},
   "outputs": [
    {
     "name": "stdout",
     "output_type": "stream",
     "text": [
      "하삼각행렬\n",
      "[[ 1. -0. -0.]\n",
      " [ 5.  1. -0.]\n",
      " [ 3. -0.  1.]]\n",
      "상삼각행렬\n",
      "[[  1.   2.   3.]\n",
      " [  0.  -7. -14.]\n",
      " [  0.   0.  -2.]]\n"
     ]
    }
   ],
   "source": [
    "x = np.matrix([[1,5,3],[2,3,6],[3,1,7]])\n",
    "\n",
    "L,U = LUdecomp(x)\n",
    "\n",
    "print(\"하삼각행렬\")\n",
    "print(L)\n",
    "print(\"상삼각행렬\")\n",
    "print(U)"
   ]
  },
  {
   "cell_type": "markdown",
   "metadata": {},
   "source": [
    "## 3) a00 = 0일때의 대처법(피보팅)"
   ]
  },
  {
   "cell_type": "markdown",
   "metadata": {},
   "source": [
    "### (1) a00 = 0일때의 문제는, 1/a00를 곱하는 과정에서 1/0이 되기 때문에 연산이 불가능해지는 점이다.\n",
    "### (2) 이를 해결하기 위해, 0이 아닌 다른 행으로 교체한 후, 앞전 연산의 결과도 동일한 순서로 행교환을 해준다.\n",
    "### (3) 알고리즘적으로는, 치환된 순서를 규정하는 '치환행렬'을 만들어 이를 계산에 활용한다.\n",
    "\n",
    "- Ax = y에서 LUx = y로 분해했을 경우, 치환행렬 P를 이용하여 이를 다시 나타내면 PLUx = y, \n",
    "- 이때, P는 정규직교행렬이므로 inverse(P) = transpose(P)가 성립되고. 우변으로 이항하면 LUx = transpose(T) * y 즉 y쪽의 순서를 변경한다.\n",
    "- Sxy를 i번째 iteration의 x행과 y행의 교환을 나타내는 치환행렬이라고 할 때\n",
    "- P = Sxy1 * Sxy2 * ..... 이다."
   ]
  },
  {
   "cell_type": "code",
   "execution_count": 338,
   "metadata": {},
   "outputs": [
    {
     "name": "stdout",
     "output_type": "stream",
     "text": [
      "[[0 5 3 1]\n",
      " [2 3 6 5]\n",
      " [3 1 7 3]\n",
      " [2 1 5 6]]\n"
     ]
    }
   ],
   "source": [
    "x = np.matrix([[0,5,3,1],[2,3,6,5],[3,1,7,3],[2,1,5,6]])\n",
    "print(x)"
   ]
  },
  {
   "cell_type": "code",
   "execution_count": 245,
   "metadata": {},
   "outputs": [
    {
     "name": "stderr",
     "output_type": "stream",
     "text": [
      "C:\\Users\\never\\Anaconda3\\lib\\site-packages\\ipykernel_launcher.py:9: RuntimeWarning: divide by zero encountered in long_scalars\n",
      "  if __name__ == '__main__':\n",
      "C:\\Users\\never\\Anaconda3\\lib\\site-packages\\ipykernel_launcher.py:10: RuntimeWarning: invalid value encountered in multiply\n",
      "  # Remove the CWD from sys.path while we load stuff.\n",
      "C:\\Users\\never\\Anaconda3\\lib\\site-packages\\ipykernel_launcher.py:17: RuntimeWarning: invalid value encountered in multiply\n"
     ]
    },
    {
     "data": {
      "text/plain": [
       "(matrix([[nan, nan, nan, nan],\n",
       "         [inf, nan, nan, nan],\n",
       "         [inf, nan, nan, nan],\n",
       "         [inf, nan, nan, nan]]), matrix([[  0.,   2.,   3.,   2.],\n",
       "         [ nan, -inf, -inf, -inf],\n",
       "         [ nan,  nan,  nan,  nan],\n",
       "         [ nan,  nan,  nan,  nan]]))"
      ]
     },
     "execution_count": 245,
     "metadata": {},
     "output_type": "execute_result"
    }
   ],
   "source": [
    "LUdecomp(x) "
   ]
  },
  {
   "cell_type": "markdown",
   "metadata": {},
   "source": [
    "- a00성분이 0이기 때문에, 무한으로 발산(inf)한다."
   ]
  },
  {
   "cell_type": "markdown",
   "metadata": {},
   "source": [
    "### (4) 핵심요소는 다음과 같다."
   ]
  },
  {
   "cell_type": "markdown",
   "metadata": {},
   "source": [
    "- 대각성분이 1인 피봇행렬을 생성한다."
   ]
  },
  {
   "cell_type": "code",
   "execution_count": 354,
   "metadata": {},
   "outputs": [
    {
     "name": "stdout",
     "output_type": "stream",
     "text": [
      "[[0 5 3 1]\n",
      " [2 3 6 5]\n",
      " [3 1 7 3]\n",
      " [2 1 5 6]]\n",
      "[[2 3 6 5]\n",
      " [0 5 3 1]\n",
      " [3 1 7 3]\n",
      " [2 1 5 6]]\n"
     ]
    }
   ],
   "source": [
    "\n",
    "# 그리고, 행 교환을 원하는 행의 '피봇 행렬의 행'을 서로 바꿔준다. 아래에서 그 예를 확인할 수 있다.\n",
    "\n",
    "print(x)\n",
    "\n",
    "pivot_table = np.matrix([[0,1,0,0],[1,0,0,0],[0,0,1,0],[0,0,0,1]]) #1행과 2행의 순서가 바뀐 pivottable을 만든다.\n",
    "\n",
    "print(np.dot(pivot_table,x))# 2행과 1행의 순서가 바뀐것을 확인할 수 있다."
   ]
  },
  {
   "cell_type": "markdown",
   "metadata": {},
   "source": [
    "- 0이 아닌 행을 찾는다.\n"
   ]
  },
  {
   "cell_type": "code",
   "execution_count": 356,
   "metadata": {},
   "outputs": [
    {
     "name": "stdout",
     "output_type": "stream",
     "text": [
      "1\n"
     ]
    }
   ],
   "source": [
    "# X의 전치 행렬에서, 0이 아닌 가장 가까운 행을 np.where로 찾는다.\n",
    "ind = np.where(x.T[0] != 0)[1][0]\n",
    "print(ind) # 해당 잔차블록행렬의 첫 번째 원소가 0이 아님을 보여준다."
   ]
  },
  {
   "cell_type": "code",
   "execution_count": 178,
   "metadata": {},
   "outputs": [],
   "source": [
    "def making_pivot(x):\n",
    "    rows = np.shape(x)[0]\n",
    "    pivot_table = np.diag([1 for i in range(0,rows)])\n",
    "    return pivot_table"
   ]
  },
  {
   "cell_type": "code",
   "execution_count": 179,
   "metadata": {},
   "outputs": [],
   "source": [
    "def pivoting(pivot_table,where,ind):\n",
    "    temp = pivot_table[where].copy()\n",
    "    pivot_table[where] = pivot_table[ind].copy()\n",
    "    pivot_table[ind] = temp.copy()\n",
    "    return pivot_table"
   ]
  },
  {
   "cell_type": "code",
   "execution_count": 347,
   "metadata": {},
   "outputs": [],
   "source": [
    "# 함수로 정의한 LU분해\n",
    "def LUdecomp_pivot(x) :\n",
    "    if type(x) != type(np.matrix([0])):\n",
    "        raise ValueError \n",
    "    \n",
    "    #행렬의 행과 열 차원중 작은쪽을 s로 지정해준다.\n",
    "    s = np.min(x.shape)\n",
    "    \n",
    "    # X의 전치행렬에서 0이 아닌 가장 가까운 행을 np.where로 찾는다.\n",
    "    ind = np.where(x.T[0] != 0)[1][0]\n",
    "    # 행의 순서 교환을 기록한 pivot_table을 생성한다.\n",
    "    pivot_table = pivoting(making_pivot(x),0,ind)\n",
    "    x = np.matmul(pivot_table,x)\n",
    "    pivot_table_summary = pivot_table.copy()\n",
    "    \n",
    "    normalizer = 1/(x[0,0])\n",
    "    l = normalizer * x[0].T\n",
    "    u = x.T[0]\n",
    "    temp = np.matmul(l,u).T\n",
    "    x = np.matrix(np.round(x - temp,decimals = 5))\n",
    "    \n",
    "    for i in range(1,s):\n",
    "        # X의 전치행렬에서 0이 아닌 가장 가까운 행을 np.where로 찾는다.\n",
    "        ind = np.where(x.T[i] != 0)[1][0]\n",
    "        # 행의 순서 교환을 기록한 pivot_table을 생성한다.\n",
    "        pivot_table = pivoting(making_pivot(x),i,ind)\n",
    "        x = np.matmul(pivot_table,x)\n",
    "        pivot_table_summary = np.matmul(pivot_table_summary,pivot_table)\n",
    "        \n",
    "        normalizer = 1/x[i,i]\n",
    "        temp_l = normalizer * x[i].T\n",
    "        temp_u = x.T[i]\n",
    "        l = np.hstack([l,temp_l])\n",
    "        u = np.vstack([u,temp_u])\n",
    "        temp = np.matmul(temp_l,temp_u).T\n",
    "        x = np.matrix(np.round(x - temp,decimals = 5))\n",
    "    return (l,u,pivot_table_summary)"
   ]
  },
  {
   "cell_type": "code",
   "execution_count": 348,
   "metadata": {},
   "outputs": [],
   "source": [
    "l,u,pivot = LUdecomp_pivot(x)"
   ]
  },
  {
   "cell_type": "code",
   "execution_count": 351,
   "metadata": {},
   "outputs": [
    {
     "data": {
      "text/plain": [
       "matrix([[0, 5, 3, 1],\n",
       "        [2, 3, 6, 5],\n",
       "        [3, 1, 7, 3],\n",
       "        [2, 1, 5, 6]])"
      ]
     },
     "execution_count": 351,
     "metadata": {},
     "output_type": "execute_result"
    }
   ],
   "source": [
    "x"
   ]
  },
  {
   "cell_type": "code",
   "execution_count": 352,
   "metadata": {},
   "outputs": [],
   "source": [
    "LU = np.matmul(l,u).T"
   ]
  },
  {
   "cell_type": "markdown",
   "metadata": {},
   "source": [
    "### 피보팅된 LU분해가 끝난후, 원 행렬과 비교하면 원래와는 달리 순서가 뒤바뀌어 있음을 확인할 수 있다."
   ]
  },
  {
   "cell_type": "code",
   "execution_count": 353,
   "metadata": {},
   "outputs": [
    {
     "data": {
      "text/plain": [
       "matrix([[0., 5., 3., 1.],\n",
       "        [2., 3., 6., 5.],\n",
       "        [3., 1., 7., 3.],\n",
       "        [2., 1., 5., 6.]])"
      ]
     },
     "execution_count": 353,
     "metadata": {},
     "output_type": "execute_result"
    }
   ],
   "source": [
    "np.matmul(pivot,LU)"
   ]
  },
  {
   "cell_type": "markdown",
   "metadata": {},
   "source": [
    "### 피보팅 행렬과 LU분해된 행렬을 곱하면, 원래 행렬이 비로소 복원됨을 확인할 수 있다."
   ]
  }
 ],
 "metadata": {
  "kernelspec": {
   "display_name": "Python 3",
   "language": "python",
   "name": "python3"
  },
  "language_info": {
   "codemirror_mode": {
    "name": "ipython",
    "version": 3
   },
   "file_extension": ".py",
   "mimetype": "text/x-python",
   "name": "python",
   "nbconvert_exporter": "python",
   "pygments_lexer": "ipython3",
   "version": "3.7.0"
  }
 },
 "nbformat": 4,
 "nbformat_minor": 2
}
