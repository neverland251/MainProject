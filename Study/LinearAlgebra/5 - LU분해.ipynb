{
 "cells": [
  {
   "cell_type": "code",
   "execution_count": 32,
   "metadata": {},
   "outputs": [],
   "source": [
    "import numpy as np\n",
    "import matplotlib.pyplot as plt\n",
    "from mpl_toolkits import mplot3d"
   ]
  },
  {
   "cell_type": "code",
   "execution_count": 41,
   "metadata": {},
   "outputs": [],
   "source": [
    "# 어떤 행렬을 정의한다.\n",
    "\n",
    "x = np.matrix([[1,5,3,4],[2,3,6,2],[3,1,7,8]])"
   ]
  },
  {
   "cell_type": "markdown",
   "metadata": {},
   "source": [
    "# 5. LU분해"
   ]
  },
  {
   "cell_type": "markdown",
   "metadata": {},
   "source": [
    "## 1) 기본 개념\n",
    "### (1) 기본 개념은, 각각 소블럭의 1행과 1열을 외적하여 행렬로 전개한 값을, 원래 행렬에서 지속적으로 빼서\n",
    "### (2) a11 성분으로 나누어 1행과 1열을 원래 행렬의 값과 동일하게 만들어 준 후에\n",
    "### (3) 1행과 1열을 0으로 만들어주면서 지속적으로 축소해준다."
   ]
  },
  {
   "cell_type": "code",
   "execution_count": 34,
   "metadata": {},
   "outputs": [
    {
     "name": "stdout",
     "output_type": "stream",
     "text": [
      "[[1.]\n",
      " [5.]\n",
      " [3.]\n",
      " [4.]] [[1 2 3]]\n"
     ]
    }
   ],
   "source": [
    "# 1열에 1행을 외적할 경우, 생성되는 행렬의 1행과 1열엔 a00성분이 중복해서 들어가게 된다.\n",
    "# normalizer는 a00로 나눠줌으로서 중복성을 제거해주고, 원래 행렬에서 잔차 행렬을 뺄 때 1행 1열은 0이 되도록 만들어주는 \n",
    "# 핵심 역할을 담당한다.\n",
    "normalizer = 1/(x[0,0])\n",
    "\n",
    "# 1행에 normalizer를 곱해준다.\n",
    "temp_l = normalizer * x[0].T\n",
    "# 1열을 임시로 저장해주고\n",
    "temp_u = x.T[0]\n",
    "l = normalizer * x[0].T\n",
    "u = x.T[0]\n",
    "\n",
    "print(l,u)"
   ]
  },
  {
   "cell_type": "code",
   "execution_count": 35,
   "metadata": {},
   "outputs": [
    {
     "name": "stdout",
     "output_type": "stream",
     "text": [
      "[[ 1.  5.  3.  4.]\n",
      " [ 2. 10.  6.  8.]\n",
      " [ 3. 15.  9. 12.]]\n"
     ]
    }
   ],
   "source": [
    "# 1행과 1열을 외적하여 n*m 잔차행렬을 새로 생성해준다.\n",
    "temp = np.matmul(temp_l,temp_u).T\n",
    "print(temp)"
   ]
  },
  {
   "cell_type": "code",
   "execution_count": 36,
   "metadata": {},
   "outputs": [
    {
     "name": "stdout",
     "output_type": "stream",
     "text": [
      "[[  0.   0.   0.   0.]\n",
      " [  0.  -7.   0.  -6.]\n",
      " [  0. -14.  -2.  -4.]]\n"
     ]
    }
   ],
   "source": [
    "# 원래 행렬에서 잔차행렬을 빼 1행과 1열을 0으로 만들어준다.\n",
    "x = x - temp\n",
    "print(x)"
   ]
  },
  {
   "cell_type": "code",
   "execution_count": 37,
   "metadata": {},
   "outputs": [],
   "source": [
    "normalizer = 1/x[1,1]\n",
    "temp_l = normalizer * x[1].T\n",
    "temp_u = x.T[1]\n",
    "\n",
    "#위 iteration의 반복이나, i=2부터는 하삼각행렬과 상삼각행렬을 numpy의 stack으로 지속적으로 누적해준다.\n",
    "l = np.hstack([l,temp_l])\n",
    "u = np.vstack([u,temp_u])\n",
    "temp = np.matmul(temp_l,temp_u).T\n",
    "x = x - temp"
   ]
  },
  {
   "cell_type": "code",
   "execution_count": 38,
   "metadata": {},
   "outputs": [
    {
     "name": "stdout",
     "output_type": "stream",
     "text": [
      "[[0. 0. 0. 0.]\n",
      " [0. 0. 0. 0.]\n",
      " [0. 0. 0. 0.]]\n"
     ]
    }
   ],
   "source": [
    "normalizer = 1/x[2,2]\n",
    "temp_l = normalizer * x[2].T\n",
    "temp_u = x.T[2]\n",
    "l = np.hstack([l,temp_l])\n",
    "u = np.vstack([u,temp_u])\n",
    "temp = np.matmul(temp_l,temp_u).T\n",
    "x = x - temp\n",
    "# 최종적인 잔차행렬이 0행렬이 되면 성공이다.\n",
    "print(x)"
   ]
  },
  {
   "cell_type": "code",
   "execution_count": 39,
   "metadata": {},
   "outputs": [],
   "source": [
    "# 함수로 정의한 LU분해\n",
    "def LUdecomp(x) :\n",
    "    if type(x) != type(np.matrix([0])):\n",
    "        raise ValueError \n",
    "    \n",
    "    #행렬의 행과 열 차원중 작은쪽을 s로 지정해준다.\n",
    "    s = np.min(x.shape)\n",
    "    \n",
    "    normalizer = 1/(x[0,0])\n",
    "    l = normalizer * x[0].T\n",
    "    u = x.T[0]\n",
    "    temp = np.matmul(l,u).T\n",
    "    x = x - temp\n",
    "    \n",
    "    for i in range(1,s):\n",
    "        normalizer = 1/x[i,i]\n",
    "        temp_l = normalizer * x[i].T\n",
    "        temp_u = x.T[i]\n",
    "        l = np.hstack([l,temp_l])\n",
    "        u = np.vstack([u,temp_u])\n",
    "        temp = np.matmul(temp_l,temp_u).T\n",
    "        x = x - temp\n",
    "    return (l,u)"
   ]
  },
  {
   "cell_type": "code",
   "execution_count": 47,
   "metadata": {},
   "outputs": [
    {
     "name": "stdout",
     "output_type": "stream",
     "text": [
      "하삼각행렬\n",
      "[[ 1.         -0.         -0.        ]\n",
      " [ 5.          1.         -0.        ]\n",
      " [ 3.         -0.          1.        ]\n",
      " [ 4.          0.85714286 -4.        ]]\n",
      "상삼각행렬\n",
      "[[  1.   2.   3.]\n",
      " [  0.  -7. -14.]\n",
      " [  0.   0.  -2.]]\n"
     ]
    }
   ],
   "source": [
    "x = np.matrix([[1,5,3,4],[2,3,6,2],[3,1,7,8]])\n",
    "\n",
    "L,U = LUdecomp(x)\n",
    "\n",
    "print(\"하삼각행렬\")\n",
    "print(L)\n",
    "print(\"상삼각행렬\")\n",
    "print(U)"
   ]
  }
 ],
 "metadata": {
  "kernelspec": {
   "display_name": "Python 3",
   "language": "python",
   "name": "python3"
  },
  "language_info": {
   "codemirror_mode": {
    "name": "ipython",
    "version": 3
   },
   "file_extension": ".py",
   "mimetype": "text/x-python",
   "name": "python",
   "nbconvert_exporter": "python",
   "pygments_lexer": "ipython3",
   "version": "3.7.0"
  }
 },
 "nbformat": 4,
 "nbformat_minor": 2
}
