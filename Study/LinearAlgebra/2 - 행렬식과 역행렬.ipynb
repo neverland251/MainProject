{
 "cells": [
  {
   "cell_type": "code",
   "execution_count": 1,
   "metadata": {},
   "outputs": [],
   "source": [
    "import numpy as np\n",
    "import matplotlib.pyplot as plt\n",
    "from mpl_toolkits import mplot3d"
   ]
  },
  {
   "cell_type": "markdown",
   "metadata": {},
   "source": [
    "## 3) 행렬식\n",
    "### (1) 행렬식은 부분공간의 선형변환에서의 부피 확대율이다."
   ]
  },
  {
   "cell_type": "code",
   "execution_count": 9,
   "metadata": {},
   "outputs": [
    {
     "name": "stdout",
     "output_type": "stream",
     "text": [
      "[[1. 0. 0.]\n",
      " [0. 1. 0.]\n",
      " [0. 0. 1.]]\n",
      "행렬식 :  1.0\n"
     ]
    }
   ],
   "source": [
    "# - 성질\n",
    "\n",
    "print(np.identity(3)) \n",
    "print(\"행렬식 : \",np.linalg.det(np.identity(3)))"
   ]
  },
  {
   "cell_type": "markdown",
   "metadata": {},
   "source": [
    "- 성질1 : 단위행렬의 행렬식은 1이다."
   ]
  },
  {
   "cell_type": "code",
   "execution_count": 16,
   "metadata": {},
   "outputs": [
    {
     "name": "stdout",
     "output_type": "stream",
     "text": [
      "19.999999999999996\n",
      "20.000000000000004\n"
     ]
    }
   ],
   "source": [
    "A = np.matrix([[2,3],[4,1]])\n",
    "B = np.matrix([[4,2],[3,1]])\n",
    "\n",
    "print(np.linalg.det(np.dot(A,B)))\n",
    "print(np.linalg.det(A) * np.linalg.det(B)) #행렬곱의 행렬식과, 각 행렬식의 곱은 동치이다. 물론, 알고리즘상 약간의 오차는 존재한다."
   ]
  },
  {
   "cell_type": "markdown",
   "metadata": {},
   "source": [
    "- 성질2 : det(AB) = det(A) * det(B)"
   ]
  },
  {
   "cell_type": "code",
   "execution_count": 19,
   "metadata": {},
   "outputs": [
    {
     "name": "stdout",
     "output_type": "stream",
     "text": [
      "-0.10000000000000002\n",
      "-0.09999999999999998\n"
     ]
    }
   ],
   "source": [
    "A_1 = np.linalg.inv(A)\n",
    "\n",
    "print(np.linalg.det(A_1))\n",
    "print(1/np.linalg.det(A)) #역행렬의 행렬식은 해당 행렬의 행렬식의 역수와 같다. 물론, 알고리즘상 약간의 오차는 존재한다."
   ]
  },
  {
   "cell_type": "markdown",
   "metadata": {},
   "source": [
    " - 성질3 : det(A^-1) = 1/det(A)"
   ]
  },
  {
   "cell_type": "code",
   "execution_count": 80,
   "metadata": {},
   "outputs": [
    {
     "name": "stdout",
     "output_type": "stream",
     "text": [
      " * 2열의 값을 10배 뻥튀기하여 1열에 결합\n",
      "\n",
      "[[42 13]\n",
      " [ 4  1]]\n",
      "\n",
      "행렬식 : -9.999999999999998\n",
      "원래 행렬의 행렬식 :  -10.000000000000002\n"
     ]
    }
   ],
   "source": [
    "print(\" * 2열의 값을 10배 뻥튀기하여 1열에 결합\")\n",
    "print(\"\")\n",
    "A_1 = A[0] + 10*A[1]\n",
    "A_2 = A[1]\n",
    "print(np.vstack([A_1,A_2]))\n",
    "print(\"\")\n",
    "print(\"행렬식 :\",np.linalg.det(np.vstack([A_1,A_2])))\n",
    "print(\"원래 행렬의 행렬식 : \",np.linalg.det(A))"
   ]
  },
  {
   "cell_type": "markdown",
   "metadata": {},
   "source": [
    "- 성질 4 : 어떤 행/열벡터를 임의의 값으로 뻥튀기한 후, 다른 열에 더해도 행렬식은 변하지 않는다. 이 성질은 행연산의 근거가 된다."
   ]
  },
  {
   "cell_type": "code",
   "execution_count": 79,
   "metadata": {},
   "outputs": [
    {
     "name": "stdout",
     "output_type": "stream",
     "text": [
      " * 2열을 10배 뻥튀기\n",
      "\n",
      "[[ 2  3]\n",
      " [40 10]]\n",
      "\n",
      "행렬식 :  -100.00000000000004 ,원래 행렬식의 10배이다.\n",
      "\n",
      " * 1,2열 모두 10배 뻥튀기\n",
      "\n",
      "[[20 30]\n",
      " [40 10]]\n",
      "행렬식 :  -999.9999999999998 ,원래 행렬식의 100배이다.\n"
     ]
    }
   ],
   "source": [
    "print(\" * 2열을 10배 뻥튀기\")\n",
    "print(\"\")\n",
    "A_1 = A[0]\n",
    "A_2 = A[1] * 10\n",
    "print(np.vstack([A_1,A_2]))\n",
    "print(\"\")\n",
    "print(\"행렬식 : \", np.linalg.det(np.vstack([A_1,A_2])), \",원래 행렬식의 10배이다.\")\n",
    "print(\"\")\n",
    "print(\" * 1,2열 모두 10배 뻥튀기\")\n",
    "print(\"\")\n",
    "A_1 = A[0] * 10\n",
    "A_2 = A[1] * 10\n",
    "print(np.vstack([A_1,A_2]))\n",
    "print(\"행렬식 : \", np.linalg.det(np.vstack([A_1,A_2])),\",원래 행렬식의 100배이다.\")"
   ]
  },
  {
   "cell_type": "markdown",
   "metadata": {},
   "source": [
    "- 성질5 : 임의의 갯수의 행/열에 상수배를 하는 경우, 그 임의의 갯수 n만큼 행렬식은 det^(n)으로 늘어난다. 즉, 기하급수적으로 늘어난다.\n",
    "- 각 열이 독립적으로 행렬식에 영향을 미치는 것을 다중선형성이라고 한다."
   ]
  },
  {
   "cell_type": "code",
   "execution_count": 84,
   "metadata": {},
   "outputs": [
    {
     "name": "stdout",
     "output_type": "stream",
     "text": [
      "* 1열과 2열의 순서를 바꾸기\n",
      "\n",
      "[[4 1]\n",
      " [2 3]]\n",
      "\n",
      "순서가 바뀐 행렬의 행렬식 : 10.000000000000002\n",
      "원래 행렬의 행렬식:  -10.000000000000002\n",
      "\n"
     ]
    }
   ],
   "source": [
    "print(\"* 1열과 2열의 순서를 바꾸기\")\n",
    "print(\"\")\n",
    "A_1 = A[1]\n",
    "A_2 = A[0]\n",
    "print(np.vstack([A_1,A_2]))\n",
    "print(\"\")\n",
    "print(\"순서가 바뀐 행렬의 행렬식 :\",np.linalg.det(np.vstack([A_1,A_2])))\n",
    "print(\"원래 행렬의 행렬식: \",np.linalg.det(A))\n",
    "print(\"\")"
   ]
  },
  {
   "cell_type": "markdown",
   "metadata": {},
   "source": [
    " - 성질6 : 행/열이 교환되는경우, 행렬식의 부호가 바뀐다. \n",
    " - 이는 '행렬식은 부피 변화율'이란 개념 하에 접근할 때, 부분공간의 기저가 뒤바뀌는(즉, 거꾸로 뒤집어지는) 모양을 상상하면 쉽게 이해할 수 있다."
   ]
  },
  {
   "cell_type": "markdown",
   "metadata": {},
   "source": [
    "## (2) 행렬식의 계산"
   ]
  },
  {
   "cell_type": "markdown",
   "metadata": {},
   "source": [
    "# 3) 역행렬 "
   ]
  },
  {
   "cell_type": "markdown",
   "metadata": {},
   "source": [
    "## (1) 가우스 - 요르단 소거법"
   ]
  },
  {
   "cell_type": "markdown",
   "metadata": {},
   "source": [
    "### 정칙행렬이 되기 위해서는 \n",
    "\n",
    "### (1) 행렬이 정방행렬(n * n)꼴이어야 하고 \n",
    "### (2) 행렬이 Full-Rank여야 한다.(즉, 영공간의 차원은 0이어야 한다)"
   ]
  },
  {
   "cell_type": "code",
   "execution_count": 120,
   "metadata": {},
   "outputs": [
    {
     "name": "stdout",
     "output_type": "stream",
     "text": [
      "[[ 2  3  3  9]\n",
      " [ 3  4  2  9]\n",
      " [-2 -2  3  2]]\n"
     ]
    }
   ],
   "source": [
    "# - matrix와 상수만으로 이루어진 블록행렬 표기를 활용한다. \n",
    "\n",
    "A = np.matrix([[2,3,3],[3,4,2],[-2,-2,3]]) #행렬 A\n",
    "n = np.matrix([9,9,2]) #방정식의 상수 벡터\n",
    "\n",
    "An = np.hstack([A,n.T])\n",
    "print(An)"
   ]
  },
  {
   "cell_type": "markdown",
   "metadata": {},
   "source": [
    "### 변형의 조건은 다음과 같다.\n",
    " - 어느 행에 c배를 한다.\n",
    " - 위에서 c배한 행으로 다른 행을 더하거나 뺀다.\n",
    " - 행렬이 단위행렬이 되면 연산을 종료한다."
   ]
  },
  {
   "cell_type": "code",
   "execution_count": 121,
   "metadata": {},
   "outputs": [
    {
     "name": "stdout",
     "output_type": "stream",
     "text": [
      "[[ 1.   1.5  1.5  4.5]\n",
      " [ 3.   4.   2.   9. ]\n",
      " [-2.  -2.   3.   2. ]]\n"
     ]
    }
   ],
   "source": [
    "# phase 1 : 1행을 1/2배 한다.\n",
    "\n",
    "A_1 = (1/2) * An[0]\n",
    "A_2 = An[1]\n",
    "A_3 = An[2]\n",
    "An = np.vstack([A_1,A_2,A_3])\n",
    "print(An)"
   ]
  },
  {
   "cell_type": "code",
   "execution_count": 122,
   "metadata": {},
   "outputs": [
    {
     "name": "stdout",
     "output_type": "stream",
     "text": [
      "[[ 1.   1.5  1.5  4.5]\n",
      " [ 0.  -0.5 -2.5 -4.5]\n",
      " [-2.  -2.   3.   2. ]]\n"
     ]
    }
   ],
   "source": [
    "# phase 2 : 1행을 3배하여 2행을 뺀다.\n",
    "\n",
    "A_1 = An[0]\n",
    "A_2 = An[1] - 3 * An[0]\n",
    "A_3 = An[2]\n",
    "An = np.vstack([A_1,A_2,A_3])\n",
    "print(An)"
   ]
  },
  {
   "cell_type": "code",
   "execution_count": 123,
   "metadata": {},
   "outputs": [
    {
     "name": "stdout",
     "output_type": "stream",
     "text": [
      "[[ 1.   1.5  1.5  4.5]\n",
      " [ 0.  -0.5 -2.5 -4.5]\n",
      " [ 0.   1.   6.  11. ]]\n"
     ]
    }
   ],
   "source": [
    "# Phase 3 : 1행을 두배하여 3행에 더해준다.\n",
    "\n",
    "A_1 = An[0]\n",
    "A_2 = An[1]\n",
    "A_3 = An[2] + 2 * An[0]\n",
    "An = np.vstack([A_1,A_2,A_3])\n",
    "print(An)"
   ]
  },
  {
   "cell_type": "code",
   "execution_count": 124,
   "metadata": {},
   "outputs": [
    {
     "name": "stdout",
     "output_type": "stream",
     "text": [
      "[[ 1.   0.  -6.  -9. ]\n",
      " [ 0.  -0.5 -2.5 -4.5]\n",
      " [ 0.   1.   6.  11. ]]\n"
     ]
    }
   ],
   "source": [
    "# Phase 4 : 1행에 2행을 3배 하여 더해준다.\n",
    "\n",
    "A_1 = An[0] + 3 * An[1]\n",
    "A_2 = An[1]\n",
    "A_3 = An[2]\n",
    "An = np.vstack([A_1,A_2,A_3])\n",
    "print(An)"
   ]
  },
  {
   "cell_type": "code",
   "execution_count": 125,
   "metadata": {},
   "outputs": [
    {
     "name": "stdout",
     "output_type": "stream",
     "text": [
      "[[ 1.   0.  -6.  -9. ]\n",
      " [ 0.  -0.5 -2.5 -4.5]\n",
      " [ 0.   0.   1.   2. ]]\n"
     ]
    }
   ],
   "source": [
    "# Phase 5 : 2행을 두배하여 3행에 더해준다.\n",
    "\n",
    "A_1 = An[0]\n",
    "A_2 = An[1]\n",
    "A_3 = An[2] + 2 * An[1]\n",
    "An = np.vstack([A_1,A_2,A_3])\n",
    "print(An)"
   ]
  },
  {
   "cell_type": "code",
   "execution_count": 126,
   "metadata": {},
   "outputs": [
    {
     "name": "stdout",
     "output_type": "stream",
     "text": [
      "[[ 1.  0. -6. -9.]\n",
      " [ 0.  1.  5.  9.]\n",
      " [ 0.  0.  1.  2.]]\n"
     ]
    }
   ],
   "source": [
    "# Phase 6 : 2행에 -2를 곱한다.\n",
    "\n",
    "A_1 = An[0]\n",
    "A_2 = An[1] * (-2)\n",
    "A_3 = An[2]\n",
    "An = np.vstack([A_1,A_2,A_3])\n",
    "print(An)"
   ]
  },
  {
   "cell_type": "code",
   "execution_count": 127,
   "metadata": {},
   "outputs": [
    {
     "name": "stdout",
     "output_type": "stream",
     "text": [
      "[[1. 0. 0. 3.]\n",
      " [0. 1. 5. 9.]\n",
      " [0. 0. 1. 2.]]\n"
     ]
    }
   ],
   "source": [
    "# Phase 7 : 3행을 6배하여 1행에 더해준다.\n",
    "\n",
    "A_1 = An[0] + 6*An[2]\n",
    "A_2 = An[1] \n",
    "A_3 = An[2]\n",
    "An = np.vstack([A_1,A_2,A_3])\n",
    "print(An)"
   ]
  },
  {
   "cell_type": "code",
   "execution_count": 128,
   "metadata": {},
   "outputs": [
    {
     "name": "stdout",
     "output_type": "stream",
     "text": [
      "[[ 1.  0.  0.  3.]\n",
      " [ 0.  1.  0. -1.]\n",
      " [ 0.  0.  1.  2.]]\n"
     ]
    }
   ],
   "source": [
    "# Phase 8 : 3행을 5배하여 2행에서 빼준다.\n",
    "\n",
    "A_1 = An[0] \n",
    "A_2 = An[1] - 5*An[2]\n",
    "A_3 = An[2]\n",
    "An = np.vstack([A_1,A_2,A_3])\n",
    "print(An)"
   ]
  },
  {
   "cell_type": "markdown",
   "metadata": {},
   "source": [
    "### 행렬A는 3X3 단위행렬이 되었고, 이 때, 상수부는 [3,-1,2]이다. 이는 각각의 미지수 X1,X2,X3의 값과 같다."
   ]
  },
  {
   "cell_type": "markdown",
   "metadata": {},
   "source": [
    "## (2) 가우스-요르단 소거법으로 역행렬 구하기"
   ]
  },
  {
   "cell_type": "markdown",
   "metadata": {},
   "source": [
    "### 기본 원리는, AX = I가 되는 행렬 X를 구하는 것이다.\n",
    "### 앞전 소거법에서는 상수항이 1차원의 벡터였지만, 이를 다차원의 단위행렬로 확장한다."
   ]
  },
  {
   "cell_type": "code",
   "execution_count": 129,
   "metadata": {},
   "outputs": [
    {
     "name": "stdout",
     "output_type": "stream",
     "text": [
      "[[ 2.  3.  3.  1.  0.  0.]\n",
      " [ 3.  4.  2.  0.  1.  0.]\n",
      " [-2. -2.  3.  0.  0.  1.]]\n"
     ]
    }
   ],
   "source": [
    "A = np.matrix([[2,3,3],[3,4,2],[-2,-2,3]]) #행렬 A\n",
    "n = np.identity(3) #방정식의 상수 벡터\n",
    "\n",
    "An = np.hstack([A,n.T])\n",
    "print(An)"
   ]
  },
  {
   "cell_type": "markdown",
   "metadata": {},
   "source": [
    "### 변형의 조건은 다음과 같다.\n",
    " - 어느 행에 c배를 한다.\n",
    " - 위에서 c배한 행으로 다른 행을 더하거나 뺀다.\n",
    " - 행렬이 단위행렬이 되면 연산을 종료한다."
   ]
  },
  {
   "cell_type": "code",
   "execution_count": 130,
   "metadata": {},
   "outputs": [
    {
     "name": "stdout",
     "output_type": "stream",
     "text": [
      "[[ 1.   1.5  1.5  0.5  0.   0. ]\n",
      " [ 3.   4.   2.   0.   1.   0. ]\n",
      " [-2.  -2.   3.   0.   0.   1. ]]\n"
     ]
    }
   ],
   "source": [
    "# phase 1 : 1행을 1/2배 한다.\n",
    "\n",
    "A_1 = (1/2) * An[0]\n",
    "A_2 = An[1]\n",
    "A_3 = An[2]\n",
    "An = np.vstack([A_1,A_2,A_3])\n",
    "print(An)"
   ]
  },
  {
   "cell_type": "code",
   "execution_count": 131,
   "metadata": {},
   "outputs": [
    {
     "name": "stdout",
     "output_type": "stream",
     "text": [
      "[[ 1.   1.5  1.5  0.5  0.   0. ]\n",
      " [ 0.  -0.5 -2.5 -1.5  1.   0. ]\n",
      " [-2.  -2.   3.   0.   0.   1. ]]\n"
     ]
    }
   ],
   "source": [
    "# phase 2 : 1행을 3배하여 2행을 뺀다.\n",
    "\n",
    "A_1 = An[0]\n",
    "A_2 = An[1] - 3 * An[0]\n",
    "A_3 = An[2]\n",
    "An = np.vstack([A_1,A_2,A_3])\n",
    "print(An)"
   ]
  },
  {
   "cell_type": "code",
   "execution_count": 132,
   "metadata": {},
   "outputs": [
    {
     "name": "stdout",
     "output_type": "stream",
     "text": [
      "[[ 1.   1.5  1.5  0.5  0.   0. ]\n",
      " [ 0.  -0.5 -2.5 -1.5  1.   0. ]\n",
      " [ 0.   1.   6.   1.   0.   1. ]]\n"
     ]
    }
   ],
   "source": [
    "# Phase 3 : 1행을 두배하여 3행에 더해준다.\n",
    "\n",
    "A_1 = An[0]\n",
    "A_2 = An[1]\n",
    "A_3 = An[2] + 2 * An[0]\n",
    "An = np.vstack([A_1,A_2,A_3])\n",
    "print(An)"
   ]
  },
  {
   "cell_type": "code",
   "execution_count": 133,
   "metadata": {},
   "outputs": [
    {
     "name": "stdout",
     "output_type": "stream",
     "text": [
      "[[ 1.   0.  -6.  -4.   3.   0. ]\n",
      " [ 0.  -0.5 -2.5 -1.5  1.   0. ]\n",
      " [ 0.   1.   6.   1.   0.   1. ]]\n"
     ]
    }
   ],
   "source": [
    "# Phase 4 : 1행에 2행을 3배 하여 더해준다.\n",
    "\n",
    "A_1 = An[0] + 3 * An[1]\n",
    "A_2 = An[1]\n",
    "A_3 = An[2]\n",
    "An = np.vstack([A_1,A_2,A_3])\n",
    "print(An)"
   ]
  },
  {
   "cell_type": "code",
   "execution_count": 134,
   "metadata": {},
   "outputs": [
    {
     "name": "stdout",
     "output_type": "stream",
     "text": [
      "[[ 1.   0.  -6.  -4.   3.   0. ]\n",
      " [ 0.  -0.5 -2.5 -1.5  1.   0. ]\n",
      " [ 0.   0.   1.  -2.   2.   1. ]]\n"
     ]
    }
   ],
   "source": [
    "# Phase 5 : 2행을 두배하여 3행에 더해준다.\n",
    "\n",
    "A_1 = An[0]\n",
    "A_2 = An[1]\n",
    "A_3 = An[2] + 2 * An[1]\n",
    "An = np.vstack([A_1,A_2,A_3])\n",
    "print(An)"
   ]
  },
  {
   "cell_type": "code",
   "execution_count": 135,
   "metadata": {},
   "outputs": [
    {
     "name": "stdout",
     "output_type": "stream",
     "text": [
      "[[ 1.  0. -6. -4.  3.  0.]\n",
      " [ 0.  1.  5.  3. -2.  0.]\n",
      " [ 0.  0.  1. -2.  2.  1.]]\n"
     ]
    }
   ],
   "source": [
    "# Phase 6 : 2행에 -2를 곱한다.\n",
    "\n",
    "A_1 = An[0]\n",
    "A_2 = An[1] * (-2)\n",
    "A_3 = An[2]\n",
    "An = np.vstack([A_1,A_2,A_3])\n",
    "print(An)"
   ]
  },
  {
   "cell_type": "code",
   "execution_count": 136,
   "metadata": {},
   "outputs": [
    {
     "name": "stdout",
     "output_type": "stream",
     "text": [
      "[[  1.   0.   0. -16.  15.   6.]\n",
      " [  0.   1.   5.   3.  -2.   0.]\n",
      " [  0.   0.   1.  -2.   2.   1.]]\n"
     ]
    }
   ],
   "source": [
    "# Phase 7 : 3행을 6배하여 1행에 더해준다.\n",
    "\n",
    "A_1 = An[0] + 6*An[2]\n",
    "A_2 = An[1] \n",
    "A_3 = An[2]\n",
    "An = np.vstack([A_1,A_2,A_3])\n",
    "print(An)"
   ]
  },
  {
   "cell_type": "code",
   "execution_count": 137,
   "metadata": {},
   "outputs": [
    {
     "name": "stdout",
     "output_type": "stream",
     "text": [
      "[[  1.   0.   0. -16.  15.   6.]\n",
      " [  0.   1.   0.  13. -12.  -5.]\n",
      " [  0.   0.   1.  -2.   2.   1.]]\n"
     ]
    }
   ],
   "source": [
    "# Phase 8 : 3행을 5배하여 2행에서 빼준다.\n",
    "\n",
    "A_1 = An[0] \n",
    "A_2 = An[1] - 5*An[2]\n",
    "A_3 = An[2]\n",
    "An = np.vstack([A_1,A_2,A_3])\n",
    "print(An)"
   ]
  },
  {
   "cell_type": "markdown",
   "metadata": {},
   "source": [
    "## A행렬 부분은 단위행렬로 변했고, I 행렬 부분은 어떤 다른 행렬로 바뀌었다.\n",
    "## 이 때, I 행렬 부분이 바로 A행렬의 역행렬이다."
   ]
  },
  {
   "cell_type": "code",
   "execution_count": 143,
   "metadata": {},
   "outputs": [
    {
     "name": "stdout",
     "output_type": "stream",
     "text": [
      "A행렬의 역행렬\n",
      "\n",
      "[[-16.  15.   6.]\n",
      " [ 13. -12.  -5.]\n",
      " [ -2.   2.   1.]]\n"
     ]
    }
   ],
   "source": [
    "print(\"A행렬의 역행렬\")\n",
    "print(\"\")\n",
    "print(An.T[3:6].T)"
   ]
  }
 ],
 "metadata": {
  "kernelspec": {
   "display_name": "Python 3",
   "language": "python",
   "name": "python3"
  },
  "language_info": {
   "codemirror_mode": {
    "name": "ipython",
    "version": 3
   },
   "file_extension": ".py",
   "mimetype": "text/x-python",
   "name": "python",
   "nbconvert_exporter": "python",
   "pygments_lexer": "ipython3",
   "version": "3.7.0"
  }
 },
 "nbformat": 4,
 "nbformat_minor": 2
}
