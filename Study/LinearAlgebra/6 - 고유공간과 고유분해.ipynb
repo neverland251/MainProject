{
 "cells": [
  {
   "cell_type": "code",
   "execution_count": 2,
   "metadata": {},
   "outputs": [],
   "source": [
    "import numpy as np\n",
    "import matplotlib.pyplot as plt\n",
    "from mpl_toolkits import mplot3d"
   ]
  },
  {
   "cell_type": "markdown",
   "metadata": {},
   "source": [
    "# 6. 고유공간과 대각화"
   ]
  },
  {
   "cell_type": "markdown",
   "metadata": {},
   "source": [
    "## 1) 대각화"
   ]
  },
  {
   "cell_type": "markdown",
   "metadata": {},
   "source": [
    "### (1) 대각화는 다음의 경우에 활용할 수 있다.\n",
    "\n",
    " - 선형계의 발산의 판단 : 행렬A를 대각화 하는 경우, 대각행렬의 요소값을 통해 발산 여부를 판단할 수 있다.(|a| > 1이면 발산한다)\n",
    " - 연산의 최적화 : 행렬 A를 연속적으로 적용하는 변환의 경우, 대각화 할 경우 대각행렬만 계속 곱해주면 A를 연속 적용하는것과 같다."
   ]
  },
  {
   "cell_type": "markdown",
   "metadata": {},
   "source": [
    "### (2) 발산 판단 여부의 판단"
   ]
  },
  {
   "cell_type": "markdown",
   "metadata": {},
   "source": [
    "### - 대각행렬의 경우"
   ]
  },
  {
   "cell_type": "code",
   "execution_count": 3,
   "metadata": {},
   "outputs": [],
   "source": [
    "A = np.diag([5,-3,0.8])\n",
    "x = np.array([\"X_1,X_2,X_3\"])"
   ]
  },
  {
   "cell_type": "markdown",
   "metadata": {},
   "source": [
    "- A와 x를 내적하면"
   ]
  },
  {
   "cell_type": "code",
   "execution_count": 4,
   "metadata": {},
   "outputs": [
    {
     "name": "stdout",
     "output_type": "stream",
     "text": [
      "[['5 * x_1']\n",
      " ['-3 * x_2']\n",
      " ['0.8 * x_3']]\n"
     ]
    }
   ],
   "source": [
    "Ax = np.matrix([\"5 * x_1\", \"-3 * x_2\", \"0.8 * x_3\"])\n",
    "print(Ax.T)"
   ]
  },
  {
   "cell_type": "markdown",
   "metadata": {},
   "source": [
    "- 꼴로 나타난다. 따라서, 차분방정식을 이용할경우 파라미터 A의 t제곱(t = infinity)에서 안정된 값이 구해지는데"
   ]
  },
  {
   "cell_type": "code",
   "execution_count": 5,
   "metadata": {},
   "outputs": [
    {
     "data": {
      "text/plain": [
       "array([[inf,  0.,  0.],\n",
       "       [ 0., inf,  0.],\n",
       "       [ 0.,  0.,  0.]])"
      ]
     },
     "execution_count": 5,
     "metadata": {},
     "output_type": "execute_result"
    }
   ],
   "source": [
    "A ** np.inf"
   ]
  },
  {
   "cell_type": "markdown",
   "metadata": {},
   "source": [
    "### 이 대각행렬은 a33 성분을 제외하고는 무한으로 발산하므로, 이 시스템은 t = infinity일때 발산한다."
   ]
  },
  {
   "cell_type": "markdown",
   "metadata": {},
   "source": [
    "### - 대각행렬은 아니지만, 대각화가 가능한 경우"
   ]
  },
  {
   "cell_type": "code",
   "execution_count": 6,
   "metadata": {},
   "outputs": [],
   "source": [
    "A = np.matrix([[5,1],[1,5]])\n",
    "x_1 = np.array([\"x1_1\",\"x2_1\"]) #단, x1_1은 변수 x1의 1차시 전 값을, x2_1은 변수 x2의 1차시 전 값을 의미한다. "
   ]
  },
  {
   "cell_type": "markdown",
   "metadata": {},
   "source": [
    "- 이 때, 이 행렬의 곱은"
   ]
  },
  {
   "cell_type": "code",
   "execution_count": 7,
   "metadata": {},
   "outputs": [
    {
     "name": "stdout",
     "output_type": "stream",
     "text": [
      "[['X1' 'X2']]\n",
      "=\n",
      "[[5 1]\n",
      " [1 5]]\n",
      "*\n",
      "['x1_1' 'x2_1']\n",
      "=\n",
      "[['(5 * x1_1) + (x2_1)']\n",
      " ['(x1_1) + (5 * x2_1)']]\n"
     ]
    }
   ],
   "source": [
    "print(np.matrix([[\"X1\",\"X2\"]]))\n",
    "print(\"=\")\n",
    "print(A)\n",
    "print(\"*\")\n",
    "print(x_1)\n",
    "print(\"=\")\n",
    "print(np.matrix([[\"(5 * x1_1) + (x2_1)\"],[\"(x1_1) + (5 * x2_1)\"]]))"
   ]
  },
  {
   "cell_type": "markdown",
   "metadata": {},
   "source": [
    " - 변수변환을 다음과 같이 실시한다.\n",
    " - y1 = x1 + x2\n",
    " - y2 = x1 - x2"
   ]
  },
  {
   "cell_type": "code",
   "execution_count": 8,
   "metadata": {},
   "outputs": [],
   "source": [
    "C = np.matrix([[1,1],[1,-1]])\n",
    "x = np.array([\"X1,X2\"]) #단, X1, X2는 변수 X1, X2의 현상태의 값을 의미한다.\n",
    "\n",
    "Cx = np.matrix([[\"X1 + X2\"],[\"X1 - X2\"]])"
   ]
  },
  {
   "cell_type": "code",
   "execution_count": 9,
   "metadata": {},
   "outputs": [
    {
     "name": "stdout",
     "output_type": "stream",
     "text": [
      "[['y1']\n",
      " ['y2']] \n",
      " = \n",
      " [['X1 + X2']\n",
      " ['X1 - X2']]\n"
     ]
    }
   ],
   "source": [
    "print(np.matrix([[\"y1\"],[\"y2\"]]),\"\\n = \\n\", Cx)"
   ]
  },
  {
   "cell_type": "markdown",
   "metadata": {},
   "source": [
    "- 변수변환과 원래 행렬을 동시에 정의하면"
   ]
  },
  {
   "cell_type": "code",
   "execution_count": 10,
   "metadata": {},
   "outputs": [
    {
     "name": "stdout",
     "output_type": "stream",
     "text": [
      "[['y1']\n",
      " ['y2']]\n",
      "=\n",
      "[[5 1]\n",
      " [1 5]] \n",
      " * \n",
      " [[ 1  1]\n",
      " [ 1 -1]] \n",
      " * \n",
      " ['x1_1' 'x2_1']\n"
     ]
    }
   ],
   "source": [
    "print(np.matrix([[\"y1\"],[\"y2\"]]))\n",
    "print(\"=\")\n",
    "print(A,\"\\n * \\n\",C,\"\\n * \\n\",x_1)"
   ]
  },
  {
   "cell_type": "markdown",
   "metadata": {},
   "source": [
    "- 한편, 우변을 하나로 정리해주면"
   ]
  },
  {
   "cell_type": "code",
   "execution_count": 11,
   "metadata": {},
   "outputs": [
    {
     "name": "stdout",
     "output_type": "stream",
     "text": [
      "[['5 * X1_1 + X2_1 + X1_1 + 5 * X2_1']\n",
      " ['5 * X1_1 + X2_1 - X1_1 - 5 * X2_1']]\n",
      "=\n",
      "[['6X1 + 6X2']\n",
      " ['4X1 - 4X2']]\n"
     ]
    }
   ],
   "source": [
    "print(np.matrix([[\"5 * X1_1 + X2_1 + X1_1 + 5 * X2_1\"],[\"5 * X1_1 + X2_1 - X1_1 - 5 * X2_1\"]]))\n",
    "print(\"=\")\n",
    "print(np.matrix([[\"6X1 + 6X2\"],[\"4X1 - 4X2\"]]))"
   ]
  },
  {
   "cell_type": "markdown",
   "metadata": {},
   "source": [
    " - 위 식을 다시 행렬꼴로 나타내면"
   ]
  },
  {
   "cell_type": "code",
   "execution_count": 12,
   "metadata": {},
   "outputs": [
    {
     "name": "stdout",
     "output_type": "stream",
     "text": [
      "[['y1']\n",
      " ['y2']]\n",
      "=\n",
      "[['6X1 + 6X2']\n",
      " ['4X1 - 4X2']]\n",
      "=\n",
      "[[6 0]\n",
      " [0 4]]\n",
      "*\n",
      "[[ 1  1]\n",
      " [ 1 -1]]\n",
      "*\n",
      "['x1_1' 'x2_1']\n"
     ]
    }
   ],
   "source": [
    "K = np.matrix([[6,0],[0,4]])\n",
    "print(np.matrix([[\"y1\"],[\"y2\"]]))\n",
    "print(\"=\")\n",
    "print(np.matrix([[\"6X1 + 6X2\"],[\"4X1 - 4X2\"]]))\n",
    "print(\"=\")\n",
    "print(K)\n",
    "print(\"*\")\n",
    "print(C)\n",
    "print(\"*\")\n",
    "print(x_1)"
   ]
  },
  {
   "cell_type": "markdown",
   "metadata": {},
   "source": [
    "- 이 때, 대각행렬은 차분방정식에서 t = infinity일때 안정화되므로, 이 계는 궁극적으로 발산한다."
   ]
  },
  {
   "cell_type": "code",
   "execution_count": 13,
   "metadata": {},
   "outputs": [
    {
     "name": "stdout",
     "output_type": "stream",
     "text": [
      "[['y1']\n",
      " ['y2']]\n",
      "=\n",
      "[[ 1  1]\n",
      " [ 1 -1]]\n",
      "*\n",
      "['X1,X2']\n"
     ]
    }
   ],
   "source": [
    "# - 한편\n",
    "print(np.matrix([[\"y1\"],[\"y2\"]]))\n",
    "print(\"=\")\n",
    "print(C)\n",
    "print(\"*\")\n",
    "print(x)\n",
    "# 이므로"
   ]
  },
  {
   "cell_type": "code",
   "execution_count": 14,
   "metadata": {},
   "outputs": [
    {
     "name": "stdout",
     "output_type": "stream",
     "text": [
      "C행렬의 역 : \n",
      " [[ 0.5  0.5]\n",
      " [ 0.5 -0.5]]\n",
      "\n",
      "\n",
      "['X1,X2']\n",
      "=\n",
      "[[ 0.5  0.5]\n",
      " [ 0.5 -0.5]]\n",
      "*\n",
      "[['y1']\n",
      " ['y2']]\n"
     ]
    }
   ],
   "source": [
    "print(\"C행렬의 역 : \\n\",np.linalg.inv(C)) #을 이용하여 표현하면\n",
    "print(\"\\n\")\n",
    "print(x)\n",
    "print(\"=\")\n",
    "print(np.linalg.inv(C))\n",
    "print(\"*\")\n",
    "print(np.matrix([[\"y1\"],[\"y2\"]]))\n",
    "\n",
    "#이다."
   ]
  },
  {
   "cell_type": "code",
   "execution_count": 15,
   "metadata": {},
   "outputs": [
    {
     "name": "stdout",
     "output_type": "stream",
     "text": [
      "[['y1']\n",
      " ['y2']]\n",
      "=\n",
      "[[ 1  1]\n",
      " [ 1 -1]]\n",
      "*\n",
      "['X1,X2']\n"
     ]
    }
   ],
   "source": [
    "# 앞서 \n",
    "\n",
    "print(np.matrix([[\"y1\"],[\"y2\"]]))\n",
    "print(\"=\")\n",
    "print(C)\n",
    "print(\"*\")\n",
    "print(x)\n",
    "# 이므로, 이를 앞에서 구한 역행렬과 내적하면"
   ]
  },
  {
   "cell_type": "code",
   "execution_count": 16,
   "metadata": {},
   "outputs": [
    {
     "name": "stdout",
     "output_type": "stream",
     "text": [
      "['X1,X2']\n",
      "=\n",
      "[[ 0.5  0.5]\n",
      " [ 0.5 -0.5]]\n",
      "*\n",
      "[[6 0]\n",
      " [0 4]]\n",
      "*\n",
      "[[ 1  1]\n",
      " [ 1 -1]]\n",
      "*\n",
      "['x1_1' 'x2_1']\n"
     ]
    }
   ],
   "source": [
    "print(x)\n",
    "print(\"=\")\n",
    "print(np.linalg.inv(C))\n",
    "print(\"*\")\n",
    "print(K)\n",
    "print(\"*\")\n",
    "print(C)\n",
    "print(\"*\")\n",
    "print(x_1)"
   ]
  },
  {
   "cell_type": "markdown",
   "metadata": {},
   "source": [
    "- 이 때, C와 C^-1 사이에 대각행렬 diag(6,4)가 끼어있는 형태가 나오고, 이 형식을 맨 처음에 언급한"
   ]
  },
  {
   "cell_type": "code",
   "execution_count": 17,
   "metadata": {},
   "outputs": [
    {
     "name": "stdout",
     "output_type": "stream",
     "text": [
      "[['X1' 'X2']]\n",
      "=\n",
      "[[5 1]\n",
      " [1 5]]\n",
      "*\n",
      "['x1_1' 'x2_1']\n"
     ]
    }
   ],
   "source": [
    "print(np.matrix([[\"X1\",\"X2\"]]))\n",
    "print(\"=\")\n",
    "print(A)\n",
    "print(\"*\")\n",
    "print(x_1)\n",
    "\n",
    "#와 비교하면"
   ]
  },
  {
   "cell_type": "code",
   "execution_count": 18,
   "metadata": {
    "scrolled": true
   },
   "outputs": [
    {
     "name": "stdout",
     "output_type": "stream",
     "text": [
      "[[5 1]\n",
      " [1 5]]\n",
      "=\n",
      "[[ 0.5  0.5]\n",
      " [ 0.5 -0.5]]\n",
      "*\n",
      "[[6 0]\n",
      " [0 4]]\n",
      "*\n",
      "[[ 1  1]\n",
      " [ 1 -1]]\n"
     ]
    }
   ],
   "source": [
    "print(A)\n",
    "print(\"=\")\n",
    "print(np.linalg.inv(C))\n",
    "print(\"*\")\n",
    "print(K)\n",
    "print(\"*\")\n",
    "print(C)\n",
    "\n",
    "#임이 명백하다."
   ]
  },
  {
   "cell_type": "markdown",
   "metadata": {},
   "source": [
    "- A = inv(C) * diag(ㅅ) * C 꼴로 분해하였는데, 이 것을 대각화라고 한다.\n",
    "- 이제 관건은, 앞서 대각화를 가능하게 했던 행렬"
   ]
  },
  {
   "cell_type": "code",
   "execution_count": 19,
   "metadata": {},
   "outputs": [
    {
     "name": "stdout",
     "output_type": "stream",
     "text": [
      "[[ 1  1]\n",
      " [ 1 -1]]\n"
     ]
    }
   ],
   "source": [
    "print(C)\n",
    "\n",
    "#를 찾는 것이다."
   ]
  },
  {
   "cell_type": "markdown",
   "metadata": {},
   "source": [
    "## 2) 고윳값과 고유벡터"
   ]
  },
  {
   "cell_type": "markdown",
   "metadata": {},
   "source": [
    "### (1) 고유벡터의 기하학적 이해"
   ]
  },
  {
   "cell_type": "markdown",
   "metadata": {},
   "source": [
    "### (2) 고윳값과 고유벡터의 도출"
   ]
  },
  {
   "cell_type": "markdown",
   "metadata": {},
   "source": [
    "### - 특성방정식"
   ]
  },
  {
   "cell_type": "markdown",
   "metadata": {},
   "source": [
    " - 어떤 행렬이 특이행렬이 되도록 만들어주는 고윳값을 구하는 방정식\n",
    " - 즉, det(A - aI) = 0이 되도록 하는 a를 구한다."
   ]
  },
  {
   "cell_type": "code",
   "execution_count": 40,
   "metadata": {},
   "outputs": [],
   "source": [
    "A = np.matrix([[6,-3,5],[-1,4,-5],[-3,3,-4]])"
   ]
  },
  {
   "cell_type": "markdown",
   "metadata": {},
   "source": [
    "- 3X3 행렬이므로, 사루스의 법칙을 이용하여 행렬식을 구하면\n",
    "\n",
    "det(A - aI) = {(6-a)(4-a)(-4-a)]} + {-3 * -5 * -3}  + {5 * -1 * 3} - {5 * (4-a) * -3} - {(6-a) * -5 * 3} - {-3 * -1 * (4-a)} = a^3-6a^2+11a-6\n",
    "- 이 때 해는"
   ]
  },
  {
   "cell_type": "code",
   "execution_count": 41,
   "metadata": {},
   "outputs": [
    {
     "name": "stdout",
     "output_type": "stream",
     "text": [
      "[[3 2 1]]\n"
     ]
    }
   ],
   "source": [
    "a = np.matrix([3,2,1])\n",
    "print(a)"
   ]
  },
  {
   "cell_type": "markdown",
   "metadata": {},
   "source": [
    "이다"
   ]
  },
  {
   "cell_type": "markdown",
   "metadata": {},
   "source": [
    "- 이제 고윳값에 맞는 고유벡터를 구하면\n",
    "- 각 고윳값을 대각성분에서 뺀 행렬의 영공간을 구한다."
   ]
  },
  {
   "cell_type": "code",
   "execution_count": 60,
   "metadata": {},
   "outputs": [
    {
     "name": "stdout",
     "output_type": "stream",
     "text": [
      "[[ 3. -3.  5.]\n",
      " [-1.  1. -5.]\n",
      " [-3.  3. -7.]]\n"
     ]
    }
   ],
   "source": [
    "A_eig_1 = (A - a[0,0] * np.identity(3))\n",
    "print(A_eig_1)"
   ]
  },
  {
   "cell_type": "markdown",
   "metadata": {},
   "source": [
    "이 행렬을 행연산하면 다음과 같은 행렬이 된다."
   ]
  },
  {
   "cell_type": "code",
   "execution_count": 81,
   "metadata": {},
   "outputs": [
    {
     "name": "stdout",
     "output_type": "stream",
     "text": [
      "[[ 1 -1  0]\n",
      " [ 0  0  1]\n",
      " [ 0  0  0]]\n"
     ]
    }
   ],
   "source": [
    "A_eig_1_reduced = np.matrix([[1,-1,0],[0,0,1],[0,0,0]])\n",
    "print(A_eig_1_reduced)"
   ]
  },
  {
   "cell_type": "markdown",
   "metadata": {},
   "source": [
    "위 행줄임 행렬을 영공간의 Span으로 나타내면\n"
   ]
  },
  {
   "cell_type": "code",
   "execution_count": 82,
   "metadata": {},
   "outputs": [
    {
     "name": "stdout",
     "output_type": "stream",
     "text": [
      "[['x1']\n",
      " ['x2']\n",
      " ['x3']]\n",
      "=\n",
      "[[1]\n",
      " [1]\n",
      " [0]]\n",
      "*\n",
      "x2\n",
      "단, x2는 0 이외의 모든 실수이다.\n"
     ]
    }
   ],
   "source": [
    "print(np.matrix([\"x1\",\"x2\",\"x3\"]).T)\n",
    "print(\"=\")\n",
    "print(np.matrix([1,1,0]).T)\n",
    "print(\"*\")\n",
    "print(\"x2\")\n",
    "print(\"단, x2는 0 이외의 모든 실수이다.\")"
   ]
  },
  {
   "cell_type": "code",
   "execution_count": 73,
   "metadata": {},
   "outputs": [
    {
     "name": "stdout",
     "output_type": "stream",
     "text": [
      "[[ 4. -3.  5.]\n",
      " [-1.  2. -5.]\n",
      " [-3.  3. -6.]]\n"
     ]
    }
   ],
   "source": [
    "A_eig_2 = (A - a[0,1] * np.identity(3))\n",
    "print(A_eig_2)"
   ]
  },
  {
   "cell_type": "markdown",
   "metadata": {},
   "source": [
    "이 행렬을 행연산하면 다음과 같은 행렬이 된다."
   ]
  },
  {
   "cell_type": "code",
   "execution_count": 76,
   "metadata": {},
   "outputs": [
    {
     "name": "stdout",
     "output_type": "stream",
     "text": [
      "[[ 1  0 -1]\n",
      " [ 0  1 -3]\n",
      " [ 0  0  0]]\n"
     ]
    }
   ],
   "source": [
    "A_eig_2_reduced = np.matrix([[1,0,-1],[0,1,-3],[0,0,0]])\n",
    "print(A_eig_2_reduced)"
   ]
  },
  {
   "cell_type": "markdown",
   "metadata": {},
   "source": [
    "위 행줄임 행렬을 영공간의 Span으로 나타내면"
   ]
  },
  {
   "cell_type": "code",
   "execution_count": 79,
   "metadata": {},
   "outputs": [
    {
     "name": "stdout",
     "output_type": "stream",
     "text": [
      "[['x1']\n",
      " ['x2']\n",
      " ['x3']]\n",
      "=\n",
      "[[1]\n",
      " [3]\n",
      " [1]]\n",
      "*\n",
      "x3\n",
      "단, x3는 0 이외의 모든 실수이다.\n"
     ]
    }
   ],
   "source": [
    "print(np.matrix([\"x1\",\"x2\",\"x3\"]).T)\n",
    "print(\"=\")\n",
    "print(np.matrix([1,3,1]).T)\n",
    "print(\"*\")\n",
    "print(\"x3\")\n",
    "print(\"단, x3는 0 이외의 모든 실수이다.\")"
   ]
  },
  {
   "cell_type": "code",
   "execution_count": 85,
   "metadata": {},
   "outputs": [
    {
     "name": "stdout",
     "output_type": "stream",
     "text": [
      "[[ 5. -3.  5.]\n",
      " [-1.  3. -5.]\n",
      " [-3.  3. -5.]]\n"
     ]
    }
   ],
   "source": [
    "A_eig_3 = (A - a[0,2] * np.identity(3))\n",
    "print(A_eig_3)"
   ]
  },
  {
   "cell_type": "markdown",
   "metadata": {},
   "source": [
    "이 행렬을 행연산하면 다음과 같은 행렬이 된다."
   ]
  },
  {
   "cell_type": "code",
   "execution_count": 88,
   "metadata": {},
   "outputs": [
    {
     "name": "stdout",
     "output_type": "stream",
     "text": [
      "[[ 1.          0.          0.        ]\n",
      " [ 0.          1.         -1.66666667]\n",
      " [ 0.          0.          0.        ]]\n"
     ]
    }
   ],
   "source": [
    "A_eig_3_reduced = np.matrix([[1,0,0],[0,1,(-5/3)],[0,0,0]])\n",
    "print(A_eig_3_reduced)"
   ]
  },
  {
   "cell_type": "markdown",
   "metadata": {},
   "source": [
    "위 행줄임 행렬을 영공간의 Span으로 나타내면"
   ]
  },
  {
   "cell_type": "code",
   "execution_count": 90,
   "metadata": {},
   "outputs": [
    {
     "name": "stdout",
     "output_type": "stream",
     "text": [
      "[['x1']\n",
      " ['x2']\n",
      " ['x3']]\n",
      "=\n",
      "[[0]\n",
      " [5]\n",
      " [3]]\n",
      "*\n",
      "x3\n",
      "단, x3는 0 이외의 모든 실수이다.\n"
     ]
    }
   ],
   "source": [
    "print(np.matrix([\"x1\",\"x2\",\"x3\"]).T)\n",
    "print(\"=\")\n",
    "print(np.matrix([0,5,3]).T)\n",
    "print(\"*\")\n",
    "print(\"x3\")\n",
    "print(\"단, x3는 0 이외의 모든 실수이다.\")"
   ]
  },
  {
   "cell_type": "code",
   "execution_count": 99,
   "metadata": {},
   "outputs": [],
   "source": [
    "eigen_value = np.diag([3,2,1])\n",
    "eigen_vector = np.matrix([[1,1,0],[1,3,1],[0,5,3]]).T"
   ]
  },
  {
   "cell_type": "code",
   "execution_count": 100,
   "metadata": {},
   "outputs": [
    {
     "data": {
      "text/plain": [
       "array([[3, 0, 0],\n",
       "       [0, 2, 0],\n",
       "       [0, 0, 1]])"
      ]
     },
     "execution_count": 100,
     "metadata": {},
     "output_type": "execute_result"
    }
   ],
   "source": [
    "eigen_value"
   ]
  },
  {
   "cell_type": "code",
   "execution_count": 109,
   "metadata": {},
   "outputs": [
    {
     "data": {
      "text/plain": [
       "matrix([[1, 1, 0],\n",
       "        [1, 3, 5],\n",
       "        [0, 1, 3]])"
      ]
     },
     "execution_count": 109,
     "metadata": {},
     "output_type": "execute_result"
    }
   ],
   "source": [
    "eigen_vector"
   ]
  },
  {
   "cell_type": "markdown",
   "metadata": {},
   "source": [
    "이다"
   ]
  },
  {
   "cell_type": "markdown",
   "metadata": {},
   "source": [
    "# 3) 총 정리 예제"
   ]
  },
  {
   "cell_type": "markdown",
   "metadata": {},
   "source": [
    "### (1) 어떤 자기회귀(AR)모델이 다음과 같이 정의되었다.\n",
    " - y(t) = -0.5y(t-1) + 0.34y(t-2) + 0.08y(t-3) + 2u(t)\n",
    " - 초기조건 y(0) = 0.78, y(-1) = 0.8, y(-2) = 1.5"
   ]
  },
  {
   "cell_type": "code",
   "execution_count": 90,
   "metadata": {},
   "outputs": [],
   "source": [
    "def init_x(t):\n",
    "    if t == 0:\n",
    "        y_1 = 0.8\n",
    "        y_2 = 1.5\n",
    "        y_3 = (0.78+0.5*(0.8) - 0.34*(1.5))/0.08\n",
    "        return ([y_1,y_2,y_3])"
   ]
  },
  {
   "cell_type": "code",
   "execution_count": 91,
   "metadata": {},
   "outputs": [
    {
     "name": "stdout",
     "output_type": "stream",
     "text": [
      "[[-0.5   0.34  0.08]\n",
      " [ 1.    0.    0.  ]\n",
      " [ 0.    1.    0.  ]]\n"
     ]
    }
   ],
   "source": [
    "A = np.matrix([[-0.5,0.34,0.08],[1,0,0],[0,1,0]])\n",
    "x = np.matrix(init_x(0)).T\n",
    "print(A)"
   ]
  },
  {
   "cell_type": "markdown",
   "metadata": {},
   "source": [
    "- 위 방정식의 경우, A와 x를 내적하면 "
   ]
  },
  {
   "cell_type": "code",
   "execution_count": 92,
   "metadata": {
    "scrolled": false
   },
   "outputs": [
    {
     "data": {
      "text/plain": [
       "matrix([[0.78],\n",
       "        [0.8 ],\n",
       "        [1.5 ]])"
      ]
     },
     "execution_count": 92,
     "metadata": {},
     "output_type": "execute_result"
    }
   ],
   "source": [
    "np.dot(A,x) # 이것이 t=0일때의 초깃값 y_1, y_2, y_3이다."
   ]
  },
  {
   "cell_type": "code",
   "execution_count": 98,
   "metadata": {
    "scrolled": true
   },
   "outputs": [
    {
     "name": "stdout",
     "output_type": "stream",
     "text": [
      "행렬 A의 고윳값 :  \n",
      " [-0.8  0.5 -0.2]\n",
      "행렬 A의 고유벡터 :  \n",
      " [[-0.447039   -0.21821789  0.03919309]\n",
      " [ 0.55879876 -0.43643578 -0.19596545]\n",
      " [-0.69849845 -0.87287156  0.97982725]]\n"
     ]
    }
   ],
   "source": [
    "# 행렬 A를 고유분해하면\n",
    "\n",
    "A_eig = np.linalg.eig(A)\n",
    "print(\"행렬 A의 고윳값 : \",\"\\n\",A_eig[0])\n",
    "print(\"행렬 A의 고유벡터 : \",\"\\n\",A_eig[1])"
   ]
  },
  {
   "cell_type": "code",
   "execution_count": 117,
   "metadata": {},
   "outputs": [
    {
     "data": {
      "text/plain": [
       "array([[0., 0., 0.],\n",
       "       [0., 0., 0.],\n",
       "       [0., 0., 0.]])"
      ]
     },
     "execution_count": 117,
     "metadata": {},
     "output_type": "execute_result"
    }
   ],
   "source": [
    "#이 계의 고윳값 대각행렬의 안정값은\n",
    "np.diag(A_eig[0]) ** np.inf"
   ]
  },
  {
   "cell_type": "code",
   "execution_count": 118,
   "metadata": {},
   "outputs": [],
   "source": [
    "# 이므로, 모두 0이기 때문에 궁극적으로 발산하지 않고 수렴한다."
   ]
  }
 ],
 "metadata": {
  "kernelspec": {
   "display_name": "Python 3",
   "language": "python",
   "name": "python3"
  },
  "language_info": {
   "codemirror_mode": {
    "name": "ipython",
    "version": 3
   },
   "file_extension": ".py",
   "mimetype": "text/x-python",
   "name": "python",
   "nbconvert_exporter": "python",
   "pygments_lexer": "ipython3",
   "version": "3.7.0"
  }
 },
 "nbformat": 4,
 "nbformat_minor": 2
}
