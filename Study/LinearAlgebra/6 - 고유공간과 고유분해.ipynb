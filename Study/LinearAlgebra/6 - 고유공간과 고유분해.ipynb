{
 "cells": [
  {
   "cell_type": "code",
   "execution_count": 2,
   "metadata": {},
   "outputs": [],
   "source": [
    "import numpy as np\n",
    "import matplotlib.pyplot as plt\n",
    "from mpl_toolkits import mplot3d"
   ]
  },
  {
   "cell_type": "markdown",
   "metadata": {},
   "source": [
    "# 6. 고유공간과 대각화"
   ]
  },
  {
   "cell_type": "markdown",
   "metadata": {},
   "source": [
    "## 1) 대각화"
   ]
  },
  {
   "cell_type": "markdown",
   "metadata": {},
   "source": [
    "### (1) 대각화는 다음의 경우에 활용할 수 있다.\n",
    "\n",
    " - 선형계의 발산의 판단 : 행렬A를 대각화 하는 경우, 대각행렬의 요소값을 통해 발산 여부를 판단할 수 있다.(|a| > 1이면 발산한다)\n",
    " - 연산의 최적화 : 행렬 A를 연속적으로 적용하는 변환의 경우, 대각화 할 경우 대각행렬만 계속 곱해주면 A를 연속 적용하는것과 같다."
   ]
  },
  {
   "cell_type": "markdown",
   "metadata": {},
   "source": [
    "### (2) 발산 판단 여부의 판단"
   ]
  },
  {
   "cell_type": "markdown",
   "metadata": {},
   "source": [
    "### - 대각행렬의 경우"
   ]
  },
  {
   "cell_type": "code",
   "execution_count": 3,
   "metadata": {},
   "outputs": [],
   "source": [
    "A = np.diag([5,-3,0.8])\n",
    "x = np.array([\"X_1,X_2,X_3\"])"
   ]
  },
  {
   "cell_type": "markdown",
   "metadata": {},
   "source": [
    "- A와 x를 내적하면"
   ]
  },
  {
   "cell_type": "code",
   "execution_count": 4,
   "metadata": {},
   "outputs": [
    {
     "name": "stdout",
     "output_type": "stream",
     "text": [
      "[['5 * x_1']\n",
      " ['-3 * x_2']\n",
      " ['0.8 * x_3']]\n"
     ]
    }
   ],
   "source": [
    "Ax = np.matrix([\"5 * x_1\", \"-3 * x_2\", \"0.8 * x_3\"])\n",
    "print(Ax.T)"
   ]
  },
  {
   "cell_type": "markdown",
   "metadata": {},
   "source": [
    "- 꼴로 나타난다. 따라서, 차분방정식을 이용할경우 파라미터 A의 t제곱(t = infinity)에서 안정된 값이 구해지는데"
   ]
  },
  {
   "cell_type": "code",
   "execution_count": 5,
   "metadata": {},
   "outputs": [
    {
     "data": {
      "text/plain": [
       "array([[inf,  0.,  0.],\n",
       "       [ 0., inf,  0.],\n",
       "       [ 0.,  0.,  0.]])"
      ]
     },
     "execution_count": 5,
     "metadata": {},
     "output_type": "execute_result"
    }
   ],
   "source": [
    "A ** np.inf"
   ]
  },
  {
   "cell_type": "markdown",
   "metadata": {},
   "source": [
    " 이 대각행렬은 a33 성분을 제외하고는 무한으로 발산하므로, 이 시스템은 t = infinity일때 발산한다."
   ]
  },
  {
   "cell_type": "markdown",
   "metadata": {},
   "source": [
    "### - 대각행렬은 아니지만, 대각화가 가능한 경우"
   ]
  },
  {
   "cell_type": "code",
   "execution_count": 6,
   "metadata": {},
   "outputs": [],
   "source": [
    "A = np.matrix([[5,1],[1,5]])\n",
    "x_1 = np.array([\"x1_1\",\"x2_1\"]) #단, x1_1은 변수 x1의 1차시 전 값을, x2_1은 변수 x2의 1차시 전 값을 의미한다. "
   ]
  },
  {
   "cell_type": "markdown",
   "metadata": {},
   "source": [
    "- 이 때, 이 행렬의 곱은"
   ]
  },
  {
   "cell_type": "code",
   "execution_count": 7,
   "metadata": {},
   "outputs": [
    {
     "name": "stdout",
     "output_type": "stream",
     "text": [
      "[['X1' 'X2']]\n",
      "=\n",
      "[[5 1]\n",
      " [1 5]]\n",
      "*\n",
      "['x1_1' 'x2_1']\n",
      "=\n",
      "[['(5 * x1_1) + (x2_1)']\n",
      " ['(x1_1) + (5 * x2_1)']]\n"
     ]
    }
   ],
   "source": [
    "print(np.matrix([[\"X1\",\"X2\"]]))\n",
    "print(\"=\")\n",
    "print(A)\n",
    "print(\"*\")\n",
    "print(x_1)\n",
    "print(\"=\")\n",
    "print(np.matrix([[\"(5 * x1_1) + (x2_1)\"],[\"(x1_1) + (5 * x2_1)\"]]))"
   ]
  },
  {
   "cell_type": "markdown",
   "metadata": {},
   "source": [
    " - 변수변환을 다음과 같이 실시한다.\n",
    " - y1 = x1 + x2\n",
    " - y2 = x1 - x2"
   ]
  },
  {
   "cell_type": "code",
   "execution_count": 8,
   "metadata": {},
   "outputs": [],
   "source": [
    "C = np.matrix([[1,1],[1,-1]])\n",
    "x = np.array([\"X1,X2\"]) #단, X1, X2는 변수 X1, X2의 현상태의 값을 의미한다.\n",
    "\n",
    "Cx = np.matrix([[\"X1 + X2\"],[\"X1 - X2\"]])"
   ]
  },
  {
   "cell_type": "code",
   "execution_count": 9,
   "metadata": {},
   "outputs": [
    {
     "name": "stdout",
     "output_type": "stream",
     "text": [
      "[['y1']\n",
      " ['y2']] \n",
      " = \n",
      " [['X1 + X2']\n",
      " ['X1 - X2']]\n"
     ]
    }
   ],
   "source": [
    "print(np.matrix([[\"y1\"],[\"y2\"]]),\"\\n = \\n\", Cx)"
   ]
  },
  {
   "cell_type": "markdown",
   "metadata": {},
   "source": [
    "- 변수변환과 원래 행렬을 동시에 정의하면"
   ]
  },
  {
   "cell_type": "code",
   "execution_count": 10,
   "metadata": {},
   "outputs": [
    {
     "name": "stdout",
     "output_type": "stream",
     "text": [
      "[['y1']\n",
      " ['y2']]\n",
      "=\n",
      "[[5 1]\n",
      " [1 5]] \n",
      " * \n",
      " [[ 1  1]\n",
      " [ 1 -1]] \n",
      " * \n",
      " ['x1_1' 'x2_1']\n"
     ]
    }
   ],
   "source": [
    "print(np.matrix([[\"y1\"],[\"y2\"]]))\n",
    "print(\"=\")\n",
    "print(A,\"\\n * \\n\",C,\"\\n * \\n\",x_1)"
   ]
  },
  {
   "cell_type": "markdown",
   "metadata": {},
   "source": [
    "- 한편, 우변을 하나로 정리해주면"
   ]
  },
  {
   "cell_type": "code",
   "execution_count": 11,
   "metadata": {},
   "outputs": [
    {
     "name": "stdout",
     "output_type": "stream",
     "text": [
      "[['5 * X1_1 + X2_1 + X1_1 + 5 * X2_1']\n",
      " ['5 * X1_1 + X2_1 - X1_1 - 5 * X2_1']]\n",
      "=\n",
      "[['6X1 + 6X2']\n",
      " ['4X1 - 4X2']]\n"
     ]
    }
   ],
   "source": [
    "print(np.matrix([[\"5 * X1_1 + X2_1 + X1_1 + 5 * X2_1\"],[\"5 * X1_1 + X2_1 - X1_1 - 5 * X2_1\"]]))\n",
    "print(\"=\")\n",
    "print(np.matrix([[\"6X1 + 6X2\"],[\"4X1 - 4X2\"]]))"
   ]
  },
  {
   "cell_type": "markdown",
   "metadata": {},
   "source": [
    " - 위 식을 다시 행렬꼴로 나타내면"
   ]
  },
  {
   "cell_type": "code",
   "execution_count": 12,
   "metadata": {},
   "outputs": [
    {
     "name": "stdout",
     "output_type": "stream",
     "text": [
      "[['y1']\n",
      " ['y2']]\n",
      "=\n",
      "[['6X1 + 6X2']\n",
      " ['4X1 - 4X2']]\n",
      "=\n",
      "[[6 0]\n",
      " [0 4]]\n",
      "*\n",
      "[[ 1  1]\n",
      " [ 1 -1]]\n",
      "*\n",
      "['x1_1' 'x2_1']\n"
     ]
    }
   ],
   "source": [
    "K = np.matrix([[6,0],[0,4]])\n",
    "print(np.matrix([[\"y1\"],[\"y2\"]]))\n",
    "print(\"=\")\n",
    "print(np.matrix([[\"6X1 + 6X2\"],[\"4X1 - 4X2\"]]))\n",
    "print(\"=\")\n",
    "print(K)\n",
    "print(\"*\")\n",
    "print(C)\n",
    "print(\"*\")\n",
    "print(x_1)"
   ]
  },
  {
   "cell_type": "markdown",
   "metadata": {},
   "source": [
    "이 때, 대각행렬은 차분방정식에서 t = infinity일때 안정화되므로, 이 계는 궁극적으로 발산한다."
   ]
  },
  {
   "cell_type": "code",
   "execution_count": 13,
   "metadata": {},
   "outputs": [
    {
     "name": "stdout",
     "output_type": "stream",
     "text": [
      "[['y1']\n",
      " ['y2']]\n",
      "=\n",
      "[[ 1  1]\n",
      " [ 1 -1]]\n",
      "*\n",
      "['X1,X2']\n"
     ]
    }
   ],
   "source": [
    "# - 한편\n",
    "print(np.matrix([[\"y1\"],[\"y2\"]]))\n",
    "print(\"=\")\n",
    "print(C)\n",
    "print(\"*\")\n",
    "print(x)\n",
    "# 이므로"
   ]
  },
  {
   "cell_type": "code",
   "execution_count": 14,
   "metadata": {},
   "outputs": [
    {
     "name": "stdout",
     "output_type": "stream",
     "text": [
      "C행렬의 역 : \n",
      " [[ 0.5  0.5]\n",
      " [ 0.5 -0.5]]\n",
      "\n",
      "\n",
      "['X1,X2']\n",
      "=\n",
      "[[ 0.5  0.5]\n",
      " [ 0.5 -0.5]]\n",
      "*\n",
      "[['y1']\n",
      " ['y2']]\n"
     ]
    }
   ],
   "source": [
    "print(\"C행렬의 역 : \\n\",np.linalg.inv(C)) #을 이용하여 표현하면\n",
    "print(\"\\n\")\n",
    "print(x)\n",
    "print(\"=\")\n",
    "print(np.linalg.inv(C))\n",
    "print(\"*\")\n",
    "print(np.matrix([[\"y1\"],[\"y2\"]]))\n",
    "\n",
    "#이다."
   ]
  },
  {
   "cell_type": "code",
   "execution_count": 15,
   "metadata": {},
   "outputs": [
    {
     "name": "stdout",
     "output_type": "stream",
     "text": [
      "[['y1']\n",
      " ['y2']]\n",
      "=\n",
      "[[ 1  1]\n",
      " [ 1 -1]]\n",
      "*\n",
      "['X1,X2']\n"
     ]
    }
   ],
   "source": [
    "# 앞서 \n",
    "\n",
    "print(np.matrix([[\"y1\"],[\"y2\"]]))\n",
    "print(\"=\")\n",
    "print(C)\n",
    "print(\"*\")\n",
    "print(x)\n",
    "# 이므로, 이를 앞에서 구한 역행렬과 내적하면"
   ]
  },
  {
   "cell_type": "code",
   "execution_count": 16,
   "metadata": {},
   "outputs": [
    {
     "name": "stdout",
     "output_type": "stream",
     "text": [
      "['X1,X2']\n",
      "=\n",
      "[[ 0.5  0.5]\n",
      " [ 0.5 -0.5]]\n",
      "*\n",
      "[[6 0]\n",
      " [0 4]]\n",
      "*\n",
      "[[ 1  1]\n",
      " [ 1 -1]]\n",
      "*\n",
      "['x1_1' 'x2_1']\n"
     ]
    }
   ],
   "source": [
    "print(x)\n",
    "print(\"=\")\n",
    "print(np.linalg.inv(C))\n",
    "print(\"*\")\n",
    "print(K)\n",
    "print(\"*\")\n",
    "print(C)\n",
    "print(\"*\")\n",
    "print(x_1)"
   ]
  },
  {
   "cell_type": "markdown",
   "metadata": {},
   "source": [
    "- 이 때, C와 C^-1 사이에 대각행렬 diag(6,4)가 끼어있는 형태가 나오고, 이 형식을 맨 처음에 언급한"
   ]
  },
  {
   "cell_type": "code",
   "execution_count": 17,
   "metadata": {},
   "outputs": [
    {
     "name": "stdout",
     "output_type": "stream",
     "text": [
      "[['X1' 'X2']]\n",
      "=\n",
      "[[5 1]\n",
      " [1 5]]\n",
      "*\n",
      "['x1_1' 'x2_1']\n"
     ]
    }
   ],
   "source": [
    "print(np.matrix([[\"X1\",\"X2\"]]))\n",
    "print(\"=\")\n",
    "print(A)\n",
    "print(\"*\")\n",
    "print(x_1)\n",
    "\n",
    "#와 비교하면"
   ]
  },
  {
   "cell_type": "code",
   "execution_count": 18,
   "metadata": {
    "scrolled": true
   },
   "outputs": [
    {
     "name": "stdout",
     "output_type": "stream",
     "text": [
      "[[5 1]\n",
      " [1 5]]\n",
      "=\n",
      "[[ 0.5  0.5]\n",
      " [ 0.5 -0.5]]\n",
      "*\n",
      "[[6 0]\n",
      " [0 4]]\n",
      "*\n",
      "[[ 1  1]\n",
      " [ 1 -1]]\n"
     ]
    }
   ],
   "source": [
    "print(A)\n",
    "print(\"=\")\n",
    "print(np.linalg.inv(C))\n",
    "print(\"*\")\n",
    "print(K)\n",
    "print(\"*\")\n",
    "print(C)\n",
    "\n",
    "#임이 명백하다."
   ]
  },
  {
   "cell_type": "markdown",
   "metadata": {},
   "source": [
    "- A = inv(C) * diag(ㅅ) * C 꼴로 분해하였는데, 이 것을 대각화라고 한다.\n",
    "- 이제 관건은, 앞서 대각화를 가능하게 했던 행렬"
   ]
  },
  {
   "cell_type": "code",
   "execution_count": 19,
   "metadata": {},
   "outputs": [
    {
     "name": "stdout",
     "output_type": "stream",
     "text": [
      "[[ 1  1]\n",
      " [ 1 -1]]\n"
     ]
    }
   ],
   "source": [
    "print(C)\n",
    "\n",
    "#를 찾는 것이다."
   ]
  },
  {
   "cell_type": "markdown",
   "metadata": {},
   "source": [
    "## 2) 고윳값과 고유벡터"
   ]
  },
  {
   "cell_type": "markdown",
   "metadata": {},
   "source": [
    "### (1) 고유벡터의 기하학적 이해"
   ]
  },
  {
   "cell_type": "markdown",
   "metadata": {},
   "source": [
    "### (2) 고윳값과 고유벡터의 도출"
   ]
  },
  {
   "cell_type": "markdown",
   "metadata": {},
   "source": [
    "### - 특성방정식"
   ]
  },
  {
   "cell_type": "markdown",
   "metadata": {},
   "source": [
    " - 어떤 행렬이 특이행렬이 되도록 만들어주는 고윳값을 구하는 방정식\n",
    " - 즉, det(A - aI) = 0이 되도록 하는 a를 구한다."
   ]
  },
  {
   "cell_type": "code",
   "execution_count": 40,
   "metadata": {},
   "outputs": [],
   "source": [
    "A = np.matrix([[6,-3,5],[-1,4,-5],[-3,3,-4]])"
   ]
  },
  {
   "cell_type": "markdown",
   "metadata": {},
   "source": [
    "- 3X3 행렬이므로, 사루스의 법칙을 이용하여 행렬식을 구하면\n",
    "\n",
    "det(A - aI) = {(6-a)(4-a)(-4-a)]} + {-3 * -5 * -3}  + {5 * -1 * 3} - {5 * (4-a) * -3} - {(6-a) * -5 * 3} - {-3 * -1 * (4-a)} = a^3-6a^2+11a-6\n",
    "- 이 때 해는"
   ]
  },
  {
   "cell_type": "code",
   "execution_count": 41,
   "metadata": {},
   "outputs": [
    {
     "name": "stdout",
     "output_type": "stream",
     "text": [
      "[[3 2 1]]\n"
     ]
    }
   ],
   "source": [
    "a = np.matrix([3,2,1])\n",
    "print(a)"
   ]
  },
  {
   "cell_type": "markdown",
   "metadata": {},
   "source": [
    "이다"
   ]
  },
  {
   "cell_type": "markdown",
   "metadata": {},
   "source": [
    "- 이제 고윳값에 맞는 고유벡터를 구하면\n",
    "- 각 고윳값을 대각성분에서 뺀 행렬의 영공간을 구한다."
   ]
  },
  {
   "cell_type": "code",
   "execution_count": 60,
   "metadata": {},
   "outputs": [
    {
     "name": "stdout",
     "output_type": "stream",
     "text": [
      "[[ 3. -3.  5.]\n",
      " [-1.  1. -5.]\n",
      " [-3.  3. -7.]]\n"
     ]
    }
   ],
   "source": [
    "A_eig_1 = (A - a[0,0] * np.identity(3))\n",
    "print(A_eig_1)"
   ]
  },
  {
   "cell_type": "markdown",
   "metadata": {},
   "source": [
    "이 행렬을 행연산하면 다음과 같은 행렬이 된다."
   ]
  },
  {
   "cell_type": "code",
   "execution_count": 81,
   "metadata": {},
   "outputs": [
    {
     "name": "stdout",
     "output_type": "stream",
     "text": [
      "[[ 1 -1  0]\n",
      " [ 0  0  1]\n",
      " [ 0  0  0]]\n"
     ]
    }
   ],
   "source": [
    "A_eig_1_reduced = np.matrix([[1,-1,0],[0,0,1],[0,0,0]])\n",
    "print(A_eig_1_reduced)"
   ]
  },
  {
   "cell_type": "markdown",
   "metadata": {},
   "source": [
    "위 행줄임 행렬을 영공간의 Span으로 나타내면\n"
   ]
  },
  {
   "cell_type": "code",
   "execution_count": 82,
   "metadata": {},
   "outputs": [
    {
     "name": "stdout",
     "output_type": "stream",
     "text": [
      "[['x1']\n",
      " ['x2']\n",
      " ['x3']]\n",
      "=\n",
      "[[1]\n",
      " [1]\n",
      " [0]]\n",
      "*\n",
      "x2\n",
      "단, x2는 0 이외의 모든 실수이다.\n"
     ]
    }
   ],
   "source": [
    "print(np.matrix([\"x1\",\"x2\",\"x3\"]).T)\n",
    "print(\"=\")\n",
    "print(np.matrix([1,1,0]).T)\n",
    "print(\"*\")\n",
    "print(\"x2\")\n",
    "print(\"단, x2는 0 이외의 모든 실수이다.\")"
   ]
  },
  {
   "cell_type": "code",
   "execution_count": 73,
   "metadata": {},
   "outputs": [
    {
     "name": "stdout",
     "output_type": "stream",
     "text": [
      "[[ 4. -3.  5.]\n",
      " [-1.  2. -5.]\n",
      " [-3.  3. -6.]]\n"
     ]
    }
   ],
   "source": [
    "A_eig_2 = (A - a[0,1] * np.identity(3))\n",
    "print(A_eig_2)"
   ]
  },
  {
   "cell_type": "markdown",
   "metadata": {},
   "source": [
    "이 행렬을 행연산하면 다음과 같은 행렬이 된다."
   ]
  },
  {
   "cell_type": "code",
   "execution_count": 76,
   "metadata": {},
   "outputs": [
    {
     "name": "stdout",
     "output_type": "stream",
     "text": [
      "[[ 1  0 -1]\n",
      " [ 0  1 -3]\n",
      " [ 0  0  0]]\n"
     ]
    }
   ],
   "source": [
    "A_eig_2_reduced = np.matrix([[1,0,-1],[0,1,-3],[0,0,0]])\n",
    "print(A_eig_2_reduced)"
   ]
  },
  {
   "cell_type": "markdown",
   "metadata": {},
   "source": [
    "위 행줄임 행렬을 영공간의 Span으로 나타내면"
   ]
  },
  {
   "cell_type": "code",
   "execution_count": 79,
   "metadata": {},
   "outputs": [
    {
     "name": "stdout",
     "output_type": "stream",
     "text": [
      "[['x1']\n",
      " ['x2']\n",
      " ['x3']]\n",
      "=\n",
      "[[1]\n",
      " [3]\n",
      " [1]]\n",
      "*\n",
      "x3\n",
      "단, x3는 0 이외의 모든 실수이다.\n"
     ]
    }
   ],
   "source": [
    "print(np.matrix([\"x1\",\"x2\",\"x3\"]).T)\n",
    "print(\"=\")\n",
    "print(np.matrix([1,3,1]).T)\n",
    "print(\"*\")\n",
    "print(\"x3\")\n",
    "print(\"단, x3는 0 이외의 모든 실수이다.\")"
   ]
  },
  {
   "cell_type": "code",
   "execution_count": 85,
   "metadata": {},
   "outputs": [
    {
     "name": "stdout",
     "output_type": "stream",
     "text": [
      "[[ 5. -3.  5.]\n",
      " [-1.  3. -5.]\n",
      " [-3.  3. -5.]]\n"
     ]
    }
   ],
   "source": [
    "A_eig_3 = (A - a[0,2] * np.identity(3))\n",
    "print(A_eig_3)"
   ]
  },
  {
   "cell_type": "markdown",
   "metadata": {},
   "source": [
    "이 행렬을 행연산하면 다음과 같은 행렬이 된다."
   ]
  },
  {
   "cell_type": "code",
   "execution_count": 88,
   "metadata": {},
   "outputs": [
    {
     "name": "stdout",
     "output_type": "stream",
     "text": [
      "[[ 1.          0.          0.        ]\n",
      " [ 0.          1.         -1.66666667]\n",
      " [ 0.          0.          0.        ]]\n"
     ]
    }
   ],
   "source": [
    "A_eig_3_reduced = np.matrix([[1,0,0],[0,1,(-5/3)],[0,0,0]])\n",
    "print(A_eig_3_reduced)"
   ]
  },
  {
   "cell_type": "markdown",
   "metadata": {},
   "source": [
    "위 행줄임 행렬을 영공간의 Span으로 나타내면"
   ]
  },
  {
   "cell_type": "code",
   "execution_count": 90,
   "metadata": {},
   "outputs": [
    {
     "name": "stdout",
     "output_type": "stream",
     "text": [
      "[['x1']\n",
      " ['x2']\n",
      " ['x3']]\n",
      "=\n",
      "[[0]\n",
      " [5]\n",
      " [3]]\n",
      "*\n",
      "x3\n",
      "단, x3는 0 이외의 모든 실수이다.\n"
     ]
    }
   ],
   "source": [
    "print(np.matrix([\"x1\",\"x2\",\"x3\"]).T)\n",
    "print(\"=\")\n",
    "print(np.matrix([0,5,3]).T)\n",
    "print(\"*\")\n",
    "print(\"x3\")\n",
    "print(\"단, x3는 0 이외의 모든 실수이다.\")"
   ]
  },
  {
   "cell_type": "code",
   "execution_count": 99,
   "metadata": {},
   "outputs": [],
   "source": [
    "eigen_value = np.diag([3,2,1])\n",
    "eigen_vector = np.matrix([[1,1,0],[1,3,1],[0,5,3]]).T"
   ]
  },
  {
   "cell_type": "code",
   "execution_count": 100,
   "metadata": {},
   "outputs": [
    {
     "data": {
      "text/plain": [
       "array([[3, 0, 0],\n",
       "       [0, 2, 0],\n",
       "       [0, 0, 1]])"
      ]
     },
     "execution_count": 100,
     "metadata": {},
     "output_type": "execute_result"
    }
   ],
   "source": [
    "eigen_value"
   ]
  },
  {
   "cell_type": "code",
   "execution_count": 109,
   "metadata": {},
   "outputs": [
    {
     "data": {
      "text/plain": [
       "matrix([[1, 1, 0],\n",
       "        [1, 3, 5],\n",
       "        [0, 1, 3]])"
      ]
     },
     "execution_count": 109,
     "metadata": {},
     "output_type": "execute_result"
    }
   ],
   "source": [
    "eigen_vector"
   ]
  },
  {
   "cell_type": "markdown",
   "metadata": {},
   "source": [
    "이다"
   ]
  },
  {
   "cell_type": "markdown",
   "metadata": {},
   "source": [
    "# 3) 요르단 표준형"
   ]
  },
  {
   "cell_type": "markdown",
   "metadata": {},
   "source": [
    "## (1) 개요\n",
    " #### - 정석적인 방법으로 대각화가 이루어지지 않는 경우 고려할 수 있는 대안이다.\n",
    " #### - 주로, 고유공간을 구할 때 원공간의 Rank만큼 고유공간의 기저가 생성되지 않을때 채택할 수 있다.\n",
    " - 고윳값이 n중해를 가지고, 이 때 n개의 선형독립한 고유벡터가 생성되지 않을경우 기저가 하나 모자르게 된다.\n",
    " \n",
    " \n",
    " #### - 이 때, 요르단 분해는 유사 대각행렬의 역할을 하며, 어떤 정칙행렬 P에 대하여\n",
    " - Ax = y일때, (P^(-1) * J * P) * x = y로 분해할 수 있다.\n",
    " "
   ]
  },
  {
   "cell_type": "markdown",
   "metadata": {},
   "source": [
    "#### - 요르단 표준형은 다음의 형태를 띈다."
   ]
  },
  {
   "cell_type": "code",
   "execution_count": 156,
   "metadata": {},
   "outputs": [
    {
     "name": "stdout",
     "output_type": "stream",
     "text": [
      "[[3. 1. 0. 0. 0. 0. 0. 0. 0. 0.]\n",
      " [0. 3. 1. 0. 0. 0. 0. 0. 0. 0.]\n",
      " [0. 0. 3. 1. 0. 0. 0. 0. 0. 0.]\n",
      " [0. 0. 0. 3. 0. 0. 0. 0. 0. 0.]\n",
      " [0. 0. 0. 0. 3. 1. 0. 0. 0. 0.]\n",
      " [0. 0. 0. 0. 0. 3. 1. 0. 0. 0.]\n",
      " [0. 0. 0. 0. 0. 0. 3. 0. 0. 0.]\n",
      " [0. 0. 0. 0. 0. 0. 0. 5. 1. 0.]\n",
      " [0. 0. 0. 0. 0. 0. 0. 0. 5. 1.]\n",
      " [0. 0. 0. 0. 0. 0. 0. 0. 0. 5.]]\n"
     ]
    }
   ],
   "source": [
    "upper = np.vstack([np.hstack([a,np.zeros((4,3)),np.zeros((4,3))]),np.hstack([np.zeros((3,4)),b,np.zeros((3,3))])])\n",
    "J = np.vstack([upper,np.hstack([np.zeros((3,7)),c])])\n",
    "print(J)"
   ]
  },
  {
   "cell_type": "markdown",
   "metadata": {},
   "source": [
    "##### - 이 때, 특정한 규칙에 따라 요르단 행렬을 블록화 할 수 있는데,\n",
    "- 동일한 고윳값을 공유하면서(위에서 3과 5)\n",
    "- 그 비스듬한 요소에는 1이 들어간다.\n",
    "- 그리고, 구분점이 되는 지점에선 비스듬한 요소가 1 대신 0이 들어간다."
   ]
  },
  {
   "cell_type": "markdown",
   "metadata": {},
   "source": [
    "#### - 예를들어, 위 요르단 표준형은 다음과 같은 두개의 요르단 셀로 분해할 수 있다."
   ]
  },
  {
   "cell_type": "code",
   "execution_count": 138,
   "metadata": {},
   "outputs": [
    {
     "name": "stdout",
     "output_type": "stream",
     "text": [
      "첫 번째 요르단 셀\n",
      "[[3 1 0 0]\n",
      " [0 3 1 0]\n",
      " [0 0 3 1]\n",
      " [0 0 0 3]]\n",
      "두 번째 요르단 셀\n",
      "[[3 1 0]\n",
      " [0 3 1]\n",
      " [0 0 3]]\n",
      "세 번째 요르단 셀\n",
      "[[5 1 0]\n",
      " [0 5 1]\n",
      " [0 0 5]]\n"
     ]
    }
   ],
   "source": [
    "\n",
    "a = np.matrix([[3,1,0,0],[0,3,1,0],[0,0,3,1],[0,0,0,3]])\n",
    "b = np.matrix([[3,1,0],[0,3,1],[0,0,3]])\n",
    "c = np.matrix([[5,1,0],[0,5,1],[0,0,5]])\n",
    "print(\"첫 번째 요르단 셀\")\n",
    "print(a)\n",
    "print(\"두 번째 요르단 셀\")\n",
    "print(b)\n",
    "print(\"세 번째 요르단 셀\")\n",
    "print(c)\n"
   ]
  },
  {
   "cell_type": "markdown",
   "metadata": {},
   "source": [
    "### (2) 요르단 표준형의 성질"
   ]
  },
  {
   "cell_type": "markdown",
   "metadata": {},
   "source": [
    "#### - 각 셀의 행(열)수는 그 고윳값의 중복해의 갯수를 의미한다."
   ]
  },
  {
   "cell_type": "code",
   "execution_count": 149,
   "metadata": {},
   "outputs": [
    {
     "name": "stdout",
     "output_type": "stream",
     "text": [
      "[[5 1 0]\n",
      " [0 5 1]\n",
      " [0 0 5]]\n"
     ]
    }
   ],
   "source": [
    "print(c)"
   ]
  },
  {
   "cell_type": "markdown",
   "metadata": {},
   "source": [
    "- 에서, 고윳값 5의 중복해는 3개가 존재한다는것을 의미한다."
   ]
  },
  {
   "cell_type": "code",
   "execution_count": 151,
   "metadata": {},
   "outputs": [
    {
     "name": "stdout",
     "output_type": "stream",
     "text": [
      "[[3 1 0 0]\n",
      " [0 3 1 0]\n",
      " [0 0 3 1]\n",
      " [0 0 0 3]]\n",
      "[[3 1 0]\n",
      " [0 3 1]\n",
      " [0 0 3]]\n"
     ]
    }
   ],
   "source": [
    "print(a)\n",
    "print(b)"
   ]
  },
  {
   "cell_type": "markdown",
   "metadata": {},
   "source": [
    "- 에서, 고윳값 3의 중복해는 총 7개가 존재한다는것을 의미한다"
   ]
  },
  {
   "cell_type": "markdown",
   "metadata": {},
   "source": [
    "#### - 각 고윳값에 대응하는 셀의 수는 그 고유공간의 선형독립인 기저의 수를 의미한다."
   ]
  },
  {
   "cell_type": "code",
   "execution_count": 153,
   "metadata": {},
   "outputs": [
    {
     "name": "stdout",
     "output_type": "stream",
     "text": [
      "[[5 1 0]\n",
      " [0 5 1]\n",
      " [0 0 5]]\n"
     ]
    }
   ],
   "source": [
    "print(c)"
   ]
  },
  {
   "cell_type": "markdown",
   "metadata": {},
   "source": [
    "- 에서, 고윳값 5의 경우 선형독립인 고유기저는 하나만 존재한다는 것을 의미한다. \n",
    "- 즉, 3개의 중복해에 하나의 선형독립 고유벡터가 존재한다."
   ]
  },
  {
   "cell_type": "code",
   "execution_count": 154,
   "metadata": {},
   "outputs": [
    {
     "name": "stdout",
     "output_type": "stream",
     "text": [
      "[[3 1 0 0]\n",
      " [0 3 1 0]\n",
      " [0 0 3 1]\n",
      " [0 0 0 3]]\n",
      "[[3 1 0]\n",
      " [0 3 1]\n",
      " [0 0 3]]\n"
     ]
    }
   ],
   "source": [
    "print(a)\n",
    "print(b)"
   ]
  },
  {
   "cell_type": "markdown",
   "metadata": {},
   "source": [
    "- 란 특이 케이스에서, 고윳값 3의 경우, 선형독립인 고유기저는 두 개가 존재한다는 것을 의미한다. \n",
    "- 즉 7개의 중복해에 두 개의 선형독립 고유벡터가 존재한다."
   ]
  },
  {
   "cell_type": "markdown",
   "metadata": {},
   "source": [
    "#### - 요르단 표준형의 거듭제곱\n",
    "- 요르단 표준형의 한 셀은 다음과 같이 분리가 가능하다."
   ]
  },
  {
   "cell_type": "code",
   "execution_count": 161,
   "metadata": {},
   "outputs": [
    {
     "name": "stdout",
     "output_type": "stream",
     "text": [
      "[[3. 1. 0. 0.]\n",
      " [0. 3. 1. 0.]\n",
      " [0. 0. 3. 1.]\n",
      " [0. 0. 0. 3.]]\n"
     ]
    }
   ],
   "source": [
    "z = np.matrix([[0,1,0,0],[0,0,1,0],[0,0,0,1],[0,0,0,0]])\n",
    "print(3 * np.identity(4) + z)"
   ]
  },
  {
   "cell_type": "markdown",
   "metadata": {},
   "source": [
    "- 이 때, z는 다음과 같다."
   ]
  },
  {
   "cell_type": "code",
   "execution_count": 162,
   "metadata": {},
   "outputs": [
    {
     "name": "stdout",
     "output_type": "stream",
     "text": [
      "[[0 1 0 0]\n",
      " [0 0 1 0]\n",
      " [0 0 0 1]\n",
      " [0 0 0 0]]\n"
     ]
    }
   ],
   "source": [
    "print(z)"
   ]
  },
  {
   "cell_type": "markdown",
   "metadata": {},
   "source": [
    "- z를 거듭제곱하면 신기한 형태를 관찰할 수 있다."
   ]
  },
  {
   "cell_type": "code",
   "execution_count": 165,
   "metadata": {},
   "outputs": [
    {
     "name": "stdout",
     "output_type": "stream",
     "text": [
      "2제곱\n",
      "[[0 0 1 0]\n",
      " [0 0 0 1]\n",
      " [0 0 0 0]\n",
      " [0 0 0 0]]\n",
      "3제곱\n",
      "[[0 0 0 1]\n",
      " [0 0 0 0]\n",
      " [0 0 0 0]\n",
      " [0 0 0 0]]\n",
      "4제곱\n",
      "[[0 0 0 0]\n",
      " [0 0 0 0]\n",
      " [0 0 0 0]\n",
      " [0 0 0 0]]\n"
     ]
    }
   ],
   "source": [
    "print(\"2제곱\")\n",
    "print(z ** 2)\n",
    "print(\"3제곱\")\n",
    "print(z ** 3)\n",
    "print(\"4제곱\")\n",
    "print(z ** 4)"
   ]
  },
  {
   "cell_type": "markdown",
   "metadata": {},
   "source": [
    "- 즉, 유사 대각인 1 성분들이 점점 우상단으로 밀려나다가, 모두 밀려나면 0행렬이 된다."
   ]
  },
  {
   "cell_type": "markdown",
   "metadata": {},
   "source": [
    "- J = aI + z에서. J^2을 하면(단, a는 해당 셀의 고윳값)\n",
    "- J^2 = (aI + z)^2 = a^2I + 2aZ + z^2"
   ]
  },
  {
   "cell_type": "code",
   "execution_count": 174,
   "metadata": {},
   "outputs": [
    {
     "name": "stdout",
     "output_type": "stream",
     "text": [
      "a^2I\n",
      "[[9. 0. 0. 0.]\n",
      " [0. 9. 0. 0.]\n",
      " [0. 0. 9. 0.]\n",
      " [0. 0. 0. 9.]]\n",
      "2a*z\n",
      "[[0 6 0 0]\n",
      " [0 0 6 0]\n",
      " [0 0 0 6]\n",
      " [0 0 0 0]]\n",
      "z^2\n",
      "[[0 0 1 0]\n",
      " [0 0 0 1]\n",
      " [0 0 0 0]\n",
      " [0 0 0 0]]\n",
      "선형결합\n",
      "[[9. 6. 1. 0.]\n",
      " [0. 9. 6. 1.]\n",
      " [0. 0. 9. 6.]\n",
      " [0. 0. 0. 9.]]\n"
     ]
    }
   ],
   "source": [
    "# 요르단 표준형의 거듭제곱\n",
    "\n",
    "print(\"a^2I\")\n",
    "print(3**2 * np.identity(4))\n",
    "print(\"2a*z\")\n",
    "print(2*3*z)\n",
    "print(\"z^2\")\n",
    "print(z**2)\n",
    "print(\"선형결합\")\n",
    "print(3**2 * np.identity(4) + 2*3*z + z**2)"
   ]
  },
  {
   "cell_type": "markdown",
   "metadata": {},
   "source": [
    "- J = aI + z에서. J^3을 하면(단, a는 해당 셀의 고윳값)\n",
    "- J^3 = (aI + z)^3 = (a^3I) + (3 * a^2 * z) + (3 * a * z^2) + (z^3)"
   ]
  },
  {
   "cell_type": "code",
   "execution_count": 183,
   "metadata": {},
   "outputs": [
    {
     "name": "stdout",
     "output_type": "stream",
     "text": [
      "a^3I\n",
      "[[27.  0.  0.  0.]\n",
      " [ 0. 27.  0.  0.]\n",
      " [ 0.  0. 27.  0.]\n",
      " [ 0.  0.  0. 27.]]\n",
      "3* a^2 * z\n",
      "[[ 0 27  0  0]\n",
      " [ 0  0 27  0]\n",
      " [ 0  0  0 27]\n",
      " [ 0  0  0  0]]\n",
      "3 * a * z^2\n",
      "[[0 0 9 0]\n",
      " [0 0 0 9]\n",
      " [0 0 0 0]\n",
      " [0 0 0 0]]\n",
      "z^3\n",
      "[[0 0 0 1]\n",
      " [0 0 0 0]\n",
      " [0 0 0 0]\n",
      " [0 0 0 0]]\n",
      "선형결합\n",
      "[[27. 27.  9.  1.]\n",
      " [ 0. 27. 27.  9.]\n",
      " [ 0.  0. 27. 27.]\n",
      " [ 0.  0.  0. 27.]]\n"
     ]
    }
   ],
   "source": [
    "print(\"a^3I\")\n",
    "print(3**3 * np.identity(4))\n",
    "print(\"3* a^2 * z\")\n",
    "print(3 * (3 ** 2) * z)\n",
    "print(\"3 * a * z^2\")\n",
    "print(3 * 3 * (z ** 2))\n",
    "print(\"z^3\")\n",
    "print(z ** 3)\n",
    "print(\"선형결합\")\n",
    "print(3**3 * np.identity(4) + 3 * (3 ** 2) * z + 3 * 3 * (z ** 2) + z ** 3)"
   ]
  },
  {
   "cell_type": "markdown",
   "metadata": {},
   "source": [
    "- J = aI + z에서. J^4을 하면(단, a는 해당 셀의 고윳값)\n",
    "- J^4 = (aI + z)^4 = (a^4I) + (4 * a^3 * z) + (6 * a^2 * z^2) + (4 * a * z^3) + (z^4)"
   ]
  },
  {
   "cell_type": "code",
   "execution_count": 189,
   "metadata": {},
   "outputs": [
    {
     "name": "stdout",
     "output_type": "stream",
     "text": [
      "a^4I\n",
      "[[81.  0.  0.  0.]\n",
      " [ 0. 81.  0.  0.]\n",
      " [ 0.  0. 81.  0.]\n",
      " [ 0.  0.  0. 81.]]\n",
      "4 * a^3 * z\n",
      "[[  0 108   0   0]\n",
      " [  0   0 108   0]\n",
      " [  0   0   0 108]\n",
      " [  0   0   0   0]]\n",
      "6 * a^2 * z^2\n",
      "[[ 0  0 54  0]\n",
      " [ 0  0  0 54]\n",
      " [ 0  0  0  0]\n",
      " [ 0  0  0  0]]\n",
      "4 * a * z^3\n",
      "[[ 0  0  0 12]\n",
      " [ 0  0  0  0]\n",
      " [ 0  0  0  0]\n",
      " [ 0  0  0  0]]\n",
      "z ^4(영행렬)\n",
      "[[0 0 0 0]\n",
      " [0 0 0 0]\n",
      " [0 0 0 0]\n",
      " [0 0 0 0]]\n",
      "선형결합\n",
      "[[ 81. 108.  54.  12.]\n",
      " [  0.  81. 108.  54.]\n",
      " [  0.   0.  81. 108.]\n",
      " [  0.   0.   0.  81.]]\n"
     ]
    }
   ],
   "source": [
    "print(\"a^4I\")\n",
    "print(3 ** 4 * np.identity(4))\n",
    "print(\"4 * a^3 * z\")\n",
    "print(4 * (3 ** 3) * z)\n",
    "print(\"6 * a^2 * z^2\")\n",
    "print(6 * (3 ** 2) * (z ** 2))\n",
    "print(\"4 * a * z^3\")\n",
    "print( 4 * 3 * (z ** 3))\n",
    "print(\"z ^4(영행렬)\")\n",
    "print( z ** 4)\n",
    "print(\"선형결합\")\n",
    "print(3 ** 4 * np.identity(4) + 4 * (3 ** 3) * z + 6 * (3 ** 2) * (z ** 2) + 4 * 3 * (z ** 3) + z ** 4)"
   ]
  },
  {
   "cell_type": "markdown",
   "metadata": {},
   "source": [
    "이상을 보면, 어떤 패턴을 확인할 수 있다.\n",
    "\n",
    "- 거듭제곱 행렬의 첫번째 대각성분은 고윳값 ^ (거듭제곱수) 이다.\n",
    "- 거듭제곱 행렬의 두번째 대각성분은 (거듭제곱수) * 고윳값 ^ (거듭제곱수 - 1) * z행렬\n",
    "- 거듭제곱 행렬의 세번째 대각성분은 (거듭제곱수)C(2) * 고윳값 ^ (거듭제곱수 - 2) * z행렬^2 (단, (a)C(b) 는 a개에서 b개를 뽑는 조합)\n",
    "- 거듭제곱 행렬의 네번째 대각성분은 (거듭제곱수)C(3) * 고윳값^(거듭제곱수 - 3) * z행렬^3"
   ]
  },
  {
   "cell_type": "markdown",
   "metadata": {},
   "source": [
    "위를 일반화하면 다음과 같다.\n",
    "\n",
    "- 거듭제곱 행렬의 첫번째 대각성분은 고윳값 ^ (거듭제곱수)이다.\n",
    "- 거듭제곱 행렬의 두번째 대각성분은 (거듭제곱수) * 고윳값 ^ (거듭제곱수 -1) * z행렬\n",
    "- 거듭제곱 행렬의 s번째 대각성분은 (거듭제곱수)C(s) * 고윳값 ^ (거듭제곱수 - s) * z행렬^s"
   ]
  },
  {
   "cell_type": "markdown",
   "metadata": {},
   "source": [
    "위를 다른 형태로 변환하면 더 흥미로운 형식이 된다.\n",
    "\n",
    "- f(a) = a^t. 즉 고윳값을 t제곱하는 함수를 정의하자.\n",
    "- d(s,f(a)) 를 f(a)를 s번 미분하는 함수라고 정의할 때, 일반화한 요르단 행렬의 모습은"
   ]
  },
  {
   "cell_type": "code",
   "execution_count": 208,
   "metadata": {},
   "outputs": [
    {
     "name": "stdout",
     "output_type": "stream",
     "text": [
      "[['f(a)' 'd(1,f(a))' '(1/2) * d(2,f(a))' '(1/3!) * d(3,f(a)' '...'\n",
      "  '1/(s-1) * d(s-1,f(a))']\n",
      " ['0' 'f(a)' 'd(1,f(a))' '(1/2) * d(2,f(a))' '...'\n",
      "  '1/(s-2) * d(s-2,f(a))']\n",
      " ['0' '0' 'f(a)' '(1/2) * d(2,f(a)),' '...' '1/(s-3) * d(s-3,f(a))']\n",
      " ['0' '0' '0' 'f(a)' '...' '1/(s-4) * d(s-4,f(a))']]\n"
     ]
    }
   ],
   "source": [
    "row_1 = np.array([\"f(a)\",\"d(1,f(a))\",\"(1/2) * d(2,f(a))\",\"(1/3!) * d(3,f(a)\",\"...\",\"1/(s-1) * d(s-1,f(a))\"])\n",
    "row_2 = np.array([\"0\",\"f(a)\",\"d(1,f(a))\",\"(1/2) * d(2,f(a))\",\"...\",\"1/(s-2) * d(s-2,f(a))\"])\n",
    "row_3 = np.array([\"0\",\"0\",\"f(a)\",\"(1/2) * d(2,f(a)),\",\"...\",\"1/(s-3) * d(s-3,f(a))\"])\n",
    "row_4 = np.array([\"0\",\"0\",\"0\",\"f(a)\",\"...\",\"1/(s-4) * d(s-4,f(a))\"])\n",
    "\n",
    "print(np.matrix([row_1,row_2,row_3,row_4]))"
   ]
  },
  {
   "cell_type": "markdown",
   "metadata": {},
   "source": [
    "각 행(row)만 봤을때, row의 각 요소들은 테일러 전개에서 각 항의 Parameter를 따서 입력한것과 같은 꼴이다.\n",
    "즉, 이 상삼각행렬의 각 요소들은 테일러전개의 Parameter를 값으로 갖는다."
   ]
  },
  {
   "cell_type": "markdown",
   "metadata": {},
   "source": [
    "# 3) 총 정리 예제"
   ]
  },
  {
   "cell_type": "markdown",
   "metadata": {},
   "source": [
    "### (1) 어떤 자기회귀(AR)모델이 다음과 같이 정의되었다.\n",
    " - y(t) = -0.5y(t-1) + 0.34y(t-2) + 0.08y(t-3) + 2u(t)\n",
    " - 초기조건 y(0) = 0.78, y(-1) = 0.8, y(-2) = 1.5"
   ]
  },
  {
   "cell_type": "code",
   "execution_count": 90,
   "metadata": {},
   "outputs": [],
   "source": [
    "def init_x(t):\n",
    "    if t == 0:\n",
    "        y_1 = 0.8\n",
    "        y_2 = 1.5\n",
    "        y_3 = (0.78+0.5*(0.8) - 0.34*(1.5))/0.08\n",
    "        return ([y_1,y_2,y_3])"
   ]
  },
  {
   "cell_type": "code",
   "execution_count": 91,
   "metadata": {},
   "outputs": [
    {
     "name": "stdout",
     "output_type": "stream",
     "text": [
      "[[-0.5   0.34  0.08]\n",
      " [ 1.    0.    0.  ]\n",
      " [ 0.    1.    0.  ]]\n"
     ]
    }
   ],
   "source": [
    "A = np.matrix([[-0.5,0.34,0.08],[1,0,0],[0,1,0]])\n",
    "x = np.matrix(init_x(0)).T\n",
    "print(A)"
   ]
  },
  {
   "cell_type": "markdown",
   "metadata": {},
   "source": [
    "- 위 방정식의 경우, A와 x를 내적하면 "
   ]
  },
  {
   "cell_type": "code",
   "execution_count": 92,
   "metadata": {
    "scrolled": false
   },
   "outputs": [
    {
     "data": {
      "text/plain": [
       "matrix([[0.78],\n",
       "        [0.8 ],\n",
       "        [1.5 ]])"
      ]
     },
     "execution_count": 92,
     "metadata": {},
     "output_type": "execute_result"
    }
   ],
   "source": [
    "np.dot(A,x) # 이것이 t=0일때의 초깃값 y_1, y_2, y_3이다."
   ]
  },
  {
   "cell_type": "code",
   "execution_count": 98,
   "metadata": {
    "scrolled": true
   },
   "outputs": [
    {
     "name": "stdout",
     "output_type": "stream",
     "text": [
      "행렬 A의 고윳값 :  \n",
      " [-0.8  0.5 -0.2]\n",
      "행렬 A의 고유벡터 :  \n",
      " [[-0.447039   -0.21821789  0.03919309]\n",
      " [ 0.55879876 -0.43643578 -0.19596545]\n",
      " [-0.69849845 -0.87287156  0.97982725]]\n"
     ]
    }
   ],
   "source": [
    "# 행렬 A를 고유분해하면\n",
    "\n",
    "A_eig = np.linalg.eig(A)\n",
    "print(\"행렬 A의 고윳값 : \",\"\\n\",A_eig[0])\n",
    "print(\"행렬 A의 고유벡터 : \",\"\\n\",A_eig[1])"
   ]
  },
  {
   "cell_type": "code",
   "execution_count": 117,
   "metadata": {},
   "outputs": [
    {
     "data": {
      "text/plain": [
       "array([[0., 0., 0.],\n",
       "       [0., 0., 0.],\n",
       "       [0., 0., 0.]])"
      ]
     },
     "execution_count": 117,
     "metadata": {},
     "output_type": "execute_result"
    }
   ],
   "source": [
    "#이 계의 고윳값 대각행렬의 안정값은\n",
    "np.diag(A_eig[0]) ** np.inf"
   ]
  },
  {
   "cell_type": "code",
   "execution_count": 118,
   "metadata": {},
   "outputs": [],
   "source": [
    "# 이므로, 모두 0이기 때문에 궁극적으로 발산하지 않고 수렴한다."
   ]
  }
 ],
 "metadata": {
  "kernelspec": {
   "display_name": "Python 3",
   "language": "python",
   "name": "python3"
  },
  "language_info": {
   "codemirror_mode": {
    "name": "ipython",
    "version": 3
   },
   "file_extension": ".py",
   "mimetype": "text/x-python",
   "name": "python",
   "nbconvert_exporter": "python",
   "pygments_lexer": "ipython3",
   "version": "3.7.0"
  }
 },
 "nbformat": 4,
 "nbformat_minor": 2
}
