{
 "cells": [
  {
   "cell_type": "code",
   "execution_count": 5,
   "metadata": {},
   "outputs": [],
   "source": [
    "import numpy as np\n",
    "import matplotlib.pyplot as plt\n",
    "from mpl_toolkits import mplot3d"
   ]
  },
  {
   "cell_type": "markdown",
   "metadata": {},
   "source": [
    "# 7. 고윳값 계산 알고리즘"
   ]
  },
  {
   "cell_type": "markdown",
   "metadata": {},
   "source": [
    "## 1) 야코비 회전법"
   ]
  },
  {
   "cell_type": "markdown",
   "metadata": {},
   "source": [
    "### (1) 개요\n",
    "#### - 야코비 회전행렬을 누적해서 곱해 행렬을 대각행렬로 수렴하게하는 알고리즘이다.\n",
    "#### - 단, 이때 알고리즘의 대상 행렬은 n * n의 실대칭행렬이어야 한다."
   ]
  },
  {
   "cell_type": "markdown",
   "metadata": {},
   "source": [
    "### (2) 야코비 회전행렬의 특성"
   ]
  },
  {
   "cell_type": "markdown",
   "metadata": {},
   "source": [
    "#### - 야코비 회전행렬의 모양"
   ]
  },
  {
   "cell_type": "markdown",
   "metadata": {},
   "source": [
    "- 대각성분은 1과 삼각함수이다.\n",
    "- 지정된 숫자에 해당하는 행과 열의 교차 성분에 삼각함수가 들어간다.\n",
    "- ex) R(2,4,k)인 야코비 회전행렬이라면, 이 행렬의 (2,2), (2,4), (4,2), (4,4) 성분에 삼각함수가 들어간다.\n",
    "- 각 교차 성분에 들어가는 삼각함수는, 시계 반대방향으로 Cos -> Sin -> Cos -> (-sin)이다. (코 -> 싸 -> 코 -> 마싸)"
   ]
  },
  {
   "cell_type": "code",
   "execution_count": 3,
   "metadata": {},
   "outputs": [
    {
     "name": "stdout",
     "output_type": "stream",
     "text": [
      "[['cos(k)' '-sin(k)' '0']\n",
      " ['sin(k)' 'cos(k)' '0']\n",
      " ['0' '0' '1']]\n"
     ]
    }
   ],
   "source": [
    "# R(1,2,k)의 야코비 회전행렬은 다음과 같다.\n",
    "\n",
    "print(np.matrix([[\"cos(k)\",\"-sin(k)\",0],[\"sin(k)\",\"cos(k)\",0],[0,0,1]]))"
   ]
  },
  {
   "cell_type": "code",
   "execution_count": 4,
   "metadata": {},
   "outputs": [
    {
     "name": "stdout",
     "output_type": "stream",
     "text": [
      "[['1' 'cos(k)' '-sin(k)']\n",
      " ['0' 'sin(k)' 'cos(k)']\n",
      " ['0' '0' '1']]\n"
     ]
    }
   ],
   "source": [
    "# R(2,3,k)의 야코비 회전행렬은 다음과 같다.\n",
    "\n",
    "print(np.matrix([[1,\"cos(k)\",\"-sin(k)\"],[0,\"sin(k)\",\"cos(k)\"],[0,0,1]]))"
   ]
  },
  {
   "cell_type": "code",
   "execution_count": 5,
   "metadata": {},
   "outputs": [
    {
     "name": "stdout",
     "output_type": "stream",
     "text": [
      "[['cos(k)' '0' '-sin(k)']\n",
      " ['0' '1' '0']\n",
      " ['sin(k)' '0' 'cos(k)']]\n"
     ]
    }
   ],
   "source": [
    "# R(1,3,k)의 야코비 회전행렬은 다음과 같다.\n",
    "\n",
    "print(np.matrix([[\"cos(k)\",0,\"-sin(k)\"],[0,1,0],[\"sin(k)\",0,\"cos(k)\"]]))"
   ]
  },
  {
   "cell_type": "markdown",
   "metadata": {},
   "source": [
    "#### - 야코비 회전행렬은 직교기저행렬이다."
   ]
  },
  {
   "cell_type": "markdown",
   "metadata": {},
   "source": [
    "R(k)와 그 전치행렬인 R(k)^T를 정의하자. 그 둘을 내적하면\n",
    "\n",
    "R(k) * R(k)^T \n",
    "\n",
    "= [[\"cos(k)\",\"-sin(k)\"],[\"sin(k)\",\"cos(k)\"]] * [[\"cos(k)\",\"sin(k)\"],[\"-sin(k)\",\"cos(k)\"]] \n",
    "\n",
    "= [[\"cos^2(k) + sin^2(k)\", \"cos(k)sin(k) - sin(k)cos(k)\"],[\"cos(k)sin(k) - sin(k)cos(k)\",\"sin^2(k) + cos^2(k)]]\n",
    "\n",
    "= [[1,0],[0,1]] = I\n",
    "\n",
    "즉, R(k)^T = R(k)^(-1)과 같고, 이는 직교행렬임을 의미한다."
   ]
  },
  {
   "cell_type": "markdown",
   "metadata": {},
   "source": [
    "#### - 야코비 회전행렬의 변환"
   ]
  },
  {
   "cell_type": "code",
   "execution_count": null,
   "metadata": {},
   "outputs": [],
   "source": [
    "k = np.pi/2 # 90도 회전을 가정한다.\n",
    "j = 0\n",
    "\n",
    "jacob = np.matrix(np.identity(shape))\n",
    "jacob[j,j] = np.cos(k)\n",
    "jacob[j,j+1] = np.sin(k)\n",
    "jacob[j+1,j+1] = np.cos(k)\n",
    "jacob[j+1,j] = -np.sin(k)"
   ]
  },
  {
   "cell_type": "code",
   "execution_count": 586,
   "metadata": {},
   "outputs": [],
   "source": [
    "A = np.random.randn(4,4).round()"
   ]
  },
  {
   "cell_type": "code",
   "execution_count": 588,
   "metadata": {},
   "outputs": [
    {
     "name": "stdout",
     "output_type": "stream",
     "text": [
      "[[-1.  1. -2.  0.]\n",
      " [-0.  0.  1.  1.]\n",
      " [-1. -0. -1.  1.]\n",
      " [-1. -2.  0. -2.]]\n"
     ]
    }
   ],
   "source": [
    "print(A) #원래 행렬"
   ]
  },
  {
   "cell_type": "code",
   "execution_count": 590,
   "metadata": {},
   "outputs": [
    {
     "data": {
      "text/plain": [
       "matrix([[-0.,  0., -1., -1.],\n",
       "        [-1.,  1., -2.,  0.],\n",
       "        [-1.,  0., -1.,  1.],\n",
       "        [-1., -2.,  0., -2.]])"
      ]
     },
     "execution_count": 590,
     "metadata": {},
     "output_type": "execute_result"
    }
   ],
   "source": [
    "np.matmul(jacob.T,A).round()"
   ]
  },
  {
   "cell_type": "markdown",
   "metadata": {},
   "source": [
    "- 원래 행렬과 비교해 봤을 때, 행렬의 좌상단 2*2 블록행렬의 순서가 바뀌고, 우상단 2*2 블록행렬은 부호가 교환되며 바뀐것을확인할 수 있다. \n",
    "- 즉, 기저가 90도 회전했다."
   ]
  },
  {
   "cell_type": "code",
   "execution_count": 6,
   "metadata": {},
   "outputs": [],
   "source": [
    "k = np.pi/3 #라고 할 때\n",
    "X = np.array([0.7,0.7,0.7])"
   ]
  },
  {
   "cell_type": "code",
   "execution_count": 7,
   "metadata": {},
   "outputs": [
    {
     "name": "stdout",
     "output_type": "stream",
     "text": [
      "[[ 0.5        0.        -0.8660254]\n",
      " [ 0.         1.         0.       ]\n",
      " [ 0.8660254  0.         0.5      ]]\n"
     ]
    }
   ],
   "source": [
    "# R(1,3,k) 야코비 회전행렬의 경우\n",
    "R = np.matrix([[np.cos(k),0,-np.sin(k)],[0,1,0],[np.sin(k),0,np.cos(k)]])\n",
    "print(R)"
   ]
  },
  {
   "cell_type": "code",
   "execution_count": 8,
   "metadata": {},
   "outputs": [
    {
     "name": "stdout",
     "output_type": "stream",
     "text": [
      "[[ 0.5        0.        -0.8660254]\n",
      " [ 0.         1.         0.       ]\n",
      " [ 0.8660254  0.         0.5      ]]\n"
     ]
    }
   ],
   "source": [
    "#야코비 변환행렬로 기저변환\n",
    "\n",
    "RI = np.matmul(R,np.identity(3).T)\n",
    "print(RI)"
   ]
  },
  {
   "cell_type": "code",
   "execution_count": 9,
   "metadata": {},
   "outputs": [
    {
     "name": "stdout",
     "output_type": "stream",
     "text": [
      "[[ 0.95621778  0.7        -0.25621778]]\n"
     ]
    }
   ],
   "source": [
    "# X를 새로운 기저에 삽입\n",
    "\n",
    "Rx = np.dot(R.T,X)\n",
    "print(Rx)"
   ]
  },
  {
   "cell_type": "code",
   "execution_count": 10,
   "metadata": {},
   "outputs": [
    {
     "data": {
      "image/png": "[encoded data removed]",
      "text/plain": [
       "<Figure size 1440x720 with 2 Axes>"
      ]
     },
     "metadata": {
      "needs_background": "light"
     },
     "output_type": "display_data"
    }
   ],
   "source": [
    "# 표준 기저에서의 3D형태\n",
    "\n",
    "plt.figure(figsize = (20,10))\n",
    "fig_1 = plt.subplot(1,2,1,projection=\"3d\",xlim=(0,1),ylim=(-0.2,1),zlim=(-1,1.5))\n",
    "fig_2 = plt.subplot(1,2,2,projection=\"3d\",xlim=(0,1),ylim=(-0.2,1),zlim=(-1,1.5))\n",
    "\n",
    "first = np.linspace(0,1,1000)\n",
    "second = np.linspace(0,0,1000)\n",
    "third = np.linspace(0,0,1000)\n",
    "\n",
    "fig_1.plot3D(first,second,third,c=\"b\")\n",
    "fig_1.plot3D(second,first,third,c=\"b\")\n",
    "fig_1.plot3D(third,second,first,c=\"b\")\n",
    "\n",
    "fig_1.scatter3D(X[0],X[1],X[2],marker=\"o\",c=\"g\",label = \"Vector X\")\n",
    "\n",
    "fig_2.plot3D(first,second,third,c=\"b\",alpha=0.5)\n",
    "fig_2.plot3D(second,first,third,c=\"b\",alpha=0.5)\n",
    "fig_2.plot3D(third,second,first,c=\"b\",alpha=0.5)\n",
    "\n",
    "x = np.linspace(0,RI[0,0],1000)\n",
    "x_y = np.linspace(0,RI[0,1],1000)\n",
    "x_z = np.linspace(0,RI[0,2],1000)\n",
    "\n",
    "y_x = np.linspace(0,RI[1,0],1000)\n",
    "y = np.linspace(0,RI[1,1],1000)\n",
    "y_z = np.linspace(0,RI[1,2],1000)\n",
    "\n",
    "z_x = np.linspace(0,RI[2,0],1000)\n",
    "z_y = np.linspace(0,RI[2,1],1000)\n",
    "z = np.linspace(0,RI[2,2],1000)\n",
    "\n",
    "fig_2.plot3D(x,x_y,x_z,c=\"r\")\n",
    "fig_2.plot3D(y_x,y,y_z,c=\"r\",alpha=0.5)\n",
    "fig_2.plot3D(z_x,z_y,z,c=\"r\")\n",
    "\n",
    "fig_2.scatter3D(X[0],X[1],X[2],marker=\"o\",c=\"g\",label = \"Vector X_original\")\n",
    "fig_2.scatter3D(Rx[0,0],Rx[0,1],Rx[0,2],marker=\"o\",c=\"r\",label = \"Vector X_jacob\")\n",
    "\n",
    "fig_1.legend()\n",
    "fig_1.view_init(20,15)\n",
    "fig_2.legend()\n",
    "fig_2.view_init(20,15)\n",
    "\n",
    "plt.show()"
   ]
  },
  {
   "cell_type": "markdown",
   "metadata": {},
   "source": [
    "야코비 변환행렬로 기저변환된 우측 공간을 확인해보면, 벡터 X = (0.7,0.7,0.7)이 변환된 기저에 따라 X = (0.956, 0.7, -0.256)로 변환됬음을 볼 수 있다.\n",
    "\n",
    "그러나, Y축은 X,Z와는 달리 변환이 되지 않은것을 확인할 수 있다.\n",
    "\n",
    "이는, 야코비 변환행렬이 Y축 성분에 해당하는 2열이 [0,1,0]으로 변환하지 않았기 때문이다."
   ]
  },
  {
   "cell_type": "markdown",
   "metadata": {},
   "source": [
    "### (3) 야코비 회전법 알고리즘"
   ]
  },
  {
   "cell_type": "code",
   "execution_count": 355,
   "metadata": {},
   "outputs": [
    {
     "name": "stdout",
     "output_type": "stream",
     "text": [
      "[[7 1 2]\n",
      " [1 2 1]\n",
      " [2 1 7]]\n",
      "[[7 1 2]\n",
      " [1 2 1]\n",
      " [2 1 7]]\n"
     ]
    }
   ],
   "source": [
    "#실대칭행렬\n",
    "\n",
    "K = np.matrix([[7,1,2],[1,2,1],[2,1,7]])\n",
    "print(K)\n",
    "print(K.T) #를 정의하자"
   ]
  },
  {
   "cell_type": "code",
   "execution_count": 332,
   "metadata": {},
   "outputs": [
    {
     "name": "stdout",
     "output_type": "stream",
     "text": [
      "2\n"
     ]
    }
   ],
   "source": [
    "# 가장 값이 큰 비대각 요소값(no 대각요소값!) 을 찾는다.\n",
    "\n",
    "\n",
    "## 대각 요소를 0으로 만든다.(비대각 요소만 추출하기 위함이다)\n",
    "K_n_diag = K - np.identity(3) * np.diag(K)\n",
    "\n",
    "## 비대각 요소중 가장 큰 값을 찾아 그 행과 열의 값을 참조한다.\n",
    "row_max = np.where(K_n_diag == np.argmax(K_n_diag))[0][0]\n",
    "col_max = np.where(K_n_diag == np.argmax(K_n_diag))[0][1]\n",
    "\n",
    "print(K[row_max,col_max])"
   ]
  },
  {
   "cell_type": "code",
   "execution_count": 333,
   "metadata": {},
   "outputs": [],
   "source": [
    "## 비대각 요소중 가장 큰 값을, 대각성분의 합으로 나눈 값의 역탄젠트값을 각 K로 활용한다.\n",
    "\n",
    "k = (1/2) * np.arctan((2*K[col_max,row_max])/(K[col_max,col_max] + K[row_max,row_max]))"
   ]
  },
  {
   "cell_type": "code",
   "execution_count": 334,
   "metadata": {},
   "outputs": [
    {
     "name": "stdout",
     "output_type": "stream",
     "text": [
      "[[ 0.99033427  0.         -0.13870121]\n",
      " [ 0.          1.          0.        ]\n",
      " [ 0.13870121  0.          0.99033427]]\n"
     ]
    }
   ],
   "source": [
    "#row_max를 p로, col_max를 q로 놓는다.\n",
    "\n",
    "a = np.min([row_max,col_max])\n",
    "b = np.max([row_max,col_max])\n",
    "\n",
    "jacob = np.identity(3)\n",
    "jacob[a,a] = np.cos(k)\n",
    "jacob[b,a] = np.sin(k)\n",
    "jacob[b,b] = np.cos(k)\n",
    "jacob[a,b] = -np.sin(k)\n",
    "\n",
    "print(jacob)"
   ]
  },
  {
   "cell_type": "code",
   "execution_count": 335,
   "metadata": {},
   "outputs": [
    {
     "data": {
      "text/plain": [
       "matrix([[7.20974234, 1.12903549, 2.95157703],\n",
       "        [1.        , 2.        , 1.        ],\n",
       "        [1.00976006, 0.85163306, 6.65493749]])"
      ]
     },
     "execution_count": 335,
     "metadata": {},
     "output_type": "execute_result"
    }
   ],
   "source": [
    "#(p행 q열), 혹은 (p열 q행) 혹은 (p행 p열), (q행 q열)의 값만 영향을 받는 것을 확인할 수 있다.\n",
    "\n",
    "np.matmul(jacob.T,K)"
   ]
  },
  {
   "cell_type": "code",
   "execution_count": 353,
   "metadata": {},
   "outputs": [
    {
     "data": {
      "text/plain": [
       "matrix([[ 9.,  0., -0.],\n",
       "        [ 0.,  5.,  0.],\n",
       "        [-0.,  0.,  2.]])"
      ]
     },
     "execution_count": 353,
     "metadata": {},
     "output_type": "execute_result"
    }
   ],
   "source": [
    "# 반복 알고리즘\n",
    "\n",
    "\n",
    "shape = K.shape[0]\n",
    "\n",
    "for i in range(0,10000):\n",
    "    ## 대각 요소를 0으로 만든다.\n",
    "    K_n_diag = K - np.identity(shape) * np.diag(K)\n",
    "\n",
    "    ## 비대각 요소중 가장 큰 값을 찾아 그 행과 열의 값을 참조한다.\n",
    "    row_max = np.where(K_n_diag == np.max(K_n_diag))[0][0]\n",
    "    col_max = np.where(K_n_diag == np.max(K_n_diag))[1][0]\n",
    "\n",
    "    ## 각도를 갱신하는 부분\n",
    "\n",
    "    k = (1/2) * np.arctan((2*K[col_max,row_max])/(K[col_max,col_max] + K[row_max,row_max]))\n",
    "\n",
    "    a = np.min([row_max,col_max])\n",
    "    b = np.max([row_max,col_max])\n",
    "\n",
    "    ## 야코비 회전행렬을 만든다.\n",
    "\n",
    "    jacob = np.matrix(np.identity(shape))\n",
    "    jacob[a,a] = np.cos(k)\n",
    "    jacob[b,a] = np.sin(k)\n",
    "    jacob[b,b] = np.cos(k)\n",
    "    jacob[a,b] = -np.sin(k)\n",
    "\n",
    "\n",
    "    temp = np.matmul(jacob.T,K)\n",
    "    K = np.matmul(temp,jacob)\n",
    "\n",
    "K.round()"
   ]
  },
  {
   "cell_type": "markdown",
   "metadata": {},
   "source": [
    "## 2) QR법"
   ]
  },
  {
   "cell_type": "markdown",
   "metadata": {},
   "source": [
    "### (1) 개요\n",
    "#### - 개요 그람 슈미트 정규직교기저를 열벡터로 가지는 행렬 Q와\n",
    "#### - 정규직교기저화를 실시하면서 나타나는 pn = (1/rnn)qn - (rkj)qn-1 - ... 의 계수 (rnn, rkj)를 모은 상삼각행렬 R로 분해하는 방법을 QR분해라고 한다."
   ]
  },
  {
   "cell_type": "markdown",
   "metadata": {},
   "source": [
    "### (2) 그람-슈미트 정규 직교화"
   ]
  },
  {
   "cell_type": "markdown",
   "metadata": {},
   "source": [
    "#### - 순서는 다음과 같다.\n",
    "\n",
    "- q1 = p1/|p1|, 단 p1 = a1 \n",
    "- q2 = p2/|p2|, 단 p2 = a2 - (a2 * q1) * q1\n",
    "- q3 = p3/|p3|, 단 p3 = a3 - (a3 * q1) * q1 - (a3 * q2) * q2\n",
    "- ...\n",
    "- 즉, 각 기저를 각 직교기저에 정사영 후 빼줌으로서 각 기저별로 조금씩 정규직교기저로 만들어가는 과정이다."
   ]
  },
  {
   "cell_type": "markdown",
   "metadata": {},
   "source": [
    "#### - 위 순서에서, 이를 a1,a2,...an의 식으로 다시 바꾸면\n",
    "\n",
    "- a1 = |p1| * q1\n",
    "- a2 = |p2| * q2 + (a2 * q1) * q1\n",
    "- a3 = |p3| * q3 + (a3 * q1) * q1 + (a3 * q2) * q2\n",
    "- ....\n",
    "\n",
    "#### - 이를 행렬 형식으로 표현하면\n",
    "- A = QR이라고 가정할 때\n",
    "- Q 행렬은 q1,q2,q3....를 열벡터로 취한다. -> [q1, q2, q3, ..... qn](단, q1...qn은 정규직교기저)\n",
    "- R행렬은 q1,q2,q3의 계수가 들어가는 상삼각행렬이 된다.\n",
    "- (단, rnn = |qn|, rkj = (aj * qk) 이다. 즉 대각성분은 각 정규직교기저의 norm이고, 비대각성분은 원 기저와 정규직교기저의 내적이다.)"
   ]
  },
  {
   "cell_type": "code",
   "execution_count": 362,
   "metadata": {},
   "outputs": [
    {
     "name": "stdout",
     "output_type": "stream",
     "text": [
      "[['r11' 'r12' '...' 'r1n-1' 'r1n']\n",
      " ['0' 'r22' 'r23' '...' 'r2n']\n",
      " ['0' '0' 'r33' '...' 'r3n']]\n"
     ]
    }
   ],
   "source": [
    "print(np.matrix([[\"r11\",\"r12\",\"...\",\"r1n-1\",\"r1n\"],[0,\"r22\",\"r23\",\"...\",\"r2n\"],[0,0,\"r33\",\"...\",\"r3n\"]]))"
   ]
  },
  {
   "cell_type": "markdown",
   "metadata": {},
   "source": [
    "- 한편, Q는 정규직교기저이므로, Q^T = Q^-1이다. 즉, A * Q^T = R을 구할 수 있다.\n",
    "- 하지만, 정규직교화 하는 과정에서 오차가 누적되므로 이 직접적인 방법은 쓰이지 않는다."
   ]
  },
  {
   "cell_type": "markdown",
   "metadata": {},
   "source": [
    "### (3) 거듭제곱법과 고유벡터로의 수렴"
   ]
  },
  {
   "cell_type": "markdown",
   "metadata": {},
   "source": [
    "#### - x1...xn을 고윳값 ㅅ1.....ㅅn에 대응하는 고유벡터라고 하자. 이때, 고윳값 ㅅ1...ㅅn은 절댓값으로 크기를 정렬한다. |ㅅ1| > |ㅅ2| >...|ㅅn|\n",
    "#### - 이 때, v1..vn을 어떤 선형독립인 초깃값 벡터라고 할 때\n",
    "- v1을 고유벡터들의 선형결합으로 표현할 수 있다 : v1 = (v11)x1 + (v12)x2 + ...\n",
    "- vn을 고유벡터들의 선형결합으로 표현할 수 있다 : v2 = (v21)x1 + (v22)x2 + ...\n",
    "\n",
    "- 이 때, 각 선형독립벡터 vn에 행렬A를 k번 거듭제곱하고 내적할 경우, A의 고윳값 ㅅ1...ㅅn에 대하여\n",
    "\n",
    "\n",
    "- A^(k) * v1 = (v11) * ㅅ1^(k) * x1 + (v12) * ㅅ2^(k) * x2 + ...\n",
    "- A^(k) * v2 = (v21) * ㅅ2^(k) * x1 + (v22) * ㅅ2^(k) * x2 + ...\n",
    "\n",
    "\n",
    "- 즉, 우변엔 고윳값의 k거듭제곱만큼 각 고유기저에 곱해지게 된다."
   ]
  },
  {
   "cell_type": "markdown",
   "metadata": {},
   "source": [
    "#### - 각 선형결합에서 고유값 ㅅ1을 나누면\n",
    "\n",
    "- A^(k) * v1 // (v11) * x1 + (v12) * (ㅅ2/ㅅ1)^k * x2 + (v13) * (ㅅ3/ㅅ1)^k * x3 + ...\n",
    "\n",
    "이 때, k -> infinity로 보내면, ㅅ1...ㅅn은 절댓값 크기대로 정렬한 값이므로 각 항의 (ㅅn/ㅅ1)은 1보다 작다. v(11) * x1을 제외한 나머지 항들은 0으로 수렴한다.\n",
    "\n",
    "- 따라서, A^(k) * v1은 결국엔 고유벡터인 x1으로 수렴하며, A^(k) * v2 , ... , A^(k) * Vn 모두 x1으로 수렴한다.\n",
    "- 따라서, A^(k) * Vn을 정규직교화한 \n",
    "\n",
    "q1(k) = p1/|p1|, p1 = A^(k) * v1\n",
    "\n",
    "q2(k) = p2/|p2|, p2 = A^(k) * v2 - (A^(k) * v2 * q1(k) ) * q1(k)\n",
    "\n",
    "...\n",
    "\n",
    "- 에서, q1(k)는 span(x1)으로 수렴한다.\n",
    "- q2(k) ... qn(k)는 A^(k)Vn 만 보자면 궁극적으로 모두 x1으로 수렴하므로, 이들의 뺄셈은 결국 영벡터로 수렴하도록 만드는것이 아닌가 생각할수도 있지만, \n",
    "- 그 좌표값 Vnn들이 전부 다르기때문에 궁극적으로 하나로 수렴하진 않는다. \n",
    "\n",
    "\n",
    "- 따라서, 정규직교기저 q1(k)와 q2(k), ... , qn(k)가 만드는 부분공간은\n",
    "\n",
    "span(q1(k), q2(k) , ... , qn(k)) -> span(x1,x2, ... , xn) 으로 수렴한다."
   ]
  },
  {
   "cell_type": "markdown",
   "metadata": {},
   "source": [
    "### (4) QR법"
   ]
  },
  {
   "cell_type": "markdown",
   "metadata": {},
   "source": [
    "#### - 순서\n",
    "\n",
    "- 행렬을 QR로 분해한다.\n",
    "- 분해한 QR을 역순인 RQ로 곱한다.\n",
    "- 도출된 A(i+1) = RQ를 다시 분해한다.\n",
    "- 2부터 반복한다.\n",
    "\n",
    "#### - 이를 통해 궁극적으로 행렬은 상삼각행렬로 수렴하는데, 이 때 상삼각행렬의 대각성분은 고윳값이므로, 이 값이 바로 행렬의 고윳값이 된다."
   ]
  },
  {
   "cell_type": "markdown",
   "metadata": {},
   "source": [
    "#### - 헤센버그 행렬\n",
    "\n",
    "- 헤센버그 행렬 : 대각성분에서 하나 아래인 부대각성분이 0이 아닌, 유사대각행렬"
   ]
  },
  {
   "cell_type": "code",
   "execution_count": 368,
   "metadata": {},
   "outputs": [
    {
     "name": "stdout",
     "output_type": "stream",
     "text": [
      "[['*' '*' '*' '*' '*']\n",
      " ['0' '*' '*' '*' '*']\n",
      " ['0' '0' '*' '*' '*']\n",
      " ['0' '0' '0' '*' '*']]\n"
     ]
    }
   ],
   "source": [
    "print(np.matrix([[\"*\",\"*\",\"*\",\"*\",\"*\"],[0,\"*\",\"*\",\"*\",\"*\"],[0,0,\"*\",\"*\",\"*\"],[0,0,0,\"*\",\"*\"]]))"
   ]
  },
  {
   "cell_type": "markdown",
   "metadata": {},
   "source": [
    "- 헤센버그 행렬을 QR분해하면 다음과 같은 모양이 나온다."
   ]
  },
  {
   "cell_type": "code",
   "execution_count": 385,
   "metadata": {},
   "outputs": [
    {
     "name": "stdout",
     "output_type": "stream",
     "text": [
      "[['*' '*' '*' '*' '*']\n",
      " ['*' '*' '*' '*' '*']\n",
      " ['0' '*' '*' '*' '*']\n",
      " ['0' '0' '*' '*' '*']\n",
      " ['0' '0' '0' '*' '*']]\n",
      "=\n",
      "Q\n",
      "[['&' '&' '&' '&' '&']\n",
      " ['&' '&' '&' '&' '&']\n",
      " ['0' '&' '&' '&' '&']\n",
      " ['0' '0' '&' '&' '&']\n",
      " ['0' '0' '0' '&' '&']]\n",
      "*\n",
      "R\n",
      "[['^' '^' '^' '^' '^']\n",
      " ['0' '^' '^' '^' '^']\n",
      " ['0' '0' '^' '^' '^']\n",
      " ['0' '0' '0' '^' '^']\n",
      " ['0' '0' '0' '0' '^']]\n"
     ]
    }
   ],
   "source": [
    "print(np.matrix([[\"*\",\"*\",\"*\",\"*\",\"*\"],[\"*\",\"*\",\"*\",\"*\",\"*\"],[0,\"*\",\"*\",\"*\",\"*\"],[0,0,\"*\",\"*\",\"*\"],[0,0,0,\"*\",\"*\"]]))\n",
    "print(\"=\")\n",
    "print(\"Q\")\n",
    "print(np.matrix([[\"&\",\"&\",\"&\",\"&\",\"&\"],[\"&\",\"&\",\"&\",\"&\",\"&\"],[0,\"&\",\"&\",\"&\",\"&\"],[0,0,\"&\",\"&\",\"&\"],[0,0,0,\"&\",\"&\"]]))\n",
    "print(\"*\")\n",
    "print(\"R\")\n",
    "print(np.matrix([[\"^\",\"^\",\"^\",\"^\",\"^\"],[0,\"^\",\"^\",\"^\",\"^\"],[0,0,\"^\",\"^\",\"^\"],[0,0,0,\"^\",\"^\"],[0,0,0,0,\"^\"]]))"
   ]
  },
  {
   "cell_type": "markdown",
   "metadata": {},
   "source": [
    "즉, 원 행렬과 같은 헤센버그 행렬꼴의 정규직교행렬 Q와, 상삼각행렬인 R로 분해된다.\n",
    "\n",
    "- 분해한 QR을 역순해서 다시 곱하면"
   ]
  },
  {
   "cell_type": "code",
   "execution_count": 387,
   "metadata": {},
   "outputs": [
    {
     "name": "stdout",
     "output_type": "stream",
     "text": [
      "R\n",
      "[['^' '^' '^' '^' '^']\n",
      " ['0' '^' '^' '^' '^']\n",
      " ['0' '0' '^' '^' '^']\n",
      " ['0' '0' '0' '^' '^']\n",
      " ['0' '0' '0' '0' '^']]\n",
      "*\n",
      "Q\n",
      "[['&' '&' '&' '&' '&']\n",
      " ['&' '&' '&' '&' '&']\n",
      " ['0' '&' '&' '&' '&']\n",
      " ['0' '0' '&' '&' '&']\n",
      " ['0' '0' '0' '&' '&']]\n",
      "=\n",
      "[['*' '*' '*' '*' '*']\n",
      " ['*' '*' '*' '*' '*']\n",
      " ['0' '*' '*' '*' '*']\n",
      " ['0' '0' '*' '*' '*']\n",
      " ['0' '0' '0' '*' '*']]\n"
     ]
    }
   ],
   "source": [
    "print(\"R\")\n",
    "print(np.matrix([[\"^\",\"^\",\"^\",\"^\",\"^\"],[0,\"^\",\"^\",\"^\",\"^\"],[0,0,\"^\",\"^\",\"^\"],[0,0,0,\"^\",\"^\"],[0,0,0,0,\"^\"]]))\n",
    "print(\"*\")\n",
    "print(\"Q\")\n",
    "print(np.matrix([[\"&\",\"&\",\"&\",\"&\",\"&\"],[\"&\",\"&\",\"&\",\"&\",\"&\"],[0,\"&\",\"&\",\"&\",\"&\"],[0,0,\"&\",\"&\",\"&\"],[0,0,0,\"&\",\"&\"]]))\n",
    "print(\"=\")\n",
    "print(np.matrix([[\"*\",\"*\",\"*\",\"*\",\"*\"],[\"*\",\"*\",\"*\",\"*\",\"*\"],[0,\"*\",\"*\",\"*\",\"*\"],[0,0,\"*\",\"*\",\"*\"],[0,0,0,\"*\",\"*\"]]))"
   ]
  },
  {
   "cell_type": "markdown",
   "metadata": {},
   "source": [
    "- 다시 헤센버그 행렬꼴로 바뀌며, 다음 iter에서 헤센버그행렬꼴인 이 A(i+1)을 다시 QR분해 하는데 써먹을 수 있다.\n",
    "- 헤센버그 행렬꼴을 활용하면, 아래에 0으로 바뀌는 데이터 만큼은 계산을 아낄 수 있다."
   ]
  },
  {
   "cell_type": "markdown",
   "metadata": {},
   "source": [
    "#### - 하우스홀더법\n",
    "\n",
    "- 행렬을 헤센버그행렬꼴로 변환하는 알고리즘이다."
   ]
  },
  {
   "cell_type": "code",
   "execution_count": 244,
   "metadata": {},
   "outputs": [
    {
     "name": "stdout",
     "output_type": "stream",
     "text": [
      "[[2 1 0 1]\n",
      " [4 3 1 2]\n",
      " [1 0 3 1]\n",
      " [4 2 5 2]]\n"
     ]
    }
   ],
   "source": [
    "A = np.array([[2,1,0,1],[4,3,1,2],[1,0,3,1],[4,2,5,2]])\n",
    "print(A)"
   ]
  },
  {
   "cell_type": "code",
   "execution_count": 245,
   "metadata": {},
   "outputs": [],
   "source": [
    "#하우스홀더법\n",
    "\n",
    "def householder(A):\n",
    "    col,row = A.shape\n",
    "    for i,j in zip(range(0,col),range(1,row)):\n",
    "\n",
    "        #부대각성분 밑의 성분들만 0으로 만들기 위해, [3:4,col] 벡터가 생성되면, 즉 scalar 벡터가 생성되면 중단한다.\n",
    "        if j  == row - 1:\n",
    "            break\n",
    "\n",
    "        #하우스홀더 행렬을 위한 단위벡터 u 생성부분\n",
    "        u = A[j:row,i]\n",
    "        temp_array = np.zeros(row - j)\n",
    "        temp_array[0] = np.linalg.norm(u)\n",
    "        u = u - temp_array\n",
    "        u = u/np.linalg.norm(u)\n",
    "\n",
    "        # 위에서 생성한 단위벡터 u를 이용하여 하우스홀더 행렬 생성\n",
    "        h = np.identity(row - j) - 2 * np.outer(u,u.T)\n",
    "        h = np.block([[np.identity(j),np.zeros((j,row-j))],[np.zeros((row-j,j)),h]])\n",
    "\n",
    "        #하우스홀더 행렬로 A를 닮음변환한다.\n",
    "\n",
    "        temp = np.matmul(h,A)\n",
    "        A = np.matmul(temp,h)\n",
    "    return A"
   ]
  },
  {
   "cell_type": "code",
   "execution_count": 3,
   "metadata": {},
   "outputs": [],
   "source": [
    "\n",
    "\n",
    "def QR_decomposition(K,iteration = 10000):\n",
    "   \n",
    "    shape = K.shape[0]\n",
    "\n",
    "    for i in range(0,iteration):\n",
    "\n",
    "        #1열부터 n열까지 한 iteration에서 변환을 누적적으로 시행하는게 핵심이다.\n",
    "        for j in range(0,shape-1):\n",
    "            ## 각도를 갱신하는 부분. k가 이렇게 된 이유는 아래에 후술한다.\n",
    "            k = np.arctan(K[j+1,j]/K[j,j])\n",
    "\n",
    "\n",
    "            ## 야코비 회전행렬을 만든다.\n",
    "            jacob = np.matrix(np.identity(shape))\n",
    "            jacob[j,j] = np.cos(k)\n",
    "            jacob[j+1,j] = np.sin(k)\n",
    "            jacob[j+1,j+1] = np.cos(k)\n",
    "            jacob[j,j+1] = -np.sin(k)\n",
    "\n",
    "            ## 좌측에 jacob 회전행렬의 전치를, 우측에 jacob 회전행렬 원본을 행렬곱한다. \n",
    "            R = np.matmul(jacob.T,K)\n",
    "            K = np.matmul(R,jacob)\n",
    "    \n",
    "    Q = jacob\n",
    "    return (Q,R,R.diagonal())"
   ]
  },
  {
   "cell_type": "code",
   "execution_count": 246,
   "metadata": {},
   "outputs": [
    {
     "name": "stdout",
     "output_type": "stream",
     "text": [
      "Q행렬\n",
      "[[ 1.  0.  0.  0.]\n",
      " [ 0.  1.  0.  0.]\n",
      " [ 0.  0.  1. -0.]\n",
      " [ 0.  0.  0.  1.]]\n",
      "R행렬\n",
      "[[ 7.096  0.597  4.634  3.077]\n",
      " [ 0.     3.027  2.092 -0.525]\n",
      " [-0.     0.    -0.548  0.223]\n",
      " [-0.    -0.     0.     0.425]]\n",
      "고윳값\n",
      "[[ 7.09635433  3.02671935 -0.54792746  0.42485379]]\n"
     ]
    }
   ],
   "source": [
    "K = householder(A)\n",
    "\n",
    "Q,R,diag = QR_decomposition(K)\n",
    "\n",
    "print(\"Q행렬\")\n",
    "print(Q.round(3))\n",
    "print(\"R행렬\")\n",
    "print(R.round(3))\n",
    "print(\"고윳값\")\n",
    "print(diag)"
   ]
  },
  {
   "cell_type": "markdown",
   "metadata": {},
   "source": [
    "#### - k가 해당 식처럼 정의된 이유\n",
    "\n",
    "- QR분해 알고리즘의 목적은 정규직교기저인 야코비 회전행렬(Q)를 A에 지속적으로 누적시켜서, 그 때 도출되는 R행렬을 상삼각행렬에 수렴시키는것이다.\n",
    "\n",
    "\n",
    "- 그러기 위해선 대각성분 밑의 하삼각형을 0으로 만들 필요가 있고, \n",
    "- 앞서 헤센버그 행렬을 만들 때 이미 부대각성분 밑의 (n-1) 크기만큼의 하삼각형은 0으로 만들었기 때문에 이제 목적은 부대각성분을 0으로 만드는 것이다."
   ]
  },
  {
   "cell_type": "markdown",
   "metadata": {},
   "source": [
    "- 야코비 회전행렬 R(1,2), R(2,3), R(3,4)를 정의하고, 이를 순차적으로 누적시키면 각각 A행렬의 (2,1), (3,2), (4,3)이 영향을 받는다. 즉, 부대각성분이 영향을 받는다."
   ]
  },
  {
   "cell_type": "code",
   "execution_count": 1393,
   "metadata": {},
   "outputs": [],
   "source": [
    "A = np.array([[2,1,0,1],[4,3,1,2],[1,0,3,1],[4,2,5,1]])\n",
    "\n",
    "K = householder(A)"
   ]
  },
  {
   "cell_type": "code",
   "execution_count": 1394,
   "metadata": {},
   "outputs": [
    {
     "name": "stdout",
     "output_type": "stream",
     "text": [
      "[[ 2.     1.393 -0.152 -0.194]\n",
      " [ 5.745  4.818  3.096  2.556]\n",
      " [-0.     0.625 -1.029 -0.444]\n",
      " [ 0.     0.     1.645  3.211]]\n"
     ]
    }
   ],
   "source": [
    "print(K.round(3))"
   ]
  },
  {
   "cell_type": "code",
   "execution_count": 1397,
   "metadata": {},
   "outputs": [],
   "source": [
    "shape = K.shape[0]\n",
    "\n",
    "j = 0\n",
    "## 각도를 갱신하는 부분. k가 이렇게 된 이유는 아래에 후술한다.\n",
    "k = np.arctan(K[j+1,j]/K[j,j])\n",
    "\n",
    "\n",
    "## 야코비 회전행렬을 만든다.\n",
    "jacob = np.matrix(np.identity(shape))\n",
    "jacob[j,j] = np.cos(k)\n",
    "jacob[j+1,j] = np.sin(k)\n",
    "jacob[j+1,j+1] = np.cos(k)\n",
    "jacob[j,j+1] = -np.sin(k)\n",
    "\n",
    "## 좌측에 jacob 회전행렬의 전치를, 우측에 jacob 회전행렬 원본을 행렬곱한다. \n",
    "R = np.matmul(jacob.T,K)\n",
    "K = np.matmul(R,jacob)"
   ]
  },
  {
   "cell_type": "code",
   "execution_count": 1398,
   "metadata": {},
   "outputs": [
    {
     "data": {
      "text/plain": [
       "array([[ 6.083,  5.008,  2.874,  2.35 ],\n",
       "       [ 0.   ,  0.269,  1.161,  1.023],\n",
       "       [-0.   ,  0.625, -1.029, -0.444],\n",
       "       [ 0.   ,  0.   ,  1.645,  3.211]])"
      ]
     },
     "execution_count": 1398,
     "metadata": {},
     "output_type": "execute_result"
    }
   ],
   "source": [
    "R.round(3)"
   ]
  },
  {
   "cell_type": "markdown",
   "metadata": {},
   "source": [
    "위 예에서 연산전 K와 연산후 R을 비교하면, (2,1)성분이 0이 된 것을 확인할 수 있다. 이는"
   ]
  },
  {
   "cell_type": "code",
   "execution_count": 1399,
   "metadata": {},
   "outputs": [
    {
     "data": {
      "text/plain": [
       "matrix([[ 0.32879797, -0.94440028,  0.        ,  0.        ],\n",
       "        [ 0.94440028,  0.32879797,  0.        ,  0.        ],\n",
       "        [ 0.        ,  0.        ,  1.        ,  0.        ],\n",
       "        [ 0.        ,  0.        ,  0.        ,  1.        ]])"
      ]
     },
     "execution_count": 1399,
     "metadata": {},
     "output_type": "execute_result"
    }
   ],
   "source": [
    "jacob"
   ]
  },
  {
   "cell_type": "markdown",
   "metadata": {},
   "source": [
    "인 야코비 회전행렬에서, "
   ]
  },
  {
   "cell_type": "code",
   "execution_count": 1402,
   "metadata": {},
   "outputs": [
    {
     "name": "stdout",
     "output_type": "stream",
     "text": [
      "[['cos(k)' 'sin(k)' '0']\n",
      " ['-sin(k)' 'cos(k)' '0']\n",
      " ['0' '0' '1']]\n"
     ]
    }
   ],
   "source": [
    "print(np.matrix([[\"cos(k)\",\"-sin(k)\",0],[\"sin(k)\",\"cos(k)\",0],[0,0,1]]).T)"
   ]
  },
  {
   "cell_type": "markdown",
   "metadata": {},
   "source": [
    "이기 때문에, (1,2) 성분에 영향을 주는 -(1,1성분) * sin(k) + (1,2성분) * cos(k) = 0이어야 하기 때문이다.\n",
    "\n",
    "- 이항하면 (1,2성분) cos(k) = (1,1성분) * sin(k)이고, 이는\n",
    "\n",
    "\n",
    "- {(1,2성분)/(1,1성분)} * tan(k) = 1 로 정리된다. 역삼각함수로 정의하면\n",
    "\n",
    "\n",
    "- k = arctan((1,1성분)/(1,2성분))이다. "
   ]
  },
  {
   "cell_type": "markdown",
   "metadata": {},
   "source": [
    "### (4) 고유벡터 구하기"
   ]
  },
  {
   "cell_type": "markdown",
   "metadata": {},
   "source": [
    "#### - 앞서 구한 고윳값을 이용하여 이번엔 고유벡터를 수렴시키는 알고리즘을 활용한다.(이를 역반복법이라고 한다)\n",
    "#### - 핵심은 어떤 초기벡터 v에 대하여\n",
    "- (A - ㅅI)^k * v -> span(x) (단, x는 고윳값 ㅅ에 대한 고유벡터) 를 이용하는 것이다.\n",
    "- 즉, k가 커지면 커질수록 v는 점점 고유벡터 x로 수렴한다.\n",
    "\n",
    "#### - 이 때, 최대 고윳값을 도출하는 (A - ㅅI)가 아닌, 최소 고윳값을 도출하는 (A - ㅅI)^(-1), 즉 특성행렬의 역행렬을 반복 곱한다.\n",
    "- 이렇게 될 경우, 고윳값은 1/ㅅ가 되며, 이 값을 최대화 하는것은 반대로 ㅅ를 최소화한다는 의미가 된다.\n",
    "\n",
    "#### - 특성행렬의 역행렬을 직접 구하는것은 피하고, 이를 LU 분해하여\n",
    "- LUx = v에서 Lz = v, Ux = z를 구하는 방식으로 x = (LU)^(-1) * v를 구한다."
   ]
  },
  {
   "cell_type": "code",
   "execution_count": 127,
   "metadata": {},
   "outputs": [],
   "source": [
    "def pivoting(pivot_table,where,ind):\n",
    "    temp = pivot_table[where].copy()\n",
    "    pivot_table[where] = pivot_table[ind].copy()\n",
    "    pivot_table[ind] = temp.copy()\n",
    "    return pivot_table\n",
    "\n",
    "def making_pivot(x):\n",
    "    rows = np.shape(x)[0]\n",
    "    pivot_table = np.diag([1 for i in range(0,rows)])\n",
    "    return pivot_table\n",
    "\n",
    "def LUdecomp_pivot(x) :\n",
    "    if type(x) != type(np.matrix([0])):\n",
    "        raise ValueError \n",
    "    \n",
    "    #행렬의 행과 열 차원중 작은쪽을 s로 지정해준다.\n",
    "    s = np.min(x.shape)\n",
    "    \n",
    "    # X의 전치행렬에서 0이 아닌 가장 가까운 행을 np.where로 찾는다.\n",
    "    ind = np.where(x.T[0] != 0)[1][0]\n",
    "    # 행의 순서 교환을 기록한 pivot_table을 생성한다.\n",
    "    pivot_table = pivoting(making_pivot(x),0,ind)\n",
    "    x = np.matmul(pivot_table,x)\n",
    "    pivot_table_summary = pivot_table.copy()\n",
    "    \n",
    "    normalizer = 1/(x[0,0])\n",
    "    l = normalizer * x[0].T\n",
    "    u = x.T[0]\n",
    "    temp = np.matmul(l,u).T\n",
    "    x = np.matrix(x - temp)\n",
    "    \n",
    "    for i in range(1,s):\n",
    "        # X의 전치행렬에서 0이 아닌 가장 가까운 행을 np.where로 찾는다.\n",
    "        ind = np.where(x.T[i] != 0)[1][0]\n",
    "        # 행의 순서 교환을 기록한 pivot_table을 생성한다.\n",
    "        pivot_table = pivoting(making_pivot(x),i,ind)\n",
    "        x = np.matmul(pivot_table,x)\n",
    "        pivot_table_summary = np.matmul(pivot_table_summary,pivot_table)\n",
    "        \n",
    "        normalizer = 1/x[i,i]\n",
    "        temp_l = normalizer * x[i].T\n",
    "        temp_u = x.T[i]\n",
    "        l = np.hstack([l,temp_l])\n",
    "        u = np.vstack([u,temp_u])\n",
    "        temp = np.matmul(temp_l,temp_u).T\n",
    "        x = np.matrix(x - temp)\n",
    "    return (l,u,pivot_table_summary)\n",
    "\n",
    "def sol_U(U,y,pivot,debug):\n",
    "    # U를 전치해준다.\n",
    "    U = U.T\n",
    "    # 정답벡터 y에, pivot을 우변으로 이항하여(즉, 역행렬로 만들어) y에 행렬곱해준다.\n",
    "    y_pivot = np.matmul(np.linalg.inv(pivot),y)\n",
    "    # 행렬의 모양을 가져온다.\n",
    "    shape = U.shape[0]\n",
    "    # 차원 만큼 0로 차있는, 임시 벡터 0를 만들어준다.\n",
    "    z = np.zeros(shape)\n",
    "    # 초깃값 z[0]는 정답벡터 y'를 상삼각행렬의 첫번째 대각성분으로 나눠준 값으로 한다.\n",
    "    z[0] = y_pivot[0]/U[0,0]\n",
    "\n",
    "    if debug:\n",
    "        print(z)\n",
    "\n",
    "    for i in range(1,shape):\n",
    "        # 여기가 핵심이다.\n",
    "        # 노리는 효과는, z는 기본적으로 i-1번째 요소까지만 값이 저장되어있고, 나머지는 0인 상태를 이용하는 것이다.\n",
    "        # 상삼각행렬 U의 i번째 행과 i-1번째 요소까지만 값이 저장되어있는 z를 행렬곱하면, 구하고자 하는 성분인 i번째 열에 속하는 \n",
    "        # 변수 z[i]는 0으로 처리되어 계산에 전혀 영향을 주지 않는다.(디버그 모드를 키면 무슨 말인지 이해할 수 있다)\n",
    "        # z[i]에 속하는 대각성분인 U[i,i]를 계산한 값에 나누기 해주면, z[i]를 구할 수 있다.\n",
    "        z[i] = (y_pivot[i] - np.matmul(U[i],z))/U[i,i]\n",
    "        if debug:\n",
    "            print(z)\n",
    "    if debug:\n",
    "        print(\"상삼각행렬 연산 종료\")\n",
    "    return z\n",
    "\n",
    "def sol_L(L,z,debug):\n",
    "    L = L.T\n",
    "    shape = L.shape[0] - 1\n",
    "    x = np.zeros(shape + 1)\n",
    "    x[shape] = z[shape]/L[shape,shape]\n",
    "    if debug:\n",
    "        print(x)\n",
    "    for i in reversed(range(0,shape)):\n",
    "        x[i] = z[i] - np.matmul(L[i],x)/L[i,i]\n",
    "        if debug:\n",
    "            print(x)\n",
    "    if debug:\n",
    "        print(\"하삼각행렬 연산 종료\")\n",
    "    return x\n",
    "\n",
    "def solving_pivot(L,U,pivot,y,debug = False):\n",
    "    z = sol_U(U,y,pivot,debug)\n",
    "    x = sol_L(L,z,debug)\n",
    "    return b"
   ]
  },
  {
   "cell_type": "code",
   "execution_count": 273,
   "metadata": {},
   "outputs": [],
   "source": [
    "# 구해준 고윳값과 원행렬을 이용하여 이번엔 고유벡터를 구한다.\n",
    "\n",
    "def eigen_vector(A,eig_value):\n",
    "    \n",
    "    shape = np.shape(A)[0]\n",
    "    \n",
    "    #초기 재료벡터로 단위행렬의 열벡터를 사용할 것이다.\n",
    "    init = np.identity(shape)\n",
    "\n",
    "    for j in range(0,shape):\n",
    "        \n",
    "        # (A - ㅅI), 즉 특성행렬을 이용할것이다.\n",
    "        A_eI = np.matrix(A - diag[0,j] * np.identity(shape))\n",
    "        L,U,pivot = LUdecomp_pivot(A_eI)   \n",
    "        for k in range(0,1000):\n",
    "            # LU분해를 활용하여 역행렬을 곱한 벡터를 도출해준다.\n",
    "            temp = solving_pivot(L,U,pivot,init[j])\n",
    "            # 역행렬을 곱해 도출된 임시 고유벡터가 지나치게 커지지 않도록, norm으로 단위벡터로 만들어준다.\n",
    "            temp = temp/np.linalg.norm(temp)\n",
    "            # iter를 종료하고, 해당 값을 저장한 후, 그 값을 다음 iter에서 다시 활용하여 반복한다.\n",
    "            init[j] = temp.copy()\n",
    "    return init.T"
   ]
  },
  {
   "cell_type": "code",
   "execution_count": 275,
   "metadata": {},
   "outputs": [],
   "source": [
    "eig_vector = eigen_vector(A,diag)"
   ]
  },
  {
   "cell_type": "code",
   "execution_count": 276,
   "metadata": {},
   "outputs": [
    {
     "name": "stdout",
     "output_type": "stream",
     "text": [
      "[[ 7.09635433  3.02671935 -0.54792746  0.42485379]]\n",
      "[[ 0.26011341 -0.31914014  0.31817497  0.63282945]\n",
      " [ 0.64329968 -0.66254778  0.11468953 -0.70480318]\n",
      " [ 0.23006893  0.58909686  0.17114253 -0.13235509]\n",
      " [ 0.68233043  0.33488042 -0.92537627 -0.29199573]]\n"
     ]
    }
   ],
   "source": [
    "print(diag)\n",
    "print(eig_vector)"
   ]
  },
  {
   "cell_type": "code",
   "execution_count": 277,
   "metadata": {
    "scrolled": true
   },
   "outputs": [
    {
     "data": {
      "text/plain": [
       "(array([ 7.09635433,  3.02671935,  0.42485379, -0.54792746]),\n",
       " array([[-0.26011341, -0.31914014,  0.63282945, -0.31817497],\n",
       "        [-0.64329968, -0.66254778, -0.70480318, -0.11468953],\n",
       "        [-0.23006893,  0.58909686, -0.13235509, -0.17114253],\n",
       "        [-0.68233043,  0.33488042, -0.29199573,  0.92537627]]))"
      ]
     },
     "execution_count": 277,
     "metadata": {},
     "output_type": "execute_result"
    }
   ],
   "source": [
    "np.linalg.eig(A)"
   ]
  }
 ],
 "metadata": {
  "kernelspec": {
   "display_name": "Python 3",
   "language": "python",
   "name": "python3"
  },
  "language_info": {
   "codemirror_mode": {
    "name": "ipython",
    "version": 3
   },
   "file_extension": ".py",
   "mimetype": "text/x-python",
   "name": "python",
   "nbconvert_exporter": "python",
   "pygments_lexer": "ipython3",
   "version": "3.7.0"
  }
 },
 "nbformat": 4,
 "nbformat_minor": 2
}
