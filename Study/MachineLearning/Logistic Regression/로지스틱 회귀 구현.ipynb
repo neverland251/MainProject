{
 "cells": [
  {
   "cell_type": "code",
   "execution_count": 102,
   "metadata": {},
   "outputs": [],
   "source": [
    "import tensorflow as tf\n",
    "import numpy as np\n",
    "from sklearn.datasets import make_moons\n",
    "\n",
    "init = tf.global_variables_initializer()\n",
    "init_l = tf.local_variables_initializer()"
   ]
  },
  {
   "cell_type": "code",
   "execution_count": 103,
   "metadata": {},
   "outputs": [],
   "source": [
    "X_t,y_t = make_moons(n_samples = 100, noise = 0.15, random_state = 42)\n",
    "\n",
    "m,n = X_t.shape\n",
    "\n",
    "X_t = np.c_[np.ones((m,1)),X_t]\n",
    "y_t = y_t.reshape(-1,1)\n",
    "\n",
    "learning_rate = 0.2"
   ]
  },
  {
   "cell_type": "code",
   "execution_count": 104,
   "metadata": {},
   "outputs": [],
   "source": [
    "X = tf.placeholder(tf.float32,[m,n+1],name = \"X\")\n",
    "y = tf.placeholder(tf.float32,[m,1],name = \"y\")"
   ]
  },
  {
   "cell_type": "code",
   "execution_count": 121,
   "metadata": {},
   "outputs": [],
   "source": [
    "def logistic_regression():\n",
    "    \n",
    "    with tf.name_scope(\"placeholder\") as scope:\n",
    "        X = tf.placeholder(tf.float32,[m,n+1],name = \"X\")\n",
    "        y = tf.placeholder(tf.float32,[m,1],name = \"y\")\n",
    "        \n",
    "    with tf.name_scope(\"theta\") as scope:\n",
    "\n",
    "        theta = tf.Variable(tf.random_uniform([n+1,1],-1.0,1.0),name=\"theta\")\n",
    "\n",
    "    with tf.name_scope(\"pred\") as scope:\n",
    "    \n",
    "        pred = tf.matmul(X,theta,name=\"prediction\")\n",
    "\n",
    "        error = pred - y\n",
    "    with tf.name_scope(\"sigmoid\") as scope:\n",
    "\n",
    "        sig = 1/m * tf.matmul(tf.transpose(X),tf.sigmoid(error),name=\"sig\")\n",
    "    \n",
    "    with tf.name_scope(\"graident\") as scope:\n",
    "\n",
    "        gradient = tf.assign(theta,theta-learning_rate*sig)\n",
    "\n",
    "#mse = tf.reduce_mean(error,name=\"mse\")"
   ]
  },
  {
   "cell_type": "code",
   "execution_count": 125,
   "metadata": {
    "scrolled": false
   },
   "outputs": [
    {
     "name": "stdout",
     "output_type": "stream",
     "text": [
      "0\n",
      "100\n",
      "200\n",
      "300\n",
      "400\n",
      "500\n",
      "600\n",
      "700\n",
      "800\n",
      "900\n"
     ]
    }
   ],
   "source": [
    "\n",
    "\n",
    "with tf.Session() as sess:\n",
    "    sess.run(init)\n",
    "    theta.initializer.run()\n",
    "    \n",
    "    for epochs in range(0,1000):\n",
    "        if epochs % 100 == 0:\n",
    "            print(epochs)\n",
    "\n",
    "        sess.run(gradient,feed_dict={X:X_t,y:y_t})\n",
    "            \n",
    "    best_theta = theta.eval()\n",
    "    "
   ]
  },
  {
   "cell_type": "code",
   "execution_count": 126,
   "metadata": {},
   "outputs": [
    {
     "data": {
      "text/plain": [
       "array([[-4.439871  ],\n",
       "       [-0.56601214],\n",
       "       [-1.4071102 ]], dtype=float32)"
      ]
     },
     "execution_count": 126,
     "metadata": {},
     "output_type": "execute_result"
    }
   ],
   "source": [
    "best_theta"
   ]
  },
  {
   "cell_type": "code",
   "execution_count": null,
   "metadata": {},
   "outputs": [],
   "source": []
  }
 ],
 "metadata": {
  "kernelspec": {
   "display_name": "tensor36",
   "language": "python",
   "name": "tensorflow36"
  }
 },
 "nbformat": 4,
 "nbformat_minor": 2
}
