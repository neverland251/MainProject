{
 "cells": [
  {
   "cell_type": "code",
   "execution_count": 5,
   "metadata": {},
   "outputs": [],
   "source": [
    "import tensorflow as tf\n",
    "import numpy as np\n",
    "from sklearn.datasets import fetch_california_housing"
   ]
  },
  {
   "cell_type": "code",
   "execution_count": 52,
   "metadata": {},
   "outputs": [],
   "source": [
    "housing = fetch_california_housing()\n"
   ]
  },
  {
   "cell_type": "code",
   "execution_count": 53,
   "metadata": {},
   "outputs": [],
   "source": [
    "from sklearn.preprocessing import StandardScaler\n",
    "\n",
    "SS = StandardScaler()\n",
    "\n",
    "SS.fit(housing.data)\n",
    "\n",
    "scaled_housing_data = SS.transform(housing.data)"
   ]
  },
  {
   "cell_type": "code",
   "execution_count": 54,
   "metadata": {},
   "outputs": [
    {
     "data": {
      "text/plain": [
       "array([[ 2.34476576,  0.98214266,  0.62855945, ..., -0.04959654,\n",
       "         1.05254828, -1.32783522],\n",
       "       [ 2.33223796, -0.60701891,  0.32704136, ..., -0.09251223,\n",
       "         1.04318455, -1.32284391],\n",
       "       [ 1.7826994 ,  1.85618152,  1.15562047, ..., -0.02584253,\n",
       "         1.03850269, -1.33282653],\n",
       "       ...,\n",
       "       [-1.14259331, -0.92485123, -0.09031802, ..., -0.0717345 ,\n",
       "         1.77823747, -0.8237132 ],\n",
       "       [-1.05458292, -0.84539315, -0.04021111, ..., -0.09122515,\n",
       "         1.77823747, -0.87362627],\n",
       "       [-0.78012947, -1.00430931, -0.07044252, ..., -0.04368215,\n",
       "         1.75014627, -0.83369581]])"
      ]
     },
     "execution_count": 54,
     "metadata": {},
     "output_type": "execute_result"
    }
   ],
   "source": [
    "scaled_housing_data"
   ]
  },
  {
   "cell_type": "code",
   "execution_count": 55,
   "metadata": {},
   "outputs": [],
   "source": [
    "#임의의 난숫값으로 초기 파라미터값을 생성\n",
    "\n",
    "housing = fetch_california_housing()\n",
    "\n",
    "m,n = housing.data.shape\n",
    "\n",
    "scaled_housing_data_plus_bias = np.c_[np.ones((m,1)),scaled_housing_data]"
   ]
  },
  {
   "cell_type": "code",
   "execution_count": 56,
   "metadata": {},
   "outputs": [],
   "source": [
    "# 데이터셋을 설정해준다.\n",
    "\n",
    "X = tf.constant(scaled_housing_data_plus_bias, dtype = tf.float32, name = \"X\")\n",
    "y = tf.constant(housing.target.reshape(-1,1),dtype = tf.float32, name = \"y\")"
   ]
  },
  {
   "cell_type": "code",
   "execution_count": 57,
   "metadata": {},
   "outputs": [],
   "source": [
    "## 재료1 : 파라미터를 랜덤으로 지정해준다.\n",
    "\n",
    "theta = tf.Variable(tf.random_uniform([n+1,n],-1.0,1.0),name=\"theta\")"
   ]
  },
  {
   "cell_type": "code",
   "execution_count": 58,
   "metadata": {},
   "outputs": [],
   "source": [
    "## 재료2 : X와 theta를 내적하여 y_hat을 만들어준다.\n",
    "\n",
    "pred_y = tf.matmul(X,theta,name=\"pred_y\")"
   ]
  },
  {
   "cell_type": "code",
   "execution_count": 59,
   "metadata": {},
   "outputs": [],
   "source": [
    "## 재료 3 : y_hat과 타겟값 y를 빼 오차를 구한다.\n",
    "\n",
    "error = pred_y - y"
   ]
  },
  {
   "cell_type": "code",
   "execution_count": 60,
   "metadata": {},
   "outputs": [],
   "source": [
    "## 재료 4 : mse를 구해준다.[1/m * (theta * X - y)^2]\n",
    "\n",
    "mse = tf.reduce_mean(tf.square(error),name=\"mse\")"
   ]
  },
  {
   "cell_type": "code",
   "execution_count": 61,
   "metadata": {},
   "outputs": [],
   "source": [
    "## 재료 5 : mse를 미분하여 얻은 gradient를 정의해준다.(2/m * (theta * X -y) * X)\n",
    "\n",
    "gradient = 2/m * tf.matmul(tf.transpose(X),error)"
   ]
  },
  {
   "cell_type": "code",
   "execution_count": 62,
   "metadata": {},
   "outputs": [],
   "source": [
    "## 그래프 할당 : theta에서 gradient를 빼서 전역최솟값을 구하는 목적함수를 tf.assign으로 지정해준다.\n",
    "\n",
    "learning_rate = 0.01\n",
    "\n",
    "training_op = tf.assign(theta, theta - learning_rate*gradient)"
   ]
  },
  {
   "cell_type": "code",
   "execution_count": 63,
   "metadata": {},
   "outputs": [],
   "source": [
    "init = tf.global_variables_initializer()"
   ]
  },
  {
   "cell_type": "code",
   "execution_count": 67,
   "metadata": {},
   "outputs": [
    {
     "name": "stdout",
     "output_type": "stream",
     "text": [
      "0 7.67171\n",
      "100 0.81592935\n",
      "200 0.65613484\n",
      "300 0.62214464\n",
      "400 0.59903735\n",
      "500 0.5817594\n",
      "600 0.56871015\n",
      "700 0.5588046\n",
      "800 0.5512487\n",
      "900 0.5454551\n",
      "1000 0.5409911\n",
      "1100 0.5375333\n",
      "1200 0.5348411\n",
      "1300 0.53273386\n",
      "1400 0.5310767\n",
      "1500 0.5297673\n",
      "1600 0.5287264\n",
      "1700 0.52789545\n",
      "1800 0.5272299\n",
      "1900 0.5266965\n",
      "2000 0.5262631\n",
      "2100 0.52591306\n",
      "2200 0.5256294\n",
      "2300 0.5253977\n",
      "2400 0.525208\n",
      "2500 0.5250527\n",
      "2600 0.5249258\n",
      "2700 0.52482235\n",
      "2800 0.52473485\n",
      "2900 0.52466387\n",
      "3000 0.52460533\n",
      "3100 0.5245567\n",
      "3200 0.5245168\n",
      "3300 0.5244828\n",
      "3400 0.5244554\n",
      "3500 0.52443254\n",
      "3600 0.52441335\n",
      "3700 0.52439797\n",
      "3800 0.52438456\n",
      "3900 0.5243745\n",
      "4000 0.5243646\n",
      "4100 0.5243578\n",
      "4200 0.52435136\n",
      "4300 0.5243467\n",
      "4400 0.52434224\n",
      "4500 0.5243379\n",
      "4600 0.5243359\n",
      "4700 0.5243332\n",
      "4800 0.5243308\n",
      "4900 0.524329\n",
      "5000 0.5243269\n",
      "5100 0.52432567\n",
      "5200 0.524325\n",
      "5300 0.52432466\n",
      "5400 0.5243242\n",
      "5500 0.5243233\n",
      "5600 0.52432245\n",
      "5700 0.5243216\n",
      "5800 0.5243216\n",
      "5900 0.5243214\n",
      "6000 0.52432126\n",
      "6100 0.5243215\n",
      "6200 0.52432096\n",
      "6300 0.52432084\n",
      "6400 0.52432066\n",
      "6500 0.5243215\n",
      "6600 0.5243218\n",
      "6700 0.52432054\n",
      "6800 0.5243201\n",
      "6900 0.52432\n",
      "7000 0.5243196\n",
      "7100 0.5243199\n",
      "7200 0.52432007\n",
      "7300 0.5243201\n",
      "7400 0.5243198\n",
      "7500 0.52432\n",
      "7600 0.52432\n",
      "7700 0.5243203\n",
      "7800 0.5243202\n",
      "7900 0.5243202\n",
      "8000 0.5243201\n",
      "8100 0.5243201\n",
      "8200 0.52432007\n",
      "8300 0.5243203\n",
      "8400 0.52432036\n",
      "8500 0.52432024\n",
      "8600 0.5243201\n",
      "8700 0.5243201\n",
      "8800 0.52432\n",
      "8900 0.52431995\n",
      "9000 0.5243199\n",
      "9100 0.52431995\n",
      "9200 0.5243199\n",
      "9300 0.5243199\n",
      "9400 0.52431965\n",
      "9500 0.52431977\n",
      "9600 0.52431977\n",
      "9700 0.5243198\n",
      "9800 0.5243199\n",
      "9900 0.52431995\n"
     ]
    }
   ],
   "source": [
    "n_epochs = 10000\n",
    "\n",
    "with tf.Session() as sess:\n",
    "    sess.run(init)\n",
    "    \n",
    "    for epoch in range(n_epochs):\n",
    "        if epoch % 100 == 0:\n",
    "            print(epoch,mse.eval())\n",
    "        sess.run(training_op)\n",
    "        \n",
    "    best_theta = theta.eval()"
   ]
  },
  {
   "cell_type": "code",
   "execution_count": 65,
   "metadata": {},
   "outputs": [
    {
     "data": {
      "text/plain": [
       "array([[ 2.0685525 ,  2.0685525 ,  2.0685525 ,  2.0685525 ,  2.0685525 ,\n",
       "         2.0685525 ,  2.0685525 ,  2.0685525 ],\n",
       "       [ 0.8296647 ,  0.8296054 ,  0.8296054 ,  0.8296054 ,  0.829592  ,\n",
       "         0.82963324,  0.8296527 ,  0.8296054 ],\n",
       "       [ 0.11876023,  0.11874887,  0.11874887,  0.11874887,  0.11874659,\n",
       "         0.11875444,  0.11875797,  0.11874887],\n",
       "       [-0.26561412, -0.26550302, -0.26550302, -0.26550302, -0.26547593,\n",
       "        -0.26555076, -0.26558968, -0.26550302],\n",
       "       [ 0.3057689 ,  0.30567682,  0.30567682,  0.30567682,  0.30565426,\n",
       "         0.30571562,  0.30574787,  0.30567682],\n",
       "       [-0.00450043, -0.00450379, -0.00450379, -0.00450379, -0.00450464,\n",
       "        -0.0045022 , -0.0045011 , -0.00450379],\n",
       "       [-0.03932797, -0.03932568, -0.03932568, -0.03932568, -0.0393252 ,\n",
       "        -0.03932687, -0.03932756, -0.03932568],\n",
       "       [-0.89978105, -0.89991826, -0.89991826, -0.89991826, -0.8999492 ,\n",
       "        -0.89985275, -0.89980626, -0.89991826],\n",
       "       [-0.8704418 , -0.87057215, -0.87057215, -0.87057215, -0.8706001 ,\n",
       "        -0.87050956, -0.87046635, -0.87057215]], dtype=float32)"
      ]
     },
     "execution_count": 65,
     "metadata": {},
     "output_type": "execute_result"
    }
   ],
   "source": [
    "best_theta"
   ]
  }
 ],
 "metadata": {
  "kernelspec": {
   "display_name": "tensor36",
   "language": "python",
   "name": "tensorflow36"
  },
  "language_info": {
   "codemirror_mode": {
    "name": "ipython",
    "version": 3
   },
   "file_extension": ".py",
   "mimetype": "text/x-python",
   "name": "python",
   "nbconvert_exporter": "python",
   "pygments_lexer": "ipython3",
   "version": "3.6.5"
  }
 },
 "nbformat": 4,
 "nbformat_minor": 2
}
