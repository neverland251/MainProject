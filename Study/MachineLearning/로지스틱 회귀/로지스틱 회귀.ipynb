{
 "cells": [
  {
   "cell_type": "code",
   "execution_count": 467,
   "metadata": {},
   "outputs": [],
   "source": [
    "import pandas as pd\n",
    "import numpy as np\n",
    "from pandas import DataFrame,Series\n",
    "import matplotlib.pyplot as plt\n",
    "from sklearn import datasets"
   ]
  },
  {
   "cell_type": "markdown",
   "metadata": {},
   "source": [
    "# 데이터셋 준비"
   ]
  },
  {
   "cell_type": "code",
   "execution_count": 468,
   "metadata": {},
   "outputs": [],
   "source": [
    "iris = datasets.load_iris()"
   ]
  },
  {
   "cell_type": "code",
   "execution_count": 469,
   "metadata": {},
   "outputs": [],
   "source": [
    "iris.target[np.where(iris.target != 2)] = 1\n",
    "target = abs(iris.target - 1)\n",
    "data = iris.data"
   ]
  },
  {
   "cell_type": "markdown",
   "metadata": {},
   "source": [
    "# 로지스틱 회귀 알고리즘"
   ]
  },
  {
   "cell_type": "code",
   "execution_count": 470,
   "metadata": {},
   "outputs": [],
   "source": [
    "def logit(data,params,target):\n",
    "    # 각 데이터 포인트와 파라미터를 곱해서, 각 행을 기준으로 더한 n * 1의 열벡터를 생성한다.\n",
    "    param_dot_data = np.sum(data*params,axis=1)\n",
    "    # 이 n*1의 열벡터를 로지스틱 방정식에 통과시킨다\n",
    "    logistic = 1/(1+np.exp(-param_dot_data))\n",
    "    # 각 데이터 포인트의 예측값과, 참값 target간의 차이를 구한다.\n",
    "    mse = logistic - target\n",
    "    return(mse,logistic)"
   ]
  },
  {
   "cell_type": "code",
   "execution_count": 471,
   "metadata": {},
   "outputs": [],
   "source": [
    "def gradient_descent(learning_rate,params,mse,data):\n",
    "    # 차이(mse)를 그냥 사용하면 차원이 맞지 않아 에러가 발생한다. (150,)차원의 데이터셋을 (150,1) 차원으로 변경해준다.\n",
    "    mse = mse.reshape(150,1)\n",
    "    # 차이(mse)와 데이터포인트(data)를 곱한 후, 각 열을 기준으로 더한 1*m의 행벡터를 생성한다\n",
    "    term_1 = np.sum((mse*data),axis=0)\n",
    "    # 이를 총 샘플수로 나누어 표준화 해준다\n",
    "    deriv_cost_function = term_1/np.shape(data)[0]\n",
    "    # 경사하강법을 사용한다. 로지스틱 비용함수는 볼록함수(convex)로서 전역 최솟값을 항상 보장한다.\n",
    "    params = params - learning_rate * deriv_cost_function\n",
    "    return(params)"
   ]
  },
  {
   "cell_type": "code",
   "execution_count": 472,
   "metadata": {},
   "outputs": [],
   "source": [
    "def scoring(logistic,target):\n",
    "    # target이 1일 경우 이 항이 활성화된다. \n",
    "    if_1 = target*np.log(logistic)\n",
    "    # target이 0일 경우 이 항이 활성화된다\n",
    "    if_0 = (1-target)*np.log(1-logistic)\n",
    "    # 모든 데이터 샘플의 cost를 총합한 후, 이를 샘플수로 나누어 평균 손실(로그 손실)함수를 구한다.\n",
    "    score = -(np.sum(if_1+if_0))/np.shape(data)[0]\n",
    "    return(score)"
   ]
  },
  {
   "cell_type": "code",
   "execution_count": 473,
   "metadata": {},
   "outputs": [],
   "source": [
    "def logistic_regression(data,target,iter,learning_rate):\n",
    "    result = dict()\n",
    "    score_array = np.array(np.nan)\n",
    "    # 임의의 랜덤 파라미터를 생성한다.\n",
    "    params = np.random.randn(np.shape(data)[0],np.shape(data)[1])\n",
    "    for i in range(0,iter):\n",
    "        # 앞서 정의한 logit함수에서 차이(mse)와 로지스틱 방정식을 통과시킨 logit값을 출력한다\n",
    "        mse,logit_result = logit(data,params,target)\n",
    "        # 경사하강법을 1회 실시한 파라미터를 출력한다\n",
    "        params = gradient_descent(learning_rate,params,mse,data)\n",
    "        # 한편, logit함수에서 출력된 logit_result를 넘겨받아 현재의 비용을 계산한다\n",
    "        score = scoring(logit_result,target)\n",
    "        # 손실함수의 score값을 누적하여 array에 저장한다.\n",
    "        score_array = np.append(score_array,score)\n",
    "        print(score)\n",
    "        # 비용함수가 \"nan\"으로 출력되면 iter를 중단한다\n",
    "        if str(score) == \"nan\":\n",
    "            break\n",
    "    result[\"params\"] = params\n",
    "    result[\"mse\"] = mse\n",
    "    result[\"logit_result\"] = logit_result\n",
    "    result[\"score_array\"] = score_array\n",
    "    \n",
    "    return(result)"
   ]
  },
  {
   "cell_type": "markdown",
   "metadata": {},
   "source": [
    "# 테스트"
   ]
  },
  {
   "cell_type": "code",
   "execution_count": null,
   "metadata": {
    "scrolled": true
   },
   "outputs": [],
   "source": [
    "test = logistic_regression(data,target,1000,0.5)"
   ]
  },
  {
   "cell_type": "code",
   "execution_count": null,
   "metadata": {},
   "outputs": [],
   "source": [
    "test[\"params\"]"
   ]
  },
  {
   "cell_type": "code",
   "execution_count": 475,
   "metadata": {},
   "outputs": [
    {
     "data": {
      "text/plain": [
       "[<matplotlib.lines.Line2D at 0x18d4665c588>]"
      ]
     },
     "execution_count": 475,
     "metadata": {},
     "output_type": "execute_result"
    },
    {
     "data": {
      "image/png": "[encoded data removed]",
      "text/plain": [
       "<Figure size 432x288 with 1 Axes>"
      ]
     },
     "metadata": {},
     "output_type": "display_data"
    }
   ],
   "source": [
    "plt.plot(test[\"score_array\"])"
   ]
  }
 ],
 "metadata": {
  "kernelspec": {
   "display_name": "tensor",
   "language": "python",
   "name": "tensorflow35"
  },
  "language_info": {
   "codemirror_mode": {
    "name": "ipython",
    "version": 3
   },
   "file_extension": ".py",
   "mimetype": "text/x-python",
   "name": "python",
   "nbconvert_exporter": "python",
   "pygments_lexer": "ipython3",
   "version": "3.5.5"
  }
 },
 "nbformat": 4,
 "nbformat_minor": 2
}
