{
 "cells": [
  {
   "cell_type": "code",
   "execution_count": 33,
   "metadata": {},
   "outputs": [],
   "source": [
    "from keras import models\n",
    "from keras.models import Sequential\n",
    "from keras.models import Model\n",
    "from keras.models import load_model\n",
    "from keras import backend as K\n",
    "\n",
    "from keras import layers\n",
    "from keras.layers import Layer\n",
    "from keras.layers import Input,Dense,Flatten,Embedding,Permute,Dot,Reshape\n",
    "from keras.layers.convolutional import Conv1D,MaxPooling1D,MaxPooling2D\n",
    "from keras.layers import Dropout\n",
    "from keras.layers import LSTM,GRU\n",
    "\n",
    "from keras.preprocessing import sequence\n",
    "from keras.utils import np_utils\n",
    "\n",
    "import tensorflow as tf\n",
    "\n",
    "from sklearn.model_selection import train_test_split\n",
    "from sklearn.feature_extraction.text import CountVectorizer\n",
    "\n",
    "import pandas as pd\n",
    "from pandas import DataFrame, Series\n",
    "import numpy as np\n",
    "\n",
    "import re\n",
    "\n",
    "import matplotlib as mpl\n",
    "import matplotlib.pyplot as plt\n",
    "import matplotlib.font_manager as fm\n",
    "\n",
    "import copy"
   ]
  },
  {
   "cell_type": "code",
   "execution_count": 34,
   "metadata": {},
   "outputs": [],
   "source": [
    "#토큰화 파일을 불러온다.\n",
    "\n",
    "rawdata = pd.read_csv(\"토큰화.csv\",engine=\"python\",encoding = \"cp949\")\n",
    "\n",
    "morphs = list()\n",
    "\n",
    "for i in range(0,len(rawdata)):\n",
    "    morphs.append(list(rawdata.loc[i,:].dropna()))\n",
    "\n",
    "del morphs[0]"
   ]
  },
  {
   "cell_type": "code",
   "execution_count": 35,
   "metadata": {},
   "outputs": [],
   "source": [
    "#색인 사전을 불러온다.\n",
    "\n",
    "morphsVectored = list()\n",
    "\n",
    "\n",
    "vocabulary = pd.read_csv(\"색인사전.csv\",engine=\"python\",encoding=\"cp949\")\n",
    "#del vocabulary[\"Unnamed: 0\"]\n",
    "\n",
    "vocabulary = vocabulary.to_dict(orient=\"records\")[0]"
   ]
  },
  {
   "cell_type": "code",
   "execution_count": 36,
   "metadata": {},
   "outputs": [
    {
     "data": {
      "text/html": [
       "<div>\n",
       "<style scoped>\n",
       "    .dataframe tbody tr th:only-of-type {\n",
       "        vertical-align: middle;\n",
       "    }\n",
       "\n",
       "    .dataframe tbody tr th {\n",
       "        vertical-align: top;\n",
       "    }\n",
       "\n",
       "    .dataframe thead th {\n",
       "        text-align: right;\n",
       "    }\n",
       "</style>\n",
       "<table border=\"1\" class=\"dataframe\">\n",
       "  <thead>\n",
       "    <tr style=\"text-align: right;\">\n",
       "      <th></th>\n",
       "      <th>reviews</th>\n",
       "      <th>source</th>\n",
       "      <th>target</th>\n",
       "    </tr>\n",
       "  </thead>\n",
       "  <tbody>\n",
       "    <tr>\n",
       "      <th>0</th>\n",
       "      <td>98년생들에게 추천하는 맛있는 맥주 \\n\\n1. 브르클린 라거\\n2. 펑크 IPA\\...</td>\n",
       "      <td>twitter</td>\n",
       "      <td>듀벨</td>\n",
       "    </tr>\n",
       "    <tr>\n",
       "      <th>1</th>\n",
       "      <td>퇴근 후 아내가 차려준 주안상과 함께하는 듀벨~\\n\\n#beer #belgian #...</td>\n",
       "      <td>twitter</td>\n",
       "      <td>듀벨</td>\n",
       "    </tr>\n",
       "    <tr>\n",
       "      <th>2</th>\n",
       "      <td>.\\n오랜만에 새로운 맥주 입고!\\n개인적으로 가장 좋아하는 #IPA #스컬핀 뉴시...</td>\n",
       "      <td>twitter</td>\n",
       "      <td>듀벨</td>\n",
       "    </tr>\n",
       "    <tr>\n",
       "      <th>3</th>\n",
       "      <td>스타ㅏㅏㅏ듀벨ㄹㄹ리이ㅣ이ㅣㅣ이ㅣㅣㅣ!!!!!!!!!~!~~!~!~!~!~!~!~!!...</td>\n",
       "      <td>twitter</td>\n",
       "      <td>듀벨</td>\n",
       "    </tr>\n",
       "    <tr>\n",
       "      <th>4</th>\n",
       "      <td>듀벨 트리플홉 2017이 입고됐습니다. 듀벨은 매년 기존 두 가지 홉 외에 하나를 ...</td>\n",
       "      <td>twitter</td>\n",
       "      <td>듀벨</td>\n",
       "    </tr>\n",
       "  </tbody>\n",
       "</table>\n",
       "</div>"
      ],
      "text/plain": [
       "                                             reviews   source target\n",
       "0  98년생들에게 추천하는 맛있는 맥주 \\n\\n1. 브르클린 라거\\n2. 펑크 IPA\\...  twitter     듀벨\n",
       "1  퇴근 후 아내가 차려준 주안상과 함께하는 듀벨~\\n\\n#beer #belgian #...  twitter     듀벨\n",
       "2  .\\n오랜만에 새로운 맥주 입고!\\n개인적으로 가장 좋아하는 #IPA #스컬핀 뉴시...  twitter     듀벨\n",
       "3  스타ㅏㅏㅏ듀벨ㄹㄹ리이ㅣ이ㅣㅣ이ㅣㅣㅣ!!!!!!!!!~!~~!~!~!~!~!~!~!!...  twitter     듀벨\n",
       "4  듀벨 트리플홉 2017이 입고됐습니다. 듀벨은 매년 기존 두 가지 홉 외에 하나를 ...  twitter     듀벨"
      ]
     },
     "execution_count": 36,
     "metadata": {},
     "output_type": "execute_result"
    }
   ],
   "source": [
    "#원본 데이터셋을 불러온다.\n",
    "\n",
    "a = pd.read_csv(\"beer.csv\",engine=\"python\",encoding=\"cp949\")\n",
    "a = a[a[\"reviews\"].duplicated() == False]\n",
    "a = a.reset_index()\n",
    "del a[\"index\"]\n",
    "\n",
    "#타겟과 텍스트를 따로 저장한다.\n",
    "target = a[\"target\"]\n",
    "text= a[\"reviews\"]\n",
    "\n",
    "a.head()"
   ]
  },
  {
   "cell_type": "code",
   "execution_count": 37,
   "metadata": {
    "scrolled": true
   },
   "outputs": [],
   "source": [
    "#로드한 토큰화 파일에서, 색인사전을 검색하여 토큰화 문장을 숫자 문장으로 바꿔준다.\n",
    "\n",
    "for i in morphs:\n",
    "    temporailyList = list()\n",
    "    for k in i:\n",
    "        #print(k)\n",
    "        try:\n",
    "            temporailyList.append(vocabulary[k])\n",
    "        except KeyError:\n",
    "            temporailyList.append(0)\n",
    "    morphsVectored.append(temporailyList)"
   ]
  },
  {
   "cell_type": "code",
   "execution_count": 38,
   "metadata": {},
   "outputs": [
    {
     "data": {
      "text/plain": [
       "array(['듀벨', '기네스', '버드와이저', '베를리너필스너', '블랑', '산미구엘', '삿포로', '스텔라', '아사히',\n",
       "       '칭따오', '카스', '칼스버그', '코로나', '코젤', '크롬바커', '필스너우르켈', '하이네켄', '하이트',\n",
       "       '베를리너', '헤페', '호가든', '삿포로맥주', '아사히맥주', '칭따오맥주', '필라이트', '필스너'],\n",
       "      dtype=object)"
      ]
     },
     "execution_count": 38,
     "metadata": {},
     "output_type": "execute_result"
    }
   ],
   "source": [
    "target.unique()"
   ]
  },
  {
   "cell_type": "markdown",
   "metadata": {},
   "source": [
    "## EDA"
   ]
  },
  {
   "cell_type": "code",
   "execution_count": 39,
   "metadata": {},
   "outputs": [
    {
     "name": "stdout",
     "output_type": "stream",
     "text": [
      "67316 67316\n"
     ]
    }
   ],
   "source": [
    "print(len(morphs),len(morphsVectored))"
   ]
  },
  {
   "cell_type": "code",
   "execution_count": 8,
   "metadata": {},
   "outputs": [],
   "source": [
    "## 윈도우 길이 탐색\n",
    "\n",
    "length = DataFrame()\n",
    "\n",
    "for i,j in enumerate(morphs):\n",
    "    good = DataFrame([len(j)],index=[i])\n",
    "    length = pd.concat([length,good],axis=0)"
   ]
  },
  {
   "cell_type": "code",
   "execution_count": 11,
   "metadata": {},
   "outputs": [
    {
     "data": {
      "text/plain": [
       "array([[<matplotlib.axes._subplots.AxesSubplot object at 0x00000168390114A8>]],\n",
       "      dtype=object)"
      ]
     },
     "execution_count": 11,
     "metadata": {},
     "output_type": "execute_result"
    },
    {
     "data": {
      "image/png": "[encoded data removed]",
      "text/plain": [
       "<Figure size 432x288 with 1 Axes>"
      ]
     },
     "metadata": {},
     "output_type": "display_data"
    }
   ],
   "source": [
    "#오리지널\n",
    "length.hist()"
   ]
  },
  {
   "cell_type": "code",
   "execution_count": 12,
   "metadata": {},
   "outputs": [
    {
     "name": "stdout",
     "output_type": "stream",
     "text": [
      "22\n"
     ]
    },
    {
     "data": {
      "image/png": "[encoded data removed]",
      "text/plain": [
       "<Figure size 432x288 with 1 Axes>"
      ]
     },
     "metadata": {},
     "output_type": "display_data"
    }
   ],
   "source": [
    "#첫 번째 트라이얼\n",
    "#해당 길이에서 자르면서 버려지는 문장의 수\n",
    "\n",
    "# 200개 이하 문장만 봤을때의 히스토그램\n",
    "\n",
    "length_cut = length[length[0]<200]\n",
    "\n",
    "length_cut.hist()\n",
    "\n",
    "print(len(length[length[0]>200]))"
   ]
  },
  {
   "cell_type": "code",
   "execution_count": 13,
   "metadata": {},
   "outputs": [
    {
     "name": "stdout",
     "output_type": "stream",
     "text": [
      "498\n"
     ]
    },
    {
     "data": {
      "image/png": "[encoded data removed]",
      "text/plain": [
       "<Figure size 432x288 with 1 Axes>"
      ]
     },
     "metadata": {},
     "output_type": "display_data"
    }
   ],
   "source": [
    "#첫 번째 트라이얼\n",
    "#해당 길이에서 자르면서 버려지는 문장의 수\n",
    "\n",
    "# 200개 이하 문장만 봤을때의 히스토그램\n",
    "\n",
    "length_cut = length[length[0]<100]\n",
    "\n",
    "length_cut.hist()\n",
    "\n",
    "print(len(length[length[0]>100]))"
   ]
  },
  {
   "cell_type": "code",
   "execution_count": 18,
   "metadata": {},
   "outputs": [
    {
     "name": "stdout",
     "output_type": "stream",
     "text": [
      "1946\n"
     ]
    },
    {
     "data": {
      "image/png": "[encoded data removed]",
      "text/plain": [
       "<Figure size 432x288 with 1 Axes>"
      ]
     },
     "metadata": {},
     "output_type": "display_data"
    }
   ],
   "source": [
    "#첫 번째 트라이얼\n",
    "#해당 길이에서 자르면서 버려지는 문장의 수\n",
    "\n",
    "# 200개 이하 문장만 봤을때의 히스토그램\n",
    "\n",
    "length_cut = length[length[0]<60]\n",
    "\n",
    "length_cut.hist()\n",
    "\n",
    "print(len(length[length[0]>60]))"
   ]
  },
  {
   "cell_type": "code",
   "execution_count": 9,
   "metadata": {},
   "outputs": [],
   "source": [
    "length_cut = length[length[0]<60]\n",
    "morphsVectored = Series(morphsVectored)[length_cut.index].tolist()"
   ]
  },
  {
   "cell_type": "code",
   "execution_count": 10,
   "metadata": {},
   "outputs": [
    {
     "data": {
      "text/plain": [
       "65076"
      ]
     },
     "execution_count": 10,
     "metadata": {},
     "output_type": "execute_result"
    }
   ],
   "source": [
    "len(morphsVectored)"
   ]
  },
  {
   "cell_type": "code",
   "execution_count": 43,
   "metadata": {},
   "outputs": [
    {
     "name": "stdout",
     "output_type": "stream",
     "text": [
      "20.730732663854063 17.980981453857844\n"
     ]
    }
   ],
   "source": [
    "a = 0\n",
    "b = 0\n",
    "\n",
    "for i in range(0,len(morphs)):\n",
    "    a += len(morphs[i])\n",
    "\n",
    "mu = a/len(morphs)\n",
    "\n",
    "for i in range(0, len(morphs)):\n",
    "    b += ((len(morphs[i]) - mu)**2)\n",
    "    #print(b)\n",
    "\n",
    "std_dev = (b/len(morphs))**0.5\n",
    "\n",
    "print(mu,std_dev)\n",
    "\n",
    "size= mu + (std_dev*2)"
   ]
  },
  {
   "cell_type": "code",
   "execution_count": 40,
   "metadata": {},
   "outputs": [
    {
     "name": "stderr",
     "output_type": "stream",
     "text": [
      "C:\\Users\\User\\Anaconda3\\envs\\tensorflow36\\lib\\site-packages\\ipykernel_launcher.py:7: FutureWarning: elementwise comparison failed; returning scalar instead, but in the future will perform elementwise comparison\n",
      "  import sys\n"
     ]
    }
   ],
   "source": [
    "#토큰화 문장에서 맥주 키워드(듀벨, 기네스, 카스 ,하이트 등등)을 제거한다.\n",
    "\n",
    "preprocessing_target_from_target = target.unique()\n",
    "\n",
    "for j,i in enumerate(morphs):\n",
    "    for k in preprocessing_target_from_target:\n",
    "        for l in np.where(np.array(i) == k)[0]:\n",
    "            try:\n",
    "                del morphs[j][l]\n",
    "            except IndexError : \n",
    "                pass"
   ]
  },
  {
   "cell_type": "code",
   "execution_count": 41,
   "metadata": {},
   "outputs": [],
   "source": [
    "vectorized_seq = sequence.pad_sequences(morphsVectored,maxlen = 50)"
   ]
  },
  {
   "cell_type": "code",
   "execution_count": 46,
   "metadata": {},
   "outputs": [
    {
     "name": "stdout",
     "output_type": "stream",
     "text": [
      "[]\n"
     ]
    }
   ],
   "source": [
    "listed = list()\n",
    "error = list()\n",
    "\n",
    "for i in target:\n",
    "    try:\n",
    "        listed.append(vocabulary[i])\n",
    "    except : \n",
    "        error.append(i)\n",
    "print(pd.unique(error))"
   ]
  },
  {
   "cell_type": "code",
   "execution_count": 10,
   "metadata": {},
   "outputs": [
    {
     "ename": "NameError",
     "evalue": "name 'length_cut' is not defined",
     "output_type": "error",
     "traceback": [
      "\u001b[1;31m---------------------------------------------------------------------------\u001b[0m",
      "\u001b[1;31mNameError\u001b[0m                                 Traceback (most recent call last)",
      "\u001b[1;32m<ipython-input-10-11406af7b90d>\u001b[0m in \u001b[0;36m<module>\u001b[1;34m()\u001b[0m\n\u001b[0;32m      1\u001b[0m \u001b[1;31m#타겟도 숫자를 맞춰준다.\u001b[0m\u001b[1;33m\u001b[0m\u001b[1;33m\u001b[0m\u001b[0m\n\u001b[0;32m      2\u001b[0m \u001b[1;33m\u001b[0m\u001b[0m\n\u001b[1;32m----> 3\u001b[1;33m \u001b[0mtarget\u001b[0m \u001b[1;33m=\u001b[0m \u001b[0mSeries\u001b[0m\u001b[1;33m(\u001b[0m\u001b[0mtarget\u001b[0m\u001b[1;33m)\u001b[0m\u001b[1;33m[\u001b[0m\u001b[0mlength_cut\u001b[0m\u001b[1;33m.\u001b[0m\u001b[0mindex\u001b[0m\u001b[1;33m.\u001b[0m\u001b[0mtolist\u001b[0m\u001b[1;33m(\u001b[0m\u001b[1;33m)\u001b[0m\u001b[1;33m]\u001b[0m\u001b[1;33m\u001b[0m\u001b[0m\n\u001b[0m",
      "\u001b[1;31mNameError\u001b[0m: name 'length_cut' is not defined"
     ]
    }
   ],
   "source": [
    "#타겟도 숫자를 맞춰준다.\n",
    "\n",
    "target = Series(target)[length_cut.index.tolist()]"
   ]
  },
  {
   "cell_type": "code",
   "execution_count": 43,
   "metadata": {},
   "outputs": [],
   "source": [
    "names = re.compile(\"[맥주]+\")\n",
    "\n",
    "for i,j in target.items():\n",
    "    if j.endswith(\"맥주\"):\n",
    "        target[i] = names.sub(\"\",j)\n",
    "    else : pass"
   ]
  },
  {
   "cell_type": "code",
   "execution_count": 44,
   "metadata": {},
   "outputs": [],
   "source": [
    "names = re.compile(\"[베를리너]+\")\n",
    "\n",
    "for i,j in target.items():\n",
    "    if j.endswith(\"필스너\"):\n",
    "        target[i] = names.sub(\"\",j)\n",
    "    else : pass"
   ]
  },
  {
   "cell_type": "code",
   "execution_count": 45,
   "metadata": {},
   "outputs": [],
   "source": [
    "names = re.compile(\"[우르켈]+\")\n",
    "\n",
    "for i,j in target.items():\n",
    "    if j.endswith(\"우르켈\"):\n",
    "        target[i] = names.sub(\"\",j)\n",
    "    else : pass"
   ]
  },
  {
   "cell_type": "code",
   "execution_count": 47,
   "metadata": {},
   "outputs": [],
   "source": [
    "X_train,X_test,y_train,y_test = train_test_split(vectorized_seq, target)"
   ]
  },
  {
   "cell_type": "code",
   "execution_count": 49,
   "metadata": {},
   "outputs": [],
   "source": [
    "## 타겟 변수 임베딩 버젼\n",
    "\n",
    "zero_pad_train = np.array([[0,vocabulary[i]] for i in y_train])\n",
    "zero_pad_test = np.array([[0,vocabulary[i]] for i in y_test])"
   ]
  },
  {
   "cell_type": "code",
   "execution_count": 50,
   "metadata": {},
   "outputs": [
    {
     "data": {
      "text/plain": [
       "array([[    0, 48647],\n",
       "       [    0, 49981],\n",
       "       [    0, 48863],\n",
       "       ...,\n",
       "       [    0, 45334],\n",
       "       [    0, 48863],\n",
       "       [    0, 33308]], dtype=int64)"
      ]
     },
     "execution_count": 50,
     "metadata": {},
     "output_type": "execute_result"
    }
   ],
   "source": [
    "zero_pad_train"
   ]
  },
  {
   "cell_type": "code",
   "execution_count": 51,
   "metadata": {},
   "outputs": [
    {
     "name": "stdout",
     "output_type": "stream",
     "text": [
      "50487 50487\n"
     ]
    }
   ],
   "source": [
    "print(len(zero_pad_train),len(y_train))"
   ]
  },
  {
   "cell_type": "code",
   "execution_count": 52,
   "metadata": {},
   "outputs": [],
   "source": [
    "#타겟 인코딩\n",
    "\n",
    "from sklearn.preprocessing import LabelEncoder\n",
    "\n",
    "le = LabelEncoder()\n",
    "y_train = le.fit_transform(y_train)\n",
    "y_test = le.fit_transform(y_test)"
   ]
  },
  {
   "cell_type": "code",
   "execution_count": 53,
   "metadata": {},
   "outputs": [],
   "source": [
    "a = le.inverse_transform(y_train)\n",
    "\n",
    "pd.unique(y_train)\n",
    "\n",
    "pd.unique(a)\n",
    "\n",
    "target_dict = {i:j for i,j in zip(pd.unique(y_train),pd.unique(a))}"
   ]
  },
  {
   "cell_type": "code",
   "execution_count": 54,
   "metadata": {},
   "outputs": [],
   "source": [
    "y_train = np.array([[i,i]for i in y_train])\n",
    "y_test = np.array([[i,i]for i in y_test])"
   ]
  },
  {
   "cell_type": "code",
   "execution_count": 55,
   "metadata": {},
   "outputs": [],
   "source": [
    "y_train = np_utils.to_categorical(y_train)\n",
    "y_test = np_utils.to_categorical(y_test)"
   ]
  },
  {
   "cell_type": "code",
   "execution_count": 56,
   "metadata": {},
   "outputs": [],
   "source": [
    "#y_train = y_train[:,np.newaxis,:]\n",
    "#y_test = y_test[:,np.newaxis,:]"
   ]
  },
  {
   "cell_type": "code",
   "execution_count": 57,
   "metadata": {},
   "outputs": [
    {
     "data": {
      "text/plain": [
       "array([[[0., 0., 0., ..., 0., 0., 0.],\n",
       "        [0., 0., 0., ..., 0., 0., 0.]],\n",
       "\n",
       "       [[0., 0., 0., ..., 0., 0., 1.],\n",
       "        [0., 0., 0., ..., 0., 0., 1.]],\n",
       "\n",
       "       [[0., 0., 0., ..., 0., 0., 0.],\n",
       "        [0., 0., 0., ..., 0., 0., 0.]],\n",
       "\n",
       "       ...,\n",
       "\n",
       "       [[0., 0., 0., ..., 0., 0., 0.],\n",
       "        [0., 0., 0., ..., 0., 0., 0.]],\n",
       "\n",
       "       [[0., 0., 0., ..., 0., 0., 0.],\n",
       "        [0., 0., 0., ..., 0., 0., 0.]],\n",
       "\n",
       "       [[0., 0., 0., ..., 0., 0., 0.],\n",
       "        [0., 0., 0., ..., 0., 0., 0.]]], dtype=float32)"
      ]
     },
     "execution_count": 57,
     "metadata": {},
     "output_type": "execute_result"
    }
   ],
   "source": [
    "y_train"
   ]
  },
  {
   "cell_type": "code",
   "execution_count": 58,
   "metadata": {},
   "outputs": [],
   "source": [
    "Series(target_dict).sort_index().to_csv(\"타겟.csv\",encoding=\"cp949\")"
   ]
  },
  {
   "cell_type": "markdown",
   "metadata": {},
   "source": [
    "# 모델 적합"
   ]
  },
  {
   "cell_type": "markdown",
   "metadata": {},
   "source": [
    "### 신 BI-GRU with attention 모델"
   ]
  },
  {
   "cell_type": "code",
   "execution_count": 59,
   "metadata": {
    "scrolled": false
   },
   "outputs": [
    {
     "name": "stdout",
     "output_type": "stream",
     "text": [
      "__________________________________________________________________________________________________\n",
      "Layer (type)                    Output Shape         Param #     Connected to                     \n",
      "==================================================================================================\n",
      "Feed_ZeroPad_for_Decoder (Input (None, 2)            0                                            \n",
      "__________________________________________________________________________________________________\n",
      "Feed_Sentence (InputLayer)      (None, 50)           0                                            \n",
      "__________________________________________________________________________________________________\n",
      "embedding_2 (Embedding)         multiple             6537344     Feed_Sentence[0][0]              \n",
      "                                                                 Feed_ZeroPad_for_Decoder[0][0]   \n",
      "__________________________________________________________________________________________________\n",
      "dropout_2 (Dropout)             (None, 50, 128)      0           embedding_2[0][0]                \n",
      "__________________________________________________________________________________________________\n",
      "conv1d_2 (Conv1D)               (None, 48, 256)      98560       dropout_2[0][0]                  \n",
      "__________________________________________________________________________________________________\n",
      "max_pooling1d_2 (MaxPooling1D)  (None, 12, 256)      0           conv1d_2[0][0]                   \n",
      "__________________________________________________________________________________________________\n",
      "Encoder1 (GRU)                  [(None, 12, 128), (N 147840      max_pooling1d_2[0][0]            \n",
      "__________________________________________________________________________________________________\n",
      "Encoder2 (GRU)                  [(None, 12, 128), (N 147840      max_pooling1d_2[0][0]            \n",
      "__________________________________________________________________________________________________\n",
      "Decoder1 (GRU)                  (None, 2, 128)       98688       embedding_2[1][0]                \n",
      "                                                                 Encoder1[0][1]                   \n",
      "__________________________________________________________________________________________________\n",
      "Decoder2 (GRU)                  (None, 2, 128)       98688       embedding_2[1][0]                \n",
      "                                                                 Encoder2[0][1]                   \n",
      "__________________________________________________________________________________________________\n",
      "Decoder_output (Concatenate)    (None, 2, 256)       0           Decoder1[0][0]                   \n",
      "                                                                 Decoder2[0][0]                   \n",
      "__________________________________________________________________________________________________\n",
      "attention_matrix (Concatenate)  (None, 12, 256)      0           Encoder1[0][0]                   \n",
      "                                                                 Encoder2[0][0]                   \n",
      "__________________________________________________________________________________________________\n",
      "Cosine_similarity (Dot)         (None, 2, 12)        0           Decoder_output[0][0]             \n",
      "                                                                 attention_matrix[0][0]           \n",
      "__________________________________________________________________________________________________\n",
      "attention_score_from_Softmax (S (None, 2, 12)        0           Cosine_similarity[0][0]          \n",
      "__________________________________________________________________________________________________\n",
      "weighted_attention_matrix (Lamb (None, 2, None, 256) 0           attention_score_from_Softmax[0][0\n",
      "                                                                 attention_matrix[0][0]           \n",
      "__________________________________________________________________________________________________\n",
      "Making_context_vector (Lambda)  (None, 2, 256)       0           weighted_attention_matrix[0][0]  \n",
      "__________________________________________________________________________________________________\n",
      "Concatenate_Decoder_O_and_Conte (None, 2, 512)       0           Decoder_output[0][0]             \n",
      "                                                                 Making_context_vector[0][0]      \n",
      "__________________________________________________________________________________________________\n",
      "Feed_forward (Dense)            (None, 2, 512)       262656      Concatenate_Decoder_O_and_Context\n",
      "__________________________________________________________________________________________________\n",
      "dense_2 (Dense)                 (None, 2, 22)        11286       Feed_forward[0][0]               \n",
      "==================================================================================================\n",
      "Total params: 7,402,902\n",
      "Trainable params: 7,402,902\n",
      "Non-trainable params: 0\n",
      "__________________________________________________________________________________________________\n"
     ]
    }
   ],
   "source": [
    "#tf.reset_default_graph\n",
    "\n",
    "## GRU 입력 전 사전처리 모듈(임베딩 -> 컨볼루션 -> 맥스풀링)\n",
    "\n",
    "inputs = layers.Input(shape=[50],name = \"Feed_Sentence\")\n",
    "\n",
    "embed = layers.Embedding(len(vocabulary)+1,128)\n",
    "\n",
    "embed_i = embed(inputs)\n",
    "model = layers.Dropout(0.2)(embed_i)\n",
    "model = layers.Conv1D(256,3,padding=\"valid\",activation=\"relu\",strides=1)(model)\n",
    "model = layers.MaxPooling1D(pool_size = 4)(model)\n",
    "\n",
    "inputs_d = layers.Input(shape = [2],name = \"Feed_ZeroPad_for_Decoder\")\n",
    "embed_o = embed(inputs_d)\n",
    "#embed_o = layers.Concatenate(axis=-1,name=\"embed_o_Doubled\")([embed_o,embed_o])\n",
    "\n",
    "\n",
    "#Bi-GRU 인코더 - 디코더 네트워크\n",
    "Encoder1 = layers.GRU(128,return_sequences = True,return_state = True,name=\"Encoder1\")\n",
    "Encoder2 = layers.GRU(128,return_sequences = True,return_state = True,go_backwards = True,name=\"Encoder2\")\n",
    "attention_matrix1,initial_1 = Encoder1(model)\n",
    "attention_matrix2,initial_2 = Encoder2(model)\n",
    "attention_matrix = layers.Concatenate(axis=-1,name = \"attention_matrix\")([attention_matrix1,attention_matrix2])\n",
    "\n",
    "\n",
    "Decoder1 = layers.GRU(128,return_sequences = True,name=\"Decoder1\")\n",
    "Decoder2 = layers.GRU(128,return_sequences = True,name=\"Decoder2\")\n",
    "Decoder1_output = Decoder1(embed_o,initial_state = initial_1)\n",
    "Decoder2_output = Decoder2(embed_o,initial_state = initial_2)\n",
    "Decoder_output = layers.Concatenate(axis=-1,name=\"Decoder_output\")([Decoder1_output,Decoder2_output])\n",
    "\n",
    "\n",
    "##어텐션 메커니즘 부분\n",
    "\n",
    "#normalize = True로 켠 상태에서, 코싸인 유사도를 구할 수 있도록 둘을 내적한다.  \n",
    "Cosine_similarity = layers.dot([Decoder_output,attention_matrix],axes = -1,normalize=True,name=\"Cosine_similarity\")\n",
    "\n",
    "#유사도 벡터를 softmax층에 통과시켜 총합이 1인 확률로 변환한다. 이를 attention_score로 명명한다.\n",
    "attention_score_layer = layers.Softmax(axis=-1,name=\"attention_score_from_Softmax\") \n",
    "attention_score = attention_score_layer(Cosine_similarity)\n",
    "\n",
    "#Softmax 변환된 attention_score를 최초의 attention_matrix와 각각 내적한다.\n",
    "#Transpose_attention_matrix = layers.Permute((2,1),name = \"Transpose_attention_matrix\")(attention_matrix)\n",
    "weighted_attention_matrix = layers.Lambda(lambda x: K.dot(x[0],x[1]),name=\"weighted_attention_matrix\")([attention_score,attention_matrix])\n",
    "#weighted_attention_matrix = layers.multiply([attention_score,Transpose_attention_matrix],name=\"weighted_attention_matrix\")\n",
    "\n",
    "#확률과 내적한 가중 attention_matrix의 열벡터를 모두 더해 1D 텐서인 context vector를 만들어준다.(1 * 256)\n",
    "context_vector = layers.Lambda(lambda x: K.sum(x, axis=2),name=\"Making_context_vector\")(weighted_attention_matrix)\n",
    "#context_vector_reshape = layers.Reshape((1,-1),name=\"Reshape_to_3D_tensor\")(context_vector)\n",
    "\n",
    "concat = layers.Concatenate(axis=-1,name = \"Concatenate_Decoder_O_and_Context_Vector\")([Decoder_output,context_vector])\n",
    "\n",
    "Feed_forward = layers.Dense(512,activation = \"tanh\",name=\"Feed_forward\")\n",
    "finally_output = Feed_forward(concat)\n",
    "\n",
    "predicts = layers.Dense(22,activation=\"softmax\")(finally_output)\n",
    "\n",
    "GRUs = Model(inputs = [inputs,inputs_d], outputs = [predicts])\n",
    "GRUs.summary()"
   ]
  },
  {
   "cell_type": "code",
   "execution_count": 60,
   "metadata": {
    "scrolled": false
   },
   "outputs": [
    {
     "data": {
      "image/svg+xml": [
       "<svg height=\"1217pt\" viewBox=\"0.00 0.00 1292.00 1217.00\" width=\"1292pt\" xmlns=\"http://www.w3.org/2000/svg\" xmlns:xlink=\"http://www.w3.org/1999/xlink\">\n",
       "<g class=\"graph\" id=\"graph0\" transform=\"scale(1 1) rotate(0) translate(4 1213)\">\n",
       "<title>G</title>\n",
       "<polygon fill=\"white\" points=\"-4,4 -4,-1213 1288,-1213 1288,4 -4,4\" stroke=\"none\"/>\n",
       "<!-- 2261457158272 -->\n",
       "<g class=\"node\" id=\"node1\"><title>2261457158272</title>\n",
       "<polygon fill=\"none\" points=\"257,-1162.5 257,-1208.5 630,-1208.5 630,-1162.5 257,-1162.5\" stroke=\"black\"/>\n",
       "<text font-family=\"Times New Roman,serif\" font-size=\"14.00\" text-anchor=\"middle\" x=\"380.5\" y=\"-1181.8\">Feed_ZeroPad_for_Decoder: InputLayer</text>\n",
       "<polyline fill=\"none\" points=\"504,-1162.5 504,-1208.5 \" stroke=\"black\"/>\n",
       "<text font-family=\"Times New Roman,serif\" font-size=\"14.00\" text-anchor=\"middle\" x=\"532\" y=\"-1193.3\">input:</text>\n",
       "<polyline fill=\"none\" points=\"504,-1185.5 560,-1185.5 \" stroke=\"black\"/>\n",
       "<text font-family=\"Times New Roman,serif\" font-size=\"14.00\" text-anchor=\"middle\" x=\"532\" y=\"-1170.3\">output:</text>\n",
       "<polyline fill=\"none\" points=\"560,-1162.5 560,-1208.5 \" stroke=\"black\"/>\n",
       "<text font-family=\"Times New Roman,serif\" font-size=\"14.00\" text-anchor=\"middle\" x=\"595\" y=\"-1193.3\">(None, 2)</text>\n",
       "<polyline fill=\"none\" points=\"560,-1185.5 630,-1185.5 \" stroke=\"black\"/>\n",
       "<text font-family=\"Times New Roman,serif\" font-size=\"14.00\" text-anchor=\"middle\" x=\"595\" y=\"-1170.3\">(None, 2)</text>\n",
       "</g>\n",
       "<!-- 2261457161520 -->\n",
       "<g class=\"node\" id=\"node3\"><title>2261457161520</title>\n",
       "<polygon fill=\"none\" points=\"482,-1079.5 482,-1125.5 761,-1125.5 761,-1079.5 482,-1079.5\" stroke=\"black\"/>\n",
       "<text font-family=\"Times New Roman,serif\" font-size=\"14.00\" text-anchor=\"middle\" x=\"563.5\" y=\"-1098.8\">embedding_2: Embedding</text>\n",
       "<polyline fill=\"none\" points=\"645,-1079.5 645,-1125.5 \" stroke=\"black\"/>\n",
       "<text font-family=\"Times New Roman,serif\" font-size=\"14.00\" text-anchor=\"middle\" x=\"673\" y=\"-1110.3\">input:</text>\n",
       "<polyline fill=\"none\" points=\"645,-1102.5 701,-1102.5 \" stroke=\"black\"/>\n",
       "<text font-family=\"Times New Roman,serif\" font-size=\"14.00\" text-anchor=\"middle\" x=\"673\" y=\"-1087.3\">output:</text>\n",
       "<polyline fill=\"none\" points=\"701,-1079.5 701,-1125.5 \" stroke=\"black\"/>\n",
       "<text font-family=\"Times New Roman,serif\" font-size=\"14.00\" text-anchor=\"middle\" x=\"731\" y=\"-1110.3\">multiple</text>\n",
       "<polyline fill=\"none\" points=\"701,-1102.5 761,-1102.5 \" stroke=\"black\"/>\n",
       "<text font-family=\"Times New Roman,serif\" font-size=\"14.00\" text-anchor=\"middle\" x=\"731\" y=\"-1087.3\">multiple</text>\n",
       "</g>\n",
       "<!-- 2261457158272&#45;&gt;2261457161520 -->\n",
       "<g class=\"edge\" id=\"edge2\"><title>2261457158272-&gt;2261457161520</title>\n",
       "<path d=\"M492.139,-1162.37C514.214,-1152.32 540.491,-1140.36 563.578,-1129.86\" fill=\"none\" stroke=\"black\"/>\n",
       "<polygon fill=\"black\" points=\"565.267,-1132.93 572.92,-1125.61 562.368,-1126.56 565.267,-1132.93\" stroke=\"black\"/>\n",
       "</g>\n",
       "<!-- 2261457161632 -->\n",
       "<g class=\"node\" id=\"node2\"><title>2261457161632</title>\n",
       "<polygon fill=\"none\" points=\"648,-1162.5 648,-1208.5 951,-1208.5 951,-1162.5 648,-1162.5\" stroke=\"black\"/>\n",
       "<text font-family=\"Times New Roman,serif\" font-size=\"14.00\" text-anchor=\"middle\" x=\"733\" y=\"-1181.8\">Feed_Sentence: InputLayer</text>\n",
       "<polyline fill=\"none\" points=\"818,-1162.5 818,-1208.5 \" stroke=\"black\"/>\n",
       "<text font-family=\"Times New Roman,serif\" font-size=\"14.00\" text-anchor=\"middle\" x=\"846\" y=\"-1193.3\">input:</text>\n",
       "<polyline fill=\"none\" points=\"818,-1185.5 874,-1185.5 \" stroke=\"black\"/>\n",
       "<text font-family=\"Times New Roman,serif\" font-size=\"14.00\" text-anchor=\"middle\" x=\"846\" y=\"-1170.3\">output:</text>\n",
       "<polyline fill=\"none\" points=\"874,-1162.5 874,-1208.5 \" stroke=\"black\"/>\n",
       "<text font-family=\"Times New Roman,serif\" font-size=\"14.00\" text-anchor=\"middle\" x=\"912.5\" y=\"-1193.3\">(None, 50)</text>\n",
       "<polyline fill=\"none\" points=\"874,-1185.5 951,-1185.5 \" stroke=\"black\"/>\n",
       "<text font-family=\"Times New Roman,serif\" font-size=\"14.00\" text-anchor=\"middle\" x=\"912.5\" y=\"-1170.3\">(None, 50)</text>\n",
       "</g>\n",
       "<!-- 2261457161632&#45;&gt;2261457161520 -->\n",
       "<g class=\"edge\" id=\"edge1\"><title>2261457161632-&gt;2261457161520</title>\n",
       "<path d=\"M750.861,-1162.37C728.786,-1152.32 702.509,-1140.36 679.422,-1129.86\" fill=\"none\" stroke=\"black\"/>\n",
       "<polygon fill=\"black\" points=\"680.632,-1126.56 670.08,-1125.61 677.733,-1132.93 680.632,-1126.56\" stroke=\"black\"/>\n",
       "</g>\n",
       "<!-- 2261457160624 -->\n",
       "<g class=\"node\" id=\"node4\"><title>2261457160624</title>\n",
       "<polygon fill=\"none\" points=\"583.5,-996.5 583.5,-1042.5 873.5,-1042.5 873.5,-996.5 583.5,-996.5\" stroke=\"black\"/>\n",
       "<text font-family=\"Times New Roman,serif\" font-size=\"14.00\" text-anchor=\"middle\" x=\"648.5\" y=\"-1015.8\">dropout_2: Dropout</text>\n",
       "<polyline fill=\"none\" points=\"713.5,-996.5 713.5,-1042.5 \" stroke=\"black\"/>\n",
       "<text font-family=\"Times New Roman,serif\" font-size=\"14.00\" text-anchor=\"middle\" x=\"741.5\" y=\"-1027.3\">input:</text>\n",
       "<polyline fill=\"none\" points=\"713.5,-1019.5 769.5,-1019.5 \" stroke=\"black\"/>\n",
       "<text font-family=\"Times New Roman,serif\" font-size=\"14.00\" text-anchor=\"middle\" x=\"741.5\" y=\"-1004.3\">output:</text>\n",
       "<polyline fill=\"none\" points=\"769.5,-996.5 769.5,-1042.5 \" stroke=\"black\"/>\n",
       "<text font-family=\"Times New Roman,serif\" font-size=\"14.00\" text-anchor=\"middle\" x=\"821.5\" y=\"-1027.3\">(None, 50, 128)</text>\n",
       "<polyline fill=\"none\" points=\"769.5,-1019.5 873.5,-1019.5 \" stroke=\"black\"/>\n",
       "<text font-family=\"Times New Roman,serif\" font-size=\"14.00\" text-anchor=\"middle\" x=\"821.5\" y=\"-1004.3\">(None, 50, 128)</text>\n",
       "</g>\n",
       "<!-- 2261457161520&#45;&gt;2261457160624 -->\n",
       "<g class=\"edge\" id=\"edge3\"><title>2261457161520-&gt;2261457160624</title>\n",
       "<path d=\"M650.738,-1079.37C663.241,-1069.9 677.987,-1058.74 691.258,-1048.69\" fill=\"none\" stroke=\"black\"/>\n",
       "<polygon fill=\"black\" points=\"693.437,-1051.43 699.297,-1042.61 689.212,-1045.85 693.437,-1051.43\" stroke=\"black\"/>\n",
       "</g>\n",
       "<!-- 2261456680104 -->\n",
       "<g class=\"node\" id=\"node9\"><title>2261456680104</title>\n",
       "<polygon fill=\"none\" points=\"0,-664.5 0,-710.5 345,-710.5 345,-664.5 0,-664.5\" stroke=\"black\"/>\n",
       "<text font-family=\"Times New Roman,serif\" font-size=\"14.00\" text-anchor=\"middle\" x=\"54\" y=\"-683.8\">Decoder1: GRU</text>\n",
       "<polyline fill=\"none\" points=\"108,-664.5 108,-710.5 \" stroke=\"black\"/>\n",
       "<text font-family=\"Times New Roman,serif\" font-size=\"14.00\" text-anchor=\"middle\" x=\"136\" y=\"-695.3\">input:</text>\n",
       "<polyline fill=\"none\" points=\"108,-687.5 164,-687.5 \" stroke=\"black\"/>\n",
       "<text font-family=\"Times New Roman,serif\" font-size=\"14.00\" text-anchor=\"middle\" x=\"136\" y=\"-672.3\">output:</text>\n",
       "<polyline fill=\"none\" points=\"164,-664.5 164,-710.5 \" stroke=\"black\"/>\n",
       "<text font-family=\"Times New Roman,serif\" font-size=\"14.00\" text-anchor=\"middle\" x=\"254.5\" y=\"-695.3\">[(None, 2, 128), (None, 128)]</text>\n",
       "<polyline fill=\"none\" points=\"164,-687.5 345,-687.5 \" stroke=\"black\"/>\n",
       "<text font-family=\"Times New Roman,serif\" font-size=\"14.00\" text-anchor=\"middle\" x=\"254.5\" y=\"-672.3\">(None, 2, 128)</text>\n",
       "</g>\n",
       "<!-- 2261457161520&#45;&gt;2261456680104 -->\n",
       "<g class=\"edge\" id=\"edge8\"><title>2261457161520-&gt;2261456680104</title>\n",
       "<path d=\"M599.134,-1079.5C590.036,-1069.25 580.313,-1056.38 574.5,-1043 562.359,-1015.05 551.97,-797.142 535.5,-771.5\" fill=\"none\" stroke=\"black\"/>\n",
       "<path d=\"M535.5,-769.5C521.505,-751.696 413.842,-729.081 319.372,-712.274\" fill=\"none\" stroke=\"black\"/>\n",
       "<polygon fill=\"black\" points=\"319.853,-708.805 309.397,-710.512 318.635,-715.698 319.853,-708.805\" stroke=\"black\"/>\n",
       "</g>\n",
       "<!-- 2261456680216 -->\n",
       "<g class=\"node\" id=\"node10\"><title>2261456680216</title>\n",
       "<polygon fill=\"none\" points=\"363,-664.5 363,-710.5 708,-710.5 708,-664.5 363,-664.5\" stroke=\"black\"/>\n",
       "<text font-family=\"Times New Roman,serif\" font-size=\"14.00\" text-anchor=\"middle\" x=\"417\" y=\"-683.8\">Decoder2: GRU</text>\n",
       "<polyline fill=\"none\" points=\"471,-664.5 471,-710.5 \" stroke=\"black\"/>\n",
       "<text font-family=\"Times New Roman,serif\" font-size=\"14.00\" text-anchor=\"middle\" x=\"499\" y=\"-695.3\">input:</text>\n",
       "<polyline fill=\"none\" points=\"471,-687.5 527,-687.5 \" stroke=\"black\"/>\n",
       "<text font-family=\"Times New Roman,serif\" font-size=\"14.00\" text-anchor=\"middle\" x=\"499\" y=\"-672.3\">output:</text>\n",
       "<polyline fill=\"none\" points=\"527,-664.5 527,-710.5 \" stroke=\"black\"/>\n",
       "<text font-family=\"Times New Roman,serif\" font-size=\"14.00\" text-anchor=\"middle\" x=\"617.5\" y=\"-695.3\">[(None, 2, 128), (None, 128)]</text>\n",
       "<polyline fill=\"none\" points=\"527,-687.5 708,-687.5 \" stroke=\"black\"/>\n",
       "<text font-family=\"Times New Roman,serif\" font-size=\"14.00\" text-anchor=\"middle\" x=\"617.5\" y=\"-672.3\">(None, 2, 128)</text>\n",
       "</g>\n",
       "<!-- 2261457161520&#45;&gt;2261456680216 -->\n",
       "<g class=\"edge\" id=\"edge10\"><title>2261457161520-&gt;2261456680216</title>\n",
       "<path d=\"M535.5,-769.5C526.336,-755.232 525.805,-736.434 527.808,-720.538\" fill=\"none\" stroke=\"black\"/>\n",
       "<polygon fill=\"black\" points=\"531.275,-721.021 529.424,-710.589 524.366,-719.898 531.275,-721.021\" stroke=\"black\"/>\n",
       "</g>\n",
       "<!-- 2261457161296 -->\n",
       "<g class=\"node\" id=\"node5\"><title>2261457161296</title>\n",
       "<polygon fill=\"none\" points=\"595,-913.5 595,-959.5 882,-959.5 882,-913.5 595,-913.5\" stroke=\"black\"/>\n",
       "<text font-family=\"Times New Roman,serif\" font-size=\"14.00\" text-anchor=\"middle\" x=\"658.5\" y=\"-932.8\">conv1d_2: Conv1D</text>\n",
       "<polyline fill=\"none\" points=\"722,-913.5 722,-959.5 \" stroke=\"black\"/>\n",
       "<text font-family=\"Times New Roman,serif\" font-size=\"14.00\" text-anchor=\"middle\" x=\"750\" y=\"-944.3\">input:</text>\n",
       "<polyline fill=\"none\" points=\"722,-936.5 778,-936.5 \" stroke=\"black\"/>\n",
       "<text font-family=\"Times New Roman,serif\" font-size=\"14.00\" text-anchor=\"middle\" x=\"750\" y=\"-921.3\">output:</text>\n",
       "<polyline fill=\"none\" points=\"778,-913.5 778,-959.5 \" stroke=\"black\"/>\n",
       "<text font-family=\"Times New Roman,serif\" font-size=\"14.00\" text-anchor=\"middle\" x=\"830\" y=\"-944.3\">(None, 50, 128)</text>\n",
       "<polyline fill=\"none\" points=\"778,-936.5 882,-936.5 \" stroke=\"black\"/>\n",
       "<text font-family=\"Times New Roman,serif\" font-size=\"14.00\" text-anchor=\"middle\" x=\"830\" y=\"-921.3\">(None, 48, 256)</text>\n",
       "</g>\n",
       "<!-- 2261457160624&#45;&gt;2261457161296 -->\n",
       "<g class=\"edge\" id=\"edge4\"><title>2261457160624-&gt;2261457161296</title>\n",
       "<path d=\"M731.233,-996.366C732.247,-988.152 733.419,-978.658 734.522,-969.725\" fill=\"none\" stroke=\"black\"/>\n",
       "<polygon fill=\"black\" points=\"738.019,-969.96 735.771,-959.607 731.072,-969.103 738.019,-969.96\" stroke=\"black\"/>\n",
       "</g>\n",
       "<!-- 2261457161576 -->\n",
       "<g class=\"node\" id=\"node6\"><title>2261457161576</title>\n",
       "<polygon fill=\"none\" points=\"564,-830.5 564,-876.5 933,-876.5 933,-830.5 564,-830.5\" stroke=\"black\"/>\n",
       "<text font-family=\"Times New Roman,serif\" font-size=\"14.00\" text-anchor=\"middle\" x=\"668.5\" y=\"-849.8\">max_pooling1d_2: MaxPooling1D</text>\n",
       "<polyline fill=\"none\" points=\"773,-830.5 773,-876.5 \" stroke=\"black\"/>\n",
       "<text font-family=\"Times New Roman,serif\" font-size=\"14.00\" text-anchor=\"middle\" x=\"801\" y=\"-861.3\">input:</text>\n",
       "<polyline fill=\"none\" points=\"773,-853.5 829,-853.5 \" stroke=\"black\"/>\n",
       "<text font-family=\"Times New Roman,serif\" font-size=\"14.00\" text-anchor=\"middle\" x=\"801\" y=\"-838.3\">output:</text>\n",
       "<polyline fill=\"none\" points=\"829,-830.5 829,-876.5 \" stroke=\"black\"/>\n",
       "<text font-family=\"Times New Roman,serif\" font-size=\"14.00\" text-anchor=\"middle\" x=\"881\" y=\"-861.3\">(None, 48, 256)</text>\n",
       "<polyline fill=\"none\" points=\"829,-853.5 933,-853.5 \" stroke=\"black\"/>\n",
       "<text font-family=\"Times New Roman,serif\" font-size=\"14.00\" text-anchor=\"middle\" x=\"881\" y=\"-838.3\">(None, 12, 256)</text>\n",
       "</g>\n",
       "<!-- 2261457161296&#45;&gt;2261457161576 -->\n",
       "<g class=\"edge\" id=\"edge5\"><title>2261457161296-&gt;2261457161576</title>\n",
       "<path d=\"M741.233,-913.366C742.247,-905.152 743.419,-895.658 744.522,-886.725\" fill=\"none\" stroke=\"black\"/>\n",
       "<polygon fill=\"black\" points=\"748.019,-886.96 745.771,-876.607 741.072,-886.103 748.019,-886.96\" stroke=\"black\"/>\n",
       "</g>\n",
       "<!-- 2261457161240 -->\n",
       "<g class=\"node\" id=\"node7\"><title>2261457161240</title>\n",
       "<polygon fill=\"none\" points=\"564,-747.5 564,-793.5 915,-793.5 915,-747.5 564,-747.5\" stroke=\"black\"/>\n",
       "<text font-family=\"Times New Roman,serif\" font-size=\"14.00\" text-anchor=\"middle\" x=\"617.5\" y=\"-766.8\">Encoder1: GRU</text>\n",
       "<polyline fill=\"none\" points=\"671,-747.5 671,-793.5 \" stroke=\"black\"/>\n",
       "<text font-family=\"Times New Roman,serif\" font-size=\"14.00\" text-anchor=\"middle\" x=\"699\" y=\"-778.3\">input:</text>\n",
       "<polyline fill=\"none\" points=\"671,-770.5 727,-770.5 \" stroke=\"black\"/>\n",
       "<text font-family=\"Times New Roman,serif\" font-size=\"14.00\" text-anchor=\"middle\" x=\"699\" y=\"-755.3\">output:</text>\n",
       "<polyline fill=\"none\" points=\"727,-747.5 727,-793.5 \" stroke=\"black\"/>\n",
       "<text font-family=\"Times New Roman,serif\" font-size=\"14.00\" text-anchor=\"middle\" x=\"821\" y=\"-778.3\">(None, 12, 256)</text>\n",
       "<polyline fill=\"none\" points=\"727,-770.5 915,-770.5 \" stroke=\"black\"/>\n",
       "<text font-family=\"Times New Roman,serif\" font-size=\"14.00\" text-anchor=\"middle\" x=\"821\" y=\"-755.3\">[(None, 12, 128), (None, 128)]</text>\n",
       "</g>\n",
       "<!-- 2261457161576&#45;&gt;2261457161240 -->\n",
       "<g class=\"edge\" id=\"edge6\"><title>2261457161576-&gt;2261457161240</title>\n",
       "<path d=\"M746.041,-830.366C745.128,-822.152 744.073,-812.658 743.081,-803.725\" fill=\"none\" stroke=\"black\"/>\n",
       "<polygon fill=\"black\" points=\"746.539,-803.159 741.956,-793.607 739.582,-803.932 746.539,-803.159\" stroke=\"black\"/>\n",
       "</g>\n",
       "<!-- 2261456955376 -->\n",
       "<g class=\"node\" id=\"node8\"><title>2261456955376</title>\n",
       "<polygon fill=\"none\" points=\"933,-747.5 933,-793.5 1284,-793.5 1284,-747.5 933,-747.5\" stroke=\"black\"/>\n",
       "<text font-family=\"Times New Roman,serif\" font-size=\"14.00\" text-anchor=\"middle\" x=\"986.5\" y=\"-766.8\">Encoder2: GRU</text>\n",
       "<polyline fill=\"none\" points=\"1040,-747.5 1040,-793.5 \" stroke=\"black\"/>\n",
       "<text font-family=\"Times New Roman,serif\" font-size=\"14.00\" text-anchor=\"middle\" x=\"1068\" y=\"-778.3\">input:</text>\n",
       "<polyline fill=\"none\" points=\"1040,-770.5 1096,-770.5 \" stroke=\"black\"/>\n",
       "<text font-family=\"Times New Roman,serif\" font-size=\"14.00\" text-anchor=\"middle\" x=\"1068\" y=\"-755.3\">output:</text>\n",
       "<polyline fill=\"none\" points=\"1096,-747.5 1096,-793.5 \" stroke=\"black\"/>\n",
       "<text font-family=\"Times New Roman,serif\" font-size=\"14.00\" text-anchor=\"middle\" x=\"1190\" y=\"-778.3\">(None, 12, 256)</text>\n",
       "<polyline fill=\"none\" points=\"1096,-770.5 1284,-770.5 \" stroke=\"black\"/>\n",
       "<text font-family=\"Times New Roman,serif\" font-size=\"14.00\" text-anchor=\"middle\" x=\"1190\" y=\"-755.3\">[(None, 12, 128), (None, 128)]</text>\n",
       "</g>\n",
       "<!-- 2261457161576&#45;&gt;2261456955376 -->\n",
       "<g class=\"edge\" id=\"edge7\"><title>2261457161576-&gt;2261456955376</title>\n",
       "<path d=\"M846.396,-830.473C894.119,-819.736 951.643,-806.793 1000.63,-795.771\" fill=\"none\" stroke=\"black\"/>\n",
       "<polygon fill=\"black\" points=\"1001.64,-799.132 1010.62,-793.522 1000.1,-792.303 1001.64,-799.132\" stroke=\"black\"/>\n",
       "</g>\n",
       "<!-- 2261457161240&#45;&gt;2261456680104 -->\n",
       "<g class=\"edge\" id=\"edge9\"><title>2261457161240-&gt;2261456680104</title>\n",
       "<path d=\"M585.314,-747.473C508.266,-736.467 415.001,-723.143 336.628,-711.947\" fill=\"none\" stroke=\"black\"/>\n",
       "<polygon fill=\"black\" points=\"337.05,-708.472 326.656,-710.522 336.06,-715.401 337.05,-708.472\" stroke=\"black\"/>\n",
       "</g>\n",
       "<!-- 2261456680944 -->\n",
       "<g class=\"node\" id=\"node12\"><title>2261456680944</title>\n",
       "<polygon fill=\"none\" points=\"785,-581.5 785,-627.5 1232,-627.5 1232,-581.5 785,-581.5\" stroke=\"black\"/>\n",
       "<text font-family=\"Times New Roman,serif\" font-size=\"14.00\" text-anchor=\"middle\" x=\"876\" y=\"-600.8\">attention_matrix: Concatenate</text>\n",
       "<polyline fill=\"none\" points=\"967,-581.5 967,-627.5 \" stroke=\"black\"/>\n",
       "<text font-family=\"Times New Roman,serif\" font-size=\"14.00\" text-anchor=\"middle\" x=\"995\" y=\"-612.3\">input:</text>\n",
       "<polyline fill=\"none\" points=\"967,-604.5 1023,-604.5 \" stroke=\"black\"/>\n",
       "<text font-family=\"Times New Roman,serif\" font-size=\"14.00\" text-anchor=\"middle\" x=\"995\" y=\"-589.3\">output:</text>\n",
       "<polyline fill=\"none\" points=\"1023,-581.5 1023,-627.5 \" stroke=\"black\"/>\n",
       "<text font-family=\"Times New Roman,serif\" font-size=\"14.00\" text-anchor=\"middle\" x=\"1127.5\" y=\"-612.3\">[(None, 12, 128), (None, 12, 128)]</text>\n",
       "<polyline fill=\"none\" points=\"1023,-604.5 1232,-604.5 \" stroke=\"black\"/>\n",
       "<text font-family=\"Times New Roman,serif\" font-size=\"14.00\" text-anchor=\"middle\" x=\"1127.5\" y=\"-589.3\">(None, 12, 256)</text>\n",
       "</g>\n",
       "<!-- 2261457161240&#45;&gt;2261456680944 -->\n",
       "<g class=\"edge\" id=\"edge14\"><title>2261457161240-&gt;2261456680944</title>\n",
       "<path d=\"M1065.5,-686.5C1069.77,-667.348 1058.91,-649.176 1045.55,-634.916\" fill=\"none\" stroke=\"black\"/>\n",
       "<polygon fill=\"black\" points=\"1047.98,-632.389 1038.41,-627.831 1043.05,-637.359 1047.98,-632.389\" stroke=\"black\"/>\n",
       "<path d=\"M874.115,-747.468C961.888,-731.259 1061.01,-708.636 1065.5,-688.5\" fill=\"none\" stroke=\"black\"/>\n",
       "</g>\n",
       "<!-- 2261456955376&#45;&gt;2261456680216 -->\n",
       "<g class=\"edge\" id=\"edge11\"><title>2261456955376-&gt;2261456680216</title>\n",
       "<path d=\"M952.682,-747.473C874.819,-736.467 780.568,-723.143 701.364,-711.947\" fill=\"none\" stroke=\"black\"/>\n",
       "<polygon fill=\"black\" points=\"701.678,-708.456 691.287,-710.522 700.699,-715.388 701.678,-708.456\" stroke=\"black\"/>\n",
       "</g>\n",
       "<!-- 2261456955376&#45;&gt;2261456680944 -->\n",
       "<g class=\"edge\" id=\"edge15\"><title>2261456955376-&gt;2261456680944</title>\n",
       "<path d=\"M1086.47,-747.405C1073.59,-731.807 1060.72,-709.945 1065.5,-688.5\" fill=\"none\" stroke=\"black\"/>\n",
       "</g>\n",
       "<!-- 2261435327712 -->\n",
       "<g class=\"node\" id=\"node11\"><title>2261435327712</title>\n",
       "<polygon fill=\"none\" points=\"318,-581.5 318,-627.5 753,-627.5 753,-581.5 318,-581.5\" stroke=\"black\"/>\n",
       "<text font-family=\"Times New Roman,serif\" font-size=\"14.00\" text-anchor=\"middle\" x=\"410\" y=\"-600.8\">Decoder_output: Concatenate</text>\n",
       "<polyline fill=\"none\" points=\"502,-581.5 502,-627.5 \" stroke=\"black\"/>\n",
       "<text font-family=\"Times New Roman,serif\" font-size=\"14.00\" text-anchor=\"middle\" x=\"530\" y=\"-612.3\">input:</text>\n",
       "<polyline fill=\"none\" points=\"502,-604.5 558,-604.5 \" stroke=\"black\"/>\n",
       "<text font-family=\"Times New Roman,serif\" font-size=\"14.00\" text-anchor=\"middle\" x=\"530\" y=\"-589.3\">output:</text>\n",
       "<polyline fill=\"none\" points=\"558,-581.5 558,-627.5 \" stroke=\"black\"/>\n",
       "<text font-family=\"Times New Roman,serif\" font-size=\"14.00\" text-anchor=\"middle\" x=\"655.5\" y=\"-612.3\">[(None, 2, 128), (None, 2, 128)]</text>\n",
       "<polyline fill=\"none\" points=\"558,-604.5 753,-604.5 \" stroke=\"black\"/>\n",
       "<text font-family=\"Times New Roman,serif\" font-size=\"14.00\" text-anchor=\"middle\" x=\"655.5\" y=\"-589.3\">(None, 2, 256)</text>\n",
       "</g>\n",
       "<!-- 2261456680104&#45;&gt;2261435327712 -->\n",
       "<g class=\"edge\" id=\"edge12\"><title>2261456680104-&gt;2261435327712</title>\n",
       "<path d=\"M271.212,-664.473C319.433,-653.713 377.578,-640.739 427.037,-629.702\" fill=\"none\" stroke=\"black\"/>\n",
       "<polygon fill=\"black\" points=\"427.81,-633.116 436.808,-627.522 426.286,-626.284 427.81,-633.116\" stroke=\"black\"/>\n",
       "</g>\n",
       "<!-- 2261456680216&#45;&gt;2261435327712 -->\n",
       "<g class=\"edge\" id=\"edge13\"><title>2261456680216-&gt;2261435327712</title>\n",
       "<path d=\"M535.5,-664.366C535.5,-656.152 535.5,-646.658 535.5,-637.725\" fill=\"none\" stroke=\"black\"/>\n",
       "<polygon fill=\"black\" points=\"539,-637.607 535.5,-627.607 532,-637.607 539,-637.607\" stroke=\"black\"/>\n",
       "</g>\n",
       "<!-- 2261432957920 -->\n",
       "<g class=\"node\" id=\"node13\"><title>2261432957920</title>\n",
       "<polygon fill=\"none\" points=\"582.5,-498.5 582.5,-544.5 980.5,-544.5 980.5,-498.5 582.5,-498.5\" stroke=\"black\"/>\n",
       "<text font-family=\"Times New Roman,serif\" font-size=\"14.00\" text-anchor=\"middle\" x=\"652.5\" y=\"-517.8\">Cosine_similarity: Dot</text>\n",
       "<polyline fill=\"none\" points=\"722.5,-498.5 722.5,-544.5 \" stroke=\"black\"/>\n",
       "<text font-family=\"Times New Roman,serif\" font-size=\"14.00\" text-anchor=\"middle\" x=\"750.5\" y=\"-529.3\">input:</text>\n",
       "<polyline fill=\"none\" points=\"722.5,-521.5 778.5,-521.5 \" stroke=\"black\"/>\n",
       "<text font-family=\"Times New Roman,serif\" font-size=\"14.00\" text-anchor=\"middle\" x=\"750.5\" y=\"-506.3\">output:</text>\n",
       "<polyline fill=\"none\" points=\"778.5,-498.5 778.5,-544.5 \" stroke=\"black\"/>\n",
       "<text font-family=\"Times New Roman,serif\" font-size=\"14.00\" text-anchor=\"middle\" x=\"879.5\" y=\"-529.3\">[(None, 2, 256), (None, 12, 256)]</text>\n",
       "<polyline fill=\"none\" points=\"778.5,-521.5 980.5,-521.5 \" stroke=\"black\"/>\n",
       "<text font-family=\"Times New Roman,serif\" font-size=\"14.00\" text-anchor=\"middle\" x=\"879.5\" y=\"-506.3\">(None, 2, 12)</text>\n",
       "</g>\n",
       "<!-- 2261435327712&#45;&gt;2261432957920 -->\n",
       "<g class=\"edge\" id=\"edge16\"><title>2261435327712-&gt;2261432957920</title>\n",
       "<path d=\"M602.396,-581.473C634.122,-571.027 672.185,-558.494 705.049,-547.673\" fill=\"none\" stroke=\"black\"/>\n",
       "<polygon fill=\"black\" points=\"706.214,-550.974 714.618,-544.522 704.025,-544.325 706.214,-550.974\" stroke=\"black\"/>\n",
       "</g>\n",
       "<!-- 2261434098016 -->\n",
       "<g class=\"node\" id=\"node17\"><title>2261434098016</title>\n",
       "<polygon fill=\"none\" points=\"351,-166.5 351,-212.5 962,-212.5 962,-166.5 351,-166.5\" stroke=\"black\"/>\n",
       "<text font-family=\"Times New Roman,serif\" font-size=\"14.00\" text-anchor=\"middle\" x=\"531\" y=\"-185.8\">Concatenate_Decoder_O_and_Context_Vector: Concatenate</text>\n",
       "<polyline fill=\"none\" points=\"711,-166.5 711,-212.5 \" stroke=\"black\"/>\n",
       "<text font-family=\"Times New Roman,serif\" font-size=\"14.00\" text-anchor=\"middle\" x=\"739\" y=\"-197.3\">input:</text>\n",
       "<polyline fill=\"none\" points=\"711,-189.5 767,-189.5 \" stroke=\"black\"/>\n",
       "<text font-family=\"Times New Roman,serif\" font-size=\"14.00\" text-anchor=\"middle\" x=\"739\" y=\"-174.3\">output:</text>\n",
       "<polyline fill=\"none\" points=\"767,-166.5 767,-212.5 \" stroke=\"black\"/>\n",
       "<text font-family=\"Times New Roman,serif\" font-size=\"14.00\" text-anchor=\"middle\" x=\"864.5\" y=\"-197.3\">[(None, 2, 256), (None, 2, 256)]</text>\n",
       "<polyline fill=\"none\" points=\"767,-189.5 962,-189.5 \" stroke=\"black\"/>\n",
       "<text font-family=\"Times New Roman,serif\" font-size=\"14.00\" text-anchor=\"middle\" x=\"864.5\" y=\"-174.3\">(None, 2, 512)</text>\n",
       "</g>\n",
       "<!-- 2261435327712&#45;&gt;2261434098016 -->\n",
       "<g class=\"edge\" id=\"edge22\"><title>2261435327712-&gt;2261434098016</title>\n",
       "<path d=\"M535.5,-581.483C535.5,-550.005 535.5,-490.323 535.5,-439.5 535.5,-439.5 535.5,-439.5 535.5,-354.5 535.5,-304.811 542.433,-288.56 572.5,-249 581.499,-237.159 593.592,-226.808 605.793,-218.239\" fill=\"none\" stroke=\"black\"/>\n",
       "<polygon fill=\"black\" points=\"607.86,-221.067 614.221,-212.594 603.964,-215.251 607.86,-221.067\" stroke=\"black\"/>\n",
       "</g>\n",
       "<!-- 2261456680944&#45;&gt;2261432957920 -->\n",
       "<g class=\"edge\" id=\"edge17\"><title>2261456680944-&gt;2261432957920</title>\n",
       "<path d=\"M946.771,-581.473C917.747,-571.117 882.974,-558.709 852.828,-547.952\" fill=\"none\" stroke=\"black\"/>\n",
       "<polygon fill=\"black\" points=\"853.811,-544.587 843.217,-544.522 851.459,-551.179 853.811,-544.587\" stroke=\"black\"/>\n",
       "</g>\n",
       "<!-- 2261414265408 -->\n",
       "<g class=\"node\" id=\"node15\"><title>2261414265408</title>\n",
       "<polygon fill=\"none\" points=\"563.5,-332.5 563.5,-378.5 1029.5,-378.5 1029.5,-332.5 563.5,-332.5\" stroke=\"black\"/>\n",
       "<text font-family=\"Times New Roman,serif\" font-size=\"14.00\" text-anchor=\"middle\" x=\"671\" y=\"-351.8\">weighted_attention_matrix: Lambda</text>\n",
       "<polyline fill=\"none\" points=\"778.5,-332.5 778.5,-378.5 \" stroke=\"black\"/>\n",
       "<text font-family=\"Times New Roman,serif\" font-size=\"14.00\" text-anchor=\"middle\" x=\"806.5\" y=\"-363.3\">input:</text>\n",
       "<polyline fill=\"none\" points=\"778.5,-355.5 834.5,-355.5 \" stroke=\"black\"/>\n",
       "<text font-family=\"Times New Roman,serif\" font-size=\"14.00\" text-anchor=\"middle\" x=\"806.5\" y=\"-340.3\">output:</text>\n",
       "<polyline fill=\"none\" points=\"834.5,-332.5 834.5,-378.5 \" stroke=\"black\"/>\n",
       "<text font-family=\"Times New Roman,serif\" font-size=\"14.00\" text-anchor=\"middle\" x=\"932\" y=\"-363.3\">[(None, 2, 12), (None, 12, 256)]</text>\n",
       "<polyline fill=\"none\" points=\"834.5,-355.5 1029.5,-355.5 \" stroke=\"black\"/>\n",
       "<text font-family=\"Times New Roman,serif\" font-size=\"14.00\" text-anchor=\"middle\" x=\"932\" y=\"-340.3\">(None, 2, None, 256)</text>\n",
       "</g>\n",
       "<!-- 2261456680944&#45;&gt;2261414265408 -->\n",
       "<g class=\"edge\" id=\"edge20\"><title>2261456680944-&gt;2261414265408</title>\n",
       "<path d=\"M1013.1,-581.368C1019.74,-542.82 1027.22,-462.908 987.5,-415 976.398,-401.61 962.314,-391.221 946.843,-383.171\" fill=\"none\" stroke=\"black\"/>\n",
       "<polygon fill=\"black\" points=\"948.113,-379.898 937.586,-378.697 945.067,-386.2 948.113,-379.898\" stroke=\"black\"/>\n",
       "</g>\n",
       "<!-- 2261433904656 -->\n",
       "<g class=\"node\" id=\"node14\"><title>2261433904656</title>\n",
       "<polygon fill=\"none\" points=\"586.5,-415.5 586.5,-461.5 978.5,-461.5 978.5,-415.5 586.5,-415.5\" stroke=\"black\"/>\n",
       "<text font-family=\"Times New Roman,serif\" font-size=\"14.00\" text-anchor=\"middle\" x=\"709\" y=\"-434.8\">attention_score_from_Softmax: Softmax</text>\n",
       "<polyline fill=\"none\" points=\"831.5,-415.5 831.5,-461.5 \" stroke=\"black\"/>\n",
       "<text font-family=\"Times New Roman,serif\" font-size=\"14.00\" text-anchor=\"middle\" x=\"859.5\" y=\"-446.3\">input:</text>\n",
       "<polyline fill=\"none\" points=\"831.5,-438.5 887.5,-438.5 \" stroke=\"black\"/>\n",
       "<text font-family=\"Times New Roman,serif\" font-size=\"14.00\" text-anchor=\"middle\" x=\"859.5\" y=\"-423.3\">output:</text>\n",
       "<polyline fill=\"none\" points=\"887.5,-415.5 887.5,-461.5 \" stroke=\"black\"/>\n",
       "<text font-family=\"Times New Roman,serif\" font-size=\"14.00\" text-anchor=\"middle\" x=\"933\" y=\"-446.3\">(None, 2, 12)</text>\n",
       "<polyline fill=\"none\" points=\"887.5,-438.5 978.5,-438.5 \" stroke=\"black\"/>\n",
       "<text font-family=\"Times New Roman,serif\" font-size=\"14.00\" text-anchor=\"middle\" x=\"933\" y=\"-423.3\">(None, 2, 12)</text>\n",
       "</g>\n",
       "<!-- 2261432957920&#45;&gt;2261433904656 -->\n",
       "<g class=\"edge\" id=\"edge18\"><title>2261432957920-&gt;2261433904656</title>\n",
       "<path d=\"M781.773,-498.366C781.875,-490.152 781.992,-480.658 782.102,-471.725\" fill=\"none\" stroke=\"black\"/>\n",
       "<polygon fill=\"black\" points=\"785.603,-471.649 782.227,-461.607 778.604,-471.563 785.603,-471.649\" stroke=\"black\"/>\n",
       "</g>\n",
       "<!-- 2261433904656&#45;&gt;2261414265408 -->\n",
       "<g class=\"edge\" id=\"edge19\"><title>2261433904656-&gt;2261414265408</title>\n",
       "<path d=\"M786.326,-415.366C787.745,-407.152 789.386,-397.658 790.93,-388.725\" fill=\"none\" stroke=\"black\"/>\n",
       "<polygon fill=\"black\" points=\"794.425,-389.057 792.679,-378.607 787.527,-387.865 794.425,-389.057\" stroke=\"black\"/>\n",
       "</g>\n",
       "<!-- 2261434564904 -->\n",
       "<g class=\"node\" id=\"node16\"><title>2261434564904</title>\n",
       "<polygon fill=\"none\" points=\"582,-249.5 582,-295.5 975,-295.5 975,-249.5 582,-249.5\" stroke=\"black\"/>\n",
       "<text font-family=\"Times New Roman,serif\" font-size=\"14.00\" text-anchor=\"middle\" x=\"683\" y=\"-268.8\">Making_context_vector: Lambda</text>\n",
       "<polyline fill=\"none\" points=\"784,-249.5 784,-295.5 \" stroke=\"black\"/>\n",
       "<text font-family=\"Times New Roman,serif\" font-size=\"14.00\" text-anchor=\"middle\" x=\"812\" y=\"-280.3\">input:</text>\n",
       "<polyline fill=\"none\" points=\"784,-272.5 840,-272.5 \" stroke=\"black\"/>\n",
       "<text font-family=\"Times New Roman,serif\" font-size=\"14.00\" text-anchor=\"middle\" x=\"812\" y=\"-257.3\">output:</text>\n",
       "<polyline fill=\"none\" points=\"840,-249.5 840,-295.5 \" stroke=\"black\"/>\n",
       "<text font-family=\"Times New Roman,serif\" font-size=\"14.00\" text-anchor=\"middle\" x=\"907.5\" y=\"-280.3\">(None, 2, None, 256)</text>\n",
       "<polyline fill=\"none\" points=\"840,-272.5 975,-272.5 \" stroke=\"black\"/>\n",
       "<text font-family=\"Times New Roman,serif\" font-size=\"14.00\" text-anchor=\"middle\" x=\"907.5\" y=\"-257.3\">(None, 2, 256)</text>\n",
       "</g>\n",
       "<!-- 2261414265408&#45;&gt;2261434564904 -->\n",
       "<g class=\"edge\" id=\"edge21\"><title>2261414265408-&gt;2261434564904</title>\n",
       "<path d=\"M791.581,-332.366C789.736,-324.062 787.6,-314.451 785.596,-305.434\" fill=\"none\" stroke=\"black\"/>\n",
       "<polygon fill=\"black\" points=\"788.999,-304.609 783.413,-295.607 782.165,-306.128 788.999,-304.609\" stroke=\"black\"/>\n",
       "</g>\n",
       "<!-- 2261434564904&#45;&gt;2261434098016 -->\n",
       "<g class=\"edge\" id=\"edge23\"><title>2261434564904-&gt;2261434098016</title>\n",
       "<path d=\"M745.163,-249.366C730.773,-239.812 713.777,-228.528 698.535,-218.409\" fill=\"none\" stroke=\"black\"/>\n",
       "<polygon fill=\"black\" points=\"700.064,-215.222 689.797,-212.607 696.192,-221.054 700.064,-215.222\" stroke=\"black\"/>\n",
       "</g>\n",
       "<!-- 2261434099808 -->\n",
       "<g class=\"node\" id=\"node18\"><title>2261434099808</title>\n",
       "<polygon fill=\"none\" points=\"511,-83.5 511,-129.5 802,-129.5 802,-83.5 511,-83.5\" stroke=\"black\"/>\n",
       "<text font-family=\"Times New Roman,serif\" font-size=\"14.00\" text-anchor=\"middle\" x=\"579.5\" y=\"-102.8\">Feed_forward: Dense</text>\n",
       "<polyline fill=\"none\" points=\"648,-83.5 648,-129.5 \" stroke=\"black\"/>\n",
       "<text font-family=\"Times New Roman,serif\" font-size=\"14.00\" text-anchor=\"middle\" x=\"676\" y=\"-114.3\">input:</text>\n",
       "<polyline fill=\"none\" points=\"648,-106.5 704,-106.5 \" stroke=\"black\"/>\n",
       "<text font-family=\"Times New Roman,serif\" font-size=\"14.00\" text-anchor=\"middle\" x=\"676\" y=\"-91.3\">output:</text>\n",
       "<polyline fill=\"none\" points=\"704,-83.5 704,-129.5 \" stroke=\"black\"/>\n",
       "<text font-family=\"Times New Roman,serif\" font-size=\"14.00\" text-anchor=\"middle\" x=\"753\" y=\"-114.3\">(None, 2, 512)</text>\n",
       "<polyline fill=\"none\" points=\"704,-106.5 802,-106.5 \" stroke=\"black\"/>\n",
       "<text font-family=\"Times New Roman,serif\" font-size=\"14.00\" text-anchor=\"middle\" x=\"753\" y=\"-91.3\">(None, 2, 512)</text>\n",
       "</g>\n",
       "<!-- 2261434098016&#45;&gt;2261434099808 -->\n",
       "<g class=\"edge\" id=\"edge24\"><title>2261434098016-&gt;2261434099808</title>\n",
       "<path d=\"M656.5,-166.366C656.5,-158.152 656.5,-148.658 656.5,-139.725\" fill=\"none\" stroke=\"black\"/>\n",
       "<polygon fill=\"black\" points=\"660,-139.607 656.5,-129.607 653,-139.607 660,-139.607\" stroke=\"black\"/>\n",
       "</g>\n",
       "<!-- 2261434098128 -->\n",
       "<g class=\"node\" id=\"node19\"><title>2261434098128</title>\n",
       "<polygon fill=\"none\" points=\"527.5,-0.5 527.5,-46.5 785.5,-46.5 785.5,-0.5 527.5,-0.5\" stroke=\"black\"/>\n",
       "<text font-family=\"Times New Roman,serif\" font-size=\"14.00\" text-anchor=\"middle\" x=\"579.5\" y=\"-19.8\">dense_2: Dense</text>\n",
       "<polyline fill=\"none\" points=\"631.5,-0.5 631.5,-46.5 \" stroke=\"black\"/>\n",
       "<text font-family=\"Times New Roman,serif\" font-size=\"14.00\" text-anchor=\"middle\" x=\"659.5\" y=\"-31.3\">input:</text>\n",
       "<polyline fill=\"none\" points=\"631.5,-23.5 687.5,-23.5 \" stroke=\"black\"/>\n",
       "<text font-family=\"Times New Roman,serif\" font-size=\"14.00\" text-anchor=\"middle\" x=\"659.5\" y=\"-8.3\">output:</text>\n",
       "<polyline fill=\"none\" points=\"687.5,-0.5 687.5,-46.5 \" stroke=\"black\"/>\n",
       "<text font-family=\"Times New Roman,serif\" font-size=\"14.00\" text-anchor=\"middle\" x=\"736.5\" y=\"-31.3\">(None, 2, 512)</text>\n",
       "<polyline fill=\"none\" points=\"687.5,-23.5 785.5,-23.5 \" stroke=\"black\"/>\n",
       "<text font-family=\"Times New Roman,serif\" font-size=\"14.00\" text-anchor=\"middle\" x=\"736.5\" y=\"-8.3\">(None, 2, 22)</text>\n",
       "</g>\n",
       "<!-- 2261434099808&#45;&gt;2261434098128 -->\n",
       "<g class=\"edge\" id=\"edge25\"><title>2261434099808-&gt;2261434098128</title>\n",
       "<path d=\"M656.5,-83.3664C656.5,-75.1516 656.5,-65.6579 656.5,-56.7252\" fill=\"none\" stroke=\"black\"/>\n",
       "<polygon fill=\"black\" points=\"660,-56.6068 656.5,-46.6068 653,-56.6069 660,-56.6068\" stroke=\"black\"/>\n",
       "</g>\n",
       "</g>\n",
       "</svg>"
      ],
      "text/plain": [
       "<IPython.core.display.SVG object>"
      ]
     },
     "execution_count": 60,
     "metadata": {},
     "output_type": "execute_result"
    }
   ],
   "source": [
    "from IPython.display import SVG\n",
    "from keras.utils.vis_utils import model_to_dot\n",
    "from keras.utils.vis_utils import plot_model\n",
    "\n",
    "SVG(model_to_dot(GRUs,show_shapes=True).create(prog=\"dot\",format=\"svg\"))\n",
    "#plot_model(GRUs, to_file='model.png',show_shapes = True)"
   ]
  },
  {
   "cell_type": "code",
   "execution_count": 61,
   "metadata": {},
   "outputs": [],
   "source": [
    "from keras.callbacks import EarlyStopping\n",
    "\n",
    "early_stopping = EarlyStopping(patience = 3)"
   ]
  },
  {
   "cell_type": "code",
   "execution_count": 62,
   "metadata": {},
   "outputs": [],
   "source": [
    "GRUs.compile(loss=\"categorical_crossentropy\",optimizer=\"adam\",metrics=[\"accuracy\"])"
   ]
  },
  {
   "cell_type": "code",
   "execution_count": 63,
   "metadata": {},
   "outputs": [
    {
     "name": "stdout",
     "output_type": "stream",
     "text": [
      "Train on 50487 samples, validate on 16829 samples\n",
      "Epoch 1/10\n",
      "50487/50487 [==============================] - 114s 2ms/step - loss: 0.9433 - acc: 0.7180 - val_loss: 0.5579 - val_acc: 0.8228\n",
      "Epoch 2/10\n",
      "50487/50487 [==============================] - 110s 2ms/step - loss: 0.4700 - acc: 0.8511 - val_loss: 0.5446 - val_acc: 0.8306\n",
      "Epoch 3/10\n",
      "50487/50487 [==============================] - 110s 2ms/step - loss: 0.3586 - acc: 0.8844 - val_loss: 0.5963 - val_acc: 0.8300\n",
      "Epoch 4/10\n",
      "50487/50487 [==============================] - 110s 2ms/step - loss: 0.2777 - acc: 0.9106 - val_loss: 0.6944 - val_acc: 0.8227\n",
      "Epoch 5/10\n",
      "50487/50487 [==============================] - 110s 2ms/step - loss: 0.2203 - acc: 0.9293 - val_loss: 0.7551 - val_acc: 0.8224\n"
     ]
    },
    {
     "data": {
      "text/plain": [
       "<keras.callbacks.History at 0x20ebca03208>"
      ]
     },
     "execution_count": 63,
     "metadata": {},
     "output_type": "execute_result"
    }
   ],
   "source": [
    "GRUs.fit([X_train,zero_pad_train],y_train,epochs=10,batch_size = 64,validation_data = ([X_test,zero_pad_test],y_test),callbacks = [early_stopping])"
   ]
  },
  {
   "cell_type": "code",
   "execution_count": 64,
   "metadata": {},
   "outputs": [
    {
     "name": "stderr",
     "output_type": "stream",
     "text": [
      "C:\\Users\\User\\Anaconda3\\envs\\tensorflow36\\lib\\site-packages\\keras\\engine\\network.py:877: UserWarning: Layer Decoder1 was passed non-serializable keyword arguments: {'initial_state': [<tf.Tensor 'Encoder1_1/while/Exit_3:0' shape=(?, 128) dtype=float32>]}. They will not be included in the serialized model (and thus will be missing at deserialization time).\n",
      "  '. They will not be included '\n",
      "C:\\Users\\User\\Anaconda3\\envs\\tensorflow36\\lib\\site-packages\\keras\\engine\\network.py:877: UserWarning: Layer Decoder2 was passed non-serializable keyword arguments: {'initial_state': [<tf.Tensor 'Encoder2_1/while/Exit_3:0' shape=(?, 128) dtype=float32>]}. They will not be included in the serialized model (and thus will be missing at deserialization time).\n",
      "  '. They will not be included '\n"
     ]
    }
   ],
   "source": [
    "GRUs.save(\"chatbot-attention_weight.h5\")"
   ]
  },
  {
   "cell_type": "markdown",
   "metadata": {},
   "source": [
    "### 구 LSTM 모델"
   ]
  },
  {
   "cell_type": "code",
   "execution_count": 188,
   "metadata": {},
   "outputs": [],
   "source": [
    "model = Sequential()\n",
    "model.add(Embedding(len(vocabulary)+1,128,input_length = 50))\n",
    "model.add(Dropout(0.2))\n",
    "model.add(Conv1D(256,3,padding=\"valid\",activation=\"relu\",strides=1))\n",
    "model.add(MaxPooling1D(pool_size = 4))\n",
    "model.add(LSTM(128))\n",
    "model.add(Dense(22,activation=\"softmax\"))"
   ]
  },
  {
   "cell_type": "code",
   "execution_count": 189,
   "metadata": {
    "scrolled": true
   },
   "outputs": [
    {
     "name": "stdout",
     "output_type": "stream",
     "text": [
      "_________________________________________________________________\n",
      "Layer (type)                 Output Shape              Param #   \n",
      "=================================================================\n",
      "embedding_12 (Embedding)     (None, 50, 128)           6537344   \n",
      "_________________________________________________________________\n",
      "dropout_12 (Dropout)         (None, 50, 128)           0         \n",
      "_________________________________________________________________\n",
      "conv1d_12 (Conv1D)           (None, 48, 256)           98560     \n",
      "_________________________________________________________________\n",
      "max_pooling1d_12 (MaxPooling (None, 12, 256)           0         \n",
      "_________________________________________________________________\n",
      "lstm_2 (LSTM)                (None, 128)               197120    \n",
      "_________________________________________________________________\n",
      "dense_12 (Dense)             (None, 22)                2838      \n",
      "=================================================================\n",
      "Total params: 6,835,862\n",
      "Trainable params: 6,835,862\n",
      "Non-trainable params: 0\n",
      "_________________________________________________________________\n"
     ]
    },
    {
     "data": {
      "image/svg+xml": [
       "<svg height=\"543pt\" viewBox=\"0.00 0.00 383.00 543.00\" width=\"383pt\" xmlns=\"http://www.w3.org/2000/svg\" xmlns:xlink=\"http://www.w3.org/1999/xlink\">\n",
       "<g class=\"graph\" id=\"graph0\" transform=\"scale(1 1) rotate(0) translate(4 539)\">\n",
       "<title>G</title>\n",
       "<polygon fill=\"white\" points=\"-4,4 -4,-539 379,-539 379,4 -4,4\" stroke=\"none\"/>\n",
       "<!-- 1549379247856 -->\n",
       "<g class=\"node\" id=\"node1\"><title>1549379247856</title>\n",
       "<polygon fill=\"none\" points=\"22.5,-415.5 22.5,-461.5 352.5,-461.5 352.5,-415.5 22.5,-415.5\" stroke=\"black\"/>\n",
       "<text font-family=\"Times New Roman,serif\" font-size=\"14.00\" text-anchor=\"middle\" x=\"107.5\" y=\"-434.8\">embedding_12: Embedding</text>\n",
       "<polyline fill=\"none\" points=\"192.5,-415.5 192.5,-461.5 \" stroke=\"black\"/>\n",
       "<text font-family=\"Times New Roman,serif\" font-size=\"14.00\" text-anchor=\"middle\" x=\"220.5\" y=\"-446.3\">input:</text>\n",
       "<polyline fill=\"none\" points=\"192.5,-438.5 248.5,-438.5 \" stroke=\"black\"/>\n",
       "<text font-family=\"Times New Roman,serif\" font-size=\"14.00\" text-anchor=\"middle\" x=\"220.5\" y=\"-423.3\">output:</text>\n",
       "<polyline fill=\"none\" points=\"248.5,-415.5 248.5,-461.5 \" stroke=\"black\"/>\n",
       "<text font-family=\"Times New Roman,serif\" font-size=\"14.00\" text-anchor=\"middle\" x=\"300.5\" y=\"-446.3\">(None, 50)</text>\n",
       "<polyline fill=\"none\" points=\"248.5,-438.5 352.5,-438.5 \" stroke=\"black\"/>\n",
       "<text font-family=\"Times New Roman,serif\" font-size=\"14.00\" text-anchor=\"middle\" x=\"300.5\" y=\"-423.3\">(None, 50, 128)</text>\n",
       "</g>\n",
       "<!-- 1549379377360 -->\n",
       "<g class=\"node\" id=\"node2\"><title>1549379377360</title>\n",
       "<polygon fill=\"none\" points=\"39,-332.5 39,-378.5 336,-378.5 336,-332.5 39,-332.5\" stroke=\"black\"/>\n",
       "<text font-family=\"Times New Roman,serif\" font-size=\"14.00\" text-anchor=\"middle\" x=\"107.5\" y=\"-351.8\">dropout_12: Dropout</text>\n",
       "<polyline fill=\"none\" points=\"176,-332.5 176,-378.5 \" stroke=\"black\"/>\n",
       "<text font-family=\"Times New Roman,serif\" font-size=\"14.00\" text-anchor=\"middle\" x=\"204\" y=\"-363.3\">input:</text>\n",
       "<polyline fill=\"none\" points=\"176,-355.5 232,-355.5 \" stroke=\"black\"/>\n",
       "<text font-family=\"Times New Roman,serif\" font-size=\"14.00\" text-anchor=\"middle\" x=\"204\" y=\"-340.3\">output:</text>\n",
       "<polyline fill=\"none\" points=\"232,-332.5 232,-378.5 \" stroke=\"black\"/>\n",
       "<text font-family=\"Times New Roman,serif\" font-size=\"14.00\" text-anchor=\"middle\" x=\"284\" y=\"-363.3\">(None, 50, 128)</text>\n",
       "<polyline fill=\"none\" points=\"232,-355.5 336,-355.5 \" stroke=\"black\"/>\n",
       "<text font-family=\"Times New Roman,serif\" font-size=\"14.00\" text-anchor=\"middle\" x=\"284\" y=\"-340.3\">(None, 50, 128)</text>\n",
       "</g>\n",
       "<!-- 1549379247856&#45;&gt;1549379377360 -->\n",
       "<g class=\"edge\" id=\"edge2\"><title>1549379247856-&gt;1549379377360</title>\n",
       "<path d=\"M187.5,-415.366C187.5,-407.152 187.5,-397.658 187.5,-388.725\" fill=\"none\" stroke=\"black\"/>\n",
       "<polygon fill=\"black\" points=\"191,-388.607 187.5,-378.607 184,-388.607 191,-388.607\" stroke=\"black\"/>\n",
       "</g>\n",
       "<!-- 1549379247408 -->\n",
       "<g class=\"node\" id=\"node3\"><title>1549379247408</title>\n",
       "<polygon fill=\"none\" points=\"40.5,-249.5 40.5,-295.5 334.5,-295.5 334.5,-249.5 40.5,-249.5\" stroke=\"black\"/>\n",
       "<text font-family=\"Times New Roman,serif\" font-size=\"14.00\" text-anchor=\"middle\" x=\"107.5\" y=\"-268.8\">conv1d_12: Conv1D</text>\n",
       "<polyline fill=\"none\" points=\"174.5,-249.5 174.5,-295.5 \" stroke=\"black\"/>\n",
       "<text font-family=\"Times New Roman,serif\" font-size=\"14.00\" text-anchor=\"middle\" x=\"202.5\" y=\"-280.3\">input:</text>\n",
       "<polyline fill=\"none\" points=\"174.5,-272.5 230.5,-272.5 \" stroke=\"black\"/>\n",
       "<text font-family=\"Times New Roman,serif\" font-size=\"14.00\" text-anchor=\"middle\" x=\"202.5\" y=\"-257.3\">output:</text>\n",
       "<polyline fill=\"none\" points=\"230.5,-249.5 230.5,-295.5 \" stroke=\"black\"/>\n",
       "<text font-family=\"Times New Roman,serif\" font-size=\"14.00\" text-anchor=\"middle\" x=\"282.5\" y=\"-280.3\">(None, 50, 128)</text>\n",
       "<polyline fill=\"none\" points=\"230.5,-272.5 334.5,-272.5 \" stroke=\"black\"/>\n",
       "<text font-family=\"Times New Roman,serif\" font-size=\"14.00\" text-anchor=\"middle\" x=\"282.5\" y=\"-257.3\">(None, 48, 256)</text>\n",
       "</g>\n",
       "<!-- 1549379377360&#45;&gt;1549379247408 -->\n",
       "<g class=\"edge\" id=\"edge3\"><title>1549379377360-&gt;1549379247408</title>\n",
       "<path d=\"M187.5,-332.366C187.5,-324.152 187.5,-314.658 187.5,-305.725\" fill=\"none\" stroke=\"black\"/>\n",
       "<polygon fill=\"black\" points=\"191,-305.607 187.5,-295.607 184,-305.607 191,-305.607\" stroke=\"black\"/>\n",
       "</g>\n",
       "<!-- 1549379246904 -->\n",
       "<g class=\"node\" id=\"node4\"><title>1549379246904</title>\n",
       "<polygon fill=\"none\" points=\"0,-166.5 0,-212.5 375,-212.5 375,-166.5 0,-166.5\" stroke=\"black\"/>\n",
       "<text font-family=\"Times New Roman,serif\" font-size=\"14.00\" text-anchor=\"middle\" x=\"107.5\" y=\"-185.8\">max_pooling1d_12: MaxPooling1D</text>\n",
       "<polyline fill=\"none\" points=\"215,-166.5 215,-212.5 \" stroke=\"black\"/>\n",
       "<text font-family=\"Times New Roman,serif\" font-size=\"14.00\" text-anchor=\"middle\" x=\"243\" y=\"-197.3\">input:</text>\n",
       "<polyline fill=\"none\" points=\"215,-189.5 271,-189.5 \" stroke=\"black\"/>\n",
       "<text font-family=\"Times New Roman,serif\" font-size=\"14.00\" text-anchor=\"middle\" x=\"243\" y=\"-174.3\">output:</text>\n",
       "<polyline fill=\"none\" points=\"271,-166.5 271,-212.5 \" stroke=\"black\"/>\n",
       "<text font-family=\"Times New Roman,serif\" font-size=\"14.00\" text-anchor=\"middle\" x=\"323\" y=\"-197.3\">(None, 48, 256)</text>\n",
       "<polyline fill=\"none\" points=\"271,-189.5 375,-189.5 \" stroke=\"black\"/>\n",
       "<text font-family=\"Times New Roman,serif\" font-size=\"14.00\" text-anchor=\"middle\" x=\"323\" y=\"-174.3\">(None, 12, 256)</text>\n",
       "</g>\n",
       "<!-- 1549379247408&#45;&gt;1549379246904 -->\n",
       "<g class=\"edge\" id=\"edge4\"><title>1549379247408-&gt;1549379246904</title>\n",
       "<path d=\"M187.5,-249.366C187.5,-241.152 187.5,-231.658 187.5,-222.725\" fill=\"none\" stroke=\"black\"/>\n",
       "<polygon fill=\"black\" points=\"191,-222.607 187.5,-212.607 184,-222.607 191,-222.607\" stroke=\"black\"/>\n",
       "</g>\n",
       "<!-- 1549379246176 -->\n",
       "<g class=\"node\" id=\"node5\"><title>1549379246176</title>\n",
       "<polygon fill=\"none\" points=\"58.5,-83.5 58.5,-129.5 316.5,-129.5 316.5,-83.5 58.5,-83.5\" stroke=\"black\"/>\n",
       "<text font-family=\"Times New Roman,serif\" font-size=\"14.00\" text-anchor=\"middle\" x=\"107.5\" y=\"-102.8\">lstm_2: LSTM</text>\n",
       "<polyline fill=\"none\" points=\"156.5,-83.5 156.5,-129.5 \" stroke=\"black\"/>\n",
       "<text font-family=\"Times New Roman,serif\" font-size=\"14.00\" text-anchor=\"middle\" x=\"184.5\" y=\"-114.3\">input:</text>\n",
       "<polyline fill=\"none\" points=\"156.5,-106.5 212.5,-106.5 \" stroke=\"black\"/>\n",
       "<text font-family=\"Times New Roman,serif\" font-size=\"14.00\" text-anchor=\"middle\" x=\"184.5\" y=\"-91.3\">output:</text>\n",
       "<polyline fill=\"none\" points=\"212.5,-83.5 212.5,-129.5 \" stroke=\"black\"/>\n",
       "<text font-family=\"Times New Roman,serif\" font-size=\"14.00\" text-anchor=\"middle\" x=\"264.5\" y=\"-114.3\">(None, 12, 256)</text>\n",
       "<polyline fill=\"none\" points=\"212.5,-106.5 316.5,-106.5 \" stroke=\"black\"/>\n",
       "<text font-family=\"Times New Roman,serif\" font-size=\"14.00\" text-anchor=\"middle\" x=\"264.5\" y=\"-91.3\">(None, 128)</text>\n",
       "</g>\n",
       "<!-- 1549379246904&#45;&gt;1549379246176 -->\n",
       "<g class=\"edge\" id=\"edge5\"><title>1549379246904-&gt;1549379246176</title>\n",
       "<path d=\"M187.5,-166.366C187.5,-158.152 187.5,-148.658 187.5,-139.725\" fill=\"none\" stroke=\"black\"/>\n",
       "<polygon fill=\"black\" points=\"191,-139.607 187.5,-129.607 184,-139.607 191,-139.607\" stroke=\"black\"/>\n",
       "</g>\n",
       "<!-- 1549379059328 -->\n",
       "<g class=\"node\" id=\"node6\"><title>1549379059328</title>\n",
       "<polygon fill=\"none\" points=\"62.5,-0.5 62.5,-46.5 312.5,-46.5 312.5,-0.5 62.5,-0.5\" stroke=\"black\"/>\n",
       "<text font-family=\"Times New Roman,serif\" font-size=\"14.00\" text-anchor=\"middle\" x=\"118\" y=\"-19.8\">dense_12: Dense</text>\n",
       "<polyline fill=\"none\" points=\"173.5,-0.5 173.5,-46.5 \" stroke=\"black\"/>\n",
       "<text font-family=\"Times New Roman,serif\" font-size=\"14.00\" text-anchor=\"middle\" x=\"201.5\" y=\"-31.3\">input:</text>\n",
       "<polyline fill=\"none\" points=\"173.5,-23.5 229.5,-23.5 \" stroke=\"black\"/>\n",
       "<text font-family=\"Times New Roman,serif\" font-size=\"14.00\" text-anchor=\"middle\" x=\"201.5\" y=\"-8.3\">output:</text>\n",
       "<polyline fill=\"none\" points=\"229.5,-0.5 229.5,-46.5 \" stroke=\"black\"/>\n",
       "<text font-family=\"Times New Roman,serif\" font-size=\"14.00\" text-anchor=\"middle\" x=\"271\" y=\"-31.3\">(None, 128)</text>\n",
       "<polyline fill=\"none\" points=\"229.5,-23.5 312.5,-23.5 \" stroke=\"black\"/>\n",
       "<text font-family=\"Times New Roman,serif\" font-size=\"14.00\" text-anchor=\"middle\" x=\"271\" y=\"-8.3\">(None, 22)</text>\n",
       "</g>\n",
       "<!-- 1549379246176&#45;&gt;1549379059328 -->\n",
       "<g class=\"edge\" id=\"edge6\"><title>1549379246176-&gt;1549379059328</title>\n",
       "<path d=\"M187.5,-83.3664C187.5,-75.1516 187.5,-65.6579 187.5,-56.7252\" fill=\"none\" stroke=\"black\"/>\n",
       "<polygon fill=\"black\" points=\"191,-56.6068 187.5,-46.6068 184,-56.6069 191,-56.6068\" stroke=\"black\"/>\n",
       "</g>\n",
       "<!-- 1549379247688 -->\n",
       "<g class=\"node\" id=\"node7\"><title>1549379247688</title>\n",
       "<polygon fill=\"none\" points=\"135.5,-498.5 135.5,-534.5 239.5,-534.5 239.5,-498.5 135.5,-498.5\" stroke=\"black\"/>\n",
       "<text font-family=\"Times New Roman,serif\" font-size=\"14.00\" text-anchor=\"middle\" x=\"187.5\" y=\"-512.8\">1549379247688</text>\n",
       "</g>\n",
       "<!-- 1549379247688&#45;&gt;1549379247856 -->\n",
       "<g class=\"edge\" id=\"edge1\"><title>1549379247688-&gt;1549379247856</title>\n",
       "<path d=\"M187.5,-498.254C187.5,-490.363 187.5,-480.749 187.5,-471.602\" fill=\"none\" stroke=\"black\"/>\n",
       "<polygon fill=\"black\" points=\"191,-471.591 187.5,-461.591 184,-471.591 191,-471.591\" stroke=\"black\"/>\n",
       "</g>\n",
       "</g>\n",
       "</svg>"
      ],
      "text/plain": [
       "<IPython.core.display.SVG object>"
      ]
     },
     "execution_count": 189,
     "metadata": {},
     "output_type": "execute_result"
    }
   ],
   "source": [
    "model.summary()\n",
    "SVG(model_to_dot(model,show_shapes=True).create(prog=\"dot\",format=\"svg\"))"
   ]
  },
  {
   "cell_type": "code",
   "execution_count": 191,
   "metadata": {},
   "outputs": [
    {
     "name": "stdout",
     "output_type": "stream",
     "text": [
      "Train on 48965 samples, validate on 16322 samples\n",
      "Epoch 1/20\n",
      "48965/48965 [==============================] - 104s 2ms/step - loss: 2.1092 - acc: 0.3308 - val_loss: 1.7512 - val_acc: 0.4491\n",
      "Epoch 2/20\n",
      "48965/48965 [==============================] - 99s 2ms/step - loss: 1.4777 - acc: 0.5322 - val_loss: 1.7299 - val_acc: 0.4620\n",
      "Epoch 3/20\n",
      "48965/48965 [==============================] - 100s 2ms/step - loss: 1.0914 - acc: 0.6575 - val_loss: 1.8994 - val_acc: 0.4588\n",
      "Epoch 4/20\n",
      "48965/48965 [==============================] - 100s 2ms/step - loss: 0.8051 - acc: 0.7453 - val_loss: 2.1059 - val_acc: 0.4551\n",
      "Epoch 5/20\n",
      "48965/48965 [==============================] - 100s 2ms/step - loss: 0.6206 - acc: 0.8029 - val_loss: 2.3438 - val_acc: 0.4458\n"
     ]
    },
    {
     "data": {
      "text/plain": [
       "<keras.callbacks.History at 0x168be6afa58>"
      ]
     },
     "execution_count": 191,
     "metadata": {},
     "output_type": "execute_result"
    }
   ],
   "source": [
    "model.compile(loss=\"categorical_crossentropy\",optimizer=\"adam\",metrics=[\"accuracy\"])\n",
    "\n",
    "model.fit(X_train,y_train,epochs=5,batch_size = 64,validation_data = (X_test,y_test),callbacks = [early_stopping])"
   ]
  }
 ],
 "metadata": {
  "kernelspec": {
   "display_name": "tensor36",
   "language": "python",
   "name": "tensorflow36"
  },
  "language_info": {
   "codemirror_mode": {
    "name": "ipython",
    "version": 3
   },
   "file_extension": ".py",
   "mimetype": "text/x-python",
   "name": "python",
   "nbconvert_exporter": "python",
   "pygments_lexer": "ipython3",
   "version": "3.6.5"
  }
 },
 "nbformat": 4,
 "nbformat_minor": 2
}
