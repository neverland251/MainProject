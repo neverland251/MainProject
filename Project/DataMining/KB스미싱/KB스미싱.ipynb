{
 "cells": [
  {
   "cell_type": "code",
   "execution_count": 1,
   "metadata": {},
   "outputs": [
    {
     "name": "stderr",
     "output_type": "stream",
     "text": [
      "Using TensorFlow backend.\n"
     ]
    }
   ],
   "source": [
    "from keras import models\n",
    "from keras.models import Sequential\n",
    "from keras.models import Model\n",
    "from keras.models import load_model\n",
    "from keras import backend as K\n",
    "\n",
    "from keras import layers\n",
    "from keras.layers import Layer\n",
    "from keras.layers import Input,Dense,Flatten,Embedding,Permute,Dot,Reshape\n",
    "from keras.layers.convolutional import Conv1D,MaxPooling1D,MaxPooling2D\n",
    "from keras.layers import Dropout\n",
    "from keras.layers import LSTM,GRU\n",
    "\n",
    "\n",
    "import time\n",
    "\n",
    "from keras.callbacks import Callback\n",
    "\n",
    "from keras.preprocessing import sequence\n",
    "from keras.utils import np_utils\n",
    "\n",
    "import tensorflow as tf\n",
    "\n",
    "from sklearn.model_selection import train_test_split\n",
    "from sklearn.feature_extraction.text import CountVectorizer\n",
    "from sklearn.metrics import roc_auc_score,accuracy_score\n",
    "\n",
    "\n",
    "import pandas as pd\n",
    "from pandas import DataFrame, Series\n",
    "import numpy as np\n",
    "from scipy import stats\n",
    "\n",
    "import re\n",
    "\n",
    "import matplotlib as mpl\n",
    "import matplotlib.pyplot as plt\n",
    "import matplotlib.font_manager as fm\n",
    "\n",
    "import copy"
   ]
  },
  {
   "cell_type": "code",
   "execution_count": 2,
   "metadata": {},
   "outputs": [],
   "source": [
    "from keras_transformer import transformer\n",
    "from keras_transformer import position"
   ]
  },
  {
   "cell_type": "code",
   "execution_count": 3,
   "metadata": {},
   "outputs": [],
   "source": [
    "rawdata = pd.read_csv(\"train.csv\")"
   ]
  },
  {
   "cell_type": "code",
   "execution_count": 4,
   "metadata": {},
   "outputs": [
    {
     "data": {
      "text/plain": [
       "0    277242\n",
       "1     18703\n",
       "Name: smishing, dtype: int64"
      ]
     },
     "execution_count": 4,
     "metadata": {},
     "output_type": "execute_result"
    }
   ],
   "source": [
    "rawdata[\"smishing\"].value_counts()"
   ]
  },
  {
   "cell_type": "code",
   "execution_count": 5,
   "metadata": {},
   "outputs": [
    {
     "data": {
      "image/png": "[encoded data removed]",
      "text/plain": [
       "<Figure size 432x288 with 1 Axes>"
      ]
     },
     "metadata": {},
     "output_type": "display_data"
    }
   ],
   "source": [
    "plt.bar(x=[\"non-smishing\",\"smishing\"],height=rawdata[\"smishing\"].value_counts())\n",
    "plt.show()"
   ]
  },
  {
   "cell_type": "code",
   "execution_count": 7,
   "metadata": {},
   "outputs": [],
   "source": [
    "## target과 text를 분리해서 담는다.\n",
    "\n",
    "target = rawdata[\"smishing\"]\n",
    "text = rawdata[\"text\"]"
   ]
  },
  {
   "cell_type": "markdown",
   "metadata": {},
   "source": [
    "# EDA"
   ]
  },
  {
   "cell_type": "markdown",
   "metadata": {},
   "source": [
    "## 1. 타깃간 문장 길이에 차이가 있는가?"
   ]
  },
  {
   "cell_type": "code",
   "execution_count": 8,
   "metadata": {},
   "outputs": [],
   "source": [
    "\n",
    "length = DataFrame()\n",
    "\n",
    "for i,j in enumerate(np.array(text)):\n",
    "    good = DataFrame([len(j)],index=[i])\n",
    "    length = pd.concat([length,good],axis=0)"
   ]
  },
  {
   "cell_type": "code",
   "execution_count": 6,
   "metadata": {},
   "outputs": [],
   "source": [
    "\n",
    "length_1 = DataFrame()\n",
    "\n",
    "for i,j in enumerate(np.array(text)[target[target == 1].index]):\n",
    "    good = DataFrame([len(j)],index=[i])\n",
    "    length_1 = pd.concat([length_1,good],axis=0)"
   ]
  },
  {
   "cell_type": "code",
   "execution_count": null,
   "metadata": {},
   "outputs": [],
   "source": [
    "length_0 = DataFrame()\n",
    "\n",
    "for i,j in enumerate(np.array(text)[target[target == 0].index]):\n",
    "    good = DataFrame([len(j)],index=[i])\n",
    "    length_0 = pd.concat([length_0,good],axis=0)"
   ]
  },
  {
   "cell_type": "code",
   "execution_count": null,
   "metadata": {
    "scrolled": true
   },
   "outputs": [],
   "source": [
    "length_1.describe()"
   ]
  },
  {
   "cell_type": "code",
   "execution_count": 170,
   "metadata": {},
   "outputs": [
    {
     "data": {
      "text/html": [
       "<div>\n",
       "<style scoped>\n",
       "    .dataframe tbody tr th:only-of-type {\n",
       "        vertical-align: middle;\n",
       "    }\n",
       "\n",
       "    .dataframe tbody tr th {\n",
       "        vertical-align: top;\n",
       "    }\n",
       "\n",
       "    .dataframe thead th {\n",
       "        text-align: right;\n",
       "    }\n",
       "</style>\n",
       "<table border=\"1\" class=\"dataframe\">\n",
       "  <thead>\n",
       "    <tr style=\"text-align: right;\">\n",
       "      <th></th>\n",
       "      <th>0</th>\n",
       "    </tr>\n",
       "  </thead>\n",
       "  <tbody>\n",
       "    <tr>\n",
       "      <th>count</th>\n",
       "      <td>277242.000000</td>\n",
       "    </tr>\n",
       "    <tr>\n",
       "      <th>mean</th>\n",
       "      <td>133.742391</td>\n",
       "    </tr>\n",
       "    <tr>\n",
       "      <th>std</th>\n",
       "      <td>149.335552</td>\n",
       "    </tr>\n",
       "    <tr>\n",
       "      <th>min</th>\n",
       "      <td>1.000000</td>\n",
       "    </tr>\n",
       "    <tr>\n",
       "      <th>25%</th>\n",
       "      <td>39.000000</td>\n",
       "    </tr>\n",
       "    <tr>\n",
       "      <th>50%</th>\n",
       "      <td>75.000000</td>\n",
       "    </tr>\n",
       "    <tr>\n",
       "      <th>75%</th>\n",
       "      <td>172.000000</td>\n",
       "    </tr>\n",
       "    <tr>\n",
       "      <th>max</th>\n",
       "      <td>1498.000000</td>\n",
       "    </tr>\n",
       "  </tbody>\n",
       "</table>\n",
       "</div>"
      ],
      "text/plain": [
       "                   0\n",
       "count  277242.000000\n",
       "mean      133.742391\n",
       "std       149.335552\n",
       "min         1.000000\n",
       "25%        39.000000\n",
       "50%        75.000000\n",
       "75%       172.000000\n",
       "max      1498.000000"
      ]
     },
     "execution_count": 170,
     "metadata": {},
     "output_type": "execute_result"
    }
   ],
   "source": [
    "length_0.describe()"
   ]
  },
  {
   "cell_type": "code",
   "execution_count": 179,
   "metadata": {},
   "outputs": [
    {
     "data": {
      "text/plain": [
       "0.0631975535994864"
      ]
     },
     "execution_count": 179,
     "metadata": {},
     "output_type": "execute_result"
    }
   ],
   "source": [
    "18703/(277242+18703)"
   ]
  },
  {
   "cell_type": "code",
   "execution_count": 172,
   "metadata": {},
   "outputs": [
    {
     "data": {
      "text/plain": [
       "674.6091861983393"
      ]
     },
     "execution_count": 172,
     "metadata": {},
     "output_type": "execute_result"
    }
   ],
   "source": [
    "(18703/277242) * 10000"
   ]
  },
  {
   "cell_type": "code",
   "execution_count": 8,
   "metadata": {},
   "outputs": [],
   "source": [
    "length_1 = length_1.reset_index(drop=True)\n",
    "length_0 = length_0.reset_index(drop=True)"
   ]
  },
  {
   "cell_type": "code",
   "execution_count": 9,
   "metadata": {},
   "outputs": [],
   "source": [
    "length_1_sample = length_1.loc[np.random.randint(1,len(length_1),675)]\n",
    "length_0_sample = length_0.loc[np.random.randint(1,len(length_0),10000)]"
   ]
  },
  {
   "cell_type": "code",
   "execution_count": 10,
   "metadata": {},
   "outputs": [
    {
     "data": {
      "text/plain": [
       "Ks_2sampResult(statistic=0.8933481481481481, pvalue=0.0)"
      ]
     },
     "execution_count": 10,
     "metadata": {},
     "output_type": "execute_result"
    }
   ],
   "source": [
    "## KS검정\n",
    "\n",
    "stats.ks_2samp(np.array(length_1_sample.T)[0],np.array(length_0_sample.T)[0])"
   ]
  },
  {
   "cell_type": "markdown",
   "metadata": {},
   "source": [
    "### 0와 1 사이에 평균은 차이가 있다. 그리고, 스미싱쪽이 문장이 더 길다."
   ]
  },
  {
   "cell_type": "code",
   "execution_count": 7,
   "metadata": {},
   "outputs": [
    {
     "data": {
      "text/html": [
       "<div>\n",
       "<style scoped>\n",
       "    .dataframe tbody tr th:only-of-type {\n",
       "        vertical-align: middle;\n",
       "    }\n",
       "\n",
       "    .dataframe tbody tr th {\n",
       "        vertical-align: top;\n",
       "    }\n",
       "\n",
       "    .dataframe thead th {\n",
       "        text-align: right;\n",
       "    }\n",
       "</style>\n",
       "<table border=\"1\" class=\"dataframe\">\n",
       "  <thead>\n",
       "    <tr style=\"text-align: right;\">\n",
       "      <th></th>\n",
       "      <th>0</th>\n",
       "    </tr>\n",
       "  </thead>\n",
       "  <tbody>\n",
       "    <tr>\n",
       "      <th>count</th>\n",
       "      <td>295945.000000</td>\n",
       "    </tr>\n",
       "    <tr>\n",
       "      <th>mean</th>\n",
       "      <td>175.911700</td>\n",
       "    </tr>\n",
       "    <tr>\n",
       "      <th>std</th>\n",
       "      <td>223.469344</td>\n",
       "    </tr>\n",
       "    <tr>\n",
       "      <th>min</th>\n",
       "      <td>1.000000</td>\n",
       "    </tr>\n",
       "    <tr>\n",
       "      <th>25%</th>\n",
       "      <td>40.000000</td>\n",
       "    </tr>\n",
       "    <tr>\n",
       "      <th>50%</th>\n",
       "      <td>88.000000</td>\n",
       "    </tr>\n",
       "    <tr>\n",
       "      <th>75%</th>\n",
       "      <td>201.000000</td>\n",
       "    </tr>\n",
       "    <tr>\n",
       "      <th>max</th>\n",
       "      <td>1498.000000</td>\n",
       "    </tr>\n",
       "  </tbody>\n",
       "</table>\n",
       "</div>"
      ],
      "text/plain": [
       "                   0\n",
       "count  295945.000000\n",
       "mean      175.911700\n",
       "std       223.469344\n",
       "min         1.000000\n",
       "25%        40.000000\n",
       "50%        88.000000\n",
       "75%       201.000000\n",
       "max      1498.000000"
      ]
     },
     "execution_count": 7,
     "metadata": {},
     "output_type": "execute_result"
    }
   ],
   "source": [
    "length.describe()"
   ]
  },
  {
   "cell_type": "code",
   "execution_count": 124,
   "metadata": {},
   "outputs": [
    {
     "data": {
      "image/png": "[encoded data removed]",
      "text/plain": [
       "<Figure size 432x288 with 1 Axes>"
      ]
     },
     "metadata": {},
     "output_type": "display_data"
    }
   ],
   "source": [
    "a = length.hist(bins=np.arange(700,900,5))\n",
    "plt.show(a)"
   ]
  },
  {
   "cell_type": "code",
   "execution_count": 157,
   "metadata": {
    "scrolled": true
   },
   "outputs": [
    {
     "data": {
      "text/plain": [
       "array([[<matplotlib.axes._subplots.AxesSubplot object at 0x0000021205748FD0>]],\n",
       "      dtype=object)"
      ]
     },
     "execution_count": 157,
     "metadata": {},
     "output_type": "execute_result"
    },
    {
     "data": {
      "image/png": "[encoded data removed]",
      "text/plain": [
       "<Figure size 432x288 with 1 Axes>"
      ]
     },
     "metadata": {},
     "output_type": "display_data"
    }
   ],
   "source": [
    "length_1.hist(bins=np.arange(0,1230,5))"
   ]
  },
  {
   "cell_type": "code",
   "execution_count": 85,
   "metadata": {},
   "outputs": [
    {
     "data": {
      "text/plain": [
       "Index(['2017-01', '2017-02', '2017-03', '2017-04', '2017-05', '2017-06',\n",
       "       '2017-07', '2017-08', '2017-09', '2017-10', '2017-11', '2017-12',\n",
       "       '2018-01', '2018-02', '2018-03', '2018-04', '2018-05', '2018-06',\n",
       "       '2018-07', '2018-08', '2018-09', '2018-10', '2018-11', '2018-12'],\n",
       "      dtype='object', name='year_month')"
      ]
     },
     "execution_count": 85,
     "metadata": {},
     "output_type": "execute_result"
    }
   ],
   "source": [
    "rawdata.groupby(\"year_month\")[\"smishing\"].value_counts().unstack().loc[:,1].index"
   ]
  },
  {
   "cell_type": "code",
   "execution_count": 91,
   "metadata": {},
   "outputs": [
    {
     "data": {
      "text/plain": [
       "[]"
      ]
     },
     "execution_count": 91,
     "metadata": {},
     "output_type": "execute_result"
    }
   ],
   "source": [
    "plt.plot(y = rawdata.groupby(\"year_month\")[\"smishing\"].value_counts().unstack().loc[:,1].values, x = rawdata.groupby(\"year_month\")[\"smishing\"].value_counts().unstack().loc[:,1].index)"
   ]
  },
  {
   "cell_type": "markdown",
   "metadata": {},
   "source": [
    "## 2. 어떤 형태소분석기가 분석 목적에 더 잘 맞는가?"
   ]
  },
  {
   "cell_type": "code",
   "execution_count": 22,
   "metadata": {},
   "outputs": [],
   "source": [
    "from konlpy.tag import Okt\n",
    "from konlpy.tag import Komoran\n",
    "from konlpy.tag import Kkma\n",
    "\n",
    "Okt = Okt()\n",
    "Kom = Komoran()\n",
    "Kkma = Kkma()\n"
   ]
  },
  {
   "cell_type": "code",
   "execution_count": 23,
   "metadata": {},
   "outputs": [
    {
     "data": {
      "text/plain": [
       "9         (광고)XXXBaXXX고객님들 뒤엔XXX 언제나 XXX새로운 마음가짐으로 새롭게 준...\n",
       "23        (광고)XXX추가 XXX품   특판 안내문XXX 지점에서 취급하고 있는 여신 XXX...\n",
       "31        (광고)XXX신용관리 XXX 알고 싶다나의 신용과 재무상태는 직접 관리해야지 누군가...\n",
       "40        (광고)안녕하세요수신을 희망하지 않으실 경우에는 거부 라는 답장을 주시면 KISA ...\n",
       "50        (광고)한국citi bank 나의 대출한도와 금리는? 대출때문에 고민하고 있다거나 ...\n",
       "67        (광고)다사다난했던 병신()년을 보내고 새로운 정유()년에는 늘 좋은 일과 뜻하시는...\n",
       "71        (광고)한국 (XXX XXX)2분의 시간만 투자하시면 월200만원 SAVE(절감)되...\n",
       "107       (광고)한국citi bank나의 대출한도와 금리는?대출때문에 고민하고 있다거나 높은...\n",
       "129       (광고)신용협동조합 안내XXX세요하루하루 힘든업무와 스트레스에 고생많으십니다여유시간...\n",
       "135       (광고)신협안녕하십니까 하루하루 힘들고 스트레스 받는 대한민국에서 고생이 많으신데 ...\n",
       "144       (광고)한국citi bank나의 대출한도와 금리는?대출때문에 고민하고 있다거나 높은...\n",
       "160       (광고)한국XXX XXX이글을 읽는데 2분의 시간만 투자하시면 많은 도움이 되실껍니...\n",
       "164       (광고)XXXBXXX추운겨울 따뜻한금융 XXXBXXX따뜻한 금융이 누구보다 XXX ...\n",
       "169       (광고)XXX 신용관리를 통한 현명한 지출관리 정유년 새해 복 많이 받으세요! 1월...\n",
       "175       (광고)한국citi bank나의 대출한도와 금리는?대출때문에 고민하고 있다거나 높은...\n",
       "200       (광고)한국citi bank나의 대출한도와 금리는?대출때문에 고민하고 있다거나 높은...\n",
       "210       안녕하세요?바XXX에 지장드릴까봐 문자로 연락드립니다.XXX에서 조회및실행업무를 맡...\n",
       "221       (광고)한국XXX XXX이글을 읽는데 2분의 시간만 투자하시면 많은 도움이 되실껍니...\n",
       "227       안녕하세요바쁜XXX 지장드릴까봐 문자로 연락드립니다.XXX XXX에서 조회및실행업무...\n",
       "234       (광고)안녕하세요.일전 XXX소속으로 상담드렸던분들께 보내드리는 안내문자입니다.잘못...\n",
       "245       (광고)XXX처음처럼 한결같은 마음항상 같은마음으로 1XXX 고객님들 편에서 듣고 ...\n",
       "260       안녕하세요?바XXX안녕하세요?바XXX에 지장드릴까봐 문자로 연락드립니다.XXX XX...\n",
       "269       (광고)한국citi bank나의 대출한도와 금리는?대출때문에 고민하고 있다거나 높은...\n",
       "272       (광고)XXX따뜻한 마음 XXX쌀쌀해진 날씨만큼 얼어붙은 경XXX 고객님들의 마음을...\n",
       "276       (광고)한국citi bank나의 대출한도와 금리는?대출때문에 고민하고 있다거나 높은...\n",
       "281       (광고)XXX 차장 XXX-XXX-XXXVbCrLf (광고)XXX 차장  XXX-X...\n",
       "286       (광고)한국 (XXX XXX)2분의 시간만 투자하시면 월200만원 SAVE(절감)되...\n",
       "297       (광고)한국citi bank나의 대출한도와 금리는?대출때문에 고민하고 있다거나 높은...\n",
       "314       (광고)XXXBaXXX고객님들 뒤엔XXX 언제나 XXX새로운 마음가짐으로 새롭게 준...\n",
       "323       (광고)정유년 새해 복 많이 받으세요!!한국이지론에서 대출심사 기준이 완화되어 상품...\n",
       "                                ...                        \n",
       "295825    (광고)XXX금전을 요구하는건 사기입니다. 유의하세요!1.부득이하게 높은 이자를 내...\n",
       "295834    (광고)XXX금전을 요구하는건 사기입니다. 유의하세요!1.부득이하게 높은 이자를 내...\n",
       "295837    (광고)XXX금전을 요구하는건 사기입니다. 유의하세요!1.부득이하게 높은 이자를 내...\n",
       "295838    (광고)XXX함께 성장하고 어려울 때 힘이 되는 당신의 든든한 동반자 XXX안녕하세...\n",
       "295844    (광고)XXX나의 한도금리를 알아보자금전을 요구하는건 사기입니다. 유의하세요!1.부...\n",
       "295849    (광고)XXX금전을 요구하는건 사기입니다. 유의하세요!1.부득이하게 높은 이자를 내...\n",
       "295851    XXX (광고)XXX 안내  새롭게 시작하는 XXX입니다. 항상 저희 XXX을 이용...\n",
       "295852    (광고) XXX 항상 저희 XXX을 이용해주셔서 감사합니다. 2018년 하반기 정부...\n",
       "295853    (광고)새롭게 시작하는 XXX 입니다.고객님께서는 한국자산관리공사 국민행복기금 신용...\n",
       "295856    (광고)XXX금전을 요구하는건 사기입니다. 유의하세요!1.부득이하게 높은 이자를 내...\n",
       "295859    (광고)XXX은행고객님 안녕하세요.조회및실행업무를 맡고 있는대출담당입니다XXX 특판...\n",
       "295862    (광고)한국XXX은행금전을 요구하는건 사기 입니다. 유의하세요!1.부득이하게 높은 ...\n",
       "295865    (광고)XXX정확하고 올바른 신용대출2018년 하반기 당사상품의 자격기준과 심사기준...\n",
       "295878    (광고)XXX메세지를 보내드린것은 다름이 아니라 2018년 새롭게바뀐 직장인대상 가...\n",
       "295886    (광고)한국XXX은행금전을 요구하는건 사기 입니다. 유의하세요!1.부득이하게 높은 ...\n",
       "295897    (광고)XXX금전을 요구하는건 사기입니다. 유의하세요!1.부득이하게 높은 이자를 내...\n",
       "295898    XXX정확하고 올바른 신용대출당사상품의 자격기준과 심사기준이 완화되어 상품에 대해 ...\n",
       "295901    (광고)XXX은행 최근 은행상품이 새롭게개선되었습니다..안녕하세요XXX은행 상담및 ...\n",
       "295904    (광고)XXX신규 상품 안내드립니다.행여 바쁜업무에 지장드릴까봐 메세지로 연락드립니...\n",
       "295905    (광고)한국XXX은행금전을 요구하는건 사기 입니다. 유의하세요!1.부득이하게 높은 ...\n",
       "295907    안녕하십니XXX팀장입니다!!Merry X-masHappy New year !!올 한...\n",
       "295913    (광고) XXX항상 저희 XXX을 이용해주셔서 감사합니다.2018년 하반기 마지막 ...\n",
       "295915    (광고)XXX금전을 요구하는건 사기입니다. 유의하세요!1.부득이하게 높은 이자를 내...\n",
       "295917    (광고)XXX행 상품 안내안녕하세요.저희 XXX 에서 신규 상품 출시되며 채무통합 ...\n",
       "295924    안녕하세요 오XXX연락드려요  CT은행 대출진행담당자 였던XXX팀장입니다타 금융사로...\n",
       "295927    (광고)XXX금전을 요구하는건 사기입니다. 유의하세요!1.부득이하게 높은 이자를 내...\n",
       "295932    (광고)XXX금전을 요구하는건 사기입니다. 유의하세요!1.부득이하게 높은 이자를 내...\n",
       "295934    (광고)XXX나의 한도금리를 알아보자금전을 요구하는건 사기입니다. 유의하세요!1.부...\n",
       "295936    (광고) XXX항상 (XXX국민)은행을 이용해주셔서 감사합니다. 2018년 12월 ...\n",
       "295937    (광고)XXX가이드 변경 안내정확하고 올바른 신용상품 당사상품의 자격기준과 심사기준...\n",
       "Name: text, Length: 18703, dtype: object"
      ]
     },
     "execution_count": 23,
     "metadata": {},
     "output_type": "execute_result"
    }
   ],
   "source": [
    "text[target[target == 1].index]"
   ]
  },
  {
   "cell_type": "code",
   "execution_count": 142,
   "metadata": {
    "scrolled": true
   },
   "outputs": [
    {
     "data": {
      "text/plain": [
       "'(광고)정유년 새해 복 많이 받으세요!!한국이지론에서 대출심사 기준이 완화되어 상품안내차 연락드립니다. 매우 바쁘신줄은 알지만 조금만 시간을 내어서 읽어주시면 홍보성 문자이나 필요한 한분 한분에게 도움이 되고자 합니다. 대상 - 직장인사업자프리랜서주부금리 - 최저 4.24%  1 담보대출은 대출한도에 영향을주지않으므로 담보대출이 과다하여도 대출가능2 소비자금융권대출 있으셔도 대환대출로 진행가능3 대출건수조회기록이 많아도  진행가능4 신용등급 상관없이 연체있어도 진행가능XXX 고객님들이 바쁘셔서 혹은 시중은행 가계대출(신용대출)이 제한되면서 현금서비스 및 고금리의 2금융권상품(카드론XXXXXX)을 많이들 사용하고 계십니다XXX 고객님들을 낮은 금리의 전환대출 및 부채통합을 도와드리고 있습니다. (분산된 부채 XXX 고객님들 부채를 0원으로 만들어 드린 상태에서 신용등급 상승 및 한도 발생  매월 내시는 불입금액에 대한 부담감소 이자비용의 절감 이번 기회에 은행권 저금리상품으로 전환도 알아보시길 바랍니다)신청방법상담 가능 시간.성함.으로 문자예약.또는 전화주시면 상담가능하십니다.감사합니다.부채통합 생계자금 동시진행가능한국이지론 수탁법인상담전화XXX-XXX-XXX해당이 되지 않으시거나 거부를 원하시는 분들은 거부라고 회신하여 주신다면 재발송 않도록 하겠습니다. 번호의 오류나 전산의 실수가 있을 수 있사오니 양해 부탁드립니다.한국이지론 담당 박신혜무료수신거부XXX-XXX-XXX정유년 새해 복 많이 받으세요!!'"
      ]
     },
     "execution_count": 142,
     "metadata": {},
     "output_type": "execute_result"
    }
   ],
   "source": [
    "#피싱문자\n",
    "\n",
    "text[323]"
   ]
  },
  {
   "cell_type": "code",
   "execution_count": 139,
   "metadata": {
    "scrolled": true
   },
   "outputs": [
    {
     "data": {
      "text/plain": [
       "array(['광고', '정유년', '새해', '복', '한국', '론', '대출', '심사', '기준', '완화', '상품',\n",
       "       '연락', '매우', '줄', '알', '조금', '시간', '어서', '홍보', '문자', '분', '분', '도움',\n",
       "       '대상', '직장인', '사업자', '프리랜서', '주부', '금리', '최저', '담보', '대출', '대출',\n",
       "       '한도', '영향', '주지', '담보', '대출', '과', '대출', '가능', '소비자금융', '대출', '환',\n",
       "       '대출', '진행', '가능', '대출', '건', '조회', '기록', '진행', '가능', '신용등급', '연체',\n",
       "       '진행', '가능', '고객', '시중', '은행', '가계', '대출', '신용', '대출', '이', '제한',\n",
       "       '현금', '서비스', '및', '금리', '금융', '상품', '카드', '론', '사용', '고객', '금리',\n",
       "       '전환', '대출', '및', '부채', '통합', '도', '분산', '부채', '고객', '부채', '상태',\n",
       "       '신용등급', '상승', '및', '한도', '발생', '매월', '내시', '불입', '금액', '대한', '부담',\n",
       "       '감소', '자비', '용의', '절감', '이번', '기회', '은행권', '금리', '상품', '전환', '신청',\n",
       "       '방법', '상담', '가능', '시간', '성함', '문자', '예약', '전화', '주시', '상담', '부채',\n",
       "       '통합', '생계', '자금', '진행', '가능', '한국', '론', '수탁', '법인', '상담', '전화',\n",
       "       '해당', '거부', '분', '거부', '회신', '재', '발송', '번호', '오류', '전산', '실수',\n",
       "       '수', '양해', '한국', '론', '담당', '박신혜', '무료', '거부', '정유년', '새해', '복'],\n",
       "      dtype='<U5')"
      ]
     },
     "execution_count": 139,
     "metadata": {},
     "output_type": "execute_result"
    }
   ],
   "source": [
    "np.array(Okt.nouns(text[323]))"
   ]
  },
  {
   "cell_type": "code",
   "execution_count": 140,
   "metadata": {
    "scrolled": true
   },
   "outputs": [
    {
     "data": {
      "text/plain": [
       "array(['광고', '정유', '새해', '복', '한국', '한국이지', '이지', '대출', '대출심사', '심사',\n",
       "       '기준', '완화', '상품', '상품안내차', '안내', '차', '연락', '줄', '조금', '시간', '내',\n",
       "       '홍보', '문자', '필요', '분', '도움', '대상', '직장', '프리랜서', '직장인사업자', '인사',\n",
       "       '업자', '주부', '주부금리', '금리', '최', '4.24', '1', '담보', '담보대출', '대출한도',\n",
       "       '한도', '영향', '과다', '대출가능2', '가능', '2', '소비자', '소비자금융권대출', '금융권',\n",
       "       '대환', '대환대출', '진행', '진행가능3', '3', '대출건수조회기록', '건수', '조회', '기록',\n",
       "       '진행가능4', '4', '신용', '신용등급', '등급', '연체', '진행가능', '객님', '시중', '시중은행',\n",
       "       '은행', '가계', '가계대출', '신용대출', '이', '제한', '현금', '현금서비스', '서비스', '고금리',\n",
       "       '2금융권상품', '카드', '을', '사용', '전환', '전환대출', '부채', '부채통합', '통합', '분산',\n",
       "       '0', '0원', '원', '상태', '상승', '발생', '내시', '입금액', '부담', '부담감소', '감소',\n",
       "       '이자', '이자비용', '비용', '절감', '이번', '기회', '은행권', '저금리', '저금리상품', '신청',\n",
       "       '신청방법상담', '방법', '상담', '성함', '문자예약', '예약', '전화', '전화주시', '주시',\n",
       "       '상담가능', '감사', '생계', '생계자금', '자금', '동시', '동시진행가능', '국', '국이지', '수탁',\n",
       "       '수탁법인상담전화', '법인', '해당', '거부', '분', '회신', '재', '재발송', '발송', '번호',\n",
       "       '오류', '전산', '실수', '수', '있사오', '양', '부탁', '담당', '박', '혜무', '수신',\n",
       "       '수신거부', '정', '정유년', '유년'], dtype='<U8')"
      ]
     },
     "execution_count": 140,
     "metadata": {},
     "output_type": "execute_result"
    }
   ],
   "source": [
    "np.array(Kkma.nouns(text[323]))"
   ]
  },
  {
   "cell_type": "code",
   "execution_count": 141,
   "metadata": {
    "scrolled": true
   },
   "outputs": [
    {
     "data": {
      "text/plain": [
       "array(['광고', '정유', '년', '새해', '복', '한국', '이지', '대출', '심사', '기준', '완화',\n",
       "       '상품', '안내', '차', '연락', '줄', '조금', '시간', '홍보', '문자', '필요', '분', '분',\n",
       "       '도움', '대상', '직장인', '사업자', '프리랜서', '주부', '금리', '최저', '담보', '대출',\n",
       "       '대출', '한도', '영향', '담보', '대출', '과다', '대출', '가능', '소비자금융', '권', '대출',\n",
       "       '대환', '대출', '진행', '가능', '대출', '건수', '조회', '기록', '진행', '가능', '신용등급',\n",
       "       '연체', '진행', '가능', 'XXX', '고객', '시중', '은행', '가계', '대출', '신용', '대출',\n",
       "       '제한', '현금', '서비스', '고금리', '금융', '권', '상품', '카드론', '사용', '고객', '금리',\n",
       "       '전환', '대출', '부채', '통합', '분산', '부채', '고객', '부채', '원', '상태', '신용등급',\n",
       "       '상승', '한도', '발생', '내시', '입금액', '부담', '감소', '이자', '비용', '절감', '이번',\n",
       "       '기회', '은행', '저금리', '상품', '전환', '신청', '방법', '상담', '시간', '성함', '문자',\n",
       "       '예약', '전화', '주시', '상담', '감사', '부채', '통합', '생계', '자금', '동시', '진행',\n",
       "       '가능', '한국', '이지', '수', '탁', '법인', '상담', '전화', 'XXX', '해당', '거부',\n",
       "       '분', '거부', '회신', '발송', '번호', '오류', '전산', '실수', '수', '양해', '부탁',\n",
       "       '한국', '이지', '담당', '박신혜', '무료', '수신', '거부', '정유', '년', '새해', '복'],\n",
       "      dtype='<U5')"
      ]
     },
     "execution_count": 141,
     "metadata": {},
     "output_type": "execute_result"
    }
   ],
   "source": [
    "np.array(Kom.nouns(text[323]))"
   ]
  },
  {
   "cell_type": "markdown",
   "metadata": {},
   "source": [
    "### 문구를 의미단의로 잘 분리하는 꼬꼬마를 쓰자 -> Out of Memory 발생. Komoran으로 대체 사용"
   ]
  },
  {
   "cell_type": "markdown",
   "metadata": {},
   "source": [
    "# 데이터 전처리"
   ]
  },
  {
   "cell_type": "code",
   "execution_count": 24,
   "metadata": {},
   "outputs": [],
   "source": [
    "def vect_tokenizer(text):\n",
    "    return Kom.nouns(text)"
   ]
  },
  {
   "cell_type": "code",
   "execution_count": 25,
   "metadata": {},
   "outputs": [
    {
     "name": "stdout",
     "output_type": "stream",
     "text": [
      "있는 색인사전을 쓸까요(0), 아님 신규로 만들까요(1)0\n"
     ]
    }
   ],
   "source": [
    "## CountVectorizer로 문자 : 숫자로 이루어진 색인 사전을 만든다.\n",
    "## 이미 만들어진 색인사전을 이용해도 됩니다.\n",
    "\n",
    "zero_or_one = input(\"있는 색인사전을 쓸까요(0), 아님 신규로 만들까요(1)\")\n",
    "\n",
    "if zero_or_one == \"1\":\n",
    "    vect = CountVectorizer(tokenizer = vect_tokenizer ,min_df = 10, analyzer = \"word\")\n",
    "    vect.fit(text)\n",
    "    vocabulary = vect.vocabulary_\n",
    "    DataFrame([vect.vocabulary_]).to_csv(\"색인사전.csv\",encoding=\"utf-8\",index=False)\n",
    "if zero_or_one == \"0\":\n",
    "    vocabulary = pd.read_csv(\"색인사전.csv\",engine=\"python\",encoding=\"utf-8\")\n",
    "    vocabulary = vocabulary.to_dict(orient=\"records\")[0]"
   ]
  },
  {
   "cell_type": "code",
   "execution_count": 26,
   "metadata": {},
   "outputs": [
    {
     "name": "stdout",
     "output_type": "stream",
     "text": [
      "있는 벡터화 쓸까요(0), 아님 신규로 만들까요(1)0\n"
     ]
    }
   ],
   "source": [
    "zero_or_one = input(\"있는 벡터화 쓸까요(0), 아님 신규로 만들까요(1)\")\n",
    "\n",
    "morphsVectored = list()\n",
    "\n",
    "if zero_or_one == \"1\":\n",
    "\n",
    "    ## 다시 형태소 분석기를 돌려서, text의 문장을 형태소로 분해하여 morphs에 담는다.\n",
    "    ## 시간이 오래 걸립니다. 5분정도\n",
    "\n",
    "    morphs = list()\n",
    "\n",
    "    for i in text:\n",
    "        morphs.append(Kom.nouns(i))\n",
    "        \n",
    "        \n",
    "    for i in morphs:\n",
    "        temporailyList = list()\n",
    "        for k in i:\n",
    "            #print(k)\n",
    "            try:\n",
    "                temporailyList.append(vocabulary[k])\n",
    "            except KeyError:\n",
    "                temporailyList.append(0)\n",
    "        morphsVectored.append(temporailyList)\n",
    "\n",
    "    DataFrame(morphsVectored).to_csv(\"벡터화.csv\",index=False,encoding=\"utf-8\")\n",
    "\n",
    "if zero_or_one == \"0\" :\n",
    "    morphsVectored = list()\n",
    "    rawdata = pd.read_csv(\"벡터화.csv\",engine=\"python\",encoding =\" utf-8\")\n",
    "\n",
    "    for i in range(0,len(rawdata)):\n",
    "        morphsVectored.append(list(rawdata.loc[i,:].dropna()))\n",
    "        \n",
    "\n"
   ]
  },
  {
   "cell_type": "code",
   "execution_count": 96,
   "metadata": {},
   "outputs": [],
   "source": [
    "## 윈도우 길이 탐색\n",
    "\n",
    "length_1_morph = DataFrame()\n",
    "\n",
    "for i,j in enumerate(np.array(morphsVectored)[target[target == 1].index]):\n",
    "    good = DataFrame([len(j)],index=[i])\n",
    "    length_1_morph = pd.concat([length_1_morph,good],axis=0)"
   ]
  },
  {
   "cell_type": "code",
   "execution_count": 100,
   "metadata": {},
   "outputs": [],
   "source": [
    "length_0_morph = DataFrame()\n",
    "\n",
    "for i,j in enumerate(np.array(morphsVectored)[target[target == 0].index]):\n",
    "    good = DataFrame([len(j)],index=[i])\n",
    "    length_0_morph = pd.concat([length_0_morph,good],axis=0)"
   ]
  },
  {
   "cell_type": "code",
   "execution_count": 16,
   "metadata": {},
   "outputs": [
    {
     "ename": "NameError",
     "evalue": "name 'length_1_morph' is not defined",
     "output_type": "error",
     "traceback": [
      "\u001b[1;31m---------------------------------------------------------------------------\u001b[0m",
      "\u001b[1;31mNameError\u001b[0m                                 Traceback (most recent call last)",
      "\u001b[1;32m<ipython-input-16-78e92c389141>\u001b[0m in \u001b[0;36m<module>\u001b[1;34m()\u001b[0m\n\u001b[1;32m----> 1\u001b[1;33m \u001b[0mlength_1_morph\u001b[0m\u001b[1;33m.\u001b[0m\u001b[0mdescribe\u001b[0m\u001b[1;33m(\u001b[0m\u001b[1;33m)\u001b[0m\u001b[1;33m\u001b[0m\u001b[0m\n\u001b[0m",
      "\u001b[1;31mNameError\u001b[0m: name 'length_1_morph' is not defined"
     ]
    }
   ],
   "source": [
    "length_1_morph.describe()"
   ]
  },
  {
   "cell_type": "code",
   "execution_count": 103,
   "metadata": {},
   "outputs": [
    {
     "data": {
      "text/html": [
       "<div>\n",
       "<style scoped>\n",
       "    .dataframe tbody tr th:only-of-type {\n",
       "        vertical-align: middle;\n",
       "    }\n",
       "\n",
       "    .dataframe tbody tr th {\n",
       "        vertical-align: top;\n",
       "    }\n",
       "\n",
       "    .dataframe thead th {\n",
       "        text-align: right;\n",
       "    }\n",
       "</style>\n",
       "<table border=\"1\" class=\"dataframe\">\n",
       "  <thead>\n",
       "    <tr style=\"text-align: right;\">\n",
       "      <th></th>\n",
       "      <th>0</th>\n",
       "    </tr>\n",
       "  </thead>\n",
       "  <tbody>\n",
       "    <tr>\n",
       "      <th>count</th>\n",
       "      <td>277242.000000</td>\n",
       "    </tr>\n",
       "    <tr>\n",
       "      <th>mean</th>\n",
       "      <td>24.719296</td>\n",
       "    </tr>\n",
       "    <tr>\n",
       "      <th>std</th>\n",
       "      <td>27.939401</td>\n",
       "    </tr>\n",
       "    <tr>\n",
       "      <th>min</th>\n",
       "      <td>0.000000</td>\n",
       "    </tr>\n",
       "    <tr>\n",
       "      <th>25%</th>\n",
       "      <td>8.000000</td>\n",
       "    </tr>\n",
       "    <tr>\n",
       "      <th>50%</th>\n",
       "      <td>14.000000</td>\n",
       "    </tr>\n",
       "    <tr>\n",
       "      <th>75%</th>\n",
       "      <td>30.000000</td>\n",
       "    </tr>\n",
       "    <tr>\n",
       "      <th>max</th>\n",
       "      <td>499.000000</td>\n",
       "    </tr>\n",
       "  </tbody>\n",
       "</table>\n",
       "</div>"
      ],
      "text/plain": [
       "                   0\n",
       "count  277242.000000\n",
       "mean       24.719296\n",
       "std        27.939401\n",
       "min         0.000000\n",
       "25%         8.000000\n",
       "50%        14.000000\n",
       "75%        30.000000\n",
       "max       499.000000"
      ]
     },
     "execution_count": 103,
     "metadata": {},
     "output_type": "execute_result"
    }
   ],
   "source": [
    "length_0_morph.describe()"
   ]
  },
  {
   "cell_type": "markdown",
   "metadata": {},
   "source": [
    "# 모델 작성"
   ]
  },
  {
   "cell_type": "markdown",
   "metadata": {},
   "source": [
    "1. 트랜스포머"
   ]
  },
  {
   "cell_type": "code",
   "execution_count": 27,
   "metadata": {},
   "outputs": [],
   "source": [
    "TFB = transformer.TransformerBlock(\n",
    "    name='transformer',\n",
    "    num_heads=8,\n",
    "    residual_dropout=0.1,\n",
    "    attention_dropout=0.1,\n",
    "    use_masking=True)"
   ]
  },
  {
   "cell_type": "code",
   "execution_count": 32,
   "metadata": {},
   "outputs": [],
   "source": [
    "positional = position.TransformerCoordinateEmbedding(256)"
   ]
  },
  {
   "cell_type": "code",
   "execution_count": 115,
   "metadata": {},
   "outputs": [
    {
     "name": "stdout",
     "output_type": "stream",
     "text": [
      "__________________________________________________________________________________________________\n",
      "Layer (type)                    Output Shape         Param #     Connected to                     \n",
      "==================================================================================================\n",
      "Feed_Sentence (InputLayer)      (None, 650)          0                                            \n",
      "__________________________________________________________________________________________________\n",
      "embedding_20 (Embedding)        (None, 650, 128)     1102720     Feed_Sentence[0][0]              \n",
      "__________________________________________________________________________________________________\n",
      "dropout_20 (Dropout)            (None, 650, 128)     0           embedding_20[0][0]               \n",
      "__________________________________________________________________________________________________\n",
      "conv1d_20 (Conv1D)              (None, 648, 256)     98560       dropout_20[0][0]                 \n",
      "__________________________________________________________________________________________________\n",
      "max_pooling1d_18 (MaxPooling1D) (None, 162, 256)     0           conv1d_20[0][0]                  \n",
      "__________________________________________________________________________________________________\n",
      "transformer_coordinate_embeddin (None, 162, 256)     107008      max_pooling1d_18[0][0]           \n",
      "__________________________________________________________________________________________________\n",
      "transformer_self_attention (Mul (None, 162, 256)     262144      transformer_coordinate_embedding_\n",
      "__________________________________________________________________________________________________\n",
      "transformer_add (Add)           (None, 162, 256)     0           transformer_coordinate_embedding_\n",
      "                                                                 transformer_self_attention[29][0]\n",
      "                                                                 transformer_normalization1[29][0]\n",
      "                                                                 transformer_transition[29][0]    \n",
      "__________________________________________________________________________________________________\n",
      "transformer_dropout (Dropout)   (None, 162, 256)     0           transformer_add[58][0]           \n",
      "                                                                 transformer_add[59][0]           \n",
      "__________________________________________________________________________________________________\n",
      "transformer_normalization1 (Lay (None, 162, 256)     512         transformer_dropout[58][0]       \n",
      "__________________________________________________________________________________________________\n",
      "transformer_transition (Transfo (None, 162, 256)     525568      transformer_normalization1[29][0]\n",
      "__________________________________________________________________________________________________\n",
      "transformer_normalization2 (Lay (None, 162, 256)     512         transformer_dropout[59][0]       \n",
      "__________________________________________________________________________________________________\n",
      "flatten_2 (Flatten)             (None, 41472)        0           transformer_normalization2[29][0]\n",
      "__________________________________________________________________________________________________\n",
      "dense_8 (Dense)                 (None, 2)            82946       flatten_2[0][0]                  \n",
      "==================================================================================================\n",
      "Total params: 2,179,970\n",
      "Trainable params: 2,179,970\n",
      "Non-trainable params: 0\n",
      "__________________________________________________________________________________________________\n"
     ]
    }
   ],
   "source": [
    "#tf.reset_default_graph\n",
    "\n",
    "## GRU 입력 전 사전처리 모듈(임베딩 -> 컨볼루션 -> 맥스풀링)\n",
    "\n",
    "inputs = layers.Input(shape=[650],name = \"Feed_Sentence\")\n",
    "\n",
    "embed = layers.Embedding(len(vocabulary)+1,128)\n",
    "\n",
    "embed_i = embed(inputs)\n",
    "cnns = layers.Dropout(0.2)(embed_i)\n",
    "cnns = layers.Conv1D(256,3,padding=\"valid\",activation=\"relu\",strides=1)(cnns)\n",
    "cnns = layers.MaxPooling1D(pool_size = 4)(cnns)\n",
    "\n",
    "for step in range(3):\n",
    "    tfb = TFB(positional(cnns,step=step))\n",
    "    \n",
    "context_vector = layers.Flatten()(tfb)\n",
    "\n",
    "predicts = layers.Dense(2,activation=\"softmax\")(context_vector)\n",
    "\n",
    "tfbs = Model(inputs = [inputs], outputs = [predicts])\n",
    "tfbs.summary()"
   ]
  },
  {
   "cell_type": "markdown",
   "metadata": {},
   "source": [
    "# 2. 계층적 GRU"
   ]
  },
  {
   "cell_type": "code",
   "execution_count": 23,
   "metadata": {},
   "outputs": [
    {
     "name": "stdout",
     "output_type": "stream",
     "text": [
      "__________________________________________________________________________________________________\n",
      "Layer (type)                    Output Shape         Param #     Connected to                     \n",
      "==================================================================================================\n",
      "Feed_Sentence (InputLayer)      (None, None)         0                                            \n",
      "__________________________________________________________________________________________________\n",
      "embedding_4 (Embedding)         (None, None, 128)    1102720     Feed_Sentence[0][0]              \n",
      "__________________________________________________________________________________________________\n",
      "dropout_4 (Dropout)             (None, None, 128)    0           embedding_4[0][0]                \n",
      "__________________________________________________________________________________________________\n",
      "conv1d_4 (Conv1D)               (None, None, 256)    98560       dropout_4[0][0]                  \n",
      "__________________________________________________________________________________________________\n",
      "max_pooling1d_4 (MaxPooling1D)  (None, None, 256)    0           conv1d_4[0][0]                   \n",
      "__________________________________________________________________________________________________\n",
      "Encoder1 (GRU)                  [(None, None, 128),  147840      max_pooling1d_4[0][0]            \n",
      "__________________________________________________________________________________________________\n",
      "Encoder2 (GRU)                  [(None, None, 128),  147840      max_pooling1d_4[0][0]            \n",
      "__________________________________________________________________________________________________\n",
      "Decoder1 (GRU)                  (None, None, 128)    147840      max_pooling1d_4[0][0]            \n",
      "                                                                 Encoder1[0][1]                   \n",
      "__________________________________________________________________________________________________\n",
      "Decoder2 (GRU)                  (None, None, 128)    147840      max_pooling1d_4[0][0]            \n",
      "                                                                 Encoder2[0][1]                   \n",
      "__________________________________________________________________________________________________\n",
      "Decoder_output (Concatenate)    (None, None, 256)    0           Decoder1[0][0]                   \n",
      "                                                                 Decoder2[0][0]                   \n",
      "__________________________________________________________________________________________________\n",
      "attention_matrix (Concatenate)  (None, None, 256)    0           Encoder1[0][0]                   \n",
      "                                                                 Encoder2[0][0]                   \n",
      "__________________________________________________________________________________________________\n",
      "dot_product_similarity (Dot)    (None, None, None)   0           Decoder_output[0][0]             \n",
      "                                                                 attention_matrix[0][0]           \n",
      "__________________________________________________________________________________________________\n",
      "attention_score_from_Softmax (S (None, None, None)   0           dot_product_similarity[0][0]     \n",
      "__________________________________________________________________________________________________\n",
      "weighted_attention_matrix (Lamb (None, 256, None)    0           attention_score_from_Softmax[0][0\n",
      "                                                                 attention_matrix[0][0]           \n",
      "__________________________________________________________________________________________________\n",
      "permute_4 (Permute)             (None, None, 256)    0           weighted_attention_matrix[0][0]  \n",
      "__________________________________________________________________________________________________\n",
      "Hierarchical_GRU (GRU)          [(None, 64), (None,  61632       permute_4[0][0]                  \n",
      "__________________________________________________________________________________________________\n",
      "dense_4 (Dense)                 (None, 2)            130         Hierarchical_GRU[0][1]           \n",
      "==================================================================================================\n",
      "Total params: 1,854,402\n",
      "Trainable params: 1,854,402\n",
      "Non-trainable params: 0\n",
      "__________________________________________________________________________________________________\n"
     ]
    }
   ],
   "source": [
    "#tf.reset_default_graph\n",
    "\n",
    "## GRU 입력 전 사전처리 모듈(임베딩 -> 컨볼루션 -> 맥스풀링)\n",
    "\n",
    "inputs = layers.Input(shape=[None],name = \"Feed_Sentence\")\n",
    "\n",
    "embed = layers.Embedding(len(vocabulary)+1,128)\n",
    "\n",
    "embed_i = embed(inputs)\n",
    "cnns = layers.Dropout(0.2)(embed_i)\n",
    "cnns = layers.Conv1D(256,3,padding=\"valid\",activation=\"relu\",strides=1)(cnns)\n",
    "cnns = layers.MaxPooling1D(pool_size = 4)(cnns)\n",
    "\n",
    "\n",
    "#Bi-GRU 인코더 - 디코더 네트워크\n",
    "Encoder1 = layers.GRU(128,return_sequences = True,return_state = True,input_shape=(None,128),name=\"Encoder1\")\n",
    "Encoder2 = layers.GRU(128,return_sequences = True,return_state = True,go_backwards = True,input_shape=(None,128),name=\"Encoder2\")\n",
    "attention_matrix1,initial_1 = Encoder1(cnns)\n",
    "attention_matrix2,initial_2 = Encoder2(cnns)\n",
    "attention_matrix = layers.Concatenate(axis=-1,name = \"attention_matrix\")([attention_matrix1,attention_matrix2])\n",
    "\n",
    "\n",
    "Decoder1 = layers.GRU(128,return_sequences = True,input_shape=(None,128),name=\"Decoder1\")\n",
    "Decoder2 = layers.GRU(128,return_sequences = True,input_shape=(None,128),name=\"Decoder2\")\n",
    "Decoder1_output = Decoder1(cnns,initial_state = initial_1)\n",
    "Decoder2_output = Decoder2(cnns,initial_state = initial_2)\n",
    "Decoder_output = layers.Concatenate(axis=-1,name=\"Decoder_output\")([Decoder1_output,Decoder2_output])\n",
    "\n",
    "\n",
    "##어텐션 메커니즘 부분\n",
    "\n",
    "#normalize = True로 켠 상태에서, 코싸인 유사도를 구할 수 있도록 둘을 내적한다.  \n",
    "dot_product_similarity = layers.dot([Decoder_output,attention_matrix],axes = -1,normalize=True,name=\"dot_product_similarity\")\n",
    "\n",
    "#유사도 벡터를 softmax층에 통과시켜 총합이 1인 확률로 변환한다. 이를 attention_score로 명명한다.\n",
    "attention_score_layer = layers.Softmax(axis=-1,name=\"attention_score_from_Softmax\") \n",
    "attention_score = attention_score_layer(dot_product_similarity)\n",
    "\n",
    "#Softmax 변환된 attention_score를 최초의 attention_matrix와 각각 내적한다.\n",
    "weighted_attention_matrix = layers.Lambda(lambda x: K.tf.matmul(K.permute_dimensions(x[1],pattern=(0,2,1)),x[0]),name=\"weighted_attention_matrix\")([attention_score,attention_matrix])\n",
    "weighted_attention_matrix = layers.Permute((2,1))(weighted_attention_matrix)\n",
    "\n",
    "_,context_vector = layers.GRU(64,return_state = True,name=\"Hierarchical_GRU\")(weighted_attention_matrix)\n",
    "\n",
    "#concat = layers.Concatenate(axis=-1,name = \"Concatenate_Decoder_O_and_Context_Vector\")([Decoder_output,weighted_attention_matrix])\n",
    "#context_vector = layers.Lambda(lambda x: K.sum(x, axis=1),name=\"Making_context_vector\")(weighted_attention_matrix)\n",
    "\n",
    "#Feed_forward = layers.Dense(512,activation = \"tanh\",name=\"Feed_forward\")\n",
    "#finally_output = Feed_forward(context_vector)\n",
    "\n",
    "predicts = layers.Dense(2,activation=\"softmax\")(context_vector)\n",
    "\n",
    "GRUs_2 = Model(inputs = [inputs], outputs = [predicts])\n",
    "GRUs_2.summary()"
   ]
  },
  {
   "cell_type": "markdown",
   "metadata": {},
   "source": [
    "## 1) 계층적 GRU의 얼개도"
   ]
  },
  {
   "cell_type": "code",
   "execution_count": 23,
   "metadata": {
    "scrolled": false
   },
   "outputs": [
    {
     "data": {
      "image/svg+xml": [
       "<svg height=\"1134pt\" viewBox=\"0.00 0.00 1011.50 1134.00\" width=\"1012pt\" xmlns=\"http://www.w3.org/2000/svg\" xmlns:xlink=\"http://www.w3.org/1999/xlink\">\n",
       "<g class=\"graph\" id=\"graph0\" transform=\"scale(1 1) rotate(0) translate(4 1130)\">\n",
       "<title>G</title>\n",
       "<polygon fill=\"white\" points=\"-4,4 -4,-1130 1007.5,-1130 1007.5,4 -4,4\" stroke=\"none\"/>\n",
       "<!-- 2299247263984 -->\n",
       "<g class=\"node\" id=\"node1\"><title>2299247263984</title>\n",
       "<polygon fill=\"none\" points=\"342,-1079.5 342,-1125.5 661,-1125.5 661,-1079.5 342,-1079.5\" stroke=\"black\"/>\n",
       "<text font-family=\"Times New Roman,serif\" font-size=\"14.00\" text-anchor=\"middle\" x=\"427\" y=\"-1098.8\">Feed_Sentence: InputLayer</text>\n",
       "<polyline fill=\"none\" points=\"512,-1079.5 512,-1125.5 \" stroke=\"black\"/>\n",
       "<text font-family=\"Times New Roman,serif\" font-size=\"14.00\" text-anchor=\"middle\" x=\"540\" y=\"-1110.3\">input:</text>\n",
       "<polyline fill=\"none\" points=\"512,-1102.5 568,-1102.5 \" stroke=\"black\"/>\n",
       "<text font-family=\"Times New Roman,serif\" font-size=\"14.00\" text-anchor=\"middle\" x=\"540\" y=\"-1087.3\">output:</text>\n",
       "<polyline fill=\"none\" points=\"568,-1079.5 568,-1125.5 \" stroke=\"black\"/>\n",
       "<text font-family=\"Times New Roman,serif\" font-size=\"14.00\" text-anchor=\"middle\" x=\"614.5\" y=\"-1110.3\">(None, None)</text>\n",
       "<polyline fill=\"none\" points=\"568,-1102.5 661,-1102.5 \" stroke=\"black\"/>\n",
       "<text font-family=\"Times New Roman,serif\" font-size=\"14.00\" text-anchor=\"middle\" x=\"614.5\" y=\"-1087.3\">(None, None)</text>\n",
       "</g>\n",
       "<!-- 2299949518240 -->\n",
       "<g class=\"node\" id=\"node2\"><title>2299949518240</title>\n",
       "<polygon fill=\"none\" points=\"331.5,-996.5 331.5,-1042.5 671.5,-1042.5 671.5,-996.5 331.5,-996.5\" stroke=\"black\"/>\n",
       "<text font-family=\"Times New Roman,serif\" font-size=\"14.00\" text-anchor=\"middle\" x=\"413\" y=\"-1015.8\">embedding_5: Embedding</text>\n",
       "<polyline fill=\"none\" points=\"494.5,-996.5 494.5,-1042.5 \" stroke=\"black\"/>\n",
       "<text font-family=\"Times New Roman,serif\" font-size=\"14.00\" text-anchor=\"middle\" x=\"522.5\" y=\"-1027.3\">input:</text>\n",
       "<polyline fill=\"none\" points=\"494.5,-1019.5 550.5,-1019.5 \" stroke=\"black\"/>\n",
       "<text font-family=\"Times New Roman,serif\" font-size=\"14.00\" text-anchor=\"middle\" x=\"522.5\" y=\"-1004.3\">output:</text>\n",
       "<polyline fill=\"none\" points=\"550.5,-996.5 550.5,-1042.5 \" stroke=\"black\"/>\n",
       "<text font-family=\"Times New Roman,serif\" font-size=\"14.00\" text-anchor=\"middle\" x=\"611\" y=\"-1027.3\">(None, None)</text>\n",
       "<polyline fill=\"none\" points=\"550.5,-1019.5 671.5,-1019.5 \" stroke=\"black\"/>\n",
       "<text font-family=\"Times New Roman,serif\" font-size=\"14.00\" text-anchor=\"middle\" x=\"611\" y=\"-1004.3\">(None, None, 128)</text>\n",
       "</g>\n",
       "<!-- 2299247263984&#45;&gt;2299949518240 -->\n",
       "<g class=\"edge\" id=\"edge1\"><title>2299247263984-&gt;2299949518240</title>\n",
       "<path d=\"M501.5,-1079.37C501.5,-1071.15 501.5,-1061.66 501.5,-1052.73\" fill=\"none\" stroke=\"black\"/>\n",
       "<polygon fill=\"black\" points=\"505,-1052.61 501.5,-1042.61 498,-1052.61 505,-1052.61\" stroke=\"black\"/>\n",
       "</g>\n",
       "<!-- 2299133737336 -->\n",
       "<g class=\"node\" id=\"node3\"><title>2299133737336</title>\n",
       "<polygon fill=\"none\" points=\"348,-913.5 348,-959.5 655,-959.5 655,-913.5 348,-913.5\" stroke=\"black\"/>\n",
       "<text font-family=\"Times New Roman,serif\" font-size=\"14.00\" text-anchor=\"middle\" x=\"413\" y=\"-932.8\">dropout_5: Dropout</text>\n",
       "<polyline fill=\"none\" points=\"478,-913.5 478,-959.5 \" stroke=\"black\"/>\n",
       "<text font-family=\"Times New Roman,serif\" font-size=\"14.00\" text-anchor=\"middle\" x=\"506\" y=\"-944.3\">input:</text>\n",
       "<polyline fill=\"none\" points=\"478,-936.5 534,-936.5 \" stroke=\"black\"/>\n",
       "<text font-family=\"Times New Roman,serif\" font-size=\"14.00\" text-anchor=\"middle\" x=\"506\" y=\"-921.3\">output:</text>\n",
       "<polyline fill=\"none\" points=\"534,-913.5 534,-959.5 \" stroke=\"black\"/>\n",
       "<text font-family=\"Times New Roman,serif\" font-size=\"14.00\" text-anchor=\"middle\" x=\"594.5\" y=\"-944.3\">(None, None, 128)</text>\n",
       "<polyline fill=\"none\" points=\"534,-936.5 655,-936.5 \" stroke=\"black\"/>\n",
       "<text font-family=\"Times New Roman,serif\" font-size=\"14.00\" text-anchor=\"middle\" x=\"594.5\" y=\"-921.3\">(None, None, 128)</text>\n",
       "</g>\n",
       "<!-- 2299949518240&#45;&gt;2299133737336 -->\n",
       "<g class=\"edge\" id=\"edge2\"><title>2299949518240-&gt;2299133737336</title>\n",
       "<path d=\"M501.5,-996.366C501.5,-988.152 501.5,-978.658 501.5,-969.725\" fill=\"none\" stroke=\"black\"/>\n",
       "<polygon fill=\"black\" points=\"505,-969.607 501.5,-959.607 498,-969.607 505,-969.607\" stroke=\"black\"/>\n",
       "</g>\n",
       "<!-- 2299134317400 -->\n",
       "<g class=\"node\" id=\"node4\"><title>2299134317400</title>\n",
       "<polygon fill=\"none\" points=\"349.5,-830.5 349.5,-876.5 653.5,-876.5 653.5,-830.5 349.5,-830.5\" stroke=\"black\"/>\n",
       "<text font-family=\"Times New Roman,serif\" font-size=\"14.00\" text-anchor=\"middle\" x=\"413\" y=\"-849.8\">conv1d_5: Conv1D</text>\n",
       "<polyline fill=\"none\" points=\"476.5,-830.5 476.5,-876.5 \" stroke=\"black\"/>\n",
       "<text font-family=\"Times New Roman,serif\" font-size=\"14.00\" text-anchor=\"middle\" x=\"504.5\" y=\"-861.3\">input:</text>\n",
       "<polyline fill=\"none\" points=\"476.5,-853.5 532.5,-853.5 \" stroke=\"black\"/>\n",
       "<text font-family=\"Times New Roman,serif\" font-size=\"14.00\" text-anchor=\"middle\" x=\"504.5\" y=\"-838.3\">output:</text>\n",
       "<polyline fill=\"none\" points=\"532.5,-830.5 532.5,-876.5 \" stroke=\"black\"/>\n",
       "<text font-family=\"Times New Roman,serif\" font-size=\"14.00\" text-anchor=\"middle\" x=\"593\" y=\"-861.3\">(None, None, 128)</text>\n",
       "<polyline fill=\"none\" points=\"532.5,-853.5 653.5,-853.5 \" stroke=\"black\"/>\n",
       "<text font-family=\"Times New Roman,serif\" font-size=\"14.00\" text-anchor=\"middle\" x=\"593\" y=\"-838.3\">(None, None, 256)</text>\n",
       "</g>\n",
       "<!-- 2299133737336&#45;&gt;2299134317400 -->\n",
       "<g class=\"edge\" id=\"edge3\"><title>2299133737336-&gt;2299134317400</title>\n",
       "<path d=\"M501.5,-913.366C501.5,-905.152 501.5,-895.658 501.5,-886.725\" fill=\"none\" stroke=\"black\"/>\n",
       "<polygon fill=\"black\" points=\"505,-886.607 501.5,-876.607 498,-886.607 505,-886.607\" stroke=\"black\"/>\n",
       "</g>\n",
       "<!-- 2299949518744 -->\n",
       "<g class=\"node\" id=\"node5\"><title>2299949518744</title>\n",
       "<polygon fill=\"none\" points=\"308.5,-747.5 308.5,-793.5 694.5,-793.5 694.5,-747.5 308.5,-747.5\" stroke=\"black\"/>\n",
       "<text font-family=\"Times New Roman,serif\" font-size=\"14.00\" text-anchor=\"middle\" x=\"413\" y=\"-766.8\">max_pooling1d_5: MaxPooling1D</text>\n",
       "<polyline fill=\"none\" points=\"517.5,-747.5 517.5,-793.5 \" stroke=\"black\"/>\n",
       "<text font-family=\"Times New Roman,serif\" font-size=\"14.00\" text-anchor=\"middle\" x=\"545.5\" y=\"-778.3\">input:</text>\n",
       "<polyline fill=\"none\" points=\"517.5,-770.5 573.5,-770.5 \" stroke=\"black\"/>\n",
       "<text font-family=\"Times New Roman,serif\" font-size=\"14.00\" text-anchor=\"middle\" x=\"545.5\" y=\"-755.3\">output:</text>\n",
       "<polyline fill=\"none\" points=\"573.5,-747.5 573.5,-793.5 \" stroke=\"black\"/>\n",
       "<text font-family=\"Times New Roman,serif\" font-size=\"14.00\" text-anchor=\"middle\" x=\"634\" y=\"-778.3\">(None, None, 256)</text>\n",
       "<polyline fill=\"none\" points=\"573.5,-770.5 694.5,-770.5 \" stroke=\"black\"/>\n",
       "<text font-family=\"Times New Roman,serif\" font-size=\"14.00\" text-anchor=\"middle\" x=\"634\" y=\"-755.3\">(None, None, 256)</text>\n",
       "</g>\n",
       "<!-- 2299134317400&#45;&gt;2299949518744 -->\n",
       "<g class=\"edge\" id=\"edge4\"><title>2299134317400-&gt;2299949518744</title>\n",
       "<path d=\"M501.5,-830.366C501.5,-822.152 501.5,-812.658 501.5,-803.725\" fill=\"none\" stroke=\"black\"/>\n",
       "<polygon fill=\"black\" points=\"505,-803.607 501.5,-793.607 498,-803.607 505,-803.607\" stroke=\"black\"/>\n",
       "</g>\n",
       "<!-- 2299949475824 -->\n",
       "<g class=\"node\" id=\"node6\"><title>2299949475824</title>\n",
       "<polygon fill=\"none\" points=\"0,-664.5 0,-710.5 367,-710.5 367,-664.5 0,-664.5\" stroke=\"black\"/>\n",
       "<text font-family=\"Times New Roman,serif\" font-size=\"14.00\" text-anchor=\"middle\" x=\"53.5\" y=\"-683.8\">Encoder1: GRU</text>\n",
       "<polyline fill=\"none\" points=\"107,-664.5 107,-710.5 \" stroke=\"black\"/>\n",
       "<text font-family=\"Times New Roman,serif\" font-size=\"14.00\" text-anchor=\"middle\" x=\"135\" y=\"-695.3\">input:</text>\n",
       "<polyline fill=\"none\" points=\"107,-687.5 163,-687.5 \" stroke=\"black\"/>\n",
       "<text font-family=\"Times New Roman,serif\" font-size=\"14.00\" text-anchor=\"middle\" x=\"135\" y=\"-672.3\">output:</text>\n",
       "<polyline fill=\"none\" points=\"163,-664.5 163,-710.5 \" stroke=\"black\"/>\n",
       "<text font-family=\"Times New Roman,serif\" font-size=\"14.00\" text-anchor=\"middle\" x=\"265\" y=\"-695.3\">(None, None, 256)</text>\n",
       "<polyline fill=\"none\" points=\"163,-687.5 367,-687.5 \" stroke=\"black\"/>\n",
       "<text font-family=\"Times New Roman,serif\" font-size=\"14.00\" text-anchor=\"middle\" x=\"265\" y=\"-672.3\">[(None, None, 128), (None, 128)]</text>\n",
       "</g>\n",
       "<!-- 2299949518744&#45;&gt;2299949475824 -->\n",
       "<g class=\"edge\" id=\"edge5\"><title>2299949518744-&gt;2299949475824</title>\n",
       "<path d=\"M415.025,-747.473C373.221,-736.825 322.905,-724.009 279.873,-713.048\" fill=\"none\" stroke=\"black\"/>\n",
       "<polygon fill=\"black\" points=\"280.512,-709.599 269.958,-710.522 278.784,-716.382 280.512,-709.599\" stroke=\"black\"/>\n",
       "</g>\n",
       "<!-- 2299949473976 -->\n",
       "<g class=\"node\" id=\"node7\"><title>2299949473976</title>\n",
       "<polygon fill=\"none\" points=\"424,-664.5 424,-710.5 791,-710.5 791,-664.5 424,-664.5\" stroke=\"black\"/>\n",
       "<text font-family=\"Times New Roman,serif\" font-size=\"14.00\" text-anchor=\"middle\" x=\"477.5\" y=\"-683.8\">Encoder2: GRU</text>\n",
       "<polyline fill=\"none\" points=\"531,-664.5 531,-710.5 \" stroke=\"black\"/>\n",
       "<text font-family=\"Times New Roman,serif\" font-size=\"14.00\" text-anchor=\"middle\" x=\"559\" y=\"-695.3\">input:</text>\n",
       "<polyline fill=\"none\" points=\"531,-687.5 587,-687.5 \" stroke=\"black\"/>\n",
       "<text font-family=\"Times New Roman,serif\" font-size=\"14.00\" text-anchor=\"middle\" x=\"559\" y=\"-672.3\">output:</text>\n",
       "<polyline fill=\"none\" points=\"587,-664.5 587,-710.5 \" stroke=\"black\"/>\n",
       "<text font-family=\"Times New Roman,serif\" font-size=\"14.00\" text-anchor=\"middle\" x=\"689\" y=\"-695.3\">(None, None, 256)</text>\n",
       "<polyline fill=\"none\" points=\"587,-687.5 791,-687.5 \" stroke=\"black\"/>\n",
       "<text font-family=\"Times New Roman,serif\" font-size=\"14.00\" text-anchor=\"middle\" x=\"689\" y=\"-672.3\">[(None, None, 128), (None, 128)]</text>\n",
       "</g>\n",
       "<!-- 2299949518744&#45;&gt;2299949473976 -->\n",
       "<g class=\"edge\" id=\"edge6\"><title>2299949518744-&gt;2299949473976</title>\n",
       "<path d=\"M530.465,-747.366C542.851,-737.902 557.459,-726.739 570.606,-716.693\" fill=\"none\" stroke=\"black\"/>\n",
       "<polygon fill=\"black\" points=\"572.749,-719.46 578.57,-710.607 568.499,-713.898 572.749,-719.46\" stroke=\"black\"/>\n",
       "</g>\n",
       "<!-- 2299949859952 -->\n",
       "<g class=\"node\" id=\"node8\"><title>2299949859952</title>\n",
       "<polygon fill=\"none\" points=\"211.5,-581.5 211.5,-627.5 579.5,-627.5 579.5,-581.5 211.5,-581.5\" stroke=\"black\"/>\n",
       "<text font-family=\"Times New Roman,serif\" font-size=\"14.00\" text-anchor=\"middle\" x=\"265.5\" y=\"-600.8\">Decoder1: GRU</text>\n",
       "<polyline fill=\"none\" points=\"319.5,-581.5 319.5,-627.5 \" stroke=\"black\"/>\n",
       "<text font-family=\"Times New Roman,serif\" font-size=\"14.00\" text-anchor=\"middle\" x=\"347.5\" y=\"-612.3\">input:</text>\n",
       "<polyline fill=\"none\" points=\"319.5,-604.5 375.5,-604.5 \" stroke=\"black\"/>\n",
       "<text font-family=\"Times New Roman,serif\" font-size=\"14.00\" text-anchor=\"middle\" x=\"347.5\" y=\"-589.3\">output:</text>\n",
       "<polyline fill=\"none\" points=\"375.5,-581.5 375.5,-627.5 \" stroke=\"black\"/>\n",
       "<text font-family=\"Times New Roman,serif\" font-size=\"14.00\" text-anchor=\"middle\" x=\"477.5\" y=\"-612.3\">[(None, None, 256), (None, 128)]</text>\n",
       "<polyline fill=\"none\" points=\"375.5,-604.5 579.5,-604.5 \" stroke=\"black\"/>\n",
       "<text font-family=\"Times New Roman,serif\" font-size=\"14.00\" text-anchor=\"middle\" x=\"477.5\" y=\"-589.3\">(None, None, 128)</text>\n",
       "</g>\n",
       "<!-- 2299949518744&#45;&gt;2299949859952 -->\n",
       "<g class=\"edge\" id=\"edge7\"><title>2299949518744-&gt;2299949859952</title>\n",
       "<path d=\"M454.132,-747.222C439.288,-738.008 424.253,-725.935 414.5,-711 400.333,-689.306 395.956,-660.007 394.91,-637.79\" fill=\"none\" stroke=\"black\"/>\n",
       "<polygon fill=\"black\" points=\"398.402,-637.419 394.636,-627.516 391.404,-637.606 398.402,-637.419\" stroke=\"black\"/>\n",
       "</g>\n",
       "<!-- 2299949860456 -->\n",
       "<g class=\"node\" id=\"node9\"><title>2299949860456</title>\n",
       "<polygon fill=\"none\" points=\"635.5,-581.5 635.5,-627.5 1003.5,-627.5 1003.5,-581.5 635.5,-581.5\" stroke=\"black\"/>\n",
       "<text font-family=\"Times New Roman,serif\" font-size=\"14.00\" text-anchor=\"middle\" x=\"689.5\" y=\"-600.8\">Decoder2: GRU</text>\n",
       "<polyline fill=\"none\" points=\"743.5,-581.5 743.5,-627.5 \" stroke=\"black\"/>\n",
       "<text font-family=\"Times New Roman,serif\" font-size=\"14.00\" text-anchor=\"middle\" x=\"771.5\" y=\"-612.3\">input:</text>\n",
       "<polyline fill=\"none\" points=\"743.5,-604.5 799.5,-604.5 \" stroke=\"black\"/>\n",
       "<text font-family=\"Times New Roman,serif\" font-size=\"14.00\" text-anchor=\"middle\" x=\"771.5\" y=\"-589.3\">output:</text>\n",
       "<polyline fill=\"none\" points=\"799.5,-581.5 799.5,-627.5 \" stroke=\"black\"/>\n",
       "<text font-family=\"Times New Roman,serif\" font-size=\"14.00\" text-anchor=\"middle\" x=\"901.5\" y=\"-612.3\">[(None, None, 256), (None, 128)]</text>\n",
       "<polyline fill=\"none\" points=\"799.5,-604.5 1003.5,-604.5 \" stroke=\"black\"/>\n",
       "<text font-family=\"Times New Roman,serif\" font-size=\"14.00\" text-anchor=\"middle\" x=\"901.5\" y=\"-589.3\">(None, None, 128)</text>\n",
       "</g>\n",
       "<!-- 2299949518744&#45;&gt;2299949860456 -->\n",
       "<g class=\"edge\" id=\"edge9\"><title>2299949518744-&gt;2299949860456</title>\n",
       "<path d=\"M694.595,-748.691C741.446,-739.922 782.871,-727.737 799.5,-711 818.3,-692.077 822.333,-661.349 822.232,-637.924\" fill=\"none\" stroke=\"black\"/>\n",
       "<polygon fill=\"black\" points=\"825.725,-637.636 821.933,-627.743 818.728,-637.842 825.725,-637.636\" stroke=\"black\"/>\n",
       "</g>\n",
       "<!-- 2299949475824&#45;&gt;2299949859952 -->\n",
       "<g class=\"edge\" id=\"edge8\"><title>2299949475824-&gt;2299949859952</title>\n",
       "<path d=\"M241.15,-664.473C268.139,-654.162 300.45,-641.816 328.519,-631.092\" fill=\"none\" stroke=\"black\"/>\n",
       "<polygon fill=\"black\" points=\"329.769,-634.361 337.862,-627.522 327.271,-627.822 329.769,-634.361\" stroke=\"black\"/>\n",
       "</g>\n",
       "<!-- 2299949743240 -->\n",
       "<g class=\"node\" id=\"node11\"><title>2299949743240</title>\n",
       "<polygon fill=\"none\" points=\"11.5,-498.5 11.5,-544.5 491.5,-544.5 491.5,-498.5 11.5,-498.5\" stroke=\"black\"/>\n",
       "<text font-family=\"Times New Roman,serif\" font-size=\"14.00\" text-anchor=\"middle\" x=\"102.5\" y=\"-517.8\">attention_matrix: Concatenate</text>\n",
       "<polyline fill=\"none\" points=\"193.5,-498.5 193.5,-544.5 \" stroke=\"black\"/>\n",
       "<text font-family=\"Times New Roman,serif\" font-size=\"14.00\" text-anchor=\"middle\" x=\"221.5\" y=\"-529.3\">input:</text>\n",
       "<polyline fill=\"none\" points=\"193.5,-521.5 249.5,-521.5 \" stroke=\"black\"/>\n",
       "<text font-family=\"Times New Roman,serif\" font-size=\"14.00\" text-anchor=\"middle\" x=\"221.5\" y=\"-506.3\">output:</text>\n",
       "<polyline fill=\"none\" points=\"249.5,-498.5 249.5,-544.5 \" stroke=\"black\"/>\n",
       "<text font-family=\"Times New Roman,serif\" font-size=\"14.00\" text-anchor=\"middle\" x=\"370.5\" y=\"-529.3\">[(None, None, 128), (None, None, 128)]</text>\n",
       "<polyline fill=\"none\" points=\"249.5,-521.5 491.5,-521.5 \" stroke=\"black\"/>\n",
       "<text font-family=\"Times New Roman,serif\" font-size=\"14.00\" text-anchor=\"middle\" x=\"370.5\" y=\"-506.3\">(None, None, 256)</text>\n",
       "</g>\n",
       "<!-- 2299949475824&#45;&gt;2299949743240 -->\n",
       "<g class=\"edge\" id=\"edge13\"><title>2299949475824-&gt;2299949743240</title>\n",
       "<path d=\"M184.187,-664.497C185.612,-642.438 189.878,-607.97 202.5,-581 207.272,-570.803 214.276,-560.929 221.504,-552.287\" fill=\"none\" stroke=\"black\"/>\n",
       "<polygon fill=\"black\" points=\"224.178,-554.547 228.147,-544.724 218.918,-549.928 224.178,-554.547\" stroke=\"black\"/>\n",
       "</g>\n",
       "<!-- 2299949473976&#45;&gt;2299949860456 -->\n",
       "<g class=\"edge\" id=\"edge10\"><title>2299949473976-&gt;2299949860456</title>\n",
       "<path d=\"M665.15,-664.473C692.139,-654.162 724.45,-641.816 752.519,-631.092\" fill=\"none\" stroke=\"black\"/>\n",
       "<polygon fill=\"black\" points=\"753.769,-634.361 761.862,-627.522 751.271,-627.822 753.769,-634.361\" stroke=\"black\"/>\n",
       "</g>\n",
       "<!-- 2299949473976&#45;&gt;2299949743240 -->\n",
       "<g class=\"edge\" id=\"edge14\"><title>2299949473976-&gt;2299949743240</title>\n",
       "<path d=\"M610.261,-664.19C611.879,-640.215 610.282,-602.645 588.5,-581 573.421,-566.016 540.417,-554.838 500.694,-546.508\" fill=\"none\" stroke=\"black\"/>\n",
       "<polygon fill=\"black\" points=\"501.231,-543.046 490.738,-544.505 499.851,-549.909 501.231,-543.046\" stroke=\"black\"/>\n",
       "</g>\n",
       "<!-- 2299952963992 -->\n",
       "<g class=\"node\" id=\"node10\"><title>2299952963992</title>\n",
       "<polygon fill=\"none\" points=\"509.5,-498.5 509.5,-544.5 991.5,-544.5 991.5,-498.5 509.5,-498.5\" stroke=\"black\"/>\n",
       "<text font-family=\"Times New Roman,serif\" font-size=\"14.00\" text-anchor=\"middle\" x=\"601.5\" y=\"-517.8\">Decoder_output: Concatenate</text>\n",
       "<polyline fill=\"none\" points=\"693.5,-498.5 693.5,-544.5 \" stroke=\"black\"/>\n",
       "<text font-family=\"Times New Roman,serif\" font-size=\"14.00\" text-anchor=\"middle\" x=\"721.5\" y=\"-529.3\">input:</text>\n",
       "<polyline fill=\"none\" points=\"693.5,-521.5 749.5,-521.5 \" stroke=\"black\"/>\n",
       "<text font-family=\"Times New Roman,serif\" font-size=\"14.00\" text-anchor=\"middle\" x=\"721.5\" y=\"-506.3\">output:</text>\n",
       "<polyline fill=\"none\" points=\"749.5,-498.5 749.5,-544.5 \" stroke=\"black\"/>\n",
       "<text font-family=\"Times New Roman,serif\" font-size=\"14.00\" text-anchor=\"middle\" x=\"870.5\" y=\"-529.3\">[(None, None, 128), (None, None, 128)]</text>\n",
       "<polyline fill=\"none\" points=\"749.5,-521.5 991.5,-521.5 \" stroke=\"black\"/>\n",
       "<text font-family=\"Times New Roman,serif\" font-size=\"14.00\" text-anchor=\"middle\" x=\"870.5\" y=\"-506.3\">(None, None, 256)</text>\n",
       "</g>\n",
       "<!-- 2299949859952&#45;&gt;2299952963992 -->\n",
       "<g class=\"edge\" id=\"edge11\"><title>2299949859952-&gt;2299952963992</title>\n",
       "<path d=\"M492.036,-581.473C539.097,-570.736 595.821,-557.793 644.125,-546.771\" fill=\"none\" stroke=\"black\"/>\n",
       "<polygon fill=\"black\" points=\"645.012,-550.159 653.983,-544.522 643.455,-543.335 645.012,-550.159\" stroke=\"black\"/>\n",
       "</g>\n",
       "<!-- 2299949860456&#45;&gt;2299952963992 -->\n",
       "<g class=\"edge\" id=\"edge12\"><title>2299949860456-&gt;2299952963992</title>\n",
       "<path d=\"M800.645,-581.366C793.039,-572.437 784.146,-561.997 775.978,-552.409\" fill=\"none\" stroke=\"black\"/>\n",
       "<polygon fill=\"black\" points=\"778.481,-549.95 769.332,-544.607 773.152,-554.489 778.481,-549.95\" stroke=\"black\"/>\n",
       "</g>\n",
       "<!-- 2299953652456 -->\n",
       "<g class=\"node\" id=\"node12\"><title>2299953652456</title>\n",
       "<polygon fill=\"none\" points=\"279.5,-415.5 279.5,-461.5 749.5,-461.5 749.5,-415.5 279.5,-415.5\" stroke=\"black\"/>\n",
       "<text font-family=\"Times New Roman,serif\" font-size=\"14.00\" text-anchor=\"middle\" x=\"365.5\" y=\"-434.8\">dot_product_similarity: Dot</text>\n",
       "<polyline fill=\"none\" points=\"451.5,-415.5 451.5,-461.5 \" stroke=\"black\"/>\n",
       "<text font-family=\"Times New Roman,serif\" font-size=\"14.00\" text-anchor=\"middle\" x=\"479.5\" y=\"-446.3\">input:</text>\n",
       "<polyline fill=\"none\" points=\"451.5,-438.5 507.5,-438.5 \" stroke=\"black\"/>\n",
       "<text font-family=\"Times New Roman,serif\" font-size=\"14.00\" text-anchor=\"middle\" x=\"479.5\" y=\"-423.3\">output:</text>\n",
       "<polyline fill=\"none\" points=\"507.5,-415.5 507.5,-461.5 \" stroke=\"black\"/>\n",
       "<text font-family=\"Times New Roman,serif\" font-size=\"14.00\" text-anchor=\"middle\" x=\"628.5\" y=\"-446.3\">[(None, None, 256), (None, None, 256)]</text>\n",
       "<polyline fill=\"none\" points=\"507.5,-438.5 749.5,-438.5 \" stroke=\"black\"/>\n",
       "<text font-family=\"Times New Roman,serif\" font-size=\"14.00\" text-anchor=\"middle\" x=\"628.5\" y=\"-423.3\">(None, None, None)</text>\n",
       "</g>\n",
       "<!-- 2299952963992&#45;&gt;2299953652456 -->\n",
       "<g class=\"edge\" id=\"edge15\"><title>2299952963992-&gt;2299953652456</title>\n",
       "<path d=\"M686.324,-498.473C656.018,-488.072 619.684,-475.601 588.25,-464.812\" fill=\"none\" stroke=\"black\"/>\n",
       "<polygon fill=\"black\" points=\"589.258,-461.458 578.664,-461.522 586.986,-468.079 589.258,-461.458\" stroke=\"black\"/>\n",
       "</g>\n",
       "<!-- 2299949743240&#45;&gt;2299953652456 -->\n",
       "<g class=\"edge\" id=\"edge16\"><title>2299949743240-&gt;2299953652456</title>\n",
       "<path d=\"M323.019,-498.473C357.082,-487.982 397.981,-475.386 433.218,-464.534\" fill=\"none\" stroke=\"black\"/>\n",
       "<polygon fill=\"black\" points=\"434.469,-467.811 442.996,-461.522 432.409,-461.121 434.469,-467.811\" stroke=\"black\"/>\n",
       "</g>\n",
       "<!-- 2299971688880 -->\n",
       "<g class=\"node\" id=\"node14\"><title>2299971688880</title>\n",
       "<polygon fill=\"none\" points=\"116.5,-249.5 116.5,-295.5 638.5,-295.5 638.5,-249.5 116.5,-249.5\" stroke=\"black\"/>\n",
       "<text font-family=\"Times New Roman,serif\" font-size=\"14.00\" text-anchor=\"middle\" x=\"224\" y=\"-268.8\">weighted_attention_matrix: Lambda</text>\n",
       "<polyline fill=\"none\" points=\"331.5,-249.5 331.5,-295.5 \" stroke=\"black\"/>\n",
       "<text font-family=\"Times New Roman,serif\" font-size=\"14.00\" text-anchor=\"middle\" x=\"359.5\" y=\"-280.3\">input:</text>\n",
       "<polyline fill=\"none\" points=\"331.5,-272.5 387.5,-272.5 \" stroke=\"black\"/>\n",
       "<text font-family=\"Times New Roman,serif\" font-size=\"14.00\" text-anchor=\"middle\" x=\"359.5\" y=\"-257.3\">output:</text>\n",
       "<polyline fill=\"none\" points=\"387.5,-249.5 387.5,-295.5 \" stroke=\"black\"/>\n",
       "<text font-family=\"Times New Roman,serif\" font-size=\"14.00\" text-anchor=\"middle\" x=\"513\" y=\"-280.3\">[(None, None, None), (None, None, 256)]</text>\n",
       "<polyline fill=\"none\" points=\"387.5,-272.5 638.5,-272.5 \" stroke=\"black\"/>\n",
       "<text font-family=\"Times New Roman,serif\" font-size=\"14.00\" text-anchor=\"middle\" x=\"513\" y=\"-257.3\">(None, 256, None)</text>\n",
       "</g>\n",
       "<!-- 2299949743240&#45;&gt;2299971688880 -->\n",
       "<g class=\"edge\" id=\"edge19\"><title>2299949743240-&gt;2299971688880</title>\n",
       "<path d=\"M249.028,-498.305C246.008,-460.704 244.984,-383.545 279.5,-332 288.001,-319.304 300.272,-308.949 313.271,-300.677\" fill=\"none\" stroke=\"black\"/>\n",
       "<polygon fill=\"black\" points=\"315.091,-303.667 321.886,-295.537 311.505,-297.655 315.091,-303.667\" stroke=\"black\"/>\n",
       "</g>\n",
       "<!-- 2299949861016 -->\n",
       "<g class=\"node\" id=\"node13\"><title>2299949861016</title>\n",
       "<polygon fill=\"none\" points=\"288.5,-332.5 288.5,-378.5 720.5,-378.5 720.5,-332.5 288.5,-332.5\" stroke=\"black\"/>\n",
       "<text font-family=\"Times New Roman,serif\" font-size=\"14.00\" text-anchor=\"middle\" x=\"411\" y=\"-351.8\">attention_score_from_Softmax: Softmax</text>\n",
       "<polyline fill=\"none\" points=\"533.5,-332.5 533.5,-378.5 \" stroke=\"black\"/>\n",
       "<text font-family=\"Times New Roman,serif\" font-size=\"14.00\" text-anchor=\"middle\" x=\"561.5\" y=\"-363.3\">input:</text>\n",
       "<polyline fill=\"none\" points=\"533.5,-355.5 589.5,-355.5 \" stroke=\"black\"/>\n",
       "<text font-family=\"Times New Roman,serif\" font-size=\"14.00\" text-anchor=\"middle\" x=\"561.5\" y=\"-340.3\">output:</text>\n",
       "<polyline fill=\"none\" points=\"589.5,-332.5 589.5,-378.5 \" stroke=\"black\"/>\n",
       "<text font-family=\"Times New Roman,serif\" font-size=\"14.00\" text-anchor=\"middle\" x=\"655\" y=\"-363.3\">(None, None, None)</text>\n",
       "<polyline fill=\"none\" points=\"589.5,-355.5 720.5,-355.5 \" stroke=\"black\"/>\n",
       "<text font-family=\"Times New Roman,serif\" font-size=\"14.00\" text-anchor=\"middle\" x=\"655\" y=\"-340.3\">(None, None, None)</text>\n",
       "</g>\n",
       "<!-- 2299953652456&#45;&gt;2299949861016 -->\n",
       "<g class=\"edge\" id=\"edge17\"><title>2299953652456-&gt;2299949861016</title>\n",
       "<path d=\"M511.767,-415.366C510.753,-407.152 509.581,-397.658 508.478,-388.725\" fill=\"none\" stroke=\"black\"/>\n",
       "<polygon fill=\"black\" points=\"511.928,-388.103 507.229,-378.607 504.981,-388.96 511.928,-388.103\" stroke=\"black\"/>\n",
       "</g>\n",
       "<!-- 2299949861016&#45;&gt;2299971688880 -->\n",
       "<g class=\"edge\" id=\"edge18\"><title>2299949861016-&gt;2299971688880</title>\n",
       "<path d=\"M469.797,-332.366C454.677,-322.723 436.793,-311.317 420.814,-301.125\" fill=\"none\" stroke=\"black\"/>\n",
       "<polygon fill=\"black\" points=\"422.475,-298.033 412.161,-295.607 418.71,-303.935 422.475,-298.033\" stroke=\"black\"/>\n",
       "</g>\n",
       "<!-- 2299952364120 -->\n",
       "<g class=\"node\" id=\"node15\"><title>2299952364120</title>\n",
       "<polygon fill=\"none\" points=\"225,-166.5 225,-212.5 530,-212.5 530,-166.5 225,-166.5\" stroke=\"black\"/>\n",
       "<text font-family=\"Times New Roman,serif\" font-size=\"14.00\" text-anchor=\"middle\" x=\"289\" y=\"-185.8\">permute_4: Permute</text>\n",
       "<polyline fill=\"none\" points=\"353,-166.5 353,-212.5 \" stroke=\"black\"/>\n",
       "<text font-family=\"Times New Roman,serif\" font-size=\"14.00\" text-anchor=\"middle\" x=\"381\" y=\"-197.3\">input:</text>\n",
       "<polyline fill=\"none\" points=\"353,-189.5 409,-189.5 \" stroke=\"black\"/>\n",
       "<text font-family=\"Times New Roman,serif\" font-size=\"14.00\" text-anchor=\"middle\" x=\"381\" y=\"-174.3\">output:</text>\n",
       "<polyline fill=\"none\" points=\"409,-166.5 409,-212.5 \" stroke=\"black\"/>\n",
       "<text font-family=\"Times New Roman,serif\" font-size=\"14.00\" text-anchor=\"middle\" x=\"469.5\" y=\"-197.3\">(None, 256, None)</text>\n",
       "<polyline fill=\"none\" points=\"409,-189.5 530,-189.5 \" stroke=\"black\"/>\n",
       "<text font-family=\"Times New Roman,serif\" font-size=\"14.00\" text-anchor=\"middle\" x=\"469.5\" y=\"-174.3\">(None, None, 256)</text>\n",
       "</g>\n",
       "<!-- 2299971688880&#45;&gt;2299952364120 -->\n",
       "<g class=\"edge\" id=\"edge20\"><title>2299971688880-&gt;2299952364120</title>\n",
       "<path d=\"M377.5,-249.366C377.5,-241.152 377.5,-231.658 377.5,-222.725\" fill=\"none\" stroke=\"black\"/>\n",
       "<polygon fill=\"black\" points=\"381,-222.607 377.5,-212.607 374,-222.607 381,-222.607\" stroke=\"black\"/>\n",
       "</g>\n",
       "<!-- 2299952835776 -->\n",
       "<g class=\"node\" id=\"node16\"><title>2299952835776</title>\n",
       "<polygon fill=\"none\" points=\"188,-83.5 188,-129.5 567,-129.5 567,-83.5 188,-83.5\" stroke=\"black\"/>\n",
       "<text font-family=\"Times New Roman,serif\" font-size=\"14.00\" text-anchor=\"middle\" x=\"289\" y=\"-102.8\">Making_context_vector: Lambda</text>\n",
       "<polyline fill=\"none\" points=\"390,-83.5 390,-129.5 \" stroke=\"black\"/>\n",
       "<text font-family=\"Times New Roman,serif\" font-size=\"14.00\" text-anchor=\"middle\" x=\"418\" y=\"-114.3\">input:</text>\n",
       "<polyline fill=\"none\" points=\"390,-106.5 446,-106.5 \" stroke=\"black\"/>\n",
       "<text font-family=\"Times New Roman,serif\" font-size=\"14.00\" text-anchor=\"middle\" x=\"418\" y=\"-91.3\">output:</text>\n",
       "<polyline fill=\"none\" points=\"446,-83.5 446,-129.5 \" stroke=\"black\"/>\n",
       "<text font-family=\"Times New Roman,serif\" font-size=\"14.00\" text-anchor=\"middle\" x=\"506.5\" y=\"-114.3\">(None, None, 256)</text>\n",
       "<polyline fill=\"none\" points=\"446,-106.5 567,-106.5 \" stroke=\"black\"/>\n",
       "<text font-family=\"Times New Roman,serif\" font-size=\"14.00\" text-anchor=\"middle\" x=\"506.5\" y=\"-91.3\">(None, 256)</text>\n",
       "</g>\n",
       "<!-- 2299952364120&#45;&gt;2299952835776 -->\n",
       "<g class=\"edge\" id=\"edge21\"><title>2299952364120-&gt;2299952835776</title>\n",
       "<path d=\"M377.5,-166.366C377.5,-158.152 377.5,-148.658 377.5,-139.725\" fill=\"none\" stroke=\"black\"/>\n",
       "<polygon fill=\"black\" points=\"381,-139.607 377.5,-129.607 374,-139.607 381,-139.607\" stroke=\"black\"/>\n",
       "</g>\n",
       "<!-- 2299952836504 -->\n",
       "<g class=\"node\" id=\"node17\"><title>2299952836504</title>\n",
       "<polygon fill=\"none\" points=\"256,-0.5 256,-46.5 499,-46.5 499,-0.5 256,-0.5\" stroke=\"black\"/>\n",
       "<text font-family=\"Times New Roman,serif\" font-size=\"14.00\" text-anchor=\"middle\" x=\"308\" y=\"-19.8\">dense_5: Dense</text>\n",
       "<polyline fill=\"none\" points=\"360,-0.5 360,-46.5 \" stroke=\"black\"/>\n",
       "<text font-family=\"Times New Roman,serif\" font-size=\"14.00\" text-anchor=\"middle\" x=\"388\" y=\"-31.3\">input:</text>\n",
       "<polyline fill=\"none\" points=\"360,-23.5 416,-23.5 \" stroke=\"black\"/>\n",
       "<text font-family=\"Times New Roman,serif\" font-size=\"14.00\" text-anchor=\"middle\" x=\"388\" y=\"-8.3\">output:</text>\n",
       "<polyline fill=\"none\" points=\"416,-0.5 416,-46.5 \" stroke=\"black\"/>\n",
       "<text font-family=\"Times New Roman,serif\" font-size=\"14.00\" text-anchor=\"middle\" x=\"457.5\" y=\"-31.3\">(None, 256)</text>\n",
       "<polyline fill=\"none\" points=\"416,-23.5 499,-23.5 \" stroke=\"black\"/>\n",
       "<text font-family=\"Times New Roman,serif\" font-size=\"14.00\" text-anchor=\"middle\" x=\"457.5\" y=\"-8.3\">(None, 2)</text>\n",
       "</g>\n",
       "<!-- 2299952835776&#45;&gt;2299952836504 -->\n",
       "<g class=\"edge\" id=\"edge22\"><title>2299952835776-&gt;2299952836504</title>\n",
       "<path d=\"M377.5,-83.3664C377.5,-75.1516 377.5,-65.6579 377.5,-56.7252\" fill=\"none\" stroke=\"black\"/>\n",
       "<polygon fill=\"black\" points=\"381,-56.6068 377.5,-46.6068 374,-56.6069 381,-56.6068\" stroke=\"black\"/>\n",
       "</g>\n",
       "</g>\n",
       "</svg>"
      ],
      "text/plain": [
       "<IPython.core.display.SVG object>"
      ]
     },
     "execution_count": 23,
     "metadata": {},
     "output_type": "execute_result"
    }
   ],
   "source": [
    "from IPython.display import SVG\n",
    "from keras.utils.vis_utils import model_to_dot\n",
    "from keras.utils.vis_utils import plot_model\n",
    "\n",
    "SVG(model_to_dot(GRUs_2,show_shapes=True).create(prog=\"dot\",format=\"svg\"))\n",
    "#plot_model(GRUs_2, to_file='model.png',show_shapes = True)"
   ]
  },
  {
   "cell_type": "markdown",
   "metadata": {},
   "source": [
    "# 3. CNN-LSTM"
   ]
  },
  {
   "cell_type": "code",
   "execution_count": 120,
   "metadata": {},
   "outputs": [],
   "source": [
    "cnn_lstm = Sequential()\n",
    "cnn_lstm.add(Embedding(len(vocabulary)+1,128,input_length = None))\n",
    "cnn_lstm.add(Dropout(0.2))\n",
    "cnn_lstm.add(Conv1D(256,3,padding=\"valid\",activation=\"relu\",strides=1))\n",
    "cnn_lstm.add(MaxPooling1D(pool_size = 4))\n",
    "cnn_lstm.add(LSTM(128))\n",
    "cnn_lstm.add(Dense(2,activation=\"softmax\"))\n",
    "\n",
    "cnn_lstm.compile(loss=\"categorical_crossentropy\",optimizer=\"adam\",metrics=[\"accuracy\"])"
   ]
  },
  {
   "cell_type": "code",
   "execution_count": 121,
   "metadata": {},
   "outputs": [
    {
     "name": "stdout",
     "output_type": "stream",
     "text": [
      "_________________________________________________________________\n",
      "Layer (type)                 Output Shape              Param #   \n",
      "=================================================================\n",
      "embedding_21 (Embedding)     (None, None, 128)         1102720   \n",
      "_________________________________________________________________\n",
      "dropout_21 (Dropout)         (None, None, 128)         0         \n",
      "_________________________________________________________________\n",
      "conv1d_21 (Conv1D)           (None, None, 256)         98560     \n",
      "_________________________________________________________________\n",
      "max_pooling1d_19 (MaxPooling (None, None, 256)         0         \n",
      "_________________________________________________________________\n",
      "lstm_1 (LSTM)                (None, 128)               197120    \n",
      "_________________________________________________________________\n",
      "dense_9 (Dense)              (None, 2)                 258       \n",
      "=================================================================\n",
      "Total params: 1,398,658\n",
      "Trainable params: 1,398,658\n",
      "Non-trainable params: 0\n",
      "_________________________________________________________________\n"
     ]
    }
   ],
   "source": [
    "cnn_lstm.summary()"
   ]
  },
  {
   "cell_type": "code",
   "execution_count": 122,
   "metadata": {},
   "outputs": [
    {
     "data": {
      "image/svg+xml": [
       "<svg height=\"543pt\" viewBox=\"0.00 0.00 400.00 543.00\" width=\"400pt\" xmlns=\"http://www.w3.org/2000/svg\" xmlns:xlink=\"http://www.w3.org/1999/xlink\">\n",
       "<g class=\"graph\" id=\"graph0\" transform=\"scale(1 1) rotate(0) translate(4 539)\">\n",
       "<title>G</title>\n",
       "<polygon fill=\"white\" points=\"-4,4 -4,-539 396,-539 396,4 -4,4\" stroke=\"none\"/>\n",
       "<!-- 1431260392920 -->\n",
       "<g class=\"node\" id=\"node1\"><title>1431260392920</title>\n",
       "<polygon fill=\"none\" points=\"22.5,-415.5 22.5,-461.5 369.5,-461.5 369.5,-415.5 22.5,-415.5\" stroke=\"black\"/>\n",
       "<text font-family=\"Times New Roman,serif\" font-size=\"14.00\" text-anchor=\"middle\" x=\"107.5\" y=\"-434.8\">embedding_21: Embedding</text>\n",
       "<polyline fill=\"none\" points=\"192.5,-415.5 192.5,-461.5 \" stroke=\"black\"/>\n",
       "<text font-family=\"Times New Roman,serif\" font-size=\"14.00\" text-anchor=\"middle\" x=\"220.5\" y=\"-446.3\">input:</text>\n",
       "<polyline fill=\"none\" points=\"192.5,-438.5 248.5,-438.5 \" stroke=\"black\"/>\n",
       "<text font-family=\"Times New Roman,serif\" font-size=\"14.00\" text-anchor=\"middle\" x=\"220.5\" y=\"-423.3\">output:</text>\n",
       "<polyline fill=\"none\" points=\"248.5,-415.5 248.5,-461.5 \" stroke=\"black\"/>\n",
       "<text font-family=\"Times New Roman,serif\" font-size=\"14.00\" text-anchor=\"middle\" x=\"309\" y=\"-446.3\">(None, None)</text>\n",
       "<polyline fill=\"none\" points=\"248.5,-438.5 369.5,-438.5 \" stroke=\"black\"/>\n",
       "<text font-family=\"Times New Roman,serif\" font-size=\"14.00\" text-anchor=\"middle\" x=\"309\" y=\"-423.3\">(None, None, 128)</text>\n",
       "</g>\n",
       "<!-- 1431260393032 -->\n",
       "<g class=\"node\" id=\"node2\"><title>1431260393032</title>\n",
       "<polygon fill=\"none\" points=\"39,-332.5 39,-378.5 353,-378.5 353,-332.5 39,-332.5\" stroke=\"black\"/>\n",
       "<text font-family=\"Times New Roman,serif\" font-size=\"14.00\" text-anchor=\"middle\" x=\"107.5\" y=\"-351.8\">dropout_21: Dropout</text>\n",
       "<polyline fill=\"none\" points=\"176,-332.5 176,-378.5 \" stroke=\"black\"/>\n",
       "<text font-family=\"Times New Roman,serif\" font-size=\"14.00\" text-anchor=\"middle\" x=\"204\" y=\"-363.3\">input:</text>\n",
       "<polyline fill=\"none\" points=\"176,-355.5 232,-355.5 \" stroke=\"black\"/>\n",
       "<text font-family=\"Times New Roman,serif\" font-size=\"14.00\" text-anchor=\"middle\" x=\"204\" y=\"-340.3\">output:</text>\n",
       "<polyline fill=\"none\" points=\"232,-332.5 232,-378.5 \" stroke=\"black\"/>\n",
       "<text font-family=\"Times New Roman,serif\" font-size=\"14.00\" text-anchor=\"middle\" x=\"292.5\" y=\"-363.3\">(None, None, 128)</text>\n",
       "<polyline fill=\"none\" points=\"232,-355.5 353,-355.5 \" stroke=\"black\"/>\n",
       "<text font-family=\"Times New Roman,serif\" font-size=\"14.00\" text-anchor=\"middle\" x=\"292.5\" y=\"-340.3\">(None, None, 128)</text>\n",
       "</g>\n",
       "<!-- 1431260392920&#45;&gt;1431260393032 -->\n",
       "<g class=\"edge\" id=\"edge2\"><title>1431260392920-&gt;1431260393032</title>\n",
       "<path d=\"M196,-415.366C196,-407.152 196,-397.658 196,-388.725\" fill=\"none\" stroke=\"black\"/>\n",
       "<polygon fill=\"black\" points=\"199.5,-388.607 196,-378.607 192.5,-388.607 199.5,-388.607\" stroke=\"black\"/>\n",
       "</g>\n",
       "<!-- 1431260393312 -->\n",
       "<g class=\"node\" id=\"node3\"><title>1431260393312</title>\n",
       "<polygon fill=\"none\" points=\"40.5,-249.5 40.5,-295.5 351.5,-295.5 351.5,-249.5 40.5,-249.5\" stroke=\"black\"/>\n",
       "<text font-family=\"Times New Roman,serif\" font-size=\"14.00\" text-anchor=\"middle\" x=\"107.5\" y=\"-268.8\">conv1d_21: Conv1D</text>\n",
       "<polyline fill=\"none\" points=\"174.5,-249.5 174.5,-295.5 \" stroke=\"black\"/>\n",
       "<text font-family=\"Times New Roman,serif\" font-size=\"14.00\" text-anchor=\"middle\" x=\"202.5\" y=\"-280.3\">input:</text>\n",
       "<polyline fill=\"none\" points=\"174.5,-272.5 230.5,-272.5 \" stroke=\"black\"/>\n",
       "<text font-family=\"Times New Roman,serif\" font-size=\"14.00\" text-anchor=\"middle\" x=\"202.5\" y=\"-257.3\">output:</text>\n",
       "<polyline fill=\"none\" points=\"230.5,-249.5 230.5,-295.5 \" stroke=\"black\"/>\n",
       "<text font-family=\"Times New Roman,serif\" font-size=\"14.00\" text-anchor=\"middle\" x=\"291\" y=\"-280.3\">(None, None, 128)</text>\n",
       "<polyline fill=\"none\" points=\"230.5,-272.5 351.5,-272.5 \" stroke=\"black\"/>\n",
       "<text font-family=\"Times New Roman,serif\" font-size=\"14.00\" text-anchor=\"middle\" x=\"291\" y=\"-257.3\">(None, None, 256)</text>\n",
       "</g>\n",
       "<!-- 1431260393032&#45;&gt;1431260393312 -->\n",
       "<g class=\"edge\" id=\"edge3\"><title>1431260393032-&gt;1431260393312</title>\n",
       "<path d=\"M196,-332.366C196,-324.152 196,-314.658 196,-305.725\" fill=\"none\" stroke=\"black\"/>\n",
       "<polygon fill=\"black\" points=\"199.5,-305.607 196,-295.607 192.5,-305.607 199.5,-305.607\" stroke=\"black\"/>\n",
       "</g>\n",
       "<!-- 1431260393200 -->\n",
       "<g class=\"node\" id=\"node4\"><title>1431260393200</title>\n",
       "<polygon fill=\"none\" points=\"0,-166.5 0,-212.5 392,-212.5 392,-166.5 0,-166.5\" stroke=\"black\"/>\n",
       "<text font-family=\"Times New Roman,serif\" font-size=\"14.00\" text-anchor=\"middle\" x=\"107.5\" y=\"-185.8\">max_pooling1d_19: MaxPooling1D</text>\n",
       "<polyline fill=\"none\" points=\"215,-166.5 215,-212.5 \" stroke=\"black\"/>\n",
       "<text font-family=\"Times New Roman,serif\" font-size=\"14.00\" text-anchor=\"middle\" x=\"243\" y=\"-197.3\">input:</text>\n",
       "<polyline fill=\"none\" points=\"215,-189.5 271,-189.5 \" stroke=\"black\"/>\n",
       "<text font-family=\"Times New Roman,serif\" font-size=\"14.00\" text-anchor=\"middle\" x=\"243\" y=\"-174.3\">output:</text>\n",
       "<polyline fill=\"none\" points=\"271,-166.5 271,-212.5 \" stroke=\"black\"/>\n",
       "<text font-family=\"Times New Roman,serif\" font-size=\"14.00\" text-anchor=\"middle\" x=\"331.5\" y=\"-197.3\">(None, None, 256)</text>\n",
       "<polyline fill=\"none\" points=\"271,-189.5 392,-189.5 \" stroke=\"black\"/>\n",
       "<text font-family=\"Times New Roman,serif\" font-size=\"14.00\" text-anchor=\"middle\" x=\"331.5\" y=\"-174.3\">(None, None, 256)</text>\n",
       "</g>\n",
       "<!-- 1431260393312&#45;&gt;1431260393200 -->\n",
       "<g class=\"edge\" id=\"edge4\"><title>1431260393312-&gt;1431260393200</title>\n",
       "<path d=\"M196,-249.366C196,-241.152 196,-231.658 196,-222.725\" fill=\"none\" stroke=\"black\"/>\n",
       "<polygon fill=\"black\" points=\"199.5,-222.607 196,-212.607 192.5,-222.607 199.5,-222.607\" stroke=\"black\"/>\n",
       "</g>\n",
       "<!-- 1428532239104 -->\n",
       "<g class=\"node\" id=\"node5\"><title>1428532239104</title>\n",
       "<polygon fill=\"none\" points=\"58.5,-83.5 58.5,-129.5 333.5,-129.5 333.5,-83.5 58.5,-83.5\" stroke=\"black\"/>\n",
       "<text font-family=\"Times New Roman,serif\" font-size=\"14.00\" text-anchor=\"middle\" x=\"107.5\" y=\"-102.8\">lstm_1: LSTM</text>\n",
       "<polyline fill=\"none\" points=\"156.5,-83.5 156.5,-129.5 \" stroke=\"black\"/>\n",
       "<text font-family=\"Times New Roman,serif\" font-size=\"14.00\" text-anchor=\"middle\" x=\"184.5\" y=\"-114.3\">input:</text>\n",
       "<polyline fill=\"none\" points=\"156.5,-106.5 212.5,-106.5 \" stroke=\"black\"/>\n",
       "<text font-family=\"Times New Roman,serif\" font-size=\"14.00\" text-anchor=\"middle\" x=\"184.5\" y=\"-91.3\">output:</text>\n",
       "<polyline fill=\"none\" points=\"212.5,-83.5 212.5,-129.5 \" stroke=\"black\"/>\n",
       "<text font-family=\"Times New Roman,serif\" font-size=\"14.00\" text-anchor=\"middle\" x=\"273\" y=\"-114.3\">(None, None, 256)</text>\n",
       "<polyline fill=\"none\" points=\"212.5,-106.5 333.5,-106.5 \" stroke=\"black\"/>\n",
       "<text font-family=\"Times New Roman,serif\" font-size=\"14.00\" text-anchor=\"middle\" x=\"273\" y=\"-91.3\">(None, 128)</text>\n",
       "</g>\n",
       "<!-- 1431260393200&#45;&gt;1428532239104 -->\n",
       "<g class=\"edge\" id=\"edge5\"><title>1431260393200-&gt;1428532239104</title>\n",
       "<path d=\"M196,-166.366C196,-158.152 196,-148.658 196,-139.725\" fill=\"none\" stroke=\"black\"/>\n",
       "<polygon fill=\"black\" points=\"199.5,-139.607 196,-129.607 192.5,-139.607 199.5,-139.607\" stroke=\"black\"/>\n",
       "</g>\n",
       "<!-- 1431323134384 -->\n",
       "<g class=\"node\" id=\"node6\"><title>1431323134384</title>\n",
       "<polygon fill=\"none\" points=\"74.5,-0.5 74.5,-46.5 317.5,-46.5 317.5,-0.5 74.5,-0.5\" stroke=\"black\"/>\n",
       "<text font-family=\"Times New Roman,serif\" font-size=\"14.00\" text-anchor=\"middle\" x=\"126.5\" y=\"-19.8\">dense_9: Dense</text>\n",
       "<polyline fill=\"none\" points=\"178.5,-0.5 178.5,-46.5 \" stroke=\"black\"/>\n",
       "<text font-family=\"Times New Roman,serif\" font-size=\"14.00\" text-anchor=\"middle\" x=\"206.5\" y=\"-31.3\">input:</text>\n",
       "<polyline fill=\"none\" points=\"178.5,-23.5 234.5,-23.5 \" stroke=\"black\"/>\n",
       "<text font-family=\"Times New Roman,serif\" font-size=\"14.00\" text-anchor=\"middle\" x=\"206.5\" y=\"-8.3\">output:</text>\n",
       "<polyline fill=\"none\" points=\"234.5,-0.5 234.5,-46.5 \" stroke=\"black\"/>\n",
       "<text font-family=\"Times New Roman,serif\" font-size=\"14.00\" text-anchor=\"middle\" x=\"276\" y=\"-31.3\">(None, 128)</text>\n",
       "<polyline fill=\"none\" points=\"234.5,-23.5 317.5,-23.5 \" stroke=\"black\"/>\n",
       "<text font-family=\"Times New Roman,serif\" font-size=\"14.00\" text-anchor=\"middle\" x=\"276\" y=\"-8.3\">(None, 2)</text>\n",
       "</g>\n",
       "<!-- 1428532239104&#45;&gt;1431323134384 -->\n",
       "<g class=\"edge\" id=\"edge6\"><title>1428532239104-&gt;1431323134384</title>\n",
       "<path d=\"M196,-83.3664C196,-75.1516 196,-65.6579 196,-56.7252\" fill=\"none\" stroke=\"black\"/>\n",
       "<polygon fill=\"black\" points=\"199.5,-56.6068 196,-46.6068 192.5,-56.6069 199.5,-56.6068\" stroke=\"black\"/>\n",
       "</g>\n",
       "<!-- 1431260393144 -->\n",
       "<g class=\"node\" id=\"node7\"><title>1431260393144</title>\n",
       "<polygon fill=\"none\" points=\"144,-498.5 144,-534.5 248,-534.5 248,-498.5 144,-498.5\" stroke=\"black\"/>\n",
       "<text font-family=\"Times New Roman,serif\" font-size=\"14.00\" text-anchor=\"middle\" x=\"196\" y=\"-512.8\">1431260393144</text>\n",
       "</g>\n",
       "<!-- 1431260393144&#45;&gt;1431260392920 -->\n",
       "<g class=\"edge\" id=\"edge1\"><title>1431260393144-&gt;1431260392920</title>\n",
       "<path d=\"M196,-498.254C196,-490.363 196,-480.749 196,-471.602\" fill=\"none\" stroke=\"black\"/>\n",
       "<polygon fill=\"black\" points=\"199.5,-471.591 196,-461.591 192.5,-471.591 199.5,-471.591\" stroke=\"black\"/>\n",
       "</g>\n",
       "</g>\n",
       "</svg>"
      ],
      "text/plain": [
       "<IPython.core.display.SVG object>"
      ]
     },
     "execution_count": 122,
     "metadata": {},
     "output_type": "execute_result"
    }
   ],
   "source": [
    "from IPython.display import SVG\n",
    "from keras.utils.vis_utils import model_to_dot\n",
    "from keras.utils.vis_utils import plot_model\n",
    "\n",
    "SVG(model_to_dot(cnn_lstm,show_shapes=True).create(prog=\"dot\",format=\"svg\"))\n",
    "#plot_model(GRUs_2, to_file='model.png',show_shapes = True)"
   ]
  },
  {
   "cell_type": "markdown",
   "metadata": {},
   "source": [
    "# train,test 분할"
   ]
  },
  {
   "cell_type": "code",
   "execution_count": 44,
   "metadata": {},
   "outputs": [],
   "source": [
    "vectorized_seq = sequence.pad_sequences(morphsVectored,maxlen = 650)"
   ]
  },
  {
   "cell_type": "markdown",
   "metadata": {},
   "source": [
    "# 함수 모음 : AUC 콜백함수"
   ]
  },
  {
   "cell_type": "markdown",
   "metadata": {},
   "source": [
    "1. 평가용 AUC 콜백 함수"
   ]
  },
  {
   "cell_type": "code",
   "execution_count": 155,
   "metadata": {},
   "outputs": [],
   "source": [
    "class roc_callback(Callback):\n",
    "    def __init__(self,training_data,validation_data):\n",
    "        self.x = training_data[0]\n",
    "        self.y = training_data[1]\n",
    "        self.x_val = validation_data[0]\n",
    "        self.y_val = validation_data[1]\n",
    "\n",
    "\n",
    "    def on_train_begin(self, logs={}):\n",
    "        return\n",
    "\n",
    "    def on_train_end(self, logs={}):\n",
    "        return\n",
    "\n",
    "    def on_epoch_begin(self, epoch, logs={}):\n",
    "        return\n",
    "\n",
    "    def on_epoch_end(self, epoch, logs={}):\n",
    "        y_pred = self.model.predict(self.x)\n",
    "        roc = roc_auc_score(self.y, y_pred)\n",
    "        y_pred_val = self.model.predict(self.x_val)\n",
    "        roc_val = roc_auc_score(self.y_val, y_pred_val)\n",
    "        print('\\rroc-auc: %s - roc-auc_val: %s' % (str(round(roc,4)),str(round(roc_val,4))),end=100*' '+'\\n')\n",
    "        return\n",
    "\n",
    "    def on_batch_begin(self, batch, logs={}):\n",
    "        return\n",
    "\n",
    "    def on_batch_end(self, batch, logs={}):\n",
    "        return"
   ]
  },
  {
   "cell_type": "markdown",
   "metadata": {},
   "source": [
    "2. 배치 생성 연속 샘플링"
   ]
  },
  {
   "cell_type": "code",
   "execution_count": 45,
   "metadata": {},
   "outputs": [],
   "source": [
    "def sampling_feed(vectorized_seq,target,temp_index,sam_num):\n",
    "    \n",
    "    temp = pd.concat([DataFrame(vectorized_seq),target],axis=1)\n",
    "    temp = temp.loc[temp.index.difference(temp_index),:]\n",
    "    temp_sampling = temp.sample(sam_num)\n",
    "    \n",
    "    print(\"original_ratio :\",len(temp[temp[\"smishing\"] == 1])/len(temp[temp[\"smishing\"] == 0]))\n",
    "    print(\"sampling_ratio :\",len(temp_sampling[temp_sampling[\"smishing\"] == 1])/len(temp_sampling[temp_sampling[\"smishing\"] == 0]))\n",
    "    \n",
    "    target_sample = temp_sampling[\"smishing\"].values.copy()\n",
    "    del(temp_sampling[\"smishing\"])\n",
    "    vectorized_seq_sample = np.array(temp_sampling).copy()\n",
    "    \n",
    "    temp_index = np.hstack([temp_index,temp_sampling.index])\n",
    "    \n",
    "    return(temp_index,vectorized_seq_sample,target_sample)"
   ]
  },
  {
   "cell_type": "markdown",
   "metadata": {},
   "source": [
    "# 실제 적합"
   ]
  },
  {
   "cell_type": "markdown",
   "metadata": {},
   "source": [
    "1. Transformer "
   ]
  },
  {
   "cell_type": "code",
   "execution_count": 48,
   "metadata": {},
   "outputs": [],
   "source": [
    "X_train,X_test,y_train,y_test = train_test_split(vectorized_seq, target,test_size=0.2)\n",
    "y_train = np_utils.to_categorical(y_train)\n",
    "y_test = np_utils.to_categorical(y_test)"
   ]
  },
  {
   "cell_type": "code",
   "execution_count": 51,
   "metadata": {},
   "outputs": [],
   "source": [
    "from keras.callbacks import EarlyStopping\n",
    "\n",
    "early_stopping = EarlyStopping(patience = 3)"
   ]
  },
  {
   "cell_type": "code",
   "execution_count": 117,
   "metadata": {},
   "outputs": [],
   "source": [
    "tfbs.compile(loss=\"categorical_crossentropy\",optimizer=\"adam\",metrics=[\"accuracy\"])"
   ]
  },
  {
   "cell_type": "code",
   "execution_count": 118,
   "metadata": {},
   "outputs": [
    {
     "name": "stdout",
     "output_type": "stream",
     "text": [
      "Train on 236756 samples, validate on 59189 samples\n",
      "Epoch 1/1\n",
      "236756/236756 [==============================] - 4201s 18ms/step - loss: 1.0181 - acc: 0.9366 - val_loss: 1.0217 - val_acc: 0.9366\n"
     ]
    },
    {
     "data": {
      "text/plain": [
       "<keras.callbacks.History at 0x14d332be208>"
      ]
     },
     "execution_count": 118,
     "metadata": {},
     "output_type": "execute_result"
    }
   ],
   "source": [
    "tfbs.fit(X_train,y_train,epochs=1,batch_size = 64,validation_data = (X_test,y_test),callbacks = [early_stopping])"
   ]
  },
  {
   "cell_type": "markdown",
   "metadata": {},
   "source": [
    "2. 계층적 GRU 모델"
   ]
  },
  {
   "cell_type": "code",
   "execution_count": null,
   "metadata": {},
   "outputs": [],
   "source": [
    "GRUs_2.compile(loss=\"categorical_crossentropy\",optimizer=\"adam\",metrics=[\"accuracy\"])"
   ]
  },
  {
   "cell_type": "code",
   "execution_count": 266,
   "metadata": {
    "scrolled": false
   },
   "outputs": [
    {
     "name": "stdout",
     "output_type": "stream",
     "text": [
      "original_ratio : 0.06746091861983393\n",
      "sampling_ratio : 0.06490602204355465\n",
      "Train on 16000 samples, validate on 4000 samples\n",
      "Epoch 1/20\n",
      "16000/16000 [==============================] - 993s 62ms/step - loss: 3.6054e-05 - acc: 1.0000 - val_loss: 5.0531e-04 - val_acc: 0.9998\n",
      "Epoch 2/20\n",
      "16000/16000 [==============================] - 984s 62ms/step - loss: 8.7946e-06 - acc: 1.0000 - val_loss: 7.9293e-06 - val_acc: 1.0000\n",
      "Epoch 3/20\n",
      "16000/16000 [==============================] - 984s 62ms/step - loss: 5.7928e-06 - acc: 1.0000 - val_loss: 6.5517e-06 - val_acc: 1.0000\n",
      "Epoch 4/20\n",
      "16000/16000 [==============================] - 985s 62ms/step - loss: 4.5928e-06 - acc: 1.0000 - val_loss: 5.1713e-06 - val_acc: 1.0000\n",
      "Epoch 5/20\n",
      "16000/16000 [==============================] - 985s 62ms/step - loss: 3.7695e-06 - acc: 1.0000 - val_loss: 4.4287e-06 - val_acc: 1.0000\n",
      "Epoch 6/20\n",
      "16000/16000 [==============================] - 987s 62ms/step - loss: 3.1431e-06 - acc: 1.0000 - val_loss: 3.9392e-06 - val_acc: 1.0000\n",
      "Epoch 7/20\n",
      "16000/16000 [==============================] - 985s 62ms/step - loss: 2.6482e-06 - acc: 1.0000 - val_loss: 3.4496e-06 - val_acc: 1.0000\n",
      "Epoch 8/20\n",
      "16000/16000 [==============================] - 987s 62ms/step - loss: 2.2647e-06 - acc: 1.0000 - val_loss: 2.9491e-06 - val_acc: 1.0000\n",
      "Epoch 9/20\n",
      "16000/16000 [==============================] - 985s 62ms/step - loss: 1.9166e-06 - acc: 1.0000 - val_loss: 2.5311e-06 - val_acc: 1.0000\n",
      "Epoch 10/20\n",
      "16000/16000 [==============================] - 985s 62ms/step - loss: 1.6437e-06 - acc: 1.0000 - val_loss: 2.1827e-06 - val_acc: 1.0000\n",
      "Epoch 11/20\n",
      "16000/16000 [==============================] - 984s 61ms/step - loss: 1.4144e-06 - acc: 1.0000 - val_loss: 1.9834e-06 - val_acc: 1.0000\n",
      "Epoch 12/20\n",
      "16000/16000 [==============================] - 984s 62ms/step - loss: 1.2170e-06 - acc: 1.0000 - val_loss: 1.8109e-06 - val_acc: 1.0000\n",
      "Epoch 13/20\n",
      "16000/16000 [==============================] - 987s 62ms/step - loss: 1.0625e-06 - acc: 1.0000 - val_loss: 1.6688e-06 - val_acc: 1.0000\n",
      "Epoch 14/20\n",
      "16000/16000 [==============================] - 986s 62ms/step - loss: 9.2131e-07 - acc: 1.0000 - val_loss: 1.4042e-06 - val_acc: 1.0000\n",
      "Epoch 15/20\n",
      "16000/16000 [==============================] - 987s 62ms/step - loss: 7.9961e-07 - acc: 1.0000 - val_loss: 1.2985e-06 - val_acc: 1.0000\n",
      "Epoch 16/20\n",
      "16000/16000 [==============================] - 990s 62ms/step - loss: 6.9406e-07 - acc: 1.0000 - val_loss: 1.2045e-06 - val_acc: 1.0000\n",
      "Epoch 17/20\n",
      "16000/16000 [==============================] - 987s 62ms/step - loss: 6.0078e-07 - acc: 1.0000 - val_loss: 1.0426e-06 - val_acc: 1.0000\n",
      "Epoch 18/20\n",
      "16000/16000 [==============================] - 988s 62ms/step - loss: 5.3999e-07 - acc: 1.0000 - val_loss: 9.5464e-07 - val_acc: 1.0000\n",
      "Epoch 19/20\n",
      "16000/16000 [==============================] - 988s 62ms/step - loss: 4.5767e-07 - acc: 1.0000 - val_loss: 9.1257e-07 - val_acc: 1.0000\n",
      "Epoch 20/20\n",
      "16000/16000 [==============================] - 988s 62ms/step - loss: 4.1045e-07 - acc: 1.0000 - val_loss: 7.8865e-07 - val_acc: 1.0000\n",
      "original_ratio : 0.0676465695017817\n",
      "sampling_ratio : 0.06888995777884667\n",
      "Train on 16000 samples, validate on 4000 samples\n",
      "Epoch 1/20\n",
      "16000/16000 [==============================] - 988s 62ms/step - loss: 0.0019 - acc: 0.9999 - val_loss: 0.0057 - val_acc: 0.9995\n",
      "Epoch 2/20\n",
      "16000/16000 [==============================] - 987s 62ms/step - loss: 0.3344 - acc: 0.9261 - val_loss: 0.0721 - val_acc: 0.9998\n",
      "Epoch 3/20\n",
      "16000/16000 [==============================] - 989s 62ms/step - loss: 0.0443 - acc: 0.9999 - val_loss: 0.0286 - val_acc: 0.9995\n",
      "Epoch 4/20\n",
      "16000/16000 [==============================] - 988s 62ms/step - loss: 0.0212 - acc: 0.9999 - val_loss: 0.0171 - val_acc: 0.9995\n",
      "original_ratio : 0.06754953076120959\n",
      "sampling_ratio : 0.06717891254468812\n",
      "Train on 16000 samples, validate on 4000 samples\n",
      "Epoch 1/20\n",
      "16000/16000 [==============================] - 986s 62ms/step - loss: 0.0137 - acc: 1.0000 - val_loss: 0.0115 - val_acc: 0.9998\n",
      "Epoch 2/20\n",
      "16000/16000 [==============================] - 987s 62ms/step - loss: 0.0095 - acc: 1.0000 - val_loss: 0.0085 - val_acc: 0.9998\n",
      "Epoch 3/20\n",
      "16000/16000 [==============================] - 985s 62ms/step - loss: 0.0070 - acc: 1.0000 - val_loss: 0.0066 - val_acc: 0.9998\n",
      "Epoch 4/20\n",
      "16000/16000 [==============================] - 987s 62ms/step - loss: 0.0053 - acc: 1.0000 - val_loss: 0.0054 - val_acc: 0.9998\n",
      "Epoch 5/20\n",
      "16000/16000 [==============================] - 988s 62ms/step - loss: 0.0042 - acc: 1.0000 - val_loss: 0.0046 - val_acc: 0.9998\n",
      "Epoch 6/20\n",
      "16000/16000 [==============================] - 986s 62ms/step - loss: 0.0034 - acc: 1.0000 - val_loss: 0.0039 - val_acc: 0.9998\n",
      "Epoch 7/20\n",
      "16000/16000 [==============================] - 985s 62ms/step - loss: 0.0028 - acc: 1.0000 - val_loss: 0.0034 - val_acc: 0.9998\n",
      "Epoch 8/20\n",
      "16000/16000 [==============================] - 985s 62ms/step - loss: 0.0023 - acc: 1.0000 - val_loss: 0.0031 - val_acc: 0.9998\n",
      "Epoch 9/20\n",
      "16000/16000 [==============================] - 985s 62ms/step - loss: 0.0020 - acc: 1.0000 - val_loss: 0.0028 - val_acc: 0.9998\n",
      "Epoch 10/20\n",
      "16000/16000 [==============================] - 986s 62ms/step - loss: 0.0016 - acc: 1.0000 - val_loss: 0.0024 - val_acc: 0.9998\n",
      "Epoch 11/20\n",
      "16000/16000 [==============================] - 985s 62ms/step - loss: 0.0012 - acc: 1.0000 - val_loss: 0.0022 - val_acc: 0.9998\n",
      "Epoch 12/20\n",
      "16000/16000 [==============================] - 985s 62ms/step - loss: 0.0010 - acc: 1.0000 - val_loss: 0.0021 - val_acc: 0.9998\n",
      "Epoch 13/20\n",
      "16000/16000 [==============================] - 987s 62ms/step - loss: 8.8498e-04 - acc: 1.0000 - val_loss: 0.0020 - val_acc: 0.9998\n",
      "Epoch 14/20\n",
      "16000/16000 [==============================] - 984s 61ms/step - loss: 7.5350e-04 - acc: 1.0000 - val_loss: 0.0019 - val_acc: 0.9998\n",
      "Epoch 15/20\n",
      "16000/16000 [==============================] - 986s 62ms/step - loss: 6.4483e-04 - acc: 1.0000 - val_loss: 0.0019 - val_acc: 0.9998\n",
      "Epoch 16/20\n",
      "16000/16000 [==============================] - 985s 62ms/step - loss: 5.5423e-04 - acc: 1.0000 - val_loss: 0.0018 - val_acc: 0.9998\n",
      "Epoch 17/20\n",
      "16000/16000 [==============================] - 986s 62ms/step - loss: 4.7819e-04 - acc: 1.0000 - val_loss: 0.0018 - val_acc: 0.9998\n",
      "Epoch 18/20\n",
      "16000/16000 [==============================] - 986s 62ms/step - loss: 4.1389e-04 - acc: 1.0000 - val_loss: 0.0018 - val_acc: 0.9998\n",
      "Epoch 19/20\n",
      "16000/16000 [==============================] - 988s 62ms/step - loss: 3.5911e-04 - acc: 1.0000 - val_loss: 0.0018 - val_acc: 0.9998\n",
      "Epoch 20/20\n",
      "16000/16000 [==============================] - 995s 62ms/step - loss: 3.1230e-04 - acc: 1.0000 - val_loss: 0.0017 - val_acc: 0.9998\n",
      "original_ratio : 0.06758095824151958\n",
      "sampling_ratio : 0.0676916506512919\n",
      "Train on 16000 samples, validate on 4000 samples\n",
      "Epoch 1/20\n",
      "16000/16000 [==============================] - 987s 62ms/step - loss: 2.7345e-04 - acc: 1.0000 - val_loss: 2.4811e-04 - val_acc: 1.0000\n",
      "Epoch 2/20\n",
      "16000/16000 [==============================] - 987s 62ms/step - loss: 2.3826e-04 - acc: 1.0000 - val_loss: 2.1657e-04 - val_acc: 1.0000\n",
      "Epoch 3/20\n",
      "16000/16000 [==============================] - 986s 62ms/step - loss: 2.0814e-04 - acc: 1.0000 - val_loss: 1.8929e-04 - val_acc: 1.0000\n",
      "Epoch 4/20\n",
      "16000/16000 [==============================] - 987s 62ms/step - loss: 1.8208e-04 - acc: 1.0000 - val_loss: 1.6582e-04 - val_acc: 1.0000\n",
      "Epoch 5/20\n",
      "16000/16000 [==============================] - 987s 62ms/step - loss: 1.4878e-04 - acc: 1.0000 - val_loss: 1.2427e-04 - val_acc: 1.0000\n",
      "Epoch 6/20\n",
      "16000/16000 [==============================] - 984s 62ms/step - loss: 1.2027e-04 - acc: 1.0000 - val_loss: 1.1006e-04 - val_acc: 1.0000\n",
      "Epoch 7/20\n",
      "16000/16000 [==============================] - 986s 62ms/step - loss: 1.0656e-04 - acc: 1.0000 - val_loss: 9.7664e-05 - val_acc: 1.0000\n",
      "Epoch 8/20\n",
      "16000/16000 [==============================] - 986s 62ms/step - loss: 9.4502e-05 - acc: 1.0000 - val_loss: 8.6619e-05 - val_acc: 1.0000\n",
      "Epoch 9/20\n",
      "16000/16000 [==============================] - 988s 62ms/step - loss: 8.3784e-05 - acc: 1.0000 - val_loss: 7.6805e-05 - val_acc: 1.0000\n",
      "Epoch 10/20\n",
      "16000/16000 [==============================] - 986s 62ms/step - loss: 7.4241e-05 - acc: 1.0000 - val_loss: 6.8059e-05 - val_acc: 1.0000\n",
      "Epoch 11/20\n",
      "16000/16000 [==============================] - 985s 62ms/step - loss: 6.5761e-05 - acc: 1.0000 - val_loss: 6.0249e-05 - val_acc: 1.0000\n",
      "Epoch 12/20\n",
      "16000/16000 [==============================] - 986s 62ms/step - loss: 5.8225e-05 - acc: 1.0000 - val_loss: 5.3310e-05 - val_acc: 1.0000\n",
      "Epoch 13/20\n",
      "16000/16000 [==============================] - 987s 62ms/step - loss: 5.1536e-05 - acc: 1.0000 - val_loss: 4.7148e-05 - val_acc: 1.0000\n",
      "Epoch 14/20\n",
      "16000/16000 [==============================] - 987s 62ms/step - loss: 4.5598e-05 - acc: 1.0000 - val_loss: 4.1755e-05 - val_acc: 1.0000\n",
      "Epoch 15/20\n",
      "16000/16000 [==============================] - 988s 62ms/step - loss: 4.0329e-05 - acc: 1.0000 - val_loss: 3.6935e-05 - val_acc: 1.0000\n",
      "Epoch 16/20\n",
      "16000/16000 [==============================] - 995s 62ms/step - loss: 3.5664e-05 - acc: 1.0000 - val_loss: 3.2652e-05 - val_acc: 1.0000\n",
      "Epoch 17/20\n",
      "16000/16000 [==============================] - 990s 62ms/step - loss: 3.1532e-05 - acc: 1.0000 - val_loss: 2.8855e-05 - val_acc: 1.0000\n",
      "Epoch 18/20\n",
      "16000/16000 [==============================] - 987s 62ms/step - loss: 2.7873e-05 - acc: 1.0000 - val_loss: 2.5495e-05 - val_acc: 1.0000\n",
      "Epoch 19/20\n",
      "16000/16000 [==============================] - 985s 62ms/step - loss: 2.4636e-05 - acc: 1.0000 - val_loss: 2.2533e-05 - val_acc: 1.0000\n",
      "Epoch 20/20\n",
      "16000/16000 [==============================] - 984s 62ms/step - loss: 2.1767e-05 - acc: 1.0000 - val_loss: 1.9912e-05 - val_acc: 1.0000\n",
      "original_ratio : 0.06757070749516751\n",
      "sampling_ratio : 0.06678045658203542\n",
      "Train on 16000 samples, validate on 4000 samples\n",
      "Epoch 1/20\n",
      "16000/16000 [==============================] - 985s 62ms/step - loss: 1.9242e-05 - acc: 1.0000 - val_loss: 0.0029 - val_acc: 0.9998\n",
      "Epoch 2/20\n",
      "16000/16000 [==============================] - 985s 62ms/step - loss: 1.6996e-05 - acc: 1.0000 - val_loss: 0.0029 - val_acc: 0.9998\n",
      "Epoch 3/20\n",
      "16000/16000 [==============================] - 988s 62ms/step - loss: 1.5011e-05 - acc: 1.0000 - val_loss: 0.0030 - val_acc: 0.9998\n",
      "Epoch 4/20\n",
      "16000/16000 [==============================] - 987s 62ms/step - loss: 1.3259e-05 - acc: 1.0000 - val_loss: 0.0030 - val_acc: 0.9998\n",
      "original_ratio : 0.06765143383334514\n",
      "sampling_ratio : 0.06712197204140433\n",
      "Train on 16000 samples, validate on 4000 samples\n",
      "Epoch 1/20\n",
      "16000/16000 [==============================] - 985s 62ms/step - loss: 0.0038 - acc: 0.9992 - val_loss: 7.2719e-05 - val_acc: 1.0000\n",
      "Epoch 2/20\n",
      "16000/16000 [==============================] - 987s 62ms/step - loss: 0.0016 - acc: 0.9998 - val_loss: 1.0552e-04 - val_acc: 1.0000\n",
      "Epoch 3/20\n",
      "16000/16000 [==============================] - 984s 61ms/step - loss: 0.0011 - acc: 0.9999 - val_loss: 1.5282e-05 - val_acc: 1.0000\n",
      "Epoch 4/20\n",
      "16000/16000 [==============================] - 986s 62ms/step - loss: 0.0014 - acc: 0.9999 - val_loss: 1.4909e-05 - val_acc: 1.0000\n",
      "Epoch 5/20\n",
      "16000/16000 [==============================] - 986s 62ms/step - loss: 0.0011 - acc: 0.9999 - val_loss: 1.3651e-04 - val_acc: 1.0000\n",
      "Epoch 6/20\n",
      "16000/16000 [==============================] - 988s 62ms/step - loss: 9.3819e-04 - acc: 0.9999 - val_loss: 1.2586e-04 - val_acc: 1.0000\n",
      "Epoch 7/20\n",
      "16000/16000 [==============================] - 988s 62ms/step - loss: 9.4836e-04 - acc: 0.9999 - val_loss: 1.4159e-04 - val_acc: 1.0000\n"
     ]
    }
   ],
   "source": [
    "temp_index = np.array([])\n",
    "\n",
    "for i in range(0,6):\n",
    "    \n",
    "    temp_index, vectorized_seq_sample,target_sample = sampling_feed(vectorized_seq,target,temp_index,20000)\n",
    "    X_train,X_test,y_train,y_test = train_test_split(vectorized_seq_sample, target_sample,test_size=0.2)\n",
    "    y_train = np_utils.to_categorical(y_train)\n",
    "    y_test = np_utils.to_categorical(y_test)\n",
    "    \n",
    "    GRUs_2.fit(X_train,y_train,epochs=20,batch_size = 64,validation_data = (X_test,y_test),callbacks = [early_stopping])"
   ]
  },
  {
   "cell_type": "code",
   "execution_count": 240,
   "metadata": {},
   "outputs": [
    {
     "name": "stdout",
     "output_type": "stream",
     "text": [
      "\r",
      "roc-auc: 1.0 - roc-auc_val: 1.0                                                                                                    \n"
     ]
    }
   ],
   "source": [
    "y_pred = GRUs_2.predict(X_train)\n",
    "roc = roc_auc_score(y_train, y_pred)\n",
    "y_pred_val = GRUs_2.predict(X_test)\n",
    "roc_val = roc_auc_score(y_test, y_pred_val)\n",
    "print('\\rroc-auc: %s - roc-auc_val: %s' % (str(round(roc,4)),str(round(roc_val,4))),end=100*' '+'\\n')"
   ]
  },
  {
   "cell_type": "markdown",
   "metadata": {},
   "source": [
    "3. cnn-LSTM 모델"
   ]
  },
  {
   "cell_type": "code",
   "execution_count": 262,
   "metadata": {
    "scrolled": false
   },
   "outputs": [
    {
     "name": "stdout",
     "output_type": "stream",
     "text": [
      "original_ratio : 0.06822347819445505\n",
      "sampling_ratio : 0.06877571741570032\n",
      "Train on 16000 samples, validate on 4000 samples\n",
      "Epoch 1/20\n",
      "16000/16000 [==============================] - 262s 16ms/step - loss: 5.2588e-04 - acc: 0.9999 - val_loss: 0.0031 - val_acc: 0.9995\n",
      "Epoch 2/20\n",
      "16000/16000 [==============================] - 263s 16ms/step - loss: 5.2551e-06 - acc: 1.0000 - val_loss: 0.0031 - val_acc: 0.9995\n",
      "Epoch 3/20\n",
      "16000/16000 [==============================] - 265s 17ms/step - loss: 2.4105e-06 - acc: 1.0000 - val_loss: 0.0032 - val_acc: 0.9995\n",
      "Epoch 4/20\n",
      "16000/16000 [==============================] - 265s 17ms/step - loss: 1.6479e-06 - acc: 1.0000 - val_loss: 0.0033 - val_acc: 0.9992\n",
      "original_ratio : 0.06791645622270417\n",
      "sampling_ratio : 0.0672358591248666\n",
      "Train on 16000 samples, validate on 4000 samples\n",
      "Epoch 1/20\n",
      "16000/16000 [==============================] - 263s 16ms/step - loss: 0.0035 - acc: 0.9992 - val_loss: 1.1269e-04 - val_acc: 1.0000\n",
      "Epoch 2/20\n",
      "16000/16000 [==============================] - 260s 16ms/step - loss: 7.8570e-04 - acc: 0.9998 - val_loss: 1.5062e-04 - val_acc: 1.0000\n",
      "Epoch 3/20\n",
      "16000/16000 [==============================] - 264s 17ms/step - loss: 4.6697e-04 - acc: 0.9999 - val_loss: 6.7838e-05 - val_acc: 1.0000\n",
      "Epoch 4/20\n",
      "16000/16000 [==============================] - 266s 17ms/step - loss: 4.2179e-04 - acc: 0.9999 - val_loss: 5.2645e-05 - val_acc: 1.0000\n",
      "Epoch 5/20\n",
      "16000/16000 [==============================] - 266s 17ms/step - loss: 4.7852e-04 - acc: 0.9999 - val_loss: 6.0145e-05 - val_acc: 1.0000\n",
      "Epoch 6/20\n",
      "16000/16000 [==============================] - 262s 16ms/step - loss: 4.2353e-04 - acc: 0.9999 - val_loss: 3.9168e-05 - val_acc: 1.0000\n",
      "Epoch 7/20\n",
      "16000/16000 [==============================] - 267s 17ms/step - loss: 4.4491e-04 - acc: 0.9999 - val_loss: 5.2645e-05 - val_acc: 1.0000\n",
      "Epoch 8/20\n",
      "16000/16000 [==============================] - 267s 17ms/step - loss: 4.1704e-04 - acc: 0.9999 - val_loss: 1.0323e-04 - val_acc: 1.0000\n",
      "Epoch 9/20\n",
      "16000/16000 [==============================] - 267s 17ms/step - loss: 4.2479e-04 - acc: 0.9999 - val_loss: 8.2539e-05 - val_acc: 1.0000\n"
     ]
    },
    {
     "ename": "ValueError",
     "evalue": "Cannot take a larger sample than population when 'replace=False'",
     "output_type": "error",
     "traceback": [
      "\u001b[1;31m---------------------------------------------------------------------------\u001b[0m",
      "\u001b[1;31mValueError\u001b[0m                                Traceback (most recent call last)",
      "\u001b[1;32m<ipython-input-262-8286cd4fc5c6>\u001b[0m in \u001b[0;36m<module>\u001b[1;34m()\u001b[0m\n\u001b[0;32m      3\u001b[0m \u001b[1;32mfor\u001b[0m \u001b[0mi\u001b[0m \u001b[1;32min\u001b[0m \u001b[0mrange\u001b[0m\u001b[1;33m(\u001b[0m\u001b[1;36m0\u001b[0m\u001b[1;33m,\u001b[0m\u001b[1;36m6\u001b[0m\u001b[1;33m)\u001b[0m\u001b[1;33m:\u001b[0m\u001b[1;33m\u001b[0m\u001b[0m\n\u001b[0;32m      4\u001b[0m \u001b[1;33m\u001b[0m\u001b[0m\n\u001b[1;32m----> 5\u001b[1;33m     \u001b[0mtemp_index\u001b[0m\u001b[1;33m,\u001b[0m \u001b[0mvectorized_seq_sample\u001b[0m\u001b[1;33m,\u001b[0m\u001b[0mtarget_sample\u001b[0m \u001b[1;33m=\u001b[0m \u001b[0msampling_feed\u001b[0m\u001b[1;33m(\u001b[0m\u001b[0mvectorized_seq\u001b[0m\u001b[1;33m,\u001b[0m\u001b[0mtarget\u001b[0m\u001b[1;33m,\u001b[0m\u001b[0mtemp_index\u001b[0m\u001b[1;33m,\u001b[0m\u001b[1;36m20000\u001b[0m\u001b[1;33m)\u001b[0m\u001b[1;33m\u001b[0m\u001b[0m\n\u001b[0m\u001b[0;32m      6\u001b[0m     \u001b[0mX_train\u001b[0m\u001b[1;33m,\u001b[0m\u001b[0mX_test\u001b[0m\u001b[1;33m,\u001b[0m\u001b[0my_train\u001b[0m\u001b[1;33m,\u001b[0m\u001b[0my_test\u001b[0m \u001b[1;33m=\u001b[0m \u001b[0mtrain_test_split\u001b[0m\u001b[1;33m(\u001b[0m\u001b[0mvectorized_seq_sample\u001b[0m\u001b[1;33m,\u001b[0m \u001b[0mtarget_sample\u001b[0m\u001b[1;33m,\u001b[0m\u001b[0mtest_size\u001b[0m\u001b[1;33m=\u001b[0m\u001b[1;36m0.2\u001b[0m\u001b[1;33m)\u001b[0m\u001b[1;33m\u001b[0m\u001b[0m\n\u001b[0;32m      7\u001b[0m     \u001b[0my_train\u001b[0m \u001b[1;33m=\u001b[0m \u001b[0mnp_utils\u001b[0m\u001b[1;33m.\u001b[0m\u001b[0mto_categorical\u001b[0m\u001b[1;33m(\u001b[0m\u001b[0my_train\u001b[0m\u001b[1;33m)\u001b[0m\u001b[1;33m\u001b[0m\u001b[0m\n",
      "\u001b[1;32m<ipython-input-218-c3efb2722631>\u001b[0m in \u001b[0;36msampling_feed\u001b[1;34m(vectorized_seq, target, temp_index, sam_num)\u001b[0m\n\u001b[0;32m      3\u001b[0m     \u001b[0mtemp\u001b[0m \u001b[1;33m=\u001b[0m \u001b[0mpd\u001b[0m\u001b[1;33m.\u001b[0m\u001b[0mconcat\u001b[0m\u001b[1;33m(\u001b[0m\u001b[1;33m[\u001b[0m\u001b[0mDataFrame\u001b[0m\u001b[1;33m(\u001b[0m\u001b[0mvectorized_seq\u001b[0m\u001b[1;33m)\u001b[0m\u001b[1;33m,\u001b[0m\u001b[0mtarget\u001b[0m\u001b[1;33m]\u001b[0m\u001b[1;33m,\u001b[0m\u001b[0maxis\u001b[0m\u001b[1;33m=\u001b[0m\u001b[1;36m1\u001b[0m\u001b[1;33m)\u001b[0m\u001b[1;33m\u001b[0m\u001b[0m\n\u001b[0;32m      4\u001b[0m     \u001b[0mtemp\u001b[0m \u001b[1;33m=\u001b[0m \u001b[0mtemp\u001b[0m\u001b[1;33m.\u001b[0m\u001b[0mloc\u001b[0m\u001b[1;33m[\u001b[0m\u001b[0mtemp\u001b[0m\u001b[1;33m.\u001b[0m\u001b[0mindex\u001b[0m\u001b[1;33m.\u001b[0m\u001b[0mdifference\u001b[0m\u001b[1;33m(\u001b[0m\u001b[0mtemp_index\u001b[0m\u001b[1;33m)\u001b[0m\u001b[1;33m,\u001b[0m\u001b[1;33m:\u001b[0m\u001b[1;33m]\u001b[0m\u001b[1;33m\u001b[0m\u001b[0m\n\u001b[1;32m----> 5\u001b[1;33m     \u001b[0mtemp_sampling\u001b[0m \u001b[1;33m=\u001b[0m \u001b[0mtemp\u001b[0m\u001b[1;33m.\u001b[0m\u001b[0msample\u001b[0m\u001b[1;33m(\u001b[0m\u001b[0msam_num\u001b[0m\u001b[1;33m)\u001b[0m\u001b[1;33m\u001b[0m\u001b[0m\n\u001b[0m\u001b[0;32m      6\u001b[0m \u001b[1;33m\u001b[0m\u001b[0m\n\u001b[0;32m      7\u001b[0m     \u001b[0mprint\u001b[0m\u001b[1;33m(\u001b[0m\u001b[1;34m\"original_ratio :\"\u001b[0m\u001b[1;33m,\u001b[0m\u001b[0mlen\u001b[0m\u001b[1;33m(\u001b[0m\u001b[0mtemp\u001b[0m\u001b[1;33m[\u001b[0m\u001b[0mtemp\u001b[0m\u001b[1;33m[\u001b[0m\u001b[1;34m\"smishing\"\u001b[0m\u001b[1;33m]\u001b[0m \u001b[1;33m==\u001b[0m \u001b[1;36m1\u001b[0m\u001b[1;33m]\u001b[0m\u001b[1;33m)\u001b[0m\u001b[1;33m/\u001b[0m\u001b[0mlen\u001b[0m\u001b[1;33m(\u001b[0m\u001b[0mtemp\u001b[0m\u001b[1;33m[\u001b[0m\u001b[0mtemp\u001b[0m\u001b[1;33m[\u001b[0m\u001b[1;34m\"smishing\"\u001b[0m\u001b[1;33m]\u001b[0m \u001b[1;33m==\u001b[0m \u001b[1;36m0\u001b[0m\u001b[1;33m]\u001b[0m\u001b[1;33m)\u001b[0m\u001b[1;33m)\u001b[0m\u001b[1;33m\u001b[0m\u001b[0m\n",
      "\u001b[1;32mC:\\Users\\User\\AppData\\Roaming\\Python\\Python36\\site-packages\\pandas\\core\\generic.py\u001b[0m in \u001b[0;36msample\u001b[1;34m(self, n, frac, replace, weights, random_state, axis)\u001b[0m\n\u001b[0;32m   4863\u001b[0m                              \"provide positive value.\")\n\u001b[0;32m   4864\u001b[0m \u001b[1;33m\u001b[0m\u001b[0m\n\u001b[1;32m-> 4865\u001b[1;33m         \u001b[0mlocs\u001b[0m \u001b[1;33m=\u001b[0m \u001b[0mrs\u001b[0m\u001b[1;33m.\u001b[0m\u001b[0mchoice\u001b[0m\u001b[1;33m(\u001b[0m\u001b[0maxis_length\u001b[0m\u001b[1;33m,\u001b[0m \u001b[0msize\u001b[0m\u001b[1;33m=\u001b[0m\u001b[0mn\u001b[0m\u001b[1;33m,\u001b[0m \u001b[0mreplace\u001b[0m\u001b[1;33m=\u001b[0m\u001b[0mreplace\u001b[0m\u001b[1;33m,\u001b[0m \u001b[0mp\u001b[0m\u001b[1;33m=\u001b[0m\u001b[0mweights\u001b[0m\u001b[1;33m)\u001b[0m\u001b[1;33m\u001b[0m\u001b[0m\n\u001b[0m\u001b[0;32m   4866\u001b[0m         \u001b[1;32mreturn\u001b[0m \u001b[0mself\u001b[0m\u001b[1;33m.\u001b[0m\u001b[0mtake\u001b[0m\u001b[1;33m(\u001b[0m\u001b[0mlocs\u001b[0m\u001b[1;33m,\u001b[0m \u001b[0maxis\u001b[0m\u001b[1;33m=\u001b[0m\u001b[0maxis\u001b[0m\u001b[1;33m,\u001b[0m \u001b[0mis_copy\u001b[0m\u001b[1;33m=\u001b[0m\u001b[1;32mFalse\u001b[0m\u001b[1;33m)\u001b[0m\u001b[1;33m\u001b[0m\u001b[0m\n\u001b[0;32m   4867\u001b[0m \u001b[1;33m\u001b[0m\u001b[0m\n",
      "\u001b[1;32mmtrand.pyx\u001b[0m in \u001b[0;36mmtrand.RandomState.choice\u001b[1;34m()\u001b[0m\n",
      "\u001b[1;31mValueError\u001b[0m: Cannot take a larger sample than population when 'replace=False'"
     ]
    }
   ],
   "source": [
    "temp_index = np.array([])\n",
    "\n",
    "for i in range(0,6):\n",
    "    \n",
    "    temp_index, vectorized_seq_sample,target_sample = sampling_feed(vectorized_seq,target,temp_index,20000)\n",
    "    X_train,X_test,y_train,y_test = train_test_split(vectorized_seq_sample, target_sample,test_size=0.2)\n",
    "    y_train = np_utils.to_categorical(y_train)\n",
    "    y_test = np_utils.to_categorical(y_test)\n",
    "\n",
    "    cnn_lstm.fit(X_train,y_train,epochs=20,batch_size=64,validation_data=(X_test,y_test),callbacks=[early_stopping])"
   ]
  },
  {
   "cell_type": "code",
   "execution_count": 115,
   "metadata": {},
   "outputs": [
    {
     "name": "stdout",
     "output_type": "stream",
     "text": [
      "Train on 221958 samples, validate on 73987 samples\n",
      "Epoch 1/10\n",
      "221958/221958 [==============================] - 1409s 6ms/step - loss: 5.0465e-04 - acc: 0.9999 - val_loss: 0.0010 - val_acc: 0.9999\n",
      "Epoch 2/10\n",
      "221958/221958 [==============================] - 1406s 6ms/step - loss: 2.5936e-04 - acc: 1.0000 - val_loss: 0.0012 - val_acc: 0.9999\n",
      "Epoch 3/10\n",
      "221958/221958 [==============================] - 1420s 6ms/step - loss: 2.6522e-04 - acc: 1.0000 - val_loss: 0.0025 - val_acc: 0.9995\n",
      "Epoch 4/10\n",
      "221958/221958 [==============================] - 1418s 6ms/step - loss: 2.6839e-04 - acc: 1.0000 - val_loss: 0.0014 - val_acc: 0.9999\n"
     ]
    },
    {
     "data": {
      "text/plain": [
       "<keras.callbacks.History at 0x1b59cd39080>"
      ]
     },
     "execution_count": 115,
     "metadata": {},
     "output_type": "execute_result"
    }
   ],
   "source": [
    "model.fit(X_train,y_train,epochs=10,batch_size=64,validation_data=(X_test,y_test),callbacks=[early_stopping])"
   ]
  },
  {
   "cell_type": "code",
   "execution_count": 121,
   "metadata": {},
   "outputs": [
    {
     "name": "stdout",
     "output_type": "stream",
     "text": [
      "\r",
      "roc-auc: 1.0 - roc-auc_val: 0.9998                                                                                                    \n"
     ]
    }
   ],
   "source": [
    "y_pred = model.predict(X_train)\n",
    "roc = roc_auc_score(y_train, y_pred)\n",
    "y_pred_val = model.predict(X_test)\n",
    "roc_val = roc_auc_score(y_test, y_pred_val)\n",
    "print('\\rroc-auc: %s - roc-auc_val: %s' % (str(round(roc,4)),str(round(roc_val,4))),end=100*' '+'\\n')"
   ]
  },
  {
   "cell_type": "markdown",
   "metadata": {},
   "source": [
    "# Submission"
   ]
  },
  {
   "cell_type": "code",
   "execution_count": 68,
   "metadata": {},
   "outputs": [],
   "source": [
    "validation = pd.read_csv(\"public_test.csv\")"
   ]
  },
  {
   "cell_type": "code",
   "execution_count": 69,
   "metadata": {},
   "outputs": [],
   "source": [
    "text_val = validation[\"text\"]"
   ]
  },
  {
   "cell_type": "code",
   "execution_count": 70,
   "metadata": {},
   "outputs": [],
   "source": [
    "length = DataFrame()\n",
    "\n",
    "for i,j in enumerate(text_val):\n",
    "    good = DataFrame([len(j)],index=[i])\n",
    "    length = pd.concat([length,good],axis=0)"
   ]
  },
  {
   "cell_type": "code",
   "execution_count": 71,
   "metadata": {},
   "outputs": [
    {
     "data": {
      "text/html": [
       "<div>\n",
       "<style scoped>\n",
       "    .dataframe tbody tr th:only-of-type {\n",
       "        vertical-align: middle;\n",
       "    }\n",
       "\n",
       "    .dataframe tbody tr th {\n",
       "        vertical-align: top;\n",
       "    }\n",
       "\n",
       "    .dataframe thead th {\n",
       "        text-align: right;\n",
       "    }\n",
       "</style>\n",
       "<table border=\"1\" class=\"dataframe\">\n",
       "  <thead>\n",
       "    <tr style=\"text-align: right;\">\n",
       "      <th></th>\n",
       "      <th>0</th>\n",
       "    </tr>\n",
       "  </thead>\n",
       "  <tbody>\n",
       "    <tr>\n",
       "      <th>count</th>\n",
       "      <td>1626.000000</td>\n",
       "    </tr>\n",
       "    <tr>\n",
       "      <th>mean</th>\n",
       "      <td>320.535670</td>\n",
       "    </tr>\n",
       "    <tr>\n",
       "      <th>std</th>\n",
       "      <td>251.631687</td>\n",
       "    </tr>\n",
       "    <tr>\n",
       "      <th>min</th>\n",
       "      <td>4.000000</td>\n",
       "    </tr>\n",
       "    <tr>\n",
       "      <th>25%</th>\n",
       "      <td>130.250000</td>\n",
       "    </tr>\n",
       "    <tr>\n",
       "      <th>50%</th>\n",
       "      <td>230.500000</td>\n",
       "    </tr>\n",
       "    <tr>\n",
       "      <th>75%</th>\n",
       "      <td>443.750000</td>\n",
       "    </tr>\n",
       "    <tr>\n",
       "      <th>max</th>\n",
       "      <td>1155.000000</td>\n",
       "    </tr>\n",
       "  </tbody>\n",
       "</table>\n",
       "</div>"
      ],
      "text/plain": [
       "                 0\n",
       "count  1626.000000\n",
       "mean    320.535670\n",
       "std     251.631687\n",
       "min       4.000000\n",
       "25%     130.250000\n",
       "50%     230.500000\n",
       "75%     443.750000\n",
       "max    1155.000000"
      ]
     },
     "execution_count": 71,
     "metadata": {},
     "output_type": "execute_result"
    }
   ],
   "source": [
    "length.describe()"
   ]
  },
  {
   "cell_type": "code",
   "execution_count": 72,
   "metadata": {},
   "outputs": [
    {
     "data": {
      "image/png": "[encoded data removed]",
      "text/plain": [
       "<Figure size 432x288 with 1 Axes>"
      ]
     },
     "metadata": {},
     "output_type": "display_data"
    }
   ],
   "source": [
    "plt.hist(length[0],bins=100)\n",
    "plt.show()"
   ]
  },
  {
   "cell_type": "code",
   "execution_count": 73,
   "metadata": {},
   "outputs": [],
   "source": [
    "## 다시 형태소 분석기를 돌려서, text의 문장을 형태소로 분해하여 morphs에 담는다.\n",
    "## 시간이 오래 걸립니다. 5분정도\n",
    "\n",
    "morphs_val = list()\n",
    "\n",
    "for i in text_val:\n",
    "    morphs_val.append(Kom.nouns(i))"
   ]
  },
  {
   "cell_type": "code",
   "execution_count": 77,
   "metadata": {},
   "outputs": [],
   "source": [
    "#색인사전을 검색해 토큰화한 파일을 숫자로 바꾸어준다.\n",
    "\n",
    "morphsVectored_val = list()\n",
    "\n",
    "for i in morphs_val:\n",
    "    temporailyList = list()\n",
    "    for k in i:\n",
    "        #print(k)\n",
    "        try:\n",
    "            temporailyList.append(vocabulary[k])\n",
    "        except KeyError:\n",
    "            temporailyList.append(0)\n",
    "    morphsVectored_val.append(temporailyList)"
   ]
  },
  {
   "cell_type": "code",
   "execution_count": 78,
   "metadata": {},
   "outputs": [],
   "source": [
    "vectorized_seq_val = sequence.pad_sequences(morphsVectored_val,maxlen = 650)"
   ]
  },
  {
   "cell_type": "code",
   "execution_count": 80,
   "metadata": {},
   "outputs": [],
   "source": [
    "val_predict = tfbs.predict(vectorized_seq_val)"
   ]
  },
  {
   "cell_type": "code",
   "execution_count": 84,
   "metadata": {},
   "outputs": [],
   "source": [
    "submission = pd.concat([validation[\"id\"],DataFrame(val_predict[0],columns=[0,\"smishing\"])[\"smishing\"]],axis=1)"
   ]
  },
  {
   "cell_type": "code",
   "execution_count": 85,
   "metadata": {},
   "outputs": [],
   "source": [
    "submission.to_csv(\"submission.csv\",encoding=\"utf-8\",index=False)"
   ]
  }
 ],
 "metadata": {
  "kernelspec": {
   "display_name": "tensor36",
   "language": "python",
   "name": "tensorflow36"
  },
  "language_info": {
   "codemirror_mode": {
    "name": "ipython",
    "version": 3
   },
   "file_extension": ".py",
   "mimetype": "text/x-python",
   "name": "python",
   "nbconvert_exporter": "python",
   "pygments_lexer": "ipython3",
   "version": "3.6.5"
  }
 },
 "nbformat": 4,
 "nbformat_minor": 2
}
