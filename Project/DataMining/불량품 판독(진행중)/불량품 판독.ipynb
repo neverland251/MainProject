{
 "cells": [
  {
   "cell_type": "code",
   "execution_count": 2,
   "metadata": {},
   "outputs": [
    {
     "name": "stderr",
     "output_type": "stream",
     "text": [
      "C:\\Users\\never\\Anaconda3\\envs\\tensorflow35\\lib\\site-packages\\h5py\\__init__.py:36: FutureWarning: Conversion of the second argument of issubdtype from `float` to `np.floating` is deprecated. In future, it will be treated as `np.float64 == np.dtype(float).type`.\n",
      "  from ._conv import register_converters as _register_converters\n",
      "Using TensorFlow backend.\n"
     ]
    }
   ],
   "source": [
    "import numpy as np\n",
    "import pandas as pd\n",
    "from pandas import DataFrame,Series\n",
    "\n",
    "from keras import models\n",
    "from keras.models import Sequential\n",
    "from keras.models import Model\n",
    "from keras.models import load_model\n",
    "from keras import backend as K\n",
    "\n",
    "from keras import layers\n",
    "from keras.layers import Layer\n",
    "from keras.layers import Input,Dense,Flatten,Embedding,Permute,Dot,Reshape\n",
    "from keras.layers.convolutional import Conv1D,MaxPooling1D,MaxPooling2D\n",
    "from keras.layers import Dropout\n",
    "from keras.layers import LSTM,GRU\n",
    "\n",
    "from IPython.display import SVG\n",
    "from keras.utils.vis_utils import model_to_dot\n",
    "\n",
    "from keras.preprocessing import sequence\n",
    "from keras.utils import np_utils\n",
    "\n",
    "import tensorflow as tf\n",
    "\n",
    "from sklearn.model_selection import train_test_split\n",
    "from sklearn.feature_extraction.text import CountVectorizer\n",
    "\n",
    "import cv2\n",
    "\n",
    "import os"
   ]
  },
  {
   "cell_type": "markdown",
   "metadata": {},
   "source": [
    "## 데이터셋 로드"
   ]
  },
  {
   "cell_type": "code",
   "execution_count": 5,
   "metadata": {},
   "outputs": [],
   "source": [
    "answer = pd.read_csv(\".\\\\train.csv\",engine=\"python\",encoding = \"utf-8\")"
   ]
  },
  {
   "cell_type": "code",
   "execution_count": 29,
   "metadata": {},
   "outputs": [],
   "source": [
    "df = DataFrame()\n",
    "\n",
    "df[\"ImageID\"] = answer[\"ImageId_ClassId\"].apply(lambda x : x.split(\"_\")[0])\n",
    "df[\"ClassID\"] = answer[\"ImageId_ClassId\"].apply(lambda x : x.split(\"_\")[1])\n",
    "df[\"EncodedPixels\"] = answer[\"EncodedPixels\"]\n",
    "df['ClassId_EncodedPixels'] = df.apply(lambda row: (row['ClassID'], row['EncodedPixels']), axis = 1)\n",
    "del df[\"EncodedPixels\"]"
   ]
  },
  {
   "cell_type": "code",
   "execution_count": 31,
   "metadata": {},
   "outputs": [],
   "source": [
    "grouped_EncodedPixels = df.groupby('ImageID')['ClassId_EncodedPixels'].apply(list)"
   ]
  },
  {
   "cell_type": "code",
   "execution_count": 32,
   "metadata": {},
   "outputs": [
    {
     "data": {
      "text/plain": [
       "ImageID\n",
       "0002cc93b.jpg    [(1, 29102 12 29346 24 29602 24 29858 24 30114...\n",
       "00031f466.jpg             [(1, nan), (2, nan), (3, nan), (4, nan)]\n",
       "000418bfc.jpg             [(1, nan), (2, nan), (3, nan), (4, nan)]\n",
       "000789191.jpg             [(1, nan), (2, nan), (3, nan), (4, nan)]\n",
       "0007a71bf.jpg    [(1, nan), (2, nan), (3, 18661 28 18863 82 190...\n",
       "000a4bcdd.jpg    [(1, 37607 3 37858 8 38108 14 38359 20 38610 2...\n",
       "000f6bf48.jpg    [(1, nan), (2, nan), (3, nan), (4, 131973 1 13...\n",
       "0014fce06.jpg    [(1, nan), (2, nan), (3, 229501 11 229741 33 2...\n",
       "001982b08.jpg             [(1, nan), (2, nan), (3, nan), (4, nan)]\n",
       "001d1b355.jpg             [(1, nan), (2, nan), (3, nan), (4, nan)]\n",
       "001d3d093.jpg             [(1, nan), (2, nan), (3, nan), (4, nan)]\n",
       "0025bde0c.jpg    [(1, nan), (2, nan), (3, 8458 14 8707 35 8963 ...\n",
       "002af848d.jpg    [(1, nan), (2, nan), (3, nan), (4, 290800 6 29...\n",
       "002e73b3c.jpg             [(1, nan), (2, nan), (3, nan), (4, nan)]\n",
       "002fc4e19.jpg    [(1, 146021 3 146275 10 146529 40 146783 46 14...\n",
       "0030401a5.jpg    [(1, nan), (2, nan), (3, nan), (4, 186833 1 18...\n",
       "003ac9d2a.jpg             [(1, nan), (2, nan), (3, nan), (4, nan)]\n",
       "0046839bd.jpg    [(1, nan), (2, nan), (3, 152926 1 153180 4 153...\n",
       "005b92582.jpg             [(1, nan), (2, nan), (3, nan), (4, nan)]\n",
       "005d86c25.jpg    [(1, nan), (2, nan), (3, 331 18 587 53 843 89 ...\n",
       "005da33cf.jpg             [(1, nan), (2, nan), (3, nan), (4, nan)]\n",
       "005dbf0e0.jpg             [(1, nan), (2, nan), (3, nan), (4, nan)]\n",
       "005f02e20.jpg    [(1, nan), (2, nan), (3, 318652 8 318863 6 318...\n",
       "005f19695.jpg    [(1, nan), (2, nan), (3, 123137 7 123393 19 12...\n",
       "006a4402e.jpg             [(1, nan), (2, nan), (3, nan), (4, nan)]\n",
       "0074d81d0.jpg             [(1, nan), (2, nan), (3, nan), (4, nan)]\n",
       "00762aa3b.jpg             [(1, nan), (2, nan), (3, nan), (4, nan)]\n",
       "007f28bba.jpg             [(1, nan), (2, nan), (3, nan), (4, nan)]\n",
       "008479d08.jpg             [(1, nan), (2, nan), (3, nan), (4, nan)]\n",
       "008621629.jpg    [(1, nan), (2, nan), (3, nan), (4, 215548 3 21...\n",
       "                                       ...                        \n",
       "ff5483763.jpg    [(1, nan), (2, nan), (3, 168785 7 169034 20 16...\n",
       "ff5590fbe.jpg    [(1, nan), (2, nan), (3, 303983 9 304217 4 304...\n",
       "ff5c7f868.jpg    [(1, nan), (2, nan), (3, 109602 1 109858 1 110...\n",
       "ff6bfada2.jpg    [(1, nan), (2, nan), (3, 123261 10 123507 28 1...\n",
       "ff6cc90ca.jpg    [(1, nan), (2, nan), (3, 270550 43 270722 127 ...\n",
       "ff6e35e0a.jpg    [(1, 366059 22 366273 64 366487 106 366700 149...\n",
       "ff6ec63cf.jpg             [(1, nan), (2, nan), (3, nan), (4, nan)]\n",
       "ff6f1a404.jpg             [(1, nan), (2, nan), (3, nan), (4, nan)]\n",
       "ff73c8e76.jpg             [(1, nan), (2, nan), (3, nan), (4, nan)]\n",
       "ff882d69e.jpg             [(1, nan), (2, nan), (3, nan), (4, nan)]\n",
       "ff8c44174.jpg             [(1, nan), (2, nan), (3, nan), (4, nan)]\n",
       "ff933e271.jpg    [(1, nan), (2, nan), (3, 149505 32 149761 96 1...\n",
       "ff96da52e.jpg             [(1, nan), (2, nan), (3, nan), (4, nan)]\n",
       "ff96dfa95.jpg    [(1, nan), (2, nan), (3, 37377 128 37633 3840 ...\n",
       "ff9923932.jpg    [(1, nan), (2, nan), (3, 352770 158 353026 180...\n",
       "ff9d46e95.jpg    [(1, nan), (2, nan), (3, nan), (4, 326401 4 32...\n",
       "ffa55c731.jpg             [(1, nan), (2, nan), (3, nan), (4, nan)]\n",
       "ffa8210a1.jpg             [(1, nan), (2, nan), (3, nan), (4, nan)]\n",
       "ffaa05016.jpg             [(1, nan), (2, nan), (3, nan), (4, nan)]\n",
       "ffb48ee43.jpg    [(1, nan), (2, nan), (3, 38657 43 38913 128 39...\n",
       "ffbd081d5.jpg    [(1, nan), (2, nan), (3, 280587 11 280841 33 2...\n",
       "ffc9fdf70.jpg    [(1, nan), (2, nan), (3, 306787 4 307025 2 307...\n",
       "ffcf72ecf.jpg    [(1, nan), (2, nan), (3, 121911 34 122167 101 ...\n",
       "ffd0223a7.jpg             [(1, nan), (2, nan), (3, nan), (4, nan)]\n",
       "ffe93442c.jpg             [(1, nan), (2, nan), (3, nan), (4, nan)]\n",
       "fff0295e1.jpg             [(1, nan), (2, nan), (3, nan), (4, nan)]\n",
       "fff02e9c5.jpg    [(1, nan), (2, nan), (3, 207523 3 207777 9 208...\n",
       "fffe98443.jpg    [(1, nan), (2, nan), (3, 105929 5 106177 14 10...\n",
       "ffff4eaa8.jpg    [(1, nan), (2, nan), (3, 16899 7 17155 20 1741...\n",
       "ffffd67df.jpg    [(1, nan), (2, nan), (3, 30931 43 31103 127 31...\n",
       "Name: ClassId_EncodedPixels, Length: 12568, dtype: object"
      ]
     },
     "execution_count": 32,
     "metadata": {},
     "output_type": "execute_result"
    }
   ],
   "source": [
    "grouped_EncodedPixels"
   ]
  },
  {
   "cell_type": "code",
   "execution_count": 85,
   "metadata": {},
   "outputs": [],
   "source": [
    "file_path = \".\\\\train\"\n",
    "train_list = os.listdir(file_path)"
   ]
  },
  {
   "cell_type": "code",
   "execution_count": 86,
   "metadata": {},
   "outputs": [],
   "source": [
    "img = cv2.imread(file_path +'\\\\'+ train_list[1],0)"
   ]
  },
  {
   "cell_type": "code",
   "execution_count": 9,
   "metadata": {},
   "outputs": [
    {
     "ename": "AttributeError",
     "evalue": "'NoneType' object has no attribute 'copy'",
     "output_type": "error",
     "traceback": [
      "\u001b[1;31m---------------------------------------------------------------------------\u001b[0m",
      "\u001b[1;31mAttributeError\u001b[0m                            Traceback (most recent call last)",
      "\u001b[1;32m<ipython-input-9-674832c001df>\u001b[0m in \u001b[0;36m<module>\u001b[1;34m\u001b[0m\n\u001b[0;32m      3\u001b[0m \u001b[1;32mfor\u001b[0m \u001b[0mi\u001b[0m \u001b[1;32min\u001b[0m \u001b[0mtrain_list\u001b[0m\u001b[1;33m[\u001b[0m\u001b[1;36m1\u001b[0m\u001b[1;33m:\u001b[0m\u001b[1;33m]\u001b[0m\u001b[1;33m:\u001b[0m\u001b[1;33m\u001b[0m\u001b[0m\n\u001b[0;32m      4\u001b[0m     \u001b[0mtemp\u001b[0m \u001b[1;33m=\u001b[0m \u001b[0mcv2\u001b[0m\u001b[1;33m.\u001b[0m\u001b[0mimread\u001b[0m\u001b[1;33m(\u001b[0m\u001b[0mfile_path\u001b[0m \u001b[1;33m+\u001b[0m \u001b[1;34m\"\\\\\"\u001b[0m \u001b[1;33m+\u001b[0m \u001b[0mi\u001b[0m\u001b[1;33m,\u001b[0m\u001b[1;36m0\u001b[0m\u001b[1;33m)\u001b[0m\u001b[1;33m\u001b[0m\u001b[0m\n\u001b[1;32m----> 5\u001b[1;33m     \u001b[0mtotal_set\u001b[0m\u001b[1;33m[\u001b[0m\u001b[0mi\u001b[0m\u001b[1;33m]\u001b[0m \u001b[1;33m=\u001b[0m \u001b[0mtemp\u001b[0m\u001b[1;33m.\u001b[0m\u001b[0mcopy\u001b[0m\u001b[1;33m(\u001b[0m\u001b[1;33m)\u001b[0m\u001b[1;33m\u001b[0m\u001b[0m\n\u001b[0m",
      "\u001b[1;31mAttributeError\u001b[0m: 'NoneType' object has no attribute 'copy'"
     ]
    }
   ],
   "source": [
    "total_set = dict()\n",
    "\n",
    "for i in train_list[1:]:\n",
    "    temp = cv2.imread(file_path + \"\\\\\" + i,0)\n",
    "    total_set[i] = temp.copy()"
   ]
  },
  {
   "cell_type": "code",
   "execution_count": 110,
   "metadata": {},
   "outputs": [
    {
     "data": {
      "text/plain": [
       "(256, 1600)"
      ]
     },
     "execution_count": 110,
     "metadata": {},
     "output_type": "execute_result"
    }
   ],
   "source": [
    "np.shape(total_set[list(total_set.keys())[1]])"
   ]
  },
  {
   "cell_type": "markdown",
   "metadata": {},
   "source": [
    "## 단순 컨볼루션"
   ]
  },
  {
   "cell_type": "code",
   "execution_count": 164,
   "metadata": {
    "scrolled": false
   },
   "outputs": [],
   "source": [
    "inputs = layers.Input(shape=(1,256,1600),name = \"Feed_Sentence\")\n",
    "\n",
    "conv_1 = layers.Conv2D(256,(3,3),padding=\"valid\",activation = \"relu\",data_format = \"channels_first\")(inputs)\n",
    "conv_1 = layers.Conv2D(256,(3,3),padding=\"valid\",activation = \"relu\",data_format = \"channels_first\")(conv_1)\n",
    "\n",
    "MaxPooling_layer = layers.MaxPooling2D((2,2))(conv_1)\n",
    "Flatten_layer = layers.Flatten()(MaxPooling_layer)\n",
    "\n",
    "outputs = layers.Dense(8,activation = \"relu\")(Flatten_layer)\n",
    "\n",
    "models = Model(inputs = inputs,outputs = outputs)"
   ]
  },
  {
   "cell_type": "code",
   "execution_count": 165,
   "metadata": {},
   "outputs": [
    {
     "name": "stdout",
     "output_type": "stream",
     "text": [
      "_________________________________________________________________\n",
      "Layer (type)                 Output Shape              Param #   \n",
      "=================================================================\n",
      "Feed_Sentence (InputLayer)   (None, 1, 256, 1600)      0         \n",
      "_________________________________________________________________\n",
      "conv2d_38 (Conv2D)           (None, 256, 254, 1598)    2560      \n",
      "_________________________________________________________________\n",
      "conv2d_39 (Conv2D)           (None, 256, 252, 1596)    590080    \n",
      "_________________________________________________________________\n",
      "max_pooling2d_2 (MaxPooling2 (None, 128, 126, 1596)    0         \n",
      "_________________________________________________________________\n",
      "flatten_1 (Flatten)          (None, 25740288)          0         \n",
      "_________________________________________________________________\n",
      "dense_1 (Dense)              (None, 8)                 205922312 \n",
      "=================================================================\n",
      "Total params: 206,514,952\n",
      "Trainable params: 206,514,952\n",
      "Non-trainable params: 0\n",
      "_________________________________________________________________\n"
     ]
    }
   ],
   "source": [
    "models.summary()"
   ]
  },
  {
   "cell_type": "code",
   "execution_count": null,
   "metadata": {},
   "outputs": [],
   "source": [
    "SVG(model_to_dot(conv_1,show_shapes = True)).create(prog=\"dot\",format=\"svg\")"
   ]
  }
 ],
 "metadata": {
  "kernelspec": {
   "display_name": "tensor",
   "language": "python",
   "name": "tensorflow35"
  },
  "language_info": {
   "codemirror_mode": {
    "name": "ipython",
    "version": 3
   },
   "file_extension": ".py",
   "mimetype": "text/x-python",
   "name": "python",
   "nbconvert_exporter": "python",
   "pygments_lexer": "ipython3",
   "version": "3.5.5"
  }
 },
 "nbformat": 4,
 "nbformat_minor": 2
}
