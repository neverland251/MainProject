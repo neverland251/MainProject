{
 "cells": [
  {
   "cell_type": "code",
   "execution_count": 1,
   "metadata": {},
   "outputs": [
    {
     "data": {
      "text/html": [
       "<script type=\"text/javascript\">window.PlotlyConfig = {MathJaxConfig: 'local'};</script><script type=\"text/javascript\">if (window.MathJax) {MathJax.Hub.Config({SVG: {font: \"STIX-Web\"}});}</script><script>requirejs.config({paths: { 'plotly': ['https://cdn.plot.ly/plotly-latest.min']},});if(!window._Plotly) {require(['plotly'],function(plotly) {window._Plotly=plotly;});}</script>"
      ],
      "text/vnd.plotly.v1+html": [
       "<script type=\"text/javascript\">window.PlotlyConfig = {MathJaxConfig: 'local'};</script><script type=\"text/javascript\">if (window.MathJax) {MathJax.Hub.Config({SVG: {font: \"STIX-Web\"}});}</script><script>requirejs.config({paths: { 'plotly': ['https://cdn.plot.ly/plotly-latest.min']},});if(!window._Plotly) {require(['plotly'],function(plotly) {window._Plotly=plotly;});}</script>"
      ]
     },
     "metadata": {},
     "output_type": "display_data"
    }
   ],
   "source": [
    "from plotly.offline import init_notebook_mode, iplot\n",
    "import plotly.graph_objs as go\n",
    "import plotly.plotly as py\n",
    "from plotly import tools\n",
    "from datetime import date\n",
    "import pandas as pd\n",
    "\n",
    "#pd.set_option('display.height', 1000)\n",
    "pd.set_option('display.max_rows', 50)\n",
    "pd.set_option('display.max_columns', 500)\n",
    "pd.set_option('display.width', 1000)\n",
    "\n",
    "from pandas import DataFrame\n",
    "import numpy as np \n",
    "import plotly.figure_factory as ff\n",
    "\n",
    "from sklearn.model_selection import train_test_split\n",
    "from sklearn.preprocessing import LabelEncoder\n",
    "from sklearn.neighbors import KNeighborsRegressor\n",
    "from sklearn.model_selection import GridSearchCV\n",
    "from sklearn.preprocessing import MinMaxScaler\n",
    "#from imblearn import *\n",
    "\n",
    "#from imblearn.over_sampling import SMOTE, ADASYN\n",
    "import lightgbm as lgb\n",
    "\n",
    "import matplotlib.pyplot as plt\n",
    "import seaborn as sns\n",
    "import random \n",
    "import warnings\n",
    "import operator\n",
    "warnings.filterwarnings(\"ignore\")\n",
    "init_notebook_mode(connected=True)\n",
    "\n",
    "import scipy as sp\n",
    "\n",
    "import copy\n",
    "\n",
    "import sys"
   ]
  },
  {
   "cell_type": "code",
   "execution_count": 6,
   "metadata": {},
   "outputs": [],
   "source": [
    "rawdata = pd.read_csv(\"train.csv\")"
   ]
  },
  {
   "cell_type": "code",
   "execution_count": 7,
   "metadata": {},
   "outputs": [],
   "source": [
    "target = rawdata.groupby(\"PlayId\")[\"Yards\"].aggregate(\"mean\")\n",
    "del rawdata[\"Yards\"]"
   ]
  },
  {
   "cell_type": "markdown",
   "metadata": {},
   "source": [
    "## 전체 데이터 구조"
   ]
  },
  {
   "cell_type": "code",
   "execution_count": 8,
   "metadata": {
    "scrolled": true
   },
   "outputs": [
    {
     "data": {
      "text/html": [
       "<div>\n",
       "<style scoped>\n",
       "    .dataframe tbody tr th:only-of-type {\n",
       "        vertical-align: middle;\n",
       "    }\n",
       "\n",
       "    .dataframe tbody tr th {\n",
       "        vertical-align: top;\n",
       "    }\n",
       "\n",
       "    .dataframe thead th {\n",
       "        text-align: right;\n",
       "    }\n",
       "</style>\n",
       "<table border=\"1\" class=\"dataframe\">\n",
       "  <thead>\n",
       "    <tr style=\"text-align: right;\">\n",
       "      <th></th>\n",
       "      <th>GameId</th>\n",
       "      <th>PlayId</th>\n",
       "      <th>Team</th>\n",
       "      <th>X</th>\n",
       "      <th>Y</th>\n",
       "      <th>S</th>\n",
       "      <th>A</th>\n",
       "      <th>Dis</th>\n",
       "      <th>Orientation</th>\n",
       "      <th>Dir</th>\n",
       "      <th>NflId</th>\n",
       "      <th>DisplayName</th>\n",
       "      <th>JerseyNumber</th>\n",
       "      <th>Season</th>\n",
       "      <th>YardLine</th>\n",
       "      <th>Quarter</th>\n",
       "      <th>GameClock</th>\n",
       "      <th>PossessionTeam</th>\n",
       "      <th>Down</th>\n",
       "      <th>Distance</th>\n",
       "      <th>FieldPosition</th>\n",
       "      <th>HomeScoreBeforePlay</th>\n",
       "      <th>VisitorScoreBeforePlay</th>\n",
       "      <th>NflIdRusher</th>\n",
       "      <th>OffenseFormation</th>\n",
       "      <th>OffensePersonnel</th>\n",
       "      <th>DefendersInTheBox</th>\n",
       "      <th>DefensePersonnel</th>\n",
       "      <th>PlayDirection</th>\n",
       "      <th>TimeHandoff</th>\n",
       "      <th>TimeSnap</th>\n",
       "      <th>PlayerHeight</th>\n",
       "      <th>PlayerWeight</th>\n",
       "      <th>PlayerBirthDate</th>\n",
       "      <th>PlayerCollegeName</th>\n",
       "      <th>Position</th>\n",
       "      <th>HomeTeamAbbr</th>\n",
       "      <th>VisitorTeamAbbr</th>\n",
       "      <th>Week</th>\n",
       "      <th>Stadium</th>\n",
       "      <th>Location</th>\n",
       "      <th>StadiumType</th>\n",
       "      <th>Turf</th>\n",
       "      <th>GameWeather</th>\n",
       "      <th>Temperature</th>\n",
       "      <th>Humidity</th>\n",
       "      <th>WindSpeed</th>\n",
       "      <th>WindDirection</th>\n",
       "    </tr>\n",
       "  </thead>\n",
       "  <tbody>\n",
       "    <tr>\n",
       "      <th>0</th>\n",
       "      <td>2017090700</td>\n",
       "      <td>20170907000118</td>\n",
       "      <td>away</td>\n",
       "      <td>73.91</td>\n",
       "      <td>34.84</td>\n",
       "      <td>1.69</td>\n",
       "      <td>1.13</td>\n",
       "      <td>0.40</td>\n",
       "      <td>81.99</td>\n",
       "      <td>177.18</td>\n",
       "      <td>496723</td>\n",
       "      <td>Eric Berry</td>\n",
       "      <td>29</td>\n",
       "      <td>2017</td>\n",
       "      <td>35</td>\n",
       "      <td>1</td>\n",
       "      <td>14:14:00</td>\n",
       "      <td>NE</td>\n",
       "      <td>3</td>\n",
       "      <td>2</td>\n",
       "      <td>NE</td>\n",
       "      <td>0</td>\n",
       "      <td>0</td>\n",
       "      <td>2543773</td>\n",
       "      <td>SHOTGUN</td>\n",
       "      <td>1 RB, 1 TE, 3 WR</td>\n",
       "      <td>6.0</td>\n",
       "      <td>2 DL, 3 LB, 6 DB</td>\n",
       "      <td>left</td>\n",
       "      <td>2017-09-08T00:44:06.000Z</td>\n",
       "      <td>2017-09-08T00:44:05.000Z</td>\n",
       "      <td>6-0</td>\n",
       "      <td>212</td>\n",
       "      <td>12/29/1988</td>\n",
       "      <td>Tennessee</td>\n",
       "      <td>SS</td>\n",
       "      <td>NE</td>\n",
       "      <td>KC</td>\n",
       "      <td>1</td>\n",
       "      <td>Gillette Stadium</td>\n",
       "      <td>Foxborough, MA</td>\n",
       "      <td>Outdoor</td>\n",
       "      <td>Field Turf</td>\n",
       "      <td>Clear and warm</td>\n",
       "      <td>63.0</td>\n",
       "      <td>77.0</td>\n",
       "      <td>8</td>\n",
       "      <td>SW</td>\n",
       "    </tr>\n",
       "    <tr>\n",
       "      <th>1</th>\n",
       "      <td>2017090700</td>\n",
       "      <td>20170907000118</td>\n",
       "      <td>away</td>\n",
       "      <td>74.67</td>\n",
       "      <td>32.64</td>\n",
       "      <td>0.42</td>\n",
       "      <td>1.35</td>\n",
       "      <td>0.01</td>\n",
       "      <td>27.61</td>\n",
       "      <td>198.70</td>\n",
       "      <td>2495116</td>\n",
       "      <td>Allen Bailey</td>\n",
       "      <td>97</td>\n",
       "      <td>2017</td>\n",
       "      <td>35</td>\n",
       "      <td>1</td>\n",
       "      <td>14:14:00</td>\n",
       "      <td>NE</td>\n",
       "      <td>3</td>\n",
       "      <td>2</td>\n",
       "      <td>NE</td>\n",
       "      <td>0</td>\n",
       "      <td>0</td>\n",
       "      <td>2543773</td>\n",
       "      <td>SHOTGUN</td>\n",
       "      <td>1 RB, 1 TE, 3 WR</td>\n",
       "      <td>6.0</td>\n",
       "      <td>2 DL, 3 LB, 6 DB</td>\n",
       "      <td>left</td>\n",
       "      <td>2017-09-08T00:44:06.000Z</td>\n",
       "      <td>2017-09-08T00:44:05.000Z</td>\n",
       "      <td>6-3</td>\n",
       "      <td>288</td>\n",
       "      <td>03/25/1989</td>\n",
       "      <td>Miami</td>\n",
       "      <td>DE</td>\n",
       "      <td>NE</td>\n",
       "      <td>KC</td>\n",
       "      <td>1</td>\n",
       "      <td>Gillette Stadium</td>\n",
       "      <td>Foxborough, MA</td>\n",
       "      <td>Outdoor</td>\n",
       "      <td>Field Turf</td>\n",
       "      <td>Clear and warm</td>\n",
       "      <td>63.0</td>\n",
       "      <td>77.0</td>\n",
       "      <td>8</td>\n",
       "      <td>SW</td>\n",
       "    </tr>\n",
       "    <tr>\n",
       "      <th>2</th>\n",
       "      <td>2017090700</td>\n",
       "      <td>20170907000118</td>\n",
       "      <td>away</td>\n",
       "      <td>74.00</td>\n",
       "      <td>33.20</td>\n",
       "      <td>1.22</td>\n",
       "      <td>0.59</td>\n",
       "      <td>0.31</td>\n",
       "      <td>3.01</td>\n",
       "      <td>202.73</td>\n",
       "      <td>2495493</td>\n",
       "      <td>Justin Houston</td>\n",
       "      <td>50</td>\n",
       "      <td>2017</td>\n",
       "      <td>35</td>\n",
       "      <td>1</td>\n",
       "      <td>14:14:00</td>\n",
       "      <td>NE</td>\n",
       "      <td>3</td>\n",
       "      <td>2</td>\n",
       "      <td>NE</td>\n",
       "      <td>0</td>\n",
       "      <td>0</td>\n",
       "      <td>2543773</td>\n",
       "      <td>SHOTGUN</td>\n",
       "      <td>1 RB, 1 TE, 3 WR</td>\n",
       "      <td>6.0</td>\n",
       "      <td>2 DL, 3 LB, 6 DB</td>\n",
       "      <td>left</td>\n",
       "      <td>2017-09-08T00:44:06.000Z</td>\n",
       "      <td>2017-09-08T00:44:05.000Z</td>\n",
       "      <td>6-3</td>\n",
       "      <td>270</td>\n",
       "      <td>01/21/1989</td>\n",
       "      <td>Georgia</td>\n",
       "      <td>DE</td>\n",
       "      <td>NE</td>\n",
       "      <td>KC</td>\n",
       "      <td>1</td>\n",
       "      <td>Gillette Stadium</td>\n",
       "      <td>Foxborough, MA</td>\n",
       "      <td>Outdoor</td>\n",
       "      <td>Field Turf</td>\n",
       "      <td>Clear and warm</td>\n",
       "      <td>63.0</td>\n",
       "      <td>77.0</td>\n",
       "      <td>8</td>\n",
       "      <td>SW</td>\n",
       "    </tr>\n",
       "    <tr>\n",
       "      <th>3</th>\n",
       "      <td>2017090700</td>\n",
       "      <td>20170907000118</td>\n",
       "      <td>away</td>\n",
       "      <td>71.46</td>\n",
       "      <td>27.70</td>\n",
       "      <td>0.42</td>\n",
       "      <td>0.54</td>\n",
       "      <td>0.02</td>\n",
       "      <td>359.77</td>\n",
       "      <td>105.64</td>\n",
       "      <td>2506353</td>\n",
       "      <td>Derrick Johnson</td>\n",
       "      <td>56</td>\n",
       "      <td>2017</td>\n",
       "      <td>35</td>\n",
       "      <td>1</td>\n",
       "      <td>14:14:00</td>\n",
       "      <td>NE</td>\n",
       "      <td>3</td>\n",
       "      <td>2</td>\n",
       "      <td>NE</td>\n",
       "      <td>0</td>\n",
       "      <td>0</td>\n",
       "      <td>2543773</td>\n",
       "      <td>SHOTGUN</td>\n",
       "      <td>1 RB, 1 TE, 3 WR</td>\n",
       "      <td>6.0</td>\n",
       "      <td>2 DL, 3 LB, 6 DB</td>\n",
       "      <td>left</td>\n",
       "      <td>2017-09-08T00:44:06.000Z</td>\n",
       "      <td>2017-09-08T00:44:05.000Z</td>\n",
       "      <td>6-3</td>\n",
       "      <td>245</td>\n",
       "      <td>11/22/1982</td>\n",
       "      <td>Texas</td>\n",
       "      <td>ILB</td>\n",
       "      <td>NE</td>\n",
       "      <td>KC</td>\n",
       "      <td>1</td>\n",
       "      <td>Gillette Stadium</td>\n",
       "      <td>Foxborough, MA</td>\n",
       "      <td>Outdoor</td>\n",
       "      <td>Field Turf</td>\n",
       "      <td>Clear and warm</td>\n",
       "      <td>63.0</td>\n",
       "      <td>77.0</td>\n",
       "      <td>8</td>\n",
       "      <td>SW</td>\n",
       "    </tr>\n",
       "    <tr>\n",
       "      <th>4</th>\n",
       "      <td>2017090700</td>\n",
       "      <td>20170907000118</td>\n",
       "      <td>away</td>\n",
       "      <td>69.32</td>\n",
       "      <td>35.42</td>\n",
       "      <td>1.82</td>\n",
       "      <td>2.43</td>\n",
       "      <td>0.16</td>\n",
       "      <td>12.63</td>\n",
       "      <td>164.31</td>\n",
       "      <td>2530794</td>\n",
       "      <td>Ron Parker</td>\n",
       "      <td>38</td>\n",
       "      <td>2017</td>\n",
       "      <td>35</td>\n",
       "      <td>1</td>\n",
       "      <td>14:14:00</td>\n",
       "      <td>NE</td>\n",
       "      <td>3</td>\n",
       "      <td>2</td>\n",
       "      <td>NE</td>\n",
       "      <td>0</td>\n",
       "      <td>0</td>\n",
       "      <td>2543773</td>\n",
       "      <td>SHOTGUN</td>\n",
       "      <td>1 RB, 1 TE, 3 WR</td>\n",
       "      <td>6.0</td>\n",
       "      <td>2 DL, 3 LB, 6 DB</td>\n",
       "      <td>left</td>\n",
       "      <td>2017-09-08T00:44:06.000Z</td>\n",
       "      <td>2017-09-08T00:44:05.000Z</td>\n",
       "      <td>6-0</td>\n",
       "      <td>206</td>\n",
       "      <td>08/17/1987</td>\n",
       "      <td>Newberry</td>\n",
       "      <td>FS</td>\n",
       "      <td>NE</td>\n",
       "      <td>KC</td>\n",
       "      <td>1</td>\n",
       "      <td>Gillette Stadium</td>\n",
       "      <td>Foxborough, MA</td>\n",
       "      <td>Outdoor</td>\n",
       "      <td>Field Turf</td>\n",
       "      <td>Clear and warm</td>\n",
       "      <td>63.0</td>\n",
       "      <td>77.0</td>\n",
       "      <td>8</td>\n",
       "      <td>SW</td>\n",
       "    </tr>\n",
       "  </tbody>\n",
       "</table>\n",
       "</div>"
      ],
      "text/plain": [
       "       GameId          PlayId  Team      X      Y     S     A   Dis  Orientation     Dir    NflId      DisplayName  JerseyNumber  Season  YardLine  Quarter GameClock PossessionTeam  Down  Distance FieldPosition  HomeScoreBeforePlay  VisitorScoreBeforePlay  NflIdRusher OffenseFormation  OffensePersonnel  DefendersInTheBox  DefensePersonnel PlayDirection               TimeHandoff                  TimeSnap PlayerHeight  PlayerWeight PlayerBirthDate PlayerCollegeName Position HomeTeamAbbr VisitorTeamAbbr  Week           Stadium        Location StadiumType        Turf     GameWeather  Temperature  Humidity WindSpeed WindDirection\n",
       "0  2017090700  20170907000118  away  73.91  34.84  1.69  1.13  0.40        81.99  177.18   496723       Eric Berry            29    2017        35        1  14:14:00             NE     3         2            NE                    0                       0      2543773          SHOTGUN  1 RB, 1 TE, 3 WR                6.0  2 DL, 3 LB, 6 DB          left  2017-09-08T00:44:06.000Z  2017-09-08T00:44:05.000Z          6-0           212      12/29/1988         Tennessee       SS           NE              KC     1  Gillette Stadium  Foxborough, MA     Outdoor  Field Turf  Clear and warm         63.0      77.0         8            SW\n",
       "1  2017090700  20170907000118  away  74.67  32.64  0.42  1.35  0.01        27.61  198.70  2495116     Allen Bailey            97    2017        35        1  14:14:00             NE     3         2            NE                    0                       0      2543773          SHOTGUN  1 RB, 1 TE, 3 WR                6.0  2 DL, 3 LB, 6 DB          left  2017-09-08T00:44:06.000Z  2017-09-08T00:44:05.000Z          6-3           288      03/25/1989             Miami       DE           NE              KC     1  Gillette Stadium  Foxborough, MA     Outdoor  Field Turf  Clear and warm         63.0      77.0         8            SW\n",
       "2  2017090700  20170907000118  away  74.00  33.20  1.22  0.59  0.31         3.01  202.73  2495493   Justin Houston            50    2017        35        1  14:14:00             NE     3         2            NE                    0                       0      2543773          SHOTGUN  1 RB, 1 TE, 3 WR                6.0  2 DL, 3 LB, 6 DB          left  2017-09-08T00:44:06.000Z  2017-09-08T00:44:05.000Z          6-3           270      01/21/1989           Georgia       DE           NE              KC     1  Gillette Stadium  Foxborough, MA     Outdoor  Field Turf  Clear and warm         63.0      77.0         8            SW\n",
       "3  2017090700  20170907000118  away  71.46  27.70  0.42  0.54  0.02       359.77  105.64  2506353  Derrick Johnson            56    2017        35        1  14:14:00             NE     3         2            NE                    0                       0      2543773          SHOTGUN  1 RB, 1 TE, 3 WR                6.0  2 DL, 3 LB, 6 DB          left  2017-09-08T00:44:06.000Z  2017-09-08T00:44:05.000Z          6-3           245      11/22/1982             Texas      ILB           NE              KC     1  Gillette Stadium  Foxborough, MA     Outdoor  Field Turf  Clear and warm         63.0      77.0         8            SW\n",
       "4  2017090700  20170907000118  away  69.32  35.42  1.82  2.43  0.16        12.63  164.31  2530794       Ron Parker            38    2017        35        1  14:14:00             NE     3         2            NE                    0                       0      2543773          SHOTGUN  1 RB, 1 TE, 3 WR                6.0  2 DL, 3 LB, 6 DB          left  2017-09-08T00:44:06.000Z  2017-09-08T00:44:05.000Z          6-0           206      08/17/1987          Newberry       FS           NE              KC     1  Gillette Stadium  Foxborough, MA     Outdoor  Field Turf  Clear and warm         63.0      77.0         8            SW"
      ]
     },
     "execution_count": 8,
     "metadata": {},
     "output_type": "execute_result"
    }
   ],
   "source": [
    "rawdata.head()"
   ]
  },
  {
   "cell_type": "code",
   "execution_count": 9,
   "metadata": {},
   "outputs": [
    {
     "data": {
      "text/plain": [
       "Index(['GameId', 'PlayId', 'Team', 'X', 'Y', 'S', 'A', 'Dis', 'Orientation', 'Dir', 'NflId', 'DisplayName', 'JerseyNumber', 'Season', 'YardLine', 'Quarter', 'GameClock', 'PossessionTeam', 'Down', 'Distance', 'FieldPosition', 'HomeScoreBeforePlay', 'VisitorScoreBeforePlay', 'NflIdRusher', 'OffenseFormation', 'OffensePersonnel', 'DefendersInTheBox', 'DefensePersonnel', 'PlayDirection', 'TimeHandoff', 'TimeSnap', 'PlayerHeight', 'PlayerWeight', 'PlayerBirthDate', 'PlayerCollegeName', 'Position', 'HomeTeamAbbr', 'VisitorTeamAbbr', 'Week', 'Stadium', 'Location', 'StadiumType', 'Turf', 'GameWeather', 'Temperature', 'Humidity', 'WindSpeed', 'WindDirection'], dtype='object')"
      ]
     },
     "execution_count": 9,
     "metadata": {},
     "output_type": "execute_result"
    }
   ],
   "source": [
    "# 컬럼명 탐색\n",
    "\n",
    "rawdata.columns"
   ]
  },
  {
   "cell_type": "code",
   "execution_count": 10,
   "metadata": {
    "scrolled": false
   },
   "outputs": [
    {
     "data": {
      "text/html": [
       "<div>\n",
       "<style scoped>\n",
       "    .dataframe tbody tr th:only-of-type {\n",
       "        vertical-align: middle;\n",
       "    }\n",
       "\n",
       "    .dataframe tbody tr th {\n",
       "        vertical-align: top;\n",
       "    }\n",
       "\n",
       "    .dataframe thead th {\n",
       "        text-align: right;\n",
       "    }\n",
       "</style>\n",
       "<table border=\"1\" class=\"dataframe\">\n",
       "  <thead>\n",
       "    <tr style=\"text-align: right;\">\n",
       "      <th></th>\n",
       "      <th>GameId</th>\n",
       "      <th>PlayId</th>\n",
       "      <th>Team</th>\n",
       "      <th>DisplayName</th>\n",
       "      <th>TimeHandoff</th>\n",
       "      <th>Position</th>\n",
       "    </tr>\n",
       "  </thead>\n",
       "  <tbody>\n",
       "    <tr>\n",
       "      <th>0</th>\n",
       "      <td>2017090700</td>\n",
       "      <td>20170907000118</td>\n",
       "      <td>away</td>\n",
       "      <td>Eric Berry</td>\n",
       "      <td>2017-09-08T00:44:06.000Z</td>\n",
       "      <td>SS</td>\n",
       "    </tr>\n",
       "    <tr>\n",
       "      <th>1</th>\n",
       "      <td>2017090700</td>\n",
       "      <td>20170907000118</td>\n",
       "      <td>away</td>\n",
       "      <td>Allen Bailey</td>\n",
       "      <td>2017-09-08T00:44:06.000Z</td>\n",
       "      <td>DE</td>\n",
       "    </tr>\n",
       "    <tr>\n",
       "      <th>2</th>\n",
       "      <td>2017090700</td>\n",
       "      <td>20170907000118</td>\n",
       "      <td>away</td>\n",
       "      <td>Justin Houston</td>\n",
       "      <td>2017-09-08T00:44:06.000Z</td>\n",
       "      <td>DE</td>\n",
       "    </tr>\n",
       "    <tr>\n",
       "      <th>3</th>\n",
       "      <td>2017090700</td>\n",
       "      <td>20170907000118</td>\n",
       "      <td>away</td>\n",
       "      <td>Derrick Johnson</td>\n",
       "      <td>2017-09-08T00:44:06.000Z</td>\n",
       "      <td>ILB</td>\n",
       "    </tr>\n",
       "    <tr>\n",
       "      <th>4</th>\n",
       "      <td>2017090700</td>\n",
       "      <td>20170907000118</td>\n",
       "      <td>away</td>\n",
       "      <td>Ron Parker</td>\n",
       "      <td>2017-09-08T00:44:06.000Z</td>\n",
       "      <td>FS</td>\n",
       "    </tr>\n",
       "    <tr>\n",
       "      <th>5</th>\n",
       "      <td>2017090700</td>\n",
       "      <td>20170907000118</td>\n",
       "      <td>away</td>\n",
       "      <td>Dee Ford</td>\n",
       "      <td>2017-09-08T00:44:06.000Z</td>\n",
       "      <td>DE</td>\n",
       "    </tr>\n",
       "    <tr>\n",
       "      <th>6</th>\n",
       "      <td>2017090700</td>\n",
       "      <td>20170907000118</td>\n",
       "      <td>away</td>\n",
       "      <td>Terrance Mitchell</td>\n",
       "      <td>2017-09-08T00:44:06.000Z</td>\n",
       "      <td>CB</td>\n",
       "    </tr>\n",
       "    <tr>\n",
       "      <th>7</th>\n",
       "      <td>2017090700</td>\n",
       "      <td>20170907000118</td>\n",
       "      <td>away</td>\n",
       "      <td>Phillip Gaines</td>\n",
       "      <td>2017-09-08T00:44:06.000Z</td>\n",
       "      <td>CB</td>\n",
       "    </tr>\n",
       "    <tr>\n",
       "      <th>8</th>\n",
       "      <td>2017090700</td>\n",
       "      <td>20170907000118</td>\n",
       "      <td>away</td>\n",
       "      <td>Daniel Sorensen</td>\n",
       "      <td>2017-09-08T00:44:06.000Z</td>\n",
       "      <td>SS</td>\n",
       "    </tr>\n",
       "    <tr>\n",
       "      <th>9</th>\n",
       "      <td>2017090700</td>\n",
       "      <td>20170907000118</td>\n",
       "      <td>away</td>\n",
       "      <td>Marcus Peters</td>\n",
       "      <td>2017-09-08T00:44:06.000Z</td>\n",
       "      <td>CB</td>\n",
       "    </tr>\n",
       "    <tr>\n",
       "      <th>10</th>\n",
       "      <td>2017090700</td>\n",
       "      <td>20170907000118</td>\n",
       "      <td>away</td>\n",
       "      <td>Chris Jones</td>\n",
       "      <td>2017-09-08T00:44:06.000Z</td>\n",
       "      <td>DT</td>\n",
       "    </tr>\n",
       "    <tr>\n",
       "      <th>11</th>\n",
       "      <td>2017090700</td>\n",
       "      <td>20170907000118</td>\n",
       "      <td>home</td>\n",
       "      <td>Danny Amendola</td>\n",
       "      <td>2017-09-08T00:44:06.000Z</td>\n",
       "      <td>WR</td>\n",
       "    </tr>\n",
       "    <tr>\n",
       "      <th>12</th>\n",
       "      <td>2017090700</td>\n",
       "      <td>20170907000118</td>\n",
       "      <td>home</td>\n",
       "      <td>Rob Gronkowski</td>\n",
       "      <td>2017-09-08T00:44:06.000Z</td>\n",
       "      <td>TE</td>\n",
       "    </tr>\n",
       "    <tr>\n",
       "      <th>13</th>\n",
       "      <td>2017090700</td>\n",
       "      <td>20170907000118</td>\n",
       "      <td>home</td>\n",
       "      <td>Marcus Cannon</td>\n",
       "      <td>2017-09-08T00:44:06.000Z</td>\n",
       "      <td>T</td>\n",
       "    </tr>\n",
       "    <tr>\n",
       "      <th>14</th>\n",
       "      <td>2017090700</td>\n",
       "      <td>20170907000118</td>\n",
       "      <td>home</td>\n",
       "      <td>Nate Solder</td>\n",
       "      <td>2017-09-08T00:44:06.000Z</td>\n",
       "      <td>T</td>\n",
       "    </tr>\n",
       "    <tr>\n",
       "      <th>15</th>\n",
       "      <td>2017090700</td>\n",
       "      <td>20170907000118</td>\n",
       "      <td>home</td>\n",
       "      <td>Tom Brady</td>\n",
       "      <td>2017-09-08T00:44:06.000Z</td>\n",
       "      <td>QB</td>\n",
       "    </tr>\n",
       "    <tr>\n",
       "      <th>16</th>\n",
       "      <td>2017090700</td>\n",
       "      <td>20170907000118</td>\n",
       "      <td>home</td>\n",
       "      <td>Chris Hogan</td>\n",
       "      <td>2017-09-08T00:44:06.000Z</td>\n",
       "      <td>WR</td>\n",
       "    </tr>\n",
       "    <tr>\n",
       "      <th>17</th>\n",
       "      <td>2017090700</td>\n",
       "      <td>20170907000118</td>\n",
       "      <td>home</td>\n",
       "      <td>Brandin Cooks</td>\n",
       "      <td>2017-09-08T00:44:06.000Z</td>\n",
       "      <td>WR</td>\n",
       "    </tr>\n",
       "    <tr>\n",
       "      <th>18</th>\n",
       "      <td>2017090700</td>\n",
       "      <td>20170907000118</td>\n",
       "      <td>home</td>\n",
       "      <td>James White</td>\n",
       "      <td>2017-09-08T00:44:06.000Z</td>\n",
       "      <td>RB</td>\n",
       "    </tr>\n",
       "    <tr>\n",
       "      <th>19</th>\n",
       "      <td>2017090700</td>\n",
       "      <td>20170907000118</td>\n",
       "      <td>home</td>\n",
       "      <td>Shaq Mason</td>\n",
       "      <td>2017-09-08T00:44:06.000Z</td>\n",
       "      <td>G</td>\n",
       "    </tr>\n",
       "    <tr>\n",
       "      <th>20</th>\n",
       "      <td>2017090700</td>\n",
       "      <td>20170907000118</td>\n",
       "      <td>home</td>\n",
       "      <td>David Andrews</td>\n",
       "      <td>2017-09-08T00:44:06.000Z</td>\n",
       "      <td>C</td>\n",
       "    </tr>\n",
       "    <tr>\n",
       "      <th>21</th>\n",
       "      <td>2017090700</td>\n",
       "      <td>20170907000118</td>\n",
       "      <td>home</td>\n",
       "      <td>Joe Thuney</td>\n",
       "      <td>2017-09-08T00:44:06.000Z</td>\n",
       "      <td>G</td>\n",
       "    </tr>\n",
       "  </tbody>\n",
       "</table>\n",
       "</div>"
      ],
      "text/plain": [
       "        GameId          PlayId  Team        DisplayName               TimeHandoff Position\n",
       "0   2017090700  20170907000118  away         Eric Berry  2017-09-08T00:44:06.000Z       SS\n",
       "1   2017090700  20170907000118  away       Allen Bailey  2017-09-08T00:44:06.000Z       DE\n",
       "2   2017090700  20170907000118  away     Justin Houston  2017-09-08T00:44:06.000Z       DE\n",
       "3   2017090700  20170907000118  away    Derrick Johnson  2017-09-08T00:44:06.000Z      ILB\n",
       "4   2017090700  20170907000118  away         Ron Parker  2017-09-08T00:44:06.000Z       FS\n",
       "5   2017090700  20170907000118  away           Dee Ford  2017-09-08T00:44:06.000Z       DE\n",
       "6   2017090700  20170907000118  away  Terrance Mitchell  2017-09-08T00:44:06.000Z       CB\n",
       "7   2017090700  20170907000118  away     Phillip Gaines  2017-09-08T00:44:06.000Z       CB\n",
       "8   2017090700  20170907000118  away    Daniel Sorensen  2017-09-08T00:44:06.000Z       SS\n",
       "9   2017090700  20170907000118  away      Marcus Peters  2017-09-08T00:44:06.000Z       CB\n",
       "10  2017090700  20170907000118  away        Chris Jones  2017-09-08T00:44:06.000Z       DT\n",
       "11  2017090700  20170907000118  home     Danny Amendola  2017-09-08T00:44:06.000Z       WR\n",
       "12  2017090700  20170907000118  home     Rob Gronkowski  2017-09-08T00:44:06.000Z       TE\n",
       "13  2017090700  20170907000118  home      Marcus Cannon  2017-09-08T00:44:06.000Z        T\n",
       "14  2017090700  20170907000118  home        Nate Solder  2017-09-08T00:44:06.000Z        T\n",
       "15  2017090700  20170907000118  home          Tom Brady  2017-09-08T00:44:06.000Z       QB\n",
       "16  2017090700  20170907000118  home        Chris Hogan  2017-09-08T00:44:06.000Z       WR\n",
       "17  2017090700  20170907000118  home      Brandin Cooks  2017-09-08T00:44:06.000Z       WR\n",
       "18  2017090700  20170907000118  home        James White  2017-09-08T00:44:06.000Z       RB\n",
       "19  2017090700  20170907000118  home         Shaq Mason  2017-09-08T00:44:06.000Z        G\n",
       "20  2017090700  20170907000118  home      David Andrews  2017-09-08T00:44:06.000Z        C\n",
       "21  2017090700  20170907000118  home         Joe Thuney  2017-09-08T00:44:06.000Z        G"
      ]
     },
     "execution_count": 10,
     "metadata": {},
     "output_type": "execute_result"
    }
   ],
   "source": [
    "# 한번의 플레이당(즉 동일 PlayID)당 22개의 선수들이 하나로 묶여서 경기를 진행\n",
    "# 즉, 분석을 위해선 22개 행의 단위로 GROUP을 지어서 분석을 실시할 필요가 있음\n",
    "\n",
    "rawdata[rawdata[\"PlayId\"] == rawdata[\"PlayId\"][0]][[\"GameId\",\"PlayId\",\"Team\",\"DisplayName\",\"TimeHandoff\",\"Position\"]]"
   ]
  },
  {
   "cell_type": "code",
   "execution_count": 11,
   "metadata": {},
   "outputs": [
    {
     "name": "stdout",
     "output_type": "stream",
     "text": [
      "(array([8.5800e+02, 1.9151e+04, 2.5630e+03, 4.0800e+02, 9.3000e+01,\n",
      "       4.6000e+01, 2.3000e+01, 2.1000e+01, 3.0000e+00, 5.0000e+00]), array([-14. ,  -2.7,   8.6,  19.9,  31.2,  42.5,  53.8,  65.1,  76.4,\n",
      "        87.7,  99. ]), <a list of 10 Patch objects>)\n",
      "23171\n"
     ]
    },
    {
     "data": {
      "image/png": "[encoded data removed]",
      "text/plain": [
       "<Figure size 432x288 with 1 Axes>"
      ]
     },
     "metadata": {},
     "output_type": "display_data"
    }
   ],
   "source": [
    "# 타겟변수 분포\n",
    "\n",
    "print(plt.hist(target))\n",
    "print(target.count())"
   ]
  },
  {
   "cell_type": "code",
   "execution_count": 12,
   "metadata": {
    "scrolled": true
   },
   "outputs": [
    {
     "data": {
      "text/html": [
       "<div>\n",
       "<style scoped>\n",
       "    .dataframe tbody tr th:only-of-type {\n",
       "        vertical-align: middle;\n",
       "    }\n",
       "\n",
       "    .dataframe tbody tr th {\n",
       "        vertical-align: top;\n",
       "    }\n",
       "\n",
       "    .dataframe thead th {\n",
       "        text-align: right;\n",
       "    }\n",
       "</style>\n",
       "<table border=\"1\" class=\"dataframe\">\n",
       "  <thead>\n",
       "    <tr style=\"text-align: right;\">\n",
       "      <th></th>\n",
       "      <th>X</th>\n",
       "      <th>Y</th>\n",
       "      <th>S</th>\n",
       "      <th>A</th>\n",
       "      <th>Dis</th>\n",
       "      <th>Orientation</th>\n",
       "      <th>Dir</th>\n",
       "      <th>NflId</th>\n",
       "      <th>JerseyNumber</th>\n",
       "      <th>Season</th>\n",
       "      <th>YardLine</th>\n",
       "      <th>Quarter</th>\n",
       "      <th>Down</th>\n",
       "      <th>Distance</th>\n",
       "      <th>HomeScoreBeforePlay</th>\n",
       "      <th>VisitorScoreBeforePlay</th>\n",
       "      <th>NflIdRusher</th>\n",
       "      <th>DefendersInTheBox</th>\n",
       "      <th>PlayerWeight</th>\n",
       "      <th>Week</th>\n",
       "      <th>Temperature</th>\n",
       "      <th>Humidity</th>\n",
       "    </tr>\n",
       "  </thead>\n",
       "  <tbody>\n",
       "    <tr>\n",
       "      <th>count</th>\n",
       "      <td>509762.000000</td>\n",
       "      <td>509762.000000</td>\n",
       "      <td>509762.000000</td>\n",
       "      <td>509762.000000</td>\n",
       "      <td>509762.000000</td>\n",
       "      <td>509744.000000</td>\n",
       "      <td>509748.000000</td>\n",
       "      <td>5.097620e+05</td>\n",
       "      <td>509762.000000</td>\n",
       "      <td>509762.000000</td>\n",
       "      <td>509762.000000</td>\n",
       "      <td>509762.000000</td>\n",
       "      <td>509762.000000</td>\n",
       "      <td>509762.000000</td>\n",
       "      <td>509762.000000</td>\n",
       "      <td>509762.000000</td>\n",
       "      <td>5.097620e+05</td>\n",
       "      <td>509696.000000</td>\n",
       "      <td>509762.000000</td>\n",
       "      <td>509762.000000</td>\n",
       "      <td>461230.000000</td>\n",
       "      <td>503602.000000</td>\n",
       "    </tr>\n",
       "    <tr>\n",
       "      <th>mean</th>\n",
       "      <td>60.040304</td>\n",
       "      <td>26.783535</td>\n",
       "      <td>2.591912</td>\n",
       "      <td>1.683176</td>\n",
       "      <td>0.279406</td>\n",
       "      <td>180.247779</td>\n",
       "      <td>179.933859</td>\n",
       "      <td>2.344703e+06</td>\n",
       "      <td>54.187982</td>\n",
       "      <td>2017.486427</td>\n",
       "      <td>28.368737</td>\n",
       "      <td>2.504639</td>\n",
       "      <td>1.520651</td>\n",
       "      <td>8.329248</td>\n",
       "      <td>11.148073</td>\n",
       "      <td>9.501057</td>\n",
       "      <td>2.419204e+06</td>\n",
       "      <td>6.943025</td>\n",
       "      <td>253.554388</td>\n",
       "      <td>9.096370</td>\n",
       "      <td>60.436442</td>\n",
       "      <td>55.646062</td>\n",
       "    </tr>\n",
       "    <tr>\n",
       "      <th>std</th>\n",
       "      <td>25.435261</td>\n",
       "      <td>7.238206</td>\n",
       "      <td>1.383601</td>\n",
       "      <td>0.976412</td>\n",
       "      <td>0.145482</td>\n",
       "      <td>104.298330</td>\n",
       "      <td>106.319488</td>\n",
       "      <td>6.418871e+05</td>\n",
       "      <td>28.379359</td>\n",
       "      <td>0.499816</td>\n",
       "      <td>13.010918</td>\n",
       "      <td>1.144105</td>\n",
       "      <td>0.674987</td>\n",
       "      <td>3.795208</td>\n",
       "      <td>10.277098</td>\n",
       "      <td>9.366413</td>\n",
       "      <td>5.357783e+05</td>\n",
       "      <td>0.991130</td>\n",
       "      <td>48.367386</td>\n",
       "      <td>5.000984</td>\n",
       "      <td>17.570291</td>\n",
       "      <td>25.430976</td>\n",
       "    </tr>\n",
       "    <tr>\n",
       "      <th>min</th>\n",
       "      <td>0.660000</td>\n",
       "      <td>1.850000</td>\n",
       "      <td>0.000000</td>\n",
       "      <td>0.000000</td>\n",
       "      <td>0.000000</td>\n",
       "      <td>0.000000</td>\n",
       "      <td>0.000000</td>\n",
       "      <td>2.220000e+02</td>\n",
       "      <td>1.000000</td>\n",
       "      <td>2017.000000</td>\n",
       "      <td>1.000000</td>\n",
       "      <td>1.000000</td>\n",
       "      <td>1.000000</td>\n",
       "      <td>1.000000</td>\n",
       "      <td>0.000000</td>\n",
       "      <td>0.000000</td>\n",
       "      <td>2.340000e+02</td>\n",
       "      <td>1.000000</td>\n",
       "      <td>153.000000</td>\n",
       "      <td>1.000000</td>\n",
       "      <td>9.000000</td>\n",
       "      <td>0.000000</td>\n",
       "    </tr>\n",
       "    <tr>\n",
       "      <th>25%</th>\n",
       "      <td>39.090000</td>\n",
       "      <td>22.730000</td>\n",
       "      <td>1.500000</td>\n",
       "      <td>0.940000</td>\n",
       "      <td>0.170000</td>\n",
       "      <td>90.630000</td>\n",
       "      <td>89.830000</td>\n",
       "      <td>2.532865e+06</td>\n",
       "      <td>26.000000</td>\n",
       "      <td>2017.000000</td>\n",
       "      <td>20.000000</td>\n",
       "      <td>1.000000</td>\n",
       "      <td>1.000000</td>\n",
       "      <td>6.000000</td>\n",
       "      <td>3.000000</td>\n",
       "      <td>0.000000</td>\n",
       "      <td>2.540011e+06</td>\n",
       "      <td>6.000000</td>\n",
       "      <td>210.000000</td>\n",
       "      <td>5.000000</td>\n",
       "      <td>48.000000</td>\n",
       "      <td>43.000000</td>\n",
       "    </tr>\n",
       "    <tr>\n",
       "      <th>50%</th>\n",
       "      <td>60.290000</td>\n",
       "      <td>26.790000</td>\n",
       "      <td>2.470000</td>\n",
       "      <td>1.540000</td>\n",
       "      <td>0.270000</td>\n",
       "      <td>179.700000</td>\n",
       "      <td>180.090000</td>\n",
       "      <td>2.543765e+06</td>\n",
       "      <td>56.000000</td>\n",
       "      <td>2017.000000</td>\n",
       "      <td>29.000000</td>\n",
       "      <td>3.000000</td>\n",
       "      <td>1.000000</td>\n",
       "      <td>10.000000</td>\n",
       "      <td>9.000000</td>\n",
       "      <td>7.000000</td>\n",
       "      <td>2.552582e+06</td>\n",
       "      <td>7.000000</td>\n",
       "      <td>245.000000</td>\n",
       "      <td>9.000000</td>\n",
       "      <td>62.000000</td>\n",
       "      <td>59.000000</td>\n",
       "    </tr>\n",
       "    <tr>\n",
       "      <th>75%</th>\n",
       "      <td>80.970000</td>\n",
       "      <td>30.860000</td>\n",
       "      <td>3.560000</td>\n",
       "      <td>2.290000</td>\n",
       "      <td>0.390000</td>\n",
       "      <td>270.400000</td>\n",
       "      <td>270.190000</td>\n",
       "      <td>2.555343e+06</td>\n",
       "      <td>78.000000</td>\n",
       "      <td>2018.000000</td>\n",
       "      <td>39.000000</td>\n",
       "      <td>4.000000</td>\n",
       "      <td>2.000000</td>\n",
       "      <td>10.000000</td>\n",
       "      <td>17.000000</td>\n",
       "      <td>14.000000</td>\n",
       "      <td>2.557976e+06</td>\n",
       "      <td>8.000000</td>\n",
       "      <td>305.000000</td>\n",
       "      <td>14.000000</td>\n",
       "      <td>73.000000</td>\n",
       "      <td>71.000000</td>\n",
       "    </tr>\n",
       "    <tr>\n",
       "      <th>max</th>\n",
       "      <td>116.840000</td>\n",
       "      <td>56.450000</td>\n",
       "      <td>9.410000</td>\n",
       "      <td>14.710000</td>\n",
       "      <td>1.390000</td>\n",
       "      <td>360.000000</td>\n",
       "      <td>360.000000</td>\n",
       "      <td>2.561671e+06</td>\n",
       "      <td>99.000000</td>\n",
       "      <td>2018.000000</td>\n",
       "      <td>50.000000</td>\n",
       "      <td>5.000000</td>\n",
       "      <td>4.000000</td>\n",
       "      <td>40.000000</td>\n",
       "      <td>57.000000</td>\n",
       "      <td>51.000000</td>\n",
       "      <td>2.561468e+06</td>\n",
       "      <td>11.000000</td>\n",
       "      <td>380.000000</td>\n",
       "      <td>17.000000</td>\n",
       "      <td>97.000000</td>\n",
       "      <td>100.000000</td>\n",
       "    </tr>\n",
       "  </tbody>\n",
       "</table>\n",
       "</div>"
      ],
      "text/plain": [
       "                   X              Y              S              A            Dis    Orientation            Dir         NflId   JerseyNumber         Season       YardLine        Quarter           Down       Distance  HomeScoreBeforePlay  VisitorScoreBeforePlay   NflIdRusher  DefendersInTheBox   PlayerWeight           Week    Temperature       Humidity\n",
       "count  509762.000000  509762.000000  509762.000000  509762.000000  509762.000000  509744.000000  509748.000000  5.097620e+05  509762.000000  509762.000000  509762.000000  509762.000000  509762.000000  509762.000000        509762.000000           509762.000000  5.097620e+05      509696.000000  509762.000000  509762.000000  461230.000000  503602.000000\n",
       "mean       60.040304      26.783535       2.591912       1.683176       0.279406     180.247779     179.933859  2.344703e+06      54.187982    2017.486427      28.368737       2.504639       1.520651       8.329248            11.148073                9.501057  2.419204e+06           6.943025     253.554388       9.096370      60.436442      55.646062\n",
       "std        25.435261       7.238206       1.383601       0.976412       0.145482     104.298330     106.319488  6.418871e+05      28.379359       0.499816      13.010918       1.144105       0.674987       3.795208            10.277098                9.366413  5.357783e+05           0.991130      48.367386       5.000984      17.570291      25.430976\n",
       "min         0.660000       1.850000       0.000000       0.000000       0.000000       0.000000       0.000000  2.220000e+02       1.000000    2017.000000       1.000000       1.000000       1.000000       1.000000             0.000000                0.000000  2.340000e+02           1.000000     153.000000       1.000000       9.000000       0.000000\n",
       "25%        39.090000      22.730000       1.500000       0.940000       0.170000      90.630000      89.830000  2.532865e+06      26.000000    2017.000000      20.000000       1.000000       1.000000       6.000000             3.000000                0.000000  2.540011e+06           6.000000     210.000000       5.000000      48.000000      43.000000\n",
       "50%        60.290000      26.790000       2.470000       1.540000       0.270000     179.700000     180.090000  2.543765e+06      56.000000    2017.000000      29.000000       3.000000       1.000000      10.000000             9.000000                7.000000  2.552582e+06           7.000000     245.000000       9.000000      62.000000      59.000000\n",
       "75%        80.970000      30.860000       3.560000       2.290000       0.390000     270.400000     270.190000  2.555343e+06      78.000000    2018.000000      39.000000       4.000000       2.000000      10.000000            17.000000               14.000000  2.557976e+06           8.000000     305.000000      14.000000      73.000000      71.000000\n",
       "max       116.840000      56.450000       9.410000      14.710000       1.390000     360.000000     360.000000  2.561671e+06      99.000000    2018.000000      50.000000       5.000000       4.000000      40.000000            57.000000               51.000000  2.561468e+06          11.000000     380.000000      17.000000      97.000000     100.000000"
      ]
     },
     "execution_count": 12,
     "metadata": {},
     "output_type": "execute_result"
    }
   ],
   "source": [
    "# 연속형 변수들의 summary\n",
    "# 표준편차, max값을 확인해볼 때 극단적인 이상치는 없는 것으로 추정된다.\n",
    "\n",
    "rawdata.iloc[:,2:].describe()"
   ]
  },
  {
   "cell_type": "code",
   "execution_count": 13,
   "metadata": {},
   "outputs": [],
   "source": [
    "IQR = rawdata.describe().loc[\"75%\",:] - rawdata.describe().loc[\"25%\",:]"
   ]
  },
  {
   "cell_type": "code",
   "execution_count": 14,
   "metadata": {},
   "outputs": [],
   "source": [
    "lower_bound = rawdata.describe().loc[\"25%\"] - 1.5 * IQR\n",
    "upper_bound = rawdata.describe().loc[\"75%\"] + 1.5 * IQR"
   ]
  },
  {
   "cell_type": "markdown",
   "metadata": {},
   "source": [
    "### 3IQR을 넘어가는 이상치의 갯수. 박스플롯을 그릴 수 없으므로 대안적으로 데이터프레임을 선택"
   ]
  },
  {
   "cell_type": "code",
   "execution_count": 16,
   "metadata": {
    "scrolled": true
   },
   "outputs": [
    {
     "data": {
      "text/html": [
       "<div>\n",
       "<style scoped>\n",
       "    .dataframe tbody tr th:only-of-type {\n",
       "        vertical-align: middle;\n",
       "    }\n",
       "\n",
       "    .dataframe tbody tr th {\n",
       "        vertical-align: top;\n",
       "    }\n",
       "\n",
       "    .dataframe thead th {\n",
       "        text-align: right;\n",
       "    }\n",
       "</style>\n",
       "<table border=\"1\" class=\"dataframe\">\n",
       "  <thead>\n",
       "    <tr style=\"text-align: right;\">\n",
       "      <th></th>\n",
       "      <th>GameId</th>\n",
       "      <th>PlayId</th>\n",
       "      <th>X</th>\n",
       "      <th>Y</th>\n",
       "      <th>S</th>\n",
       "      <th>A</th>\n",
       "      <th>Dis</th>\n",
       "      <th>Orientation</th>\n",
       "      <th>Dir</th>\n",
       "      <th>NflId</th>\n",
       "      <th>JerseyNumber</th>\n",
       "      <th>Season</th>\n",
       "      <th>YardLine</th>\n",
       "      <th>Quarter</th>\n",
       "      <th>Down</th>\n",
       "      <th>Distance</th>\n",
       "      <th>HomeScoreBeforePlay</th>\n",
       "      <th>VisitorScoreBeforePlay</th>\n",
       "      <th>NflIdRusher</th>\n",
       "      <th>DefendersInTheBox</th>\n",
       "      <th>PlayerWeight</th>\n",
       "      <th>Week</th>\n",
       "      <th>Temperature</th>\n",
       "      <th>Humidity</th>\n",
       "    </tr>\n",
       "  </thead>\n",
       "  <tbody>\n",
       "    <tr>\n",
       "      <th>False</th>\n",
       "      <td>509762.0</td>\n",
       "      <td>509762.0</td>\n",
       "      <td>509762.0</td>\n",
       "      <td>495044</td>\n",
       "      <td>509762.0</td>\n",
       "      <td>509762.0</td>\n",
       "      <td>509762.0</td>\n",
       "      <td>509762.0</td>\n",
       "      <td>509762.0</td>\n",
       "      <td>428376</td>\n",
       "      <td>509762.0</td>\n",
       "      <td>509762.0</td>\n",
       "      <td>509762.0</td>\n",
       "      <td>509762.0</td>\n",
       "      <td>509762.0</td>\n",
       "      <td>509762.0</td>\n",
       "      <td>509762.0</td>\n",
       "      <td>509762.0</td>\n",
       "      <td>420310</td>\n",
       "      <td>509718</td>\n",
       "      <td>509762.0</td>\n",
       "      <td>509762.0</td>\n",
       "      <td>507496</td>\n",
       "      <td>464508</td>\n",
       "    </tr>\n",
       "    <tr>\n",
       "      <th>True</th>\n",
       "      <td>NaN</td>\n",
       "      <td>NaN</td>\n",
       "      <td>NaN</td>\n",
       "      <td>14718</td>\n",
       "      <td>NaN</td>\n",
       "      <td>NaN</td>\n",
       "      <td>NaN</td>\n",
       "      <td>NaN</td>\n",
       "      <td>NaN</td>\n",
       "      <td>81386</td>\n",
       "      <td>NaN</td>\n",
       "      <td>NaN</td>\n",
       "      <td>NaN</td>\n",
       "      <td>NaN</td>\n",
       "      <td>NaN</td>\n",
       "      <td>NaN</td>\n",
       "      <td>NaN</td>\n",
       "      <td>NaN</td>\n",
       "      <td>89452</td>\n",
       "      <td>44</td>\n",
       "      <td>NaN</td>\n",
       "      <td>NaN</td>\n",
       "      <td>2266</td>\n",
       "      <td>45254</td>\n",
       "    </tr>\n",
       "  </tbody>\n",
       "</table>\n",
       "</div>"
      ],
      "text/plain": [
       "         GameId    PlayId         X       Y         S         A       Dis  Orientation       Dir   NflId  JerseyNumber    Season  YardLine   Quarter      Down  Distance  HomeScoreBeforePlay  VisitorScoreBeforePlay  NflIdRusher  DefendersInTheBox  PlayerWeight      Week  Temperature  Humidity\n",
       "False  509762.0  509762.0  509762.0  495044  509762.0  509762.0  509762.0     509762.0  509762.0  428376      509762.0  509762.0  509762.0  509762.0  509762.0  509762.0             509762.0                509762.0       420310             509718      509762.0  509762.0       507496    464508\n",
       "True        NaN       NaN       NaN   14718       NaN       NaN       NaN          NaN       NaN   81386           NaN       NaN       NaN       NaN       NaN       NaN                  NaN                     NaN        89452                 44           NaN       NaN         2266     45254"
      ]
     },
     "execution_count": 16,
     "metadata": {},
     "output_type": "execute_result"
    }
   ],
   "source": [
    "(rawdata.loc[:,(rawdata.dtypes != \"object\").values] < lower_bound).aggregate(lambda x : x.value_counts(),axis=\"index\")"
   ]
  },
  {
   "cell_type": "code",
   "execution_count": 19,
   "metadata": {},
   "outputs": [
    {
     "data": {
      "text/html": [
       "<div>\n",
       "<style scoped>\n",
       "    .dataframe tbody tr th:only-of-type {\n",
       "        vertical-align: middle;\n",
       "    }\n",
       "\n",
       "    .dataframe tbody tr th {\n",
       "        vertical-align: top;\n",
       "    }\n",
       "\n",
       "    .dataframe thead th {\n",
       "        text-align: right;\n",
       "    }\n",
       "</style>\n",
       "<table border=\"1\" class=\"dataframe\">\n",
       "  <thead>\n",
       "    <tr style=\"text-align: right;\">\n",
       "      <th></th>\n",
       "      <th>GameId</th>\n",
       "      <th>PlayId</th>\n",
       "      <th>X</th>\n",
       "      <th>Y</th>\n",
       "      <th>S</th>\n",
       "      <th>A</th>\n",
       "      <th>Dis</th>\n",
       "      <th>Orientation</th>\n",
       "      <th>Dir</th>\n",
       "      <th>NflId</th>\n",
       "      <th>JerseyNumber</th>\n",
       "      <th>Season</th>\n",
       "      <th>YardLine</th>\n",
       "      <th>Quarter</th>\n",
       "      <th>Down</th>\n",
       "      <th>Distance</th>\n",
       "      <th>HomeScoreBeforePlay</th>\n",
       "      <th>VisitorScoreBeforePlay</th>\n",
       "      <th>NflIdRusher</th>\n",
       "      <th>DefendersInTheBox</th>\n",
       "      <th>PlayerWeight</th>\n",
       "      <th>Week</th>\n",
       "      <th>Temperature</th>\n",
       "      <th>Humidity</th>\n",
       "    </tr>\n",
       "  </thead>\n",
       "  <tbody>\n",
       "    <tr>\n",
       "      <th>False</th>\n",
       "      <td>509762.0</td>\n",
       "      <td>509762.0</td>\n",
       "      <td>509762.0</td>\n",
       "      <td>495625</td>\n",
       "      <td>507290</td>\n",
       "      <td>504107</td>\n",
       "      <td>508233</td>\n",
       "      <td>509762.0</td>\n",
       "      <td>509762.0</td>\n",
       "      <td>509762.0</td>\n",
       "      <td>509762.0</td>\n",
       "      <td>509762.0</td>\n",
       "      <td>509762.0</td>\n",
       "      <td>509762.0</td>\n",
       "      <td>505560</td>\n",
       "      <td>498828</td>\n",
       "      <td>502304</td>\n",
       "      <td>502920</td>\n",
       "      <td>509762.0</td>\n",
       "      <td>509762.0</td>\n",
       "      <td>509762.0</td>\n",
       "      <td>509762.0</td>\n",
       "      <td>509762.0</td>\n",
       "      <td>509762.0</td>\n",
       "    </tr>\n",
       "    <tr>\n",
       "      <th>True</th>\n",
       "      <td>NaN</td>\n",
       "      <td>NaN</td>\n",
       "      <td>NaN</td>\n",
       "      <td>14137</td>\n",
       "      <td>2472</td>\n",
       "      <td>5655</td>\n",
       "      <td>1529</td>\n",
       "      <td>NaN</td>\n",
       "      <td>NaN</td>\n",
       "      <td>NaN</td>\n",
       "      <td>NaN</td>\n",
       "      <td>NaN</td>\n",
       "      <td>NaN</td>\n",
       "      <td>NaN</td>\n",
       "      <td>4202</td>\n",
       "      <td>10934</td>\n",
       "      <td>7458</td>\n",
       "      <td>6842</td>\n",
       "      <td>NaN</td>\n",
       "      <td>NaN</td>\n",
       "      <td>NaN</td>\n",
       "      <td>NaN</td>\n",
       "      <td>NaN</td>\n",
       "      <td>NaN</td>\n",
       "    </tr>\n",
       "  </tbody>\n",
       "</table>\n",
       "</div>"
      ],
      "text/plain": [
       "         GameId    PlayId         X       Y       S       A     Dis  Orientation       Dir     NflId  JerseyNumber    Season  YardLine   Quarter    Down  Distance  HomeScoreBeforePlay  VisitorScoreBeforePlay  NflIdRusher  DefendersInTheBox  PlayerWeight      Week  Temperature  Humidity\n",
       "False  509762.0  509762.0  509762.0  495625  507290  504107  508233     509762.0  509762.0  509762.0      509762.0  509762.0  509762.0  509762.0  505560    498828               502304                  502920     509762.0           509762.0      509762.0  509762.0     509762.0  509762.0\n",
       "True        NaN       NaN       NaN   14137    2472    5655    1529          NaN       NaN       NaN           NaN       NaN       NaN       NaN    4202     10934                 7458                    6842          NaN                NaN           NaN       NaN          NaN       NaN"
      ]
     },
     "execution_count": 19,
     "metadata": {},
     "output_type": "execute_result"
    }
   ],
   "source": [
    "(rawdata.loc[:,(rawdata.dtypes != \"object\").values] > upper_bound).aggregate(lambda x : x.value_counts(),axis=\"index\")"
   ]
  },
  {
   "cell_type": "markdown",
   "metadata": {},
   "source": [
    "## 선수별 포지션 일람\n",
    "### 각 변수별로 *22의 와이드폼으로 펼칠 때, 포지션별로 개별 할당이 가능한지 탐색"
   ]
  },
  {
   "cell_type": "code",
   "execution_count": 8,
   "metadata": {},
   "outputs": [
    {
     "data": {
      "text/plain": [
       "array(['SS', 'DE', 'ILB', 'FS', 'CB', 'DT', 'WR', 'TE', 'T', 'QB', 'RB',\n",
       "       'G', 'C', 'OLB', 'NT', 'FB', 'MLB', 'LB', 'OT', 'OG', 'HB', 'DB',\n",
       "       'S', 'DL', 'SAF'], dtype=object)"
      ]
     },
     "execution_count": 8,
     "metadata": {},
     "output_type": "execute_result"
    }
   ],
   "source": [
    "rawdata[\"Position\"].unique()"
   ]
  },
  {
   "cell_type": "code",
   "execution_count": 9,
   "metadata": {},
   "outputs": [
    {
     "name": "stdout",
     "output_type": "stream",
     "text": [
      "전체 선수들의 수\n",
      "2230\n",
      "포지션 별 선수들의 수\n",
      "2242\n"
     ]
    }
   ],
   "source": [
    "# 몇몇 선수들은 하나 이상의 포지션을 맡은 것으로 보인다. 12만큼의 중복된 인원이 존재한다.\n",
    "\n",
    "print(\"전체 선수들의 수\")\n",
    "print(len(rawdata[\"DisplayName\"].unique()))\n",
    "print(\"포지션 별 선수들의 수\")\n",
    "print(len(rawdata.groupby(\"DisplayName\")[\"Position\"].value_counts()))"
   ]
  },
  {
   "cell_type": "code",
   "execution_count": 10,
   "metadata": {
    "scrolled": false
   },
   "outputs": [
    {
     "name": "stdout",
     "output_type": "stream",
     "text": [
      "Andre Smith\n",
      "['LB' 'T']\n",
      "Brandon Marshall\n",
      "['ILB' 'WR']\n",
      "Brandon Williams\n",
      "['CB' 'DT' 'TE']\n",
      "Chris Thompson\n",
      "['RB' 'WR']\n",
      "Isaiah Johnson\n",
      "['DB' 'S']\n",
      "Joe Thomas\n",
      "['ILB' 'OT']\n",
      "Kyle Fuller\n",
      "['C' 'CB']\n",
      "Marcus Williams\n",
      "['CB' 'FS']\n",
      "Michael Bennett\n",
      "['DE' 'DT']\n",
      "Michael Thomas\n",
      "['SS' 'WR']\n",
      "Nick Williams\n",
      "['DT' 'WR']\n"
     ]
    }
   ],
   "source": [
    "# 중복 포지션을 갖고있는 선수들 골라내기\n",
    "\n",
    "temp = DataFrame(rawdata.groupby(\"DisplayName\")[\"Position\"].value_counts()).unstack().unstack().unstack()\n",
    "\n",
    "for i in range(0,len(temp.T)):\n",
    "    if temp.isnull().iloc[:,i].value_counts()[0] != 1:\n",
    "        print(temp.iloc[:,i].name)\n",
    "        print(temp.iloc[:,i].Position.dropna().index.values)"
   ]
  },
  {
   "cell_type": "code",
   "execution_count": 11,
   "metadata": {},
   "outputs": [
    {
     "data": {
      "text/plain": [
       "CB     3\n",
       "WR     3\n",
       "DE     3\n",
       "T      2\n",
       "SS     2\n",
       "G      2\n",
       "ILB    1\n",
       "TE     1\n",
       "C      1\n",
       "QB     1\n",
       "RB     1\n",
       "DT     1\n",
       "FS     1\n",
       "Name: Position, dtype: int64"
      ]
     },
     "execution_count": 11,
     "metadata": {},
     "output_type": "execute_result"
    }
   ],
   "source": [
    "# 한 번의 경기엔 여러개의 중복 포지션들이 존재함\n",
    "# 선수의 수 = 22명\n",
    "# 포지션의 수 = 13\n",
    "\n",
    "rawdata[rawdata[\"PlayId\"] == rawdata[\"PlayId\"][1]][\"Position\"].value_counts()"
   ]
  },
  {
   "cell_type": "markdown",
   "metadata": {},
   "source": [
    "# 경기 시작후 선수들의 위치 현황"
   ]
  },
  {
   "cell_type": "code",
   "execution_count": 25,
   "metadata": {},
   "outputs": [
    {
     "data": {
      "image/png": "[encoded data removed]",
      "text/plain": [
       "<Figure size 1440x720 with 1 Axes>"
      ]
     },
     "metadata": {},
     "output_type": "display_data"
    }
   ],
   "source": [
    "x_away_1 = rawdata[rawdata[\"PlayId\"] == rawdata[\"PlayId\"].unique()[0]][rawdata[\"Team\"] == \"away\"][\"X\"]\n",
    "y_away_1 = rawdata[rawdata[\"PlayId\"] == rawdata[\"PlayId\"].unique()[0]][rawdata[\"Team\"] == \"away\"][\"Y\"]\n",
    "\n",
    "x_home_1 = rawdata[rawdata[\"PlayId\"] == rawdata[\"PlayId\"].unique()[0]][rawdata[\"Team\"] == \"home\"][\"X\"]\n",
    "y_home_1 = rawdata[rawdata[\"PlayId\"] == rawdata[\"PlayId\"].unique()[0]][rawdata[\"Team\"] == \"home\"][\"Y\"]\n",
    "\n",
    "# ======================================================================================================\n",
    "\n",
    "x_away_2 = rawdata[rawdata[\"PlayId\"] == rawdata[\"PlayId\"].unique()[5]][rawdata[\"Team\"] == \"away\"][\"X\"]\n",
    "y_away_2 = rawdata[rawdata[\"PlayId\"] == rawdata[\"PlayId\"].unique()[5]][rawdata[\"Team\"] == \"away\"][\"Y\"]\n",
    "\n",
    "x_home_2 = rawdata[rawdata[\"PlayId\"] == rawdata[\"PlayId\"].unique()[5]][rawdata[\"Team\"] == \"home\"][\"X\"]\n",
    "y_home_2 = rawdata[rawdata[\"PlayId\"] == rawdata[\"PlayId\"].unique()[5]][rawdata[\"Team\"] == \"home\"][\"Y\"]\n",
    "\n",
    "# =====================================================================================================\n",
    "\n",
    "x_away_3 = rawdata[rawdata[\"PlayId\"] == rawdata[\"PlayId\"].unique()[10]][rawdata[\"Team\"] == \"away\"][\"X\"]\n",
    "y_away_3 = rawdata[rawdata[\"PlayId\"] == rawdata[\"PlayId\"].unique()[10]][rawdata[\"Team\"] == \"away\"][\"Y\"]\n",
    "\n",
    "x_home_3 = rawdata[rawdata[\"PlayId\"] == rawdata[\"PlayId\"].unique()[10]][rawdata[\"Team\"] == \"home\"][\"X\"]\n",
    "y_home_3 = rawdata[rawdata[\"PlayId\"] == rawdata[\"PlayId\"].unique()[10]][rawdata[\"Team\"] == \"home\"][\"Y\"]\n",
    "\n",
    "plt.figure(figsize=(20,10))\n",
    "\n",
    "plt.xlim(0,120)\n",
    "plt.ylim(0,55.5)\n",
    "# 첫 번째 경기\n",
    "plt.scatter(x = x_away_1, y = y_away_1,c=\"b\")\n",
    "plt.scatter(x = x_home_1, y = y_home_1,c=\"r\")\n",
    "# 두 번째 경기\n",
    "plt.scatter(x = x_away_2, y = y_away_2,c=\"b\")\n",
    "plt.scatter(x = x_home_2, y = y_home_2,c=\"r\")\n",
    "# 세 번째 경기\n",
    "plt.scatter(x = x_away_3, y = y_away_3, c = \"b\")\n",
    "plt.scatter(x = x_home_3, y = y_home_3, c = \"r\")\n",
    "\n",
    "plt.show()\n",
    "\n",
    "# 매 경기마다 시작위치가 달라진다"
   ]
  },
  {
   "cell_type": "code",
   "execution_count": 15,
   "metadata": {},
   "outputs": [],
   "source": [
    "# 시계열적 특성 = 선수는 갈수록 지칠것이다\n",
    "# 매 iteration 자체의 특성 = 시작 위치, 속력, 각속도 등..\n",
    "\n",
    "# 시작 위치와 골라인간의 직선거리(L2 Norm)을 고려(특성 엔지니어링)\n",
    "\n",
    "# 두 개를 모두 고려한 모델을 생각해보자"
   ]
  },
  {
   "cell_type": "markdown",
   "metadata": {},
   "source": [
    "# 데이터 전처리 - 카테고리 변수의 변환"
   ]
  },
  {
   "cell_type": "markdown",
   "metadata": {},
   "source": [
    "# 데이터 전처리 - 결측치 처리"
   ]
  },
  {
   "cell_type": "code",
   "execution_count": 16,
   "metadata": {},
   "outputs": [
    {
     "name": "stdout",
     "output_type": "stream",
     "text": [
      "결측치 표시기\n"
     ]
    },
    {
     "data": {
      "text/html": [
       "<div>\n",
       "<style scoped>\n",
       "    .dataframe tbody tr th:only-of-type {\n",
       "        vertical-align: middle;\n",
       "    }\n",
       "\n",
       "    .dataframe tbody tr th {\n",
       "        vertical-align: top;\n",
       "    }\n",
       "\n",
       "    .dataframe thead th {\n",
       "        text-align: right;\n",
       "    }\n",
       "</style>\n",
       "<table border=\"1\" class=\"dataframe\">\n",
       "  <thead>\n",
       "    <tr style=\"text-align: right;\">\n",
       "      <th></th>\n",
       "      <th>0</th>\n",
       "    </tr>\n",
       "  </thead>\n",
       "  <tbody>\n",
       "    <tr>\n",
       "      <th>WindDirection</th>\n",
       "      <td>80234</td>\n",
       "    </tr>\n",
       "    <tr>\n",
       "      <th>WindSpeed</th>\n",
       "      <td>67430</td>\n",
       "    </tr>\n",
       "    <tr>\n",
       "      <th>Temperature</th>\n",
       "      <td>48532</td>\n",
       "    </tr>\n",
       "    <tr>\n",
       "      <th>GameWeather</th>\n",
       "      <td>43648</td>\n",
       "    </tr>\n",
       "    <tr>\n",
       "      <th>StadiumType</th>\n",
       "      <td>32934</td>\n",
       "    </tr>\n",
       "    <tr>\n",
       "      <th>FieldPosition</th>\n",
       "      <td>6424</td>\n",
       "    </tr>\n",
       "    <tr>\n",
       "      <th>Humidity</th>\n",
       "      <td>6160</td>\n",
       "    </tr>\n",
       "    <tr>\n",
       "      <th>OffenseFormation</th>\n",
       "      <td>110</td>\n",
       "    </tr>\n",
       "    <tr>\n",
       "      <th>DefendersInTheBox</th>\n",
       "      <td>66</td>\n",
       "    </tr>\n",
       "    <tr>\n",
       "      <th>Orientation</th>\n",
       "      <td>18</td>\n",
       "    </tr>\n",
       "    <tr>\n",
       "      <th>Dir</th>\n",
       "      <td>14</td>\n",
       "    </tr>\n",
       "  </tbody>\n",
       "</table>\n",
       "</div>"
      ],
      "text/plain": [
       "                       0\n",
       "WindDirection      80234\n",
       "WindSpeed          67430\n",
       "Temperature        48532\n",
       "GameWeather        43648\n",
       "StadiumType        32934\n",
       "FieldPosition       6424\n",
       "Humidity            6160\n",
       "OffenseFormation     110\n",
       "DefendersInTheBox     66\n",
       "Orientation           18\n",
       "Dir                   14"
      ]
     },
     "execution_count": 16,
     "metadata": {},
     "output_type": "execute_result"
    }
   ],
   "source": [
    "print (\"결측치 표시기\")\n",
    "missmap = rawdata.isnull().sum().to_frame().sort_values(0, ascending = False)\n",
    "missmap[missmap[0] != 0]"
   ]
  },
  {
   "cell_type": "markdown",
   "metadata": {},
   "source": [
    "### 과연 결측치들은 어느 변수와 가장 큰 연관성을 갖고 있을까?"
   ]
  },
  {
   "cell_type": "markdown",
   "metadata": {},
   "source": [
    "## 바람 방향(WindDirection)"
   ]
  },
  {
   "cell_type": "code",
   "execution_count": 27,
   "metadata": {},
   "outputs": [
    {
     "data": {
      "text/plain": [
       "Index(['GameId', 'PlayId', 'Team', 'X', 'Y', 'S', 'A', 'Dis', 'Orientation', 'Dir', 'NflId', 'DisplayName', 'JerseyNumber', 'Season', 'YardLine', 'Quarter', 'GameClock', 'PossessionTeam', 'Down', 'Distance', 'FieldPosition', 'HomeScoreBeforePlay', 'VisitorScoreBeforePlay', 'NflIdRusher', 'OffenseFormation', 'OffensePersonnel', 'DefendersInTheBox', 'DefensePersonnel', 'PlayDirection', 'TimeHandoff', 'TimeSnap', 'PlayerHeight', 'PlayerWeight', 'PlayerBirthDate', 'PlayerCollegeName', 'Position', 'HomeTeamAbbr', 'VisitorTeamAbbr', 'Week', 'Stadium', 'Location', 'StadiumType', 'Turf', 'GameWeather', 'Temperature', 'Humidity', 'WindSpeed', 'WindDirection'], dtype='object')"
      ]
     },
     "execution_count": 27,
     "metadata": {},
     "output_type": "execute_result"
    }
   ],
   "source": [
    "rawdata.columns"
   ]
  },
  {
   "cell_type": "code",
   "execution_count": 37,
   "metadata": {},
   "outputs": [
    {
     "data": {
      "text/plain": [
       "HomeTeamAbbr\n",
       "ARI                                  [nan, NE, SE, N, W]\n",
       "ATL                                [NW, nan, ESE, E, SW]\n",
       "CLE           [East, SE, West, South, N, SW, nan, North]\n",
       "DAL                   [nan, North, North/Northwest, SSE]\n",
       "DEN    [SouthWest, E, NorthEast, North, Northeast, So...\n",
       "DET                                                [nan]\n",
       "KC     [Northeast, South Southeast, Northwest, South ...\n",
       "LA                    [SW, nan, W, North, ESE, NNW, WSW]\n",
       "MIN                                                [nan]\n",
       "NE           [SW, NE, N, SE, WNW, North, West, SSW, nan]\n",
       "NYJ     [NE, NNE, WNW, East, South, NW, nan, N, SW, NNW]\n",
       "SF     [Northwest, West-Southwest, NW, West, Southeas...\n",
       "WAS    [North, nan, South, ESE, NE, ENE, WNW, East, S...\n",
       "Name: WindDirection, dtype: object"
      ]
     },
     "execution_count": 37,
     "metadata": {},
     "output_type": "execute_result"
    }
   ],
   "source": [
    "temp = rawdata.groupby(\"HomeTeamAbbr\")[\"WindDirection\"]\n",
    "nan_compromised = temp.value_counts(dropna=False).unstack().iloc[:,0].isnull() == False\n",
    "nan_compromised = nan_compromised[nan_compromised]\n",
    "temp.unique()[nan_compromised.index]\n",
    "\n",
    "# 각 홈팀 이름별로 nan값만 발생하는 경우가 있다. 이들의 홈구장의 환경과 연관이 있는걸까?"
   ]
  },
  {
   "cell_type": "code",
   "execution_count": 38,
   "metadata": {},
   "outputs": [
    {
     "data": {
      "text/plain": [
       "VisitorTeamAbbr\n",
       "ARI     [nan, SSW, W, NW, North, South, N, SW, N-NE, SE]\n",
       "ATL    [SE, nan, NE, East, ENE, E, NNE, WNW, NNW, Fro...\n",
       "BAL    [SE, WNW, nan, WSW, W-NW, From SW, N, S, North...\n",
       "BUF    [North, nan, SSE, South, W, South Southwest, N...\n",
       "CAR    [Northwest, N, nan, S, NNW, NW, NE, From NNE, ...\n",
       "CHI              [NE, SW, s, N, NW, SSW, nan, E, 8, NNW]\n",
       "CIN    [S, SE, From S, NNE, SSW, North, nan, NW, NE, ...\n",
       "CLE    [ESE, ENE, N, nan, E, WSW, WNW, From W, NW, W,...\n",
       "DAL    [SouthWest, nan, NW, ESE, West, NNW, East Nort...\n",
       "DET       [ENE, nan, SE, SW, WNW, N, S, NW, SSW, W, NNE]\n",
       "GB     [NW, nan, WSW, From WSW, SW, SSW, NE, West, So...\n",
       "HOU    [ENE, NE, nan, Southeast, East, SE, NW, SW, So...\n",
       "JAX    [NNE, From SW, S, West, nan, Northeast, NE, WS...\n",
       "KC     [SW, W, NW, nan, WNW, NorthEast, From ESE, Nor...\n",
       "LA     [West-Southwest, nan, NE, ENE, S, WSW, SSE, No...\n",
       "LAC    [SouthWest, WSW, NNE, SE, NE, nan, South, N, S...\n",
       "MIA    [W, NE, nan, West, NNE, WNW, NW, East, S, NNW,...\n",
       "MIN    [From S, NE, N, South, nan, West, SW, S, WSW, ...\n",
       "NE     [NNE, E, WNW, NorthEast, N, WSW, NW, From SSE,...\n",
       "NO     [nan, NNE, 13, W, WSW, North, SSE, South, WNW,...\n",
       "NYG    [nan, NNE, E, NorthEast, West, West Northwest,...\n",
       "NYJ    [NNE, South, West, ESE, E, North, WSW, WNW, na...\n",
       "OAK    [NE, nan, E, N, W-NW, W, S, South, SSW, NW, SE...\n",
       "PHI    [North, Northeast, S, ENE, nan, NNE, Calm, SSW...\n",
       "PIT    [East, S, North, Northwest, nan, NE, SSW, ESE,...\n",
       "SEA    [S, E, nan, SSE, Southeast, NW, Northeast, ESE...\n",
       "SF     [S, nan, ESE, South, SE, SSW, SSE, East Southe...\n",
       "TB            [nan, s, SW, W, SE, NE, SSW, East, 1, NNW]\n",
       "WAS    [SW, South Southeast, SSE, NNW, N, North, NW, ...\n",
       "Name: WindDirection, dtype: object"
      ]
     },
     "execution_count": 38,
     "metadata": {},
     "output_type": "execute_result"
    }
   ],
   "source": [
    "temp = rawdata.groupby(\"VisitorTeamAbbr\")[\"WindDirection\"]\n",
    "nan_compromised = temp.value_counts(dropna=False).unstack().iloc[:,0].isnull() == False\n",
    "nan_compromised = nan_compromised[nan_compromised]\n",
    "temp.unique()[nan_compromised.index]\n",
    "\n",
    "# 원정팀과 바람의 결측값과는 상관이 없다."
   ]
  },
  {
   "cell_type": "code",
   "execution_count": 41,
   "metadata": {},
   "outputs": [
    {
     "data": {
      "text/plain": [
       "Turf\n",
       "Artificial       [NNE, nan, SSW, ENE, N, ESE, NW, S, NE, WSW, N...\n",
       "Field Turf             [SW, nan, NE, N, SE, WNW, North, West, SSW]\n",
       "Field turf                                                   [nan]\n",
       "FieldTurf        [S, NE, NNE, NNW, WNW, East, ENE, South, E, NW...\n",
       "FieldTurf 360                                            [NW, nan]\n",
       "FieldTurf360                                     [nan, ESE, E, SW]\n",
       "Grass            [SE, East, NE, North, SW, SouthWest, NW, From ...\n",
       "Natural Grass    [Northwest, ESE, North, Northeast, NE, South, ...\n",
       "Natural grass                         [West-Southwest, NW, N, nan]\n",
       "natural grass                                                [nan]\n",
       "Name: WindDirection, dtype: object"
      ]
     },
     "execution_count": 41,
     "metadata": {},
     "output_type": "execute_result"
    }
   ],
   "source": [
    "temp = rawdata.groupby(\"Turf\")[\"WindDirection\"]\n",
    "nan_compromised = temp.value_counts(dropna=False).unstack().iloc[:,0].isnull() == False\n",
    "nan_compromised = nan_compromised[nan_compromised]\n",
    "temp.unique()[nan_compromised.index]\n",
    "\n",
    "# 아니 이건 또 왜 같은 잔디종류를 여러개로 나누고 그래"
   ]
  },
  {
   "cell_type": "code",
   "execution_count": 36,
   "metadata": {},
   "outputs": [
    {
     "data": {
      "text/plain": [
       "FieldPosition\n",
       "ARZ    [nan, SSW, W, NW, North, NE, South, SE, N, SW,...\n",
       "ATL    [SE, NW, nan, NE, East, ENE, E, NNE, WNW, NNW,...\n",
       "BLT    [SE, ESE, North, WNW, s, nan, West, WSW, W-NW,...\n",
       "BUF    [NNE, North, W, nan, SSE, s, NE, South, WSW, S...\n",
       "CAR    [Northwest, North, NNE, N, nan, ENE, S, NNW, N...\n",
       "CHI    [SE, NE, S, SW, s, N, WSW, WNW, NW, SSW, nan, ...\n",
       "CIN    [SE, ENE, S, SSE, From S, NNW, NNE, SSW, North...\n",
       "CLV    [East, ESE, ENE, SE, West, N, South, nan, E, W...\n",
       "DAL    [nan, SouthWest, NW, ESE, North, West, NNW, Ea...\n",
       "DEN    [SouthWest, W, E, NorthEast, Northwest, SE, No...\n",
       "DET       [nan, ENE, SE, SW, WNW, N, S, NW, SSW, W, NNE]\n",
       "GB     [S, NW, SW, nan, W, WSW, W-NW, From WSW, SE, S...\n",
       "HST    [NNE, ENE, NE, N, NW, SSW, nan, North, Southea...\n",
       "JAX    [NNE, NW, SE, From SW, NE, S, West, nan, North...\n",
       "KC     [SW, Northeast, W, South Southeast, NW, Northw...\n",
       "LA     [SW, West-Southwest, nan, NE, W, ENE, North, S...\n",
       "LAC    [SouthWest, W, S, WSW, NNE, SE, NE, nan, NNW, ...\n",
       "MIA    [W, NE, 13, ESE, nan, West, N, NNE, WNW, NW, W...\n",
       "MIN    [nan, From S, NE, N, South, West, SW, S, WSW, ...\n",
       "NE     [SW, NNE, NE, N, E, WNW, SE, NorthEast, WSW, N...\n",
       "NO     [nan, NNE, 13, SE, W, N, SW, WSW, North, NE, W...\n",
       "NYG    [nan, ENE, NNE, E, WSW, NorthEast, SSE, West, ...\n",
       "NYJ    [NNE, South, NE, West, WNW, ESE, East, E, NW, ...\n",
       "OAK    [NE, South, nan, E, WNW, NNE, SW, N, West Nort...\n",
       "PHI    [North, Northeast, NNE, S, SSW, ENE, SSE, SE, ...\n",
       "PIT    [East, From S, S, North, From SW, Northwest, n...\n",
       "SEA    [S, E, NNW, nan, SSE, ENE, Southeast, NNE, NW,...\n",
       "SF     [Northwest, S, West-Southwest, nan, ESE, South...\n",
       "TB     [NE, nan, E, s, NNW, SW, W, SE, N, NNE, SSE, S...\n",
       "WAS    [North, SW, nan, South Southeast, South, SSE, ...\n",
       "Name: WindDirection, dtype: object"
      ]
     },
     "execution_count": 36,
     "metadata": {},
     "output_type": "execute_result"
    }
   ],
   "source": [
    "temp = rawdata.groupby(\"FieldPosition\")[\"WindDirection\"]\n",
    "nan_compromised = temp.value_counts(dropna=False).unstack().iloc[:,0].isnull() == False\n",
    "nan_compromised = nan_compromised[nan_compromised]\n",
    "temp.unique()[nan_compromised.index]\n",
    "\n",
    "# 필드포지션과는 상관이 없다."
   ]
  },
  {
   "cell_type": "code",
   "execution_count": 18,
   "metadata": {
    "scrolled": false
   },
   "outputs": [
    {
     "data": {
      "text/plain": [
       "GameWeather\n",
       "Clear                         [Northwest, NE, NW, nan, NNW, South Southeast,...\n",
       "Clear skies                                              [nan, North/Northwest]\n",
       "Cloudy                        [Northeast, W, SW, ENE, E, West, ESE, WSW, Fro...\n",
       "Controlled Climate                                                        [nan]\n",
       "Hazy                                                               [S, NE, nan]\n",
       "Indoor                                                                    [nan]\n",
       "Indoors                                                      [nan, E, WNW, ESE]\n",
       "N/A (Indoors)                                                             [nan]\n",
       "N/A Indoor                                                                [nan]\n",
       "Partly Cloudy                 [NW, SouthWest, ESE, N, SSE, West, SW, NorthEa...\n",
       "Sunny                         [SE, East, NNE, NE, North, SW, From S, South, ...\n",
       "T: 51; H: 55; W: NW 10 mph                                                [nan]\n",
       "Name: WindDirection, dtype: object"
      ]
     },
     "execution_count": 18,
     "metadata": {},
     "output_type": "execute_result"
    }
   ],
   "source": [
    "temp = rawdata.groupby(\"GameWeather\")[\"WindDirection\"]\n",
    "nan_compromised = temp.value_counts(dropna=False).unstack().iloc[:,0].isnull() == False\n",
    "nan_compromised = nan_compromised[nan_compromised]\n",
    "temp.unique()[nan_compromised.index]\n",
    "\n",
    "## 구름이 끼거나, 실내 경기장인 경우 바람 방향은 결측치이다."
   ]
  },
  {
   "cell_type": "code",
   "execution_count": 19,
   "metadata": {},
   "outputs": [
    {
     "data": {
      "text/plain": [
       "StadiumType\n",
       "Closed Dome                                                           [nan]\n",
       "Dome                                                 [nan, NE, SE, N, E, W]\n",
       "Dome, closed                                                          [nan]\n",
       "Domed, Open                                                           [nan]\n",
       "Domed, closed                                                         [nan]\n",
       "Indoor                                          [nan, North/Northwest, SSE]\n",
       "Indoor, Roof Closed                                                   [nan]\n",
       "Indoors                          [nan, NNE, SE, N, SW, NE, WSW, WNW, NW, E]\n",
       "Outdoor                   [SW, SE, East, S, Northwest, SouthWest, ENE, E...\n",
       "Outdoor Retr Roof-Open                                                [nan]\n",
       "Outdoors                  [NNE, NE, North, From S, SE, W, From SW, ENE, ...\n",
       "Outside                                                               [nan]\n",
       "Name: WindDirection, dtype: object"
      ]
     },
     "execution_count": 19,
     "metadata": {},
     "output_type": "execute_result"
    }
   ],
   "source": [
    "temp = rawdata.groupby(\"StadiumType\")[\"WindDirection\"]\n",
    "nan_compromised = temp.value_counts(dropna=False).unstack().iloc[:,0].isnull() == False\n",
    "nan_compromised = nan_compromised[nan_compromised]\n",
    "temp.unique()[nan_compromised.index]\n",
    "\n",
    "# 마찬가지로 실내돔인 경우 바람방향은 결측치이다."
   ]
  },
  {
   "cell_type": "code",
   "execution_count": 20,
   "metadata": {},
   "outputs": [
    {
     "data": {
      "text/plain": [
       "WindSpeed\n",
       "0.0                                        [nan, SSE, SE]\n",
       "1                                       [From S, SW, nan]\n",
       "5.0     [North, SouthWest, ENE, NNE, East, SE, NE, Wes...\n",
       "0                                                [nan, N]\n",
       "Calm                                                [nan]\n",
       "Name: WindDirection, dtype: object"
      ]
     },
     "execution_count": 20,
     "metadata": {},
     "output_type": "execute_result"
    }
   ],
   "source": [
    "temp = rawdata.groupby(\"WindSpeed\")[\"WindDirection\"]\n",
    "nan_compromised = temp.value_counts(dropna=False).unstack().iloc[:,0].isnull() == False\n",
    "nan_compromised = nan_compromised[nan_compromised]\n",
    "temp.unique()[nan_compromised.index]\n",
    "\n",
    "# calm이거나 0인경우에 바람 방향은 결측치이다."
   ]
  },
  {
   "cell_type": "markdown",
   "metadata": {},
   "source": [
    "## StadiumType 결측값"
   ]
  },
  {
   "cell_type": "code",
   "execution_count": 61,
   "metadata": {},
   "outputs": [
    {
     "data": {
      "text/plain": [
       "Stadium\n",
       "MetLife Stadium              [nan, Outdoor, Outdoors]\n",
       "StubHub Center                                  [nan]\n",
       "TIAA Bank Field    [Open, Outdoor, nan, Cloudy, Bowl]\n",
       "Name: StadiumType, dtype: object"
      ]
     },
     "execution_count": 61,
     "metadata": {},
     "output_type": "execute_result"
    }
   ],
   "source": [
    "temp = rawdata.groupby(\"Stadium\")[\"StadiumType\"]\n",
    "nan_compromised = temp.value_counts(dropna=False).unstack().iloc[:,0].isnull() == False\n",
    "nan_compromised = nan_compromised[nan_compromised]\n",
    "temp.unique()[nan_compromised.index]\n",
    "\n",
    "# StubHub Center는 스타디움 유형이 결측처리 되어있다."
   ]
  },
  {
   "cell_type": "code",
   "execution_count": 63,
   "metadata": {},
   "outputs": [
    {
     "data": {
      "text/plain": [
       "HomeTeamAbbr\n",
       "JAX    [Open, Outdoors, Outdoor, nan, Cloudy, Bowl]\n",
       "LAC                                 [nan, Outdoors]\n",
       "NYG                                           [nan]\n",
       "Name: StadiumType, dtype: object"
      ]
     },
     "execution_count": 63,
     "metadata": {},
     "output_type": "execute_result"
    }
   ],
   "source": [
    "temp = rawdata.groupby(\"HomeTeamAbbr\")[\"StadiumType\"]\n",
    "nan_compromised = temp.value_counts(dropna=False).unstack().iloc[:,0].isnull() == False\n",
    "nan_compromised = nan_compromised[nan_compromised]\n",
    "temp.unique()[nan_compromised.index]\n",
    "\n",
    "# 홈팀 중 NYG는 nan값밖엔 없다."
   ]
  },
  {
   "cell_type": "markdown",
   "metadata": {},
   "source": [
    "# 데이터 전처리 - 와이드폼 전환"
   ]
  },
  {
   "cell_type": "code",
   "execution_count": 38,
   "metadata": {},
   "outputs": [],
   "source": [
    "rawdata_cat = rawdata.copy()\n",
    "rawdata_cat = rawdata_cat.drop(columns=\"GameId\")"
   ]
  },
  {
   "cell_type": "code",
   "execution_count": 39,
   "metadata": {},
   "outputs": [],
   "source": [
    "rawdata_QB = rawdata_cat[rawdata_cat[\"Position\"] == \"QB\"].copy()\n",
    "rawdata_cat = rawdata_cat[rawdata_cat[\"Position\"] != \"QB\"].copy()"
   ]
  },
  {
   "cell_type": "code",
   "execution_count": 49,
   "metadata": {},
   "outputs": [
    {
     "data": {
      "text/plain": [
       "11    23171\n",
       "10    23171\n",
       "2     23171\n",
       "3     23171\n",
       "4     23171\n",
       "5     23171\n",
       "6     23171\n",
       "7     23171\n",
       "8     23171\n",
       "9     23171\n",
       "1     23171\n",
       "12    23171\n",
       "13    23171\n",
       "14    23171\n",
       "15    23171\n",
       "16    23171\n",
       "17    23171\n",
       "18    23171\n",
       "19    23171\n",
       "20    23171\n",
       "21    23050\n",
       "22        2\n",
       "dtype: int64"
      ]
     },
     "execution_count": 49,
     "metadata": {},
     "output_type": "execute_result"
    }
   ],
   "source": [
    "# 왜 22가 나오는거지?\n",
    "\n",
    "(rawdata_cat.groupby(['PlayId']).cumcount() + 1).value_counts()"
   ]
  },
  {
   "cell_type": "code",
   "execution_count": 54,
   "metadata": {},
   "outputs": [
    {
     "data": {
      "text/plain": [
       "42855     20170924102908\n",
       "144429    20171112080136\n",
       "Name: PlayId, dtype: int64"
      ]
     },
     "execution_count": 54,
     "metadata": {},
     "output_type": "execute_result"
    }
   ],
   "source": [
    "## 22가 존재하는, 즉 QB가 정상적으로 제거되지 않은 PlayID들\n",
    "\n",
    "rawdata_cat[rawdata_cat[\"row_number\"] == 22][\"PlayId\"]"
   ]
  },
  {
   "cell_type": "code",
   "execution_count": 128,
   "metadata": {},
   "outputs": [
    {
     "data": {
      "text/plain": [
       "C      1\n",
       "CB     3\n",
       "DE     3\n",
       "DT     1\n",
       "FS     1\n",
       "G      2\n",
       "ILB    1\n",
       "RB     1\n",
       "SS     3\n",
       "T      2\n",
       "TE     1\n",
       "WR     3\n",
       "Name: Position, dtype: int64"
      ]
     },
     "execution_count": 128,
     "metadata": {},
     "output_type": "execute_result"
    }
   ],
   "source": [
    "rawdata_cat.loc[0:22,\"Position\"].value_counts().sort_index()"
   ]
  },
  {
   "cell_type": "code",
   "execution_count": 129,
   "metadata": {},
   "outputs": [
    {
     "data": {
      "text/plain": [
       "C      1\n",
       "CB     2\n",
       "DE     1\n",
       "DT     2\n",
       "FS     1\n",
       "G      2\n",
       "LB     1\n",
       "MLB    2\n",
       "OLB    1\n",
       "RB     2\n",
       "SS     1\n",
       "T      2\n",
       "TE     3\n",
       "WR     1\n",
       "Name: Position, dtype: int64"
      ]
     },
     "execution_count": 129,
     "metadata": {},
     "output_type": "execute_result"
    }
   ],
   "source": [
    "rawdata_cat[rawdata_cat[\"PlayId\"] == 20170924102908][\"Position\"].value_counts().sort_index()"
   ]
  },
  {
   "cell_type": "code",
   "execution_count": null,
   "metadata": {},
   "outputs": [],
   "source": [
    "## QB가 존재하는 경우엔 ILB가, 그렇지 않은 경우엔 MLB과 OLB로 구분되어 있다."
   ]
  },
  {
   "cell_type": "code",
   "execution_count": 136,
   "metadata": {},
   "outputs": [
    {
     "data": {
      "text/plain": [
       "C      1\n",
       "CB     3\n",
       "DE     3\n",
       "DT     1\n",
       "FS     1\n",
       "G      2\n",
       "ILB    1\n",
       "QB     1\n",
       "RB     1\n",
       "SS     2\n",
       "T      2\n",
       "TE     1\n",
       "WR     3\n",
       "Name: Position, dtype: int64"
      ]
     },
     "execution_count": 136,
     "metadata": {},
     "output_type": "execute_result"
    }
   ],
   "source": [
    "rawdata[0:22][\"Position\"].value_counts().sort_index()"
   ]
  },
  {
   "cell_type": "code",
   "execution_count": 135,
   "metadata": {},
   "outputs": [
    {
     "data": {
      "text/plain": [
       "C      1\n",
       "CB     2\n",
       "DE     1\n",
       "DT     2\n",
       "FS     1\n",
       "G      2\n",
       "LB     1\n",
       "MLB    2\n",
       "OLB    1\n",
       "RB     2\n",
       "SS     1\n",
       "T      2\n",
       "TE     3\n",
       "WR     1\n",
       "Name: Position, dtype: int64"
      ]
     },
     "execution_count": 135,
     "metadata": {},
     "output_type": "execute_result"
    }
   ],
   "source": [
    "rawdata[rawdata[\"PlayId\"] == 20170924102908][\"Position\"].value_counts().sort_index()"
   ]
  },
  {
   "cell_type": "code",
   "execution_count": 44,
   "metadata": {},
   "outputs": [],
   "source": [
    "rawdata_cat['row_number'] = rawdata_cat.groupby(['PlayId']).cumcount() + 1"
   ]
  },
  {
   "cell_type": "code",
   "execution_count": 45,
   "metadata": {},
   "outputs": [],
   "source": [
    "new_df = rawdata_cat.pivot_table(index=['PlayId'], columns=['row_number'], values=rawdata_cat.columns)"
   ]
  },
  {
   "cell_type": "code",
   "execution_count": null,
   "metadata": {},
   "outputs": [],
   "source": [
    "## modeling\n",
    "## 우선 22개 행의 변수들을 하나의 행인 WideForm으로 만든다\n",
    "## 즉, 하나의 변수당 22개의 열들이 생긴다(X_1, X_2....X_22, Y_1,y_2,....Y_22 등)"
   ]
  },
  {
   "cell_type": "code",
   "execution_count": null,
   "metadata": {},
   "outputs": [],
   "source": []
  }
 ],
 "metadata": {
  "kernelspec": {
   "display_name": "tensor",
   "language": "python",
   "name": "tensorflow35"
  },
  "language_info": {
   "codemirror_mode": {
    "name": "ipython",
    "version": 3
   },
   "file_extension": ".py",
   "mimetype": "text/x-python",
   "name": "python",
   "nbconvert_exporter": "python",
   "pygments_lexer": "ipython3",
   "version": "3.5.5"
  }
 },
 "nbformat": 4,
 "nbformat_minor": 2
}
