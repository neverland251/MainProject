{
 "cells": [
  {
   "cell_type": "code",
   "execution_count": 2,
   "metadata": {},
   "outputs": [],
   "source": [
    "import pandas as pd\n",
    "from pandas import DataFrame,Series\n",
    "import numpy as np\n",
    "import sys\n",
    "import os\n",
    "import re\n",
    "import zipfile"
   ]
  },
  {
   "cell_type": "code",
   "execution_count": 5,
   "metadata": {},
   "outputs": [],
   "source": [
    "?os.listdir"
   ]
  },
  {
   "cell_type": "code",
   "execution_count": 4,
   "metadata": {},
   "outputs": [],
   "source": [
    "for i in os.listdir(\".//dataset//after\"):\n",
    "    try:\n",
    "        fantasy_zip = zipfile.ZipFile(\".//dataset//after//\"+i)\n",
    "        fantasy_zip.extractall(\".//dataset//after//MI\")\n",
    "    except:\n",
    "        pass\n",
    "    \n",
    "    fantasy_zip.close()"
   ]
  },
  {
   "cell_type": "markdown",
   "metadata": {},
   "source": [
    "## 각각 폴더별로 분산 저장되어있는 파일들을 모두 꺼내 하나의 폴더로 통합한다."
   ]
  },
  {
   "cell_type": "code",
   "execution_count": 6,
   "metadata": {},
   "outputs": [
    {
     "name": "stdout",
     "output_type": "stream",
     "text": [
      "대체 전 경로 입력.//dataset//after//MI\n",
      "대체 후 경로 입력.//dataset//after//MI\n"
     ]
    },
    {
     "ename": "NotADirectoryError",
     "evalue": "[WinError 267] 디렉터리 이름이 올바르지 않습니다: './/dataset//after//MI//SURFACE_ASOS_100_MI_2019-01_2019-01_2019.csv'",
     "output_type": "error",
     "traceback": [
      "\u001b[1;31m---------------------------------------------------------------------------\u001b[0m",
      "\u001b[1;31mNotADirectoryError\u001b[0m                        Traceback (most recent call last)",
      "\u001b[1;32m<ipython-input-6-490170526e16>\u001b[0m in \u001b[0;36m<module>\u001b[1;34m\u001b[0m\n\u001b[0;32m      5\u001b[0m \u001b[1;33m\u001b[0m\u001b[0m\n\u001b[0;32m      6\u001b[0m \u001b[1;32mfor\u001b[0m \u001b[0mi\u001b[0m \u001b[1;32min\u001b[0m \u001b[0mdir_list\u001b[0m\u001b[1;33m:\u001b[0m\u001b[1;33m\u001b[0m\u001b[1;33m\u001b[0m\u001b[0m\n\u001b[1;32m----> 7\u001b[1;33m     \u001b[0mtemp\u001b[0m \u001b[1;33m=\u001b[0m \u001b[0mos\u001b[0m\u001b[1;33m.\u001b[0m\u001b[0mlistdir\u001b[0m\u001b[1;33m(\u001b[0m\u001b[0mbefore_path\u001b[0m\u001b[1;33m+\u001b[0m\u001b[1;34m\"//\"\u001b[0m\u001b[1;33m+\u001b[0m\u001b[0mi\u001b[0m\u001b[1;33m)\u001b[0m\u001b[1;33m\u001b[0m\u001b[1;33m\u001b[0m\u001b[0m\n\u001b[0m\u001b[0;32m      8\u001b[0m     \u001b[0mos\u001b[0m\u001b[1;33m.\u001b[0m\u001b[0mrename\u001b[0m\u001b[1;33m(\u001b[0m\u001b[0mbefore_path\u001b[0m\u001b[1;33m+\u001b[0m\u001b[1;34m\"//\"\u001b[0m\u001b[1;33m+\u001b[0m\u001b[0mstr\u001b[0m\u001b[1;33m(\u001b[0m\u001b[0mi\u001b[0m\u001b[1;33m)\u001b[0m\u001b[1;33m+\u001b[0m\u001b[1;34m\"//\"\u001b[0m\u001b[1;33m+\u001b[0m\u001b[0mtemp\u001b[0m\u001b[1;33m[\u001b[0m\u001b[1;36m0\u001b[0m\u001b[1;33m]\u001b[0m\u001b[1;33m,\u001b[0m\u001b[0mreplace_path\u001b[0m\u001b[1;33m+\u001b[0m\u001b[1;34m\"//\"\u001b[0m\u001b[1;33m+\u001b[0m\u001b[0mstr\u001b[0m\u001b[1;33m(\u001b[0m\u001b[0mi\u001b[0m\u001b[1;33m[\u001b[0m\u001b[1;33m:\u001b[0m\u001b[1;36m28\u001b[0m\u001b[1;33m]\u001b[0m\u001b[1;33m)\u001b[0m\u001b[1;33m+\u001b[0m\u001b[1;34m\".csv\"\u001b[0m\u001b[1;33m)\u001b[0m\u001b[1;33m\u001b[0m\u001b[1;33m\u001b[0m\u001b[0m\n",
      "\u001b[1;31mNotADirectoryError\u001b[0m: [WinError 267] 디렉터리 이름이 올바르지 않습니다: './/dataset//after//MI//SURFACE_ASOS_100_MI_2019-01_2019-01_2019.csv'"
     ]
    }
   ],
   "source": [
    "before_path = input(\"대체 전 경로 입력\")\n",
    "dir_list = os.listdir(before_path)\n",
    "\n",
    "replace_path = input(\"대체 후 경로 입력\")\n",
    "\n",
    "for i in dir_list:\n",
    "    temp = os.listdir(before_path+\"//\"+i)\n",
    "    os.rename(before_path+\"//\"+str(i)+\"//\"+temp[0],replace_path+\"//\"+str(i[:28])+\".csv\")"
   ]
  },
  {
   "cell_type": "markdown",
   "metadata": {},
   "source": [
    "## 파일들을 모두 읽어 통합 데이터프레임을 만들고, 시간 변수를 다시 읽어들어 판다스 date 타입으로 바꾼다."
   ]
  },
  {
   "cell_type": "code",
   "execution_count": 3,
   "metadata": {},
   "outputs": [],
   "source": [
    "dir_list = os.listdir(\".//dataset//after\")"
   ]
  },
  {
   "cell_type": "code",
   "execution_count": 4,
   "metadata": {},
   "outputs": [
    {
     "name": "stdout",
     "output_type": "stream",
     "text": [
      "시간 인덱싱을 할까요?(시간 10분 소요), Yes : 1, No : elsel\n",
      "작업물을 저장할까요? yes : 1, no : else1\n"
     ]
    }
   ],
   "source": [
    "#통합된 폴더에서 파일들을 다시 읽어와 통합된 데이터프레임(merged_list)로 만든다.\n",
    "\n",
    "merged_list = DataFrame()\n",
    "for i in dir_list:\n",
    "    merged_list = merged_list.append(pd.read_csv(\".//dataset//after\"+\"//\"+i,sep = \",\",encoding=\"EUC-KR\",index_col=False))\n",
    "\n",
    "# 인덱스 재배열\n",
    "    \n",
    "merged_list = DataFrame.reset_index(merged_list)\n",
    "del merged_list[\"index\"]\n",
    "\n",
    "# 시간 인덱싱\n",
    "\n",
    "if input(\"시간 인덱싱을 할까요?(시간 10분 소요), Yes : 1, No : else\") == \"1\" :\n",
    "    merged_list[\"dates\"] = merged_list[\"일시\"].apply(lambda x: pd.to_datetime(x))\n",
    "    \n",
    "\n",
    "if input(\"작업물을 저장할까요? yes : 1, no : else\") == \"1\" :\n",
    "    merged_list.to_csv(\"result_hour.csv\",encoding=\"utf-8\",index = None)"
   ]
  },
  {
   "cell_type": "markdown",
   "metadata": {},
   "source": [
    "### 외부에서 데이터를 불러올 때 "
   ]
  },
  {
   "cell_type": "code",
   "execution_count": 18,
   "metadata": {},
   "outputs": [],
   "source": [
    "merged_list = pd.read_csv(\"result_3.csv\",encoding=\"utf-8\")\n",
    "\n",
    "merged_list[\"dates\"] = merged_list[\"일시\"].apply(lambda x: pd.to_datetime(x))\n",
    "\n",
    "merged_list = merged_list.set_index(\"dates\")"
   ]
  },
  {
   "cell_type": "code",
   "execution_count": 124,
   "metadata": {},
   "outputs": [
    {
     "data": {
      "text/plain": [
       "(10005139, 11)"
      ]
     },
     "execution_count": 124,
     "metadata": {},
     "output_type": "execute_result"
    }
   ],
   "source": [
    "merged_list_3.shape"
   ]
  },
  {
   "cell_type": "code",
   "execution_count": 62,
   "metadata": {},
   "outputs": [],
   "source": [
    "temp = merged_list.groupby(\"지점\").apply(lambda x : x[\"기온(°C)\"].resample(\"H\").mean())\n",
    "windspeed = merged_list.groupby(\"지점\").apply(lambda x : x[\"풍속(m/s)\"].resample(\"H\").mean())\n",
    "winddeg = merged_list.groupby(\"지점\").apply(lambda x : x[\"풍향(deg)\"].resample(\"H\").mean())\n",
    "temppressure = merged_list.groupby(\"지점\").apply(lambda x : x[\"현지기압(hPa)\"].resample(\"H\").mean())\n",
    "seapressure = merged_list.groupby(\"지점\").apply(lambda x : x[\"해면기압(hPa)\"].resample(\"H\").mean())\n",
    "humidity = merged_list.groupby(\"지점\").apply(lambda x : x[\"습도(%)\"].resample(\"H\").mean())"
   ]
  },
  {
   "cell_type": "code",
   "execution_count": 63,
   "metadata": {},
   "outputs": [],
   "source": [
    "rainfall = merged_list.groupby(\"지점\").apply(lambda x : x[\"누적강수량(mm)\"].resample(\"H\").max())\n",
    "sunlight = merged_list.groupby(\"지점\").apply(lambda x : x[\"일사(MJ/m^2)\"].resample(\"H\").max())\n",
    "sunshine = merged_list.groupby(\"지점\").apply(lambda x : x[\"일조(Sec)\"].resample(\"H\").max())"
   ]
  },
  {
   "cell_type": "code",
   "execution_count": 64,
   "metadata": {},
   "outputs": [],
   "source": [
    "first = pd.merge(temp,windspeed,left_index=True,right_index=True)\n",
    "second = pd.merge(first,winddeg,left_index=True,right_index=True)\n",
    "third = pd.merge(second,temppressure,left_index=True,right_index=True)\n",
    "fourth = pd.merge(third,seapressure,left_index=True,right_index=True)\n",
    "fifth = pd.merge(fourth,humidity,left_index=True,right_index=True)\n",
    "sixth = pd.merge(fifth,rainfall,left_index=True,right_index=True)\n",
    "seventh = pd.merge(sixth,sunlight,left_index=True,right_index=True)\n",
    "eighth = pd.merge(seventh,sunshine,left_index=True,right_index=True)"
   ]
  },
  {
   "cell_type": "code",
   "execution_count": 65,
   "metadata": {},
   "outputs": [],
   "source": [
    "eight_1 = eighth.reset_index()"
   ]
  },
  {
   "cell_type": "code",
   "execution_count": 57,
   "metadata": {},
   "outputs": [],
   "source": [
    "merged_list_2 = pd.read_csv(\"result_2.csv\",encoding=\"utf-8\")\n",
    "\n",
    "merged_list_2[\"dates\"] = merged_list_2[\"일시\"].apply(lambda x: pd.to_datetime(x))\n",
    "\n",
    "merged_list_2 = merged_list_2.set_index(\"dates\")"
   ]
  },
  {
   "cell_type": "code",
   "execution_count": 66,
   "metadata": {},
   "outputs": [],
   "source": [
    "temp = merged_list_2.groupby(\"지점\").apply(lambda x : x[\"기온(°C)\"].resample(\"H\").mean())\n",
    "windspeed = merged_list_2.groupby(\"지점\").apply(lambda x : x[\"풍속(m/s)\"].resample(\"H\").mean())\n",
    "winddeg = merged_list_2.groupby(\"지점\").apply(lambda x : x[\"풍향(deg)\"].resample(\"H\").mean())\n",
    "temppressure = merged_list_2.groupby(\"지점\").apply(lambda x : x[\"현지기압rainfall = merged_list_2.groupby(\"지점\").apply(lambda x : x[\"누적강수량(mm)\"].resample(\"H\").max())\n",
    "sunlight = merged_list_2.groupby(\"지점\").apply(lambda x : x[\"일사(MJ/m^2)\"].resample(\"H\").max())\n",
    "sunshine = merged_list_2.groupby(\"지점\").apply(lambda x : x[\"일조(Sec)\"].resample(\"H\").max())(hPa)\"].resample(\"H\").mean())\n",
    "seapressure = merged_list_2.groupby(\"지점\").apply(lambda x : x[\"해면기압(hPa)\"].resample(\"H\").mean())\n",
    "humidity = merged_list_2.groupby(\"지점\").apply(lambda x : x[\"습도(%)\"].resample(\"H\").mean())"
   ]
  },
  {
   "cell_type": "code",
   "execution_count": 67,
   "metadata": {},
   "outputs": [],
   "source": [
    "rainfall = merged_list_2.groupby(\"지점\").apply(lambda x : x[\"누적강수량(mm)\"].resample(\"H\").max())\n",
    "sunlight = merged_list_2.groupby(\"지점\").apply(lambda x : x[\"일사(MJ/m^2)\"].resample(\"H\").max())\n",
    "sunshine = merged_list_2.groupby(\"지점\").apply(lambda x : x[\"일조(Sec)\"].resample(\"H\").max())"
   ]
  },
  {
   "cell_type": "code",
   "execution_count": 68,
   "metadata": {},
   "outputs": [],
   "source": [
    "first = pd.merge(temp,windspeed,left_index=True,right_index=True)\n",
    "second = pd.merge(first,winddeg,left_index=True,right_index=True)\n",
    "third = pd.merge(second,temppressure,left_index=True,right_index=True)\n",
    "fourth = pd.merge(third,seapressure,left_index=True,right_index=True)\n",
    "fifth = pd.merge(fourth,humidity,left_index=True,right_index=True)\n",
    "sixth = pd.merge(fifth,rainfall,left_index=True,right_index=True)\n",
    "seventh = pd.merge(sixth,sunlight,left_index=True,right_index=True)\n",
    "eighth = pd.merge(seventh,sunshine,left_index=True,right_index=True)"
   ]
  },
  {
   "cell_type": "code",
   "execution_count": 70,
   "metadata": {},
   "outputs": [],
   "source": [
    "eighth_2 = eighth.reset_index()"
   ]
  },
  {
   "cell_type": "code",
   "execution_count": 61,
   "metadata": {},
   "outputs": [],
   "source": [
    "merged_list_3 = pd.read_csv(\"result.csv\",encoding=\"utf-8\")\n",
    "\n",
    "merged_list_3[\"dates\"] = merged_list_3[\"일시\"].apply(lambda x: pd.to_datetime(x))\n",
    "\n",
    "merged_list_3 = merged_list_3.set_index(\"dates\")"
   ]
  },
  {
   "cell_type": "code",
   "execution_count": 71,
   "metadata": {
    "scrolled": true
   },
   "outputs": [],
   "source": [
    "temp = merged_list_2.groupby(\"지점\").apply(lambda x : x[\"기온(°C)\"].resample(\"H\").mean())\n",
    "windspeed = merged_list_2.groupby(\"지점\").apply(lambda x : x[\"풍속(m/s)\"].resample(\"H\").mean())\n",
    "winddeg = merged_list_2.groupby(\"지점\").apply(lambda x : x[\"풍향(deg)\"].resample(\"H\").mean())\n",
    "temppressure = merged_list_2.groupby(\"지점\").apply(lambda x : x[\"현지기압(hPa)\"].resample(\"H\").mean())\n",
    "seapressure = merged_list_2.groupby(\"지점\").apply(lambda x : x[\"해면기압(hPa)\"].resample(\"H\").mean())\n",
    "humidity = merged_list_2.groupby(\"지점\").apply(lambda x : x[\"습도(%)\"].resample(\"H\").mean())"
   ]
  },
  {
   "cell_type": "code",
   "execution_count": 72,
   "metadata": {},
   "outputs": [],
   "source": [
    "rainfall = merged_list_2.groupby(\"지점\").apply(lambda x : x[\"누적강수량(mm)\"].resample(\"H\").max())\n",
    "sunlight = merged_list_2.groupby(\"지점\").apply(lambda x : x[\"일사(MJ/m^2)\"].resample(\"H\").max())\n",
    "sunshine = merged_list_2.groupby(\"지점\").apply(lambda x : x[\"일조(Sec)\"].resample(\"H\").max())"
   ]
  },
  {
   "cell_type": "code",
   "execution_count": 73,
   "metadata": {},
   "outputs": [],
   "source": [
    "first = pd.merge(temp,windspeed,left_index=True,right_index=True)\n",
    "second = pd.merge(first,winddeg,left_index=True,right_index=True)\n",
    "third = pd.merge(second,temppressure,left_index=True,right_index=True)\n",
    "fourth = pd.merge(third,seapressure,left_index=True,right_index=True)\n",
    "fifth = pd.merge(fourth,humidity,left_index=True,right_index=True)\n",
    "sixth = pd.merge(fifth,rainfall,left_index=True,right_index=True)\n",
    "seventh = pd.merge(sixth,sunlight,left_index=True,right_index=True)\n",
    "eighth = pd.merge(seventh,sunshine,left_index=True,right_index=True)"
   ]
  },
  {
   "cell_type": "code",
   "execution_count": 74,
   "metadata": {},
   "outputs": [],
   "source": [
    "eighth_3 = eighth.reset_index()"
   ]
  },
  {
   "cell_type": "code",
   "execution_count": 85,
   "metadata": {},
   "outputs": [],
   "source": [
    "eighth_3.to_csv(\"result_output.csv\",encoding=\"utf-8\",index = None)\n",
    "eighth_2.to_csv(\"result_2_output.csv\",encoding=\"utf-8\",index = None)\n",
    "eight_1.to_csv(\"result_3_output.csv\",encoding=\"utf-8\",index = None)"
   ]
  },
  {
   "cell_type": "code",
   "execution_count": 86,
   "metadata": {},
   "outputs": [],
   "source": [
    "merged = pd.concat([eighth_3,eighth_2,eight_1])"
   ]
  },
  {
   "cell_type": "code",
   "execution_count": 129,
   "metadata": {},
   "outputs": [],
   "source": [
    "merged = merged.reset_index(drop=True)"
   ]
  },
  {
   "cell_type": "code",
   "execution_count": 132,
   "metadata": {},
   "outputs": [],
   "source": [
    "merged.to_csv(\"result_final.csv\",encoding=\"utf-8\",index= None)"
   ]
  },
  {
   "cell_type": "code",
   "execution_count": 3,
   "metadata": {},
   "outputs": [],
   "source": [
    "merged = pd.read_csv(\"result_final.csv\",encoding=\"utf-8\")"
   ]
  },
  {
   "cell_type": "code",
   "execution_count": 27,
   "metadata": {},
   "outputs": [
    {
     "data": {
      "text/plain": [
       "Index(['지점', 'dates', '기온(°C)', '풍속(m/s)', '풍향(deg)', '현지기압(hPa)', '해면기압(hPa)',\n",
       "       '습도(%)', '누적강수량(mm)', '일사(MJ/m^2)', '일조(Sec)', 'row_number'],\n",
       "      dtype='object')"
      ]
     },
     "execution_count": 27,
     "metadata": {},
     "output_type": "execute_result"
    }
   ],
   "source": [
    "merged.columns"
   ]
  },
  {
   "cell_type": "code",
   "execution_count": 29,
   "metadata": {},
   "outputs": [
    {
     "data": {
      "text/plain": [
       "0         22.138983\n",
       "1         21.493333\n",
       "2         20.515000\n",
       "3         20.026667\n",
       "4         19.526667\n",
       "            ...    \n",
       "300994     7.459322\n",
       "300995     7.226667\n",
       "300996     7.326667\n",
       "300997     7.155000\n",
       "300998     7.000000\n",
       "Name: 기온(°C), Length: 4370, dtype: float64"
      ]
     },
     "execution_count": 29,
     "metadata": {},
     "output_type": "execute_result"
    }
   ],
   "source": [
    "merged.loc[merged[\"지점\"] == 131,\"기온(°C)\"]"
   ]
  },
  {
   "cell_type": "code",
   "execution_count": 70,
   "metadata": {},
   "outputs": [
    {
     "data": {
      "text/plain": [
       "Index(['지점', 'dates', '기온(°C)', '풍속(m/s)', '풍향(deg)', '현지기압(hPa)', '해면기압(hPa)',\n",
       "       '습도(%)', '누적강수량(mm)', '일사(MJ/m^2)', '일조(Sec)'],\n",
       "      dtype='object')"
      ]
     },
     "execution_count": 70,
     "metadata": {},
     "output_type": "execute_result"
    }
   ],
   "source": [
    "merged.columns"
   ]
  },
  {
   "cell_type": "code",
   "execution_count": 79,
   "metadata": {},
   "outputs": [
    {
     "data": {
      "text/plain": [
       "61"
      ]
     },
     "execution_count": 79,
     "metadata": {},
     "output_type": "execute_result"
    }
   ],
   "source": [
    "len(new_df.loc[:,[merged.columns[9]]].columns)"
   ]
  },
  {
   "cell_type": "code",
   "execution_count": 82,
   "metadata": {},
   "outputs": [
    {
     "data": {
      "text/plain": [
       "'일사(MJ/m^2)'"
      ]
     },
     "execution_count": 82,
     "metadata": {},
     "output_type": "execute_result"
    }
   ],
   "source": [
    "merged.columns[9]"
   ]
  },
  {
   "cell_type": "code",
   "execution_count": 68,
   "metadata": {},
   "outputs": [
    {
     "data": {
      "text/plain": [
       "75"
      ]
     },
     "execution_count": 68,
     "metadata": {},
     "output_type": "execute_result"
    }
   ],
   "source": [
    "len(np.unique(merged[\"지점\"]))"
   ]
  },
  {
   "cell_type": "code",
   "execution_count": 4,
   "metadata": {},
   "outputs": [],
   "source": [
    "merged_new = merged.copy()\n",
    "del merged_new['일사(MJ/m^2)']"
   ]
  },
  {
   "cell_type": "code",
   "execution_count": 5,
   "metadata": {},
   "outputs": [],
   "source": [
    "new_df = merged_new.pivot_table(index=[\"dates\"], columns=[\"지점\"], values=merged_new.columns)"
   ]
  },
  {
   "cell_type": "code",
   "execution_count": 6,
   "metadata": {},
   "outputs": [],
   "source": [
    "new_columns = np.zeros(1)\n",
    "\n",
    "for i in merged_new.columns[2:]:\n",
    "    for j in np.unique(merged_new[\"지점\"]):\n",
    "        temp = np.array(str(i) + str(j))\n",
    "        new_columns = np.hstack([new_columns,temp])\n",
    "\n",
    "new_columns = new_columns[1:]"
   ]
  },
  {
   "cell_type": "code",
   "execution_count": 7,
   "metadata": {},
   "outputs": [],
   "source": [
    "new_df = new_df.fillna(0)"
   ]
  },
  {
   "cell_type": "code",
   "execution_count": 8,
   "metadata": {},
   "outputs": [],
   "source": [
    "new_df.columns = new_columns.copy()"
   ]
  },
  {
   "cell_type": "code",
   "execution_count": 9,
   "metadata": {},
   "outputs": [],
   "source": [
    "target = new_df.iloc[48:,1]"
   ]
  },
  {
   "cell_type": "code",
   "execution_count": 10,
   "metadata": {},
   "outputs": [],
   "source": [
    "new_df.to_csv(\"new_df.csv\",encoding=\"utf-8\")"
   ]
  },
  {
   "cell_type": "code",
   "execution_count": 101,
   "metadata": {},
   "outputs": [
    {
     "data": {
      "text/html": [
       "<div>\n",
       "<style scoped>\n",
       "    .dataframe tbody tr th:only-of-type {\n",
       "        vertical-align: middle;\n",
       "    }\n",
       "\n",
       "    .dataframe tbody tr th {\n",
       "        vertical-align: top;\n",
       "    }\n",
       "\n",
       "    .dataframe thead th {\n",
       "        text-align: right;\n",
       "    }\n",
       "</style>\n",
       "<table border=\"1\" class=\"dataframe\">\n",
       "  <thead>\n",
       "    <tr style=\"text-align: right;\">\n",
       "      <th></th>\n",
       "      <th>기온(°C)135</th>\n",
       "      <th>기온(°C)136</th>\n",
       "      <th>기온(°C)137</th>\n",
       "      <th>기온(°C)138</th>\n",
       "      <th>기온(°C)140</th>\n",
       "      <th>기온(°C)143</th>\n",
       "      <th>기온(°C)146</th>\n",
       "      <th>기온(°C)152</th>\n",
       "      <th>기온(°C)155</th>\n",
       "      <th>기온(°C)156</th>\n",
       "      <th>...</th>\n",
       "      <th>일조(Sec)278</th>\n",
       "      <th>일조(Sec)279</th>\n",
       "      <th>일조(Sec)281</th>\n",
       "      <th>일조(Sec)283</th>\n",
       "      <th>일조(Sec)284</th>\n",
       "      <th>일조(Sec)285</th>\n",
       "      <th>일조(Sec)288</th>\n",
       "      <th>일조(Sec)289</th>\n",
       "      <th>일조(Sec)294</th>\n",
       "      <th>일조(Sec)295</th>\n",
       "    </tr>\n",
       "    <tr>\n",
       "      <th>dates</th>\n",
       "      <th></th>\n",
       "      <th></th>\n",
       "      <th></th>\n",
       "      <th></th>\n",
       "      <th></th>\n",
       "      <th></th>\n",
       "      <th></th>\n",
       "      <th></th>\n",
       "      <th></th>\n",
       "      <th></th>\n",
       "      <th></th>\n",
       "      <th></th>\n",
       "      <th></th>\n",
       "      <th></th>\n",
       "      <th></th>\n",
       "      <th></th>\n",
       "      <th></th>\n",
       "      <th></th>\n",
       "      <th></th>\n",
       "      <th></th>\n",
       "      <th></th>\n",
       "    </tr>\n",
       "  </thead>\n",
       "  <tbody>\n",
       "    <tr>\n",
       "      <th>2019-01-01 00:00:00</th>\n",
       "      <td>-5.025424</td>\n",
       "      <td>-5.813559</td>\n",
       "      <td>-4.210169</td>\n",
       "      <td>0.093220</td>\n",
       "      <td>-1.925424</td>\n",
       "      <td>-1.554237</td>\n",
       "      <td>-3.098305</td>\n",
       "      <td>-0.183051</td>\n",
       "      <td>-0.532203</td>\n",
       "      <td>-1.040678</td>\n",
       "      <td>...</td>\n",
       "      <td>1024.262712</td>\n",
       "      <td>1028.450847</td>\n",
       "      <td>1021.493220</td>\n",
       "      <td>1028.440678</td>\n",
       "      <td>1005.050847</td>\n",
       "      <td>1030.098305</td>\n",
       "      <td>1031.438983</td>\n",
       "      <td>1016.477966</td>\n",
       "      <td>1026.450847</td>\n",
       "      <td>1027.315254</td>\n",
       "    </tr>\n",
       "    <tr>\n",
       "      <th>2019-01-01 01:00:00</th>\n",
       "      <td>-3.968333</td>\n",
       "      <td>-5.933333</td>\n",
       "      <td>-3.546667</td>\n",
       "      <td>-0.713333</td>\n",
       "      <td>-1.911667</td>\n",
       "      <td>-1.875000</td>\n",
       "      <td>-2.648333</td>\n",
       "      <td>-1.101667</td>\n",
       "      <td>-1.326667</td>\n",
       "      <td>-1.828333</td>\n",
       "      <td>...</td>\n",
       "      <td>1024.331667</td>\n",
       "      <td>1028.365000</td>\n",
       "      <td>1021.645000</td>\n",
       "      <td>1028.411667</td>\n",
       "      <td>1004.921667</td>\n",
       "      <td>1029.968333</td>\n",
       "      <td>1031.515000</td>\n",
       "      <td>1016.346667</td>\n",
       "      <td>1026.343333</td>\n",
       "      <td>1027.138333</td>\n",
       "    </tr>\n",
       "    <tr>\n",
       "      <th>2019-01-01 02:00:00</th>\n",
       "      <td>-3.590000</td>\n",
       "      <td>-6.870000</td>\n",
       "      <td>-3.301667</td>\n",
       "      <td>-1.318333</td>\n",
       "      <td>-1.880000</td>\n",
       "      <td>-2.173333</td>\n",
       "      <td>-2.333333</td>\n",
       "      <td>-1.688333</td>\n",
       "      <td>-1.855000</td>\n",
       "      <td>-2.030000</td>\n",
       "      <td>...</td>\n",
       "      <td>1024.181667</td>\n",
       "      <td>1028.158333</td>\n",
       "      <td>1021.545000</td>\n",
       "      <td>1028.580000</td>\n",
       "      <td>1005.148333</td>\n",
       "      <td>1030.196667</td>\n",
       "      <td>1031.638333</td>\n",
       "      <td>1016.540000</td>\n",
       "      <td>1026.568333</td>\n",
       "      <td>1027.213333</td>\n",
       "    </tr>\n",
       "    <tr>\n",
       "      <th>2019-01-01 03:00:00</th>\n",
       "      <td>-3.448333</td>\n",
       "      <td>-7.058333</td>\n",
       "      <td>-2.998333</td>\n",
       "      <td>-1.833333</td>\n",
       "      <td>-1.776667</td>\n",
       "      <td>-2.325000</td>\n",
       "      <td>-2.631667</td>\n",
       "      <td>-1.913333</td>\n",
       "      <td>-2.156667</td>\n",
       "      <td>-1.745000</td>\n",
       "      <td>...</td>\n",
       "      <td>1024.151667</td>\n",
       "      <td>1028.095000</td>\n",
       "      <td>1021.541667</td>\n",
       "      <td>1028.518333</td>\n",
       "      <td>1004.860000</td>\n",
       "      <td>1029.900000</td>\n",
       "      <td>1031.703333</td>\n",
       "      <td>1016.075000</td>\n",
       "      <td>1026.400000</td>\n",
       "      <td>1027.050000</td>\n",
       "    </tr>\n",
       "    <tr>\n",
       "      <th>2019-01-01 04:00:00</th>\n",
       "      <td>-3.766667</td>\n",
       "      <td>-7.306667</td>\n",
       "      <td>-2.601667</td>\n",
       "      <td>-2.031667</td>\n",
       "      <td>-1.756667</td>\n",
       "      <td>-2.716667</td>\n",
       "      <td>-2.611667</td>\n",
       "      <td>-2.146667</td>\n",
       "      <td>-2.405000</td>\n",
       "      <td>-1.286667</td>\n",
       "      <td>...</td>\n",
       "      <td>1023.778333</td>\n",
       "      <td>1027.471667</td>\n",
       "      <td>1020.966667</td>\n",
       "      <td>1027.755000</td>\n",
       "      <td>1004.135000</td>\n",
       "      <td>1029.190000</td>\n",
       "      <td>1031.026667</td>\n",
       "      <td>1015.461667</td>\n",
       "      <td>1025.745000</td>\n",
       "      <td>1026.666667</td>\n",
       "    </tr>\n",
       "    <tr>\n",
       "      <th>...</th>\n",
       "      <td>...</td>\n",
       "      <td>...</td>\n",
       "      <td>...</td>\n",
       "      <td>...</td>\n",
       "      <td>...</td>\n",
       "      <td>...</td>\n",
       "      <td>...</td>\n",
       "      <td>...</td>\n",
       "      <td>...</td>\n",
       "      <td>...</td>\n",
       "      <td>...</td>\n",
       "      <td>...</td>\n",
       "      <td>...</td>\n",
       "      <td>...</td>\n",
       "      <td>...</td>\n",
       "      <td>...</td>\n",
       "      <td>...</td>\n",
       "      <td>...</td>\n",
       "      <td>...</td>\n",
       "      <td>...</td>\n",
       "      <td>...</td>\n",
       "    </tr>\n",
       "    <tr>\n",
       "      <th>2019-11-28 20:00:00</th>\n",
       "      <td>1.460000</td>\n",
       "      <td>5.111667</td>\n",
       "      <td>3.500000</td>\n",
       "      <td>6.180000</td>\n",
       "      <td>5.283333</td>\n",
       "      <td>5.575000</td>\n",
       "      <td>6.568333</td>\n",
       "      <td>5.876667</td>\n",
       "      <td>7.700000</td>\n",
       "      <td>6.483333</td>\n",
       "      <td>...</td>\n",
       "      <td>1019.523333</td>\n",
       "      <td>1023.318333</td>\n",
       "      <td>1017.935000</td>\n",
       "      <td>1025.073333</td>\n",
       "      <td>1001.036667</td>\n",
       "      <td>1025.980000</td>\n",
       "      <td>1027.816667</td>\n",
       "      <td>1012.485000</td>\n",
       "      <td>1023.061667</td>\n",
       "      <td>1023.348333</td>\n",
       "    </tr>\n",
       "    <tr>\n",
       "      <th>2019-11-28 21:00:00</th>\n",
       "      <td>1.758333</td>\n",
       "      <td>3.833333</td>\n",
       "      <td>3.200000</td>\n",
       "      <td>6.005000</td>\n",
       "      <td>4.051667</td>\n",
       "      <td>4.671667</td>\n",
       "      <td>5.548333</td>\n",
       "      <td>5.401667</td>\n",
       "      <td>6.981667</td>\n",
       "      <td>5.995000</td>\n",
       "      <td>...</td>\n",
       "      <td>1019.535000</td>\n",
       "      <td>1023.438333</td>\n",
       "      <td>1018.050000</td>\n",
       "      <td>1025.105000</td>\n",
       "      <td>1001.196667</td>\n",
       "      <td>1026.061667</td>\n",
       "      <td>1027.926667</td>\n",
       "      <td>1012.668333</td>\n",
       "      <td>1023.206667</td>\n",
       "      <td>1023.685000</td>\n",
       "    </tr>\n",
       "    <tr>\n",
       "      <th>2019-11-28 22:00:00</th>\n",
       "      <td>1.253333</td>\n",
       "      <td>2.643333</td>\n",
       "      <td>3.063333</td>\n",
       "      <td>5.431667</td>\n",
       "      <td>3.575000</td>\n",
       "      <td>3.693333</td>\n",
       "      <td>4.771667</td>\n",
       "      <td>4.576667</td>\n",
       "      <td>6.190000</td>\n",
       "      <td>5.970000</td>\n",
       "      <td>...</td>\n",
       "      <td>1019.571667</td>\n",
       "      <td>1023.518333</td>\n",
       "      <td>1017.853333</td>\n",
       "      <td>1024.783333</td>\n",
       "      <td>1001.241667</td>\n",
       "      <td>1026.048333</td>\n",
       "      <td>1027.836667</td>\n",
       "      <td>1012.718333</td>\n",
       "      <td>1023.238333</td>\n",
       "      <td>1023.636667</td>\n",
       "    </tr>\n",
       "    <tr>\n",
       "      <th>2019-11-28 23:00:00</th>\n",
       "      <td>2.661667</td>\n",
       "      <td>2.201667</td>\n",
       "      <td>2.988333</td>\n",
       "      <td>4.885000</td>\n",
       "      <td>3.321667</td>\n",
       "      <td>3.161667</td>\n",
       "      <td>4.480000</td>\n",
       "      <td>3.891667</td>\n",
       "      <td>5.546667</td>\n",
       "      <td>5.220000</td>\n",
       "      <td>...</td>\n",
       "      <td>1019.706667</td>\n",
       "      <td>1023.653333</td>\n",
       "      <td>1017.933333</td>\n",
       "      <td>1024.913333</td>\n",
       "      <td>1001.360000</td>\n",
       "      <td>1026.178333</td>\n",
       "      <td>1028.035000</td>\n",
       "      <td>1012.933333</td>\n",
       "      <td>1023.240000</td>\n",
       "      <td>1023.693333</td>\n",
       "    </tr>\n",
       "    <tr>\n",
       "      <th>2019-11-29 00:00:00</th>\n",
       "      <td>2.450000</td>\n",
       "      <td>1.571667</td>\n",
       "      <td>3.763333</td>\n",
       "      <td>4.291667</td>\n",
       "      <td>3.128333</td>\n",
       "      <td>2.500000</td>\n",
       "      <td>3.723333</td>\n",
       "      <td>3.636667</td>\n",
       "      <td>5.348333</td>\n",
       "      <td>5.015000</td>\n",
       "      <td>...</td>\n",
       "      <td>1019.581667</td>\n",
       "      <td>1023.693333</td>\n",
       "      <td>1017.796667</td>\n",
       "      <td>1024.736667</td>\n",
       "      <td>1001.431667</td>\n",
       "      <td>1026.206667</td>\n",
       "      <td>1027.985000</td>\n",
       "      <td>1013.000000</td>\n",
       "      <td>1023.053333</td>\n",
       "      <td>1023.518333</td>\n",
       "    </tr>\n",
       "  </tbody>\n",
       "</table>\n",
       "<p>7969 rows × 598 columns</p>\n",
       "</div>"
      ],
      "text/plain": [
       "                     기온(°C)135  기온(°C)136  기온(°C)137  기온(°C)138  기온(°C)140  \\\n",
       "dates                                                                        \n",
       "2019-01-01 00:00:00  -5.025424  -5.813559  -4.210169   0.093220  -1.925424   \n",
       "2019-01-01 01:00:00  -3.968333  -5.933333  -3.546667  -0.713333  -1.911667   \n",
       "2019-01-01 02:00:00  -3.590000  -6.870000  -3.301667  -1.318333  -1.880000   \n",
       "2019-01-01 03:00:00  -3.448333  -7.058333  -2.998333  -1.833333  -1.776667   \n",
       "2019-01-01 04:00:00  -3.766667  -7.306667  -2.601667  -2.031667  -1.756667   \n",
       "...                        ...        ...        ...        ...        ...   \n",
       "2019-11-28 20:00:00   1.460000   5.111667   3.500000   6.180000   5.283333   \n",
       "2019-11-28 21:00:00   1.758333   3.833333   3.200000   6.005000   4.051667   \n",
       "2019-11-28 22:00:00   1.253333   2.643333   3.063333   5.431667   3.575000   \n",
       "2019-11-28 23:00:00   2.661667   2.201667   2.988333   4.885000   3.321667   \n",
       "2019-11-29 00:00:00   2.450000   1.571667   3.763333   4.291667   3.128333   \n",
       "\n",
       "                     기온(°C)143  기온(°C)146  기온(°C)152  기온(°C)155  기온(°C)156  \\\n",
       "dates                                                                        \n",
       "2019-01-01 00:00:00  -1.554237  -3.098305  -0.183051  -0.532203  -1.040678   \n",
       "2019-01-01 01:00:00  -1.875000  -2.648333  -1.101667  -1.326667  -1.828333   \n",
       "2019-01-01 02:00:00  -2.173333  -2.333333  -1.688333  -1.855000  -2.030000   \n",
       "2019-01-01 03:00:00  -2.325000  -2.631667  -1.913333  -2.156667  -1.745000   \n",
       "2019-01-01 04:00:00  -2.716667  -2.611667  -2.146667  -2.405000  -1.286667   \n",
       "...                        ...        ...        ...        ...        ...   \n",
       "2019-11-28 20:00:00   5.575000   6.568333   5.876667   7.700000   6.483333   \n",
       "2019-11-28 21:00:00   4.671667   5.548333   5.401667   6.981667   5.995000   \n",
       "2019-11-28 22:00:00   3.693333   4.771667   4.576667   6.190000   5.970000   \n",
       "2019-11-28 23:00:00   3.161667   4.480000   3.891667   5.546667   5.220000   \n",
       "2019-11-29 00:00:00   2.500000   3.723333   3.636667   5.348333   5.015000   \n",
       "\n",
       "                     ...   일조(Sec)278   일조(Sec)279   일조(Sec)281   일조(Sec)283  \\\n",
       "dates                ...                                                       \n",
       "2019-01-01 00:00:00  ...  1024.262712  1028.450847  1021.493220  1028.440678   \n",
       "2019-01-01 01:00:00  ...  1024.331667  1028.365000  1021.645000  1028.411667   \n",
       "2019-01-01 02:00:00  ...  1024.181667  1028.158333  1021.545000  1028.580000   \n",
       "2019-01-01 03:00:00  ...  1024.151667  1028.095000  1021.541667  1028.518333   \n",
       "2019-01-01 04:00:00  ...  1023.778333  1027.471667  1020.966667  1027.755000   \n",
       "...                  ...          ...          ...          ...          ...   \n",
       "2019-11-28 20:00:00  ...  1019.523333  1023.318333  1017.935000  1025.073333   \n",
       "2019-11-28 21:00:00  ...  1019.535000  1023.438333  1018.050000  1025.105000   \n",
       "2019-11-28 22:00:00  ...  1019.571667  1023.518333  1017.853333  1024.783333   \n",
       "2019-11-28 23:00:00  ...  1019.706667  1023.653333  1017.933333  1024.913333   \n",
       "2019-11-29 00:00:00  ...  1019.581667  1023.693333  1017.796667  1024.736667   \n",
       "\n",
       "                      일조(Sec)284   일조(Sec)285   일조(Sec)288   일조(Sec)289  \\\n",
       "dates                                                                     \n",
       "2019-01-01 00:00:00  1005.050847  1030.098305  1031.438983  1016.477966   \n",
       "2019-01-01 01:00:00  1004.921667  1029.968333  1031.515000  1016.346667   \n",
       "2019-01-01 02:00:00  1005.148333  1030.196667  1031.638333  1016.540000   \n",
       "2019-01-01 03:00:00  1004.860000  1029.900000  1031.703333  1016.075000   \n",
       "2019-01-01 04:00:00  1004.135000  1029.190000  1031.026667  1015.461667   \n",
       "...                          ...          ...          ...          ...   \n",
       "2019-11-28 20:00:00  1001.036667  1025.980000  1027.816667  1012.485000   \n",
       "2019-11-28 21:00:00  1001.196667  1026.061667  1027.926667  1012.668333   \n",
       "2019-11-28 22:00:00  1001.241667  1026.048333  1027.836667  1012.718333   \n",
       "2019-11-28 23:00:00  1001.360000  1026.178333  1028.035000  1012.933333   \n",
       "2019-11-29 00:00:00  1001.431667  1026.206667  1027.985000  1013.000000   \n",
       "\n",
       "                      일조(Sec)294   일조(Sec)295  \n",
       "dates                                          \n",
       "2019-01-01 00:00:00  1026.450847  1027.315254  \n",
       "2019-01-01 01:00:00  1026.343333  1027.138333  \n",
       "2019-01-01 02:00:00  1026.568333  1027.213333  \n",
       "2019-01-01 03:00:00  1026.400000  1027.050000  \n",
       "2019-01-01 04:00:00  1025.745000  1026.666667  \n",
       "...                          ...          ...  \n",
       "2019-11-28 20:00:00  1023.061667  1023.348333  \n",
       "2019-11-28 21:00:00  1023.206667  1023.685000  \n",
       "2019-11-28 22:00:00  1023.238333  1023.636667  \n",
       "2019-11-28 23:00:00  1023.240000  1023.693333  \n",
       "2019-11-29 00:00:00  1023.053333  1023.518333  \n",
       "\n",
       "[7969 rows x 598 columns]"
      ]
     },
     "execution_count": 101,
     "metadata": {},
     "output_type": "execute_result"
    }
   ],
   "source": [
    "new_df.iloc[:len(new_df) - 48,2:]"
   ]
  },
  {
   "cell_type": "code",
   "execution_count": 95,
   "metadata": {},
   "outputs": [
    {
     "data": {
      "text/plain": [
       "dates\n",
       "2019-01-02 00:00:00   -4.320000\n",
       "2019-01-02 01:00:00   -5.118333\n",
       "2019-01-02 02:00:00   -5.388333\n",
       "2019-01-02 03:00:00   -6.026667\n",
       "2019-01-02 04:00:00   -6.768333\n",
       "                         ...   \n",
       "2019-11-30 20:00:00    7.443333\n",
       "2019-11-30 21:00:00    7.315000\n",
       "2019-11-30 22:00:00    7.136667\n",
       "2019-11-30 23:00:00    7.000000\n",
       "2019-12-01 00:00:00    6.800000\n",
       "Name: 기온(°C)133, Length: 7993, dtype: float64"
      ]
     },
     "execution_count": 95,
     "metadata": {},
     "output_type": "execute_result"
    }
   ],
   "source": [
    "target"
   ]
  },
  {
   "cell_type": "code",
   "execution_count": 72,
   "metadata": {},
   "outputs": [],
   "source": [
    "temp_list = DataFrame(columns=merged_list.columns)\n",
    "\n",
    "for i in merged_list[\"지점\"].unique():\n",
    "    temp = merged_list[merged_list[\"지점\"] == i].drop_duplicates(\"dates\")\n",
    "    temp_list = pd.concat([temp_list,temp])"
   ]
  },
  {
   "cell_type": "code",
   "execution_count": 76,
   "metadata": {},
   "outputs": [],
   "source": [
    "temp_list.to_csv(\"result.csv\",encoding=\"utf-8\",index = None)"
   ]
  },
  {
   "cell_type": "code",
   "execution_count": 172,
   "metadata": {},
   "outputs": [
    {
     "name": "stdout",
     "output_type": "stream",
     "text": [
      "원하는 콘존의 ID 첫 네자리를 입력하세요0010\n",
      "작업을 계속 할까요(continue : 1)0\n"
     ]
    }
   ],
   "source": [
    "# 콘존만 저장되어있는 csv파일을 읽어 참조용 파일로 활용한다.\n",
    "\n",
    "conzones = pd.read_csv(\"콘존.csv\",encoding=\"EUC-KR\")\n",
    "merged_main = DataFrame(columns = [\"date\",\"conzone\",\"type\",\"speed\"])\n",
    "killswitch = \"1\"\n",
    "\n",
    "# 콘존(0001XXXXX)형태에서 첫 네자리의 숫자를 입력한다.(경부고속도로 : 0010)\n",
    "while True:\n",
    "    lists_selected = Series()\n",
    "    merged_selected = DataFrame(columns = [\"date\",\"conzone\",\"type\",\"speed\"])\n",
    "    # 작업 중단 여부를 결정(killswitch = 0이면 작업 중단)\n",
    "    if killswitch == \"1\":\n",
    "        conzone_id = input(\"원하는 콘존의 ID 첫 네자리를 입력하세요\")\n",
    "        for i in np.array(conzones[\"콘존ID\"]):\n",
    "            if i[0:4] == conzone_id:\n",
    "                lists_selected = pd.concat([lists_selected,Series(i)])\n",
    "\n",
    "        for j in lists_selected:\n",
    "            temp = merged_list.loc[np.where(np.array(merged_list[\"conzone\"]) == j)]\n",
    "            merged_selected = merged_selected.append(temp)\n",
    "        merged_main = merged_main.append(merged_kyongbu)\n",
    "        merged_main = merged_main.reset_index(drop = True)\n",
    "        merged_selected.to_csv(replace_path+\"//\"+\"VDS_총통행거리_수정\"+str(conzone_id+\".csv\"))\n",
    "        killswitch = input(\"작업을 계속 할까요(continue : 1)\")\n",
    "    else:\n",
    "        break"
   ]
  },
  {
   "cell_type": "code",
   "execution_count": 173,
   "metadata": {},
   "outputs": [],
   "source": [
    "data = merged_main\n",
    "\n",
    "h = (1.5) * (np.sort(data[\"speed\"])[round((0.25)*(len(data)+1))] + np.sort(data[\"speed\"])[round((0.75)*(len(data)+1))])\n",
    "lower = round(np.sort(data[\"speed\"])[round((0.25)*(len(data)+1))] - h)\n",
    "upper = round(np.sort(data[\"speed\"])[round((0.75)*(len(data)+1))] + h)\n"
   ]
  },
  {
   "cell_type": "markdown",
   "metadata": {},
   "source": [
    "## 데이터 분석을 위한 전처리"
   ]
  },
  {
   "cell_type": "code",
   "execution_count": 166,
   "metadata": {},
   "outputs": [],
   "source": [
    "# 경부고속도로 ,서해고속도로, 호남고속도로, 중부내륙, 영동고속도로의 콘존ID들(0010 패밀리, 0250 패밀리)를 리스트로 일단 저장\n",
    "\n",
    "lists_kyongbu = Series()\n",
    "lists_westsea = Series()\n",
    "lists_honam = Series()\n",
    "lists_innerland = Series()\n",
    "lists_Yeongdong = Series()\n",
    "\n",
    "for i in np.array(conzones[\"콘존ID\"]):\n",
    "    if i[0:4] == \"0010\":\n",
    "        lists_kyongbu = pd.concat([lists_kyongbu,Series(i)])\n",
    "    if i[0:4] == \"0150\":\n",
    "        lists_westsea = pd.concat([lists_westsea,Series(i)])\n",
    "    if i[0:4] == \"0251\":\n",
    "        lists_honam = pd.concat([lists_honam,Series(i)])\n",
    "    if i[0:4] == \"0450\":\n",
    "        lists_innerland = pd.concat([lists_innerland,Series(i)])\n",
    "    if i[0:4] == \"0500\":\n",
    "        lists_Yeongdong = pd.concat([lists_Yeongdong,Series(i)])"
   ]
  },
  {
   "cell_type": "code",
   "execution_count": 8,
   "metadata": {},
   "outputs": [],
   "source": [
    "merged_list = pd.read_csv(replace_path+\"VDS_구간통행속도_1일_1개월_통합.csv\",encoding=\"utf-8\",engine=\"python\",index_col = 0)"
   ]
  },
  {
   "cell_type": "code",
   "execution_count": 165,
   "metadata": {},
   "outputs": [
    {
     "ename": "NameError",
     "evalue": "name 'lists_westsea' is not defined",
     "output_type": "error",
     "traceback": [
      "\u001b[1;31m---------------------------------------------------------------------------\u001b[0m",
      "\u001b[1;31mNameError\u001b[0m                                 Traceback (most recent call last)",
      "\u001b[1;32m<ipython-input-165-9eab32a0d289>\u001b[0m in \u001b[0;36m<module>\u001b[1;34m\u001b[0m\n\u001b[0;32m     13\u001b[0m         \u001b[0mtemp\u001b[0m \u001b[1;33m=\u001b[0m \u001b[0mmerged_list\u001b[0m\u001b[1;33m.\u001b[0m\u001b[0mloc\u001b[0m\u001b[1;33m[\u001b[0m\u001b[0mnp\u001b[0m\u001b[1;33m.\u001b[0m\u001b[0mwhere\u001b[0m\u001b[1;33m(\u001b[0m\u001b[0mnp\u001b[0m\u001b[1;33m.\u001b[0m\u001b[0marray\u001b[0m\u001b[1;33m(\u001b[0m\u001b[0mmerged_list\u001b[0m\u001b[1;33m[\u001b[0m\u001b[1;34m\"conzone\"\u001b[0m\u001b[1;33m]\u001b[0m\u001b[1;33m)\u001b[0m \u001b[1;33m==\u001b[0m \u001b[0mj\u001b[0m\u001b[1;33m)\u001b[0m\u001b[1;33m]\u001b[0m\u001b[1;33m\u001b[0m\u001b[0m\n\u001b[0;32m     14\u001b[0m         \u001b[0mmerged_kyongbu\u001b[0m \u001b[1;33m=\u001b[0m \u001b[0mmerged_kyongbu\u001b[0m\u001b[1;33m.\u001b[0m\u001b[0mappend\u001b[0m\u001b[1;33m(\u001b[0m\u001b[0mtemp\u001b[0m\u001b[1;33m)\u001b[0m\u001b[1;33m\u001b[0m\u001b[0m\n\u001b[1;32m---> 15\u001b[1;33m     \u001b[1;32mfor\u001b[0m \u001b[0mj\u001b[0m \u001b[1;32min\u001b[0m \u001b[0mlists_westsea\u001b[0m\u001b[1;33m:\u001b[0m\u001b[1;33m\u001b[0m\u001b[0m\n\u001b[0m\u001b[0;32m     16\u001b[0m         \u001b[0mtemp\u001b[0m \u001b[1;33m=\u001b[0m \u001b[0mmerged_list\u001b[0m\u001b[1;33m.\u001b[0m\u001b[0mloc\u001b[0m\u001b[1;33m[\u001b[0m\u001b[0mnp\u001b[0m\u001b[1;33m.\u001b[0m\u001b[0mwhere\u001b[0m\u001b[1;33m(\u001b[0m\u001b[0mnp\u001b[0m\u001b[1;33m.\u001b[0m\u001b[0marray\u001b[0m\u001b[1;33m(\u001b[0m\u001b[0mmerged_list\u001b[0m\u001b[1;33m[\u001b[0m\u001b[1;34m\"conzone\"\u001b[0m\u001b[1;33m]\u001b[0m\u001b[1;33m)\u001b[0m \u001b[1;33m==\u001b[0m \u001b[0mj\u001b[0m\u001b[1;33m)\u001b[0m\u001b[1;33m]\u001b[0m\u001b[1;33m\u001b[0m\u001b[0m\n\u001b[0;32m     17\u001b[0m         \u001b[0mmerged_westsea\u001b[0m \u001b[1;33m=\u001b[0m \u001b[0mmerged_westsea\u001b[0m\u001b[1;33m.\u001b[0m\u001b[0mappend\u001b[0m\u001b[1;33m(\u001b[0m\u001b[0mtemp\u001b[0m\u001b[1;33m)\u001b[0m\u001b[1;33m\u001b[0m\u001b[0m\n",
      "\u001b[1;31mNameError\u001b[0m: name 'lists_westsea' is not defined"
     ]
    }
   ],
   "source": [
    "# 앞에서 저장한 구간별 콘존ID 리스트와 매칭시켜서, (0010 패밀리, 0250 패밀리 등) 해당 콘존에 해당하는 데이터셋을 담아준다.\n",
    "\n",
    "merged_kyongbu = DataFrame(columns = [\"date\",\"conzone\",\"type\",\"speed\"])\n",
    "merged_westsea = DataFrame(columns = [\"date\",\"conzone\",\"type\",\"speed\"])\n",
    "merged_honam = DataFrame(columns = [\"date\",\"conzone\",\"type\",\"speed\"])\n",
    "merged_innerland = DataFrame(columns = [\"date\",\"conzone\",\"type\",\"speed\"])\n",
    "merged_Yeongdong = DataFrame(columns = [\"date\",\"conzone\",\"type\",\"speed\"])\n",
    "\n",
    "\n",
    "\n",
    "while True:\n",
    "    for j in lists_kyongbu:\n",
    "        temp = merged_list.loc[np.where(np.array(merged_list[\"conzone\"]) == j)]\n",
    "        merged_kyongbu = merged_kyongbu.append(temp)\n",
    "    for j in lists_westsea:\n",
    "        temp = merged_list.loc[np.where(np.array(merged_list[\"conzone\"]) == j)]\n",
    "        merged_westsea = merged_westsea.append(temp)\n",
    "    for j in lists_honam:\n",
    "        temp = merged_list.loc[np.where(np.array(merged_list[\"conzone\"]) == j)]\n",
    "        merged_honam = merged_honam.append(temp)\n",
    "    for j in lists_innerland:\n",
    "        temp = merged_list.loc[np.where(np.array(merged_list[\"conzone\"]) == j)]\n",
    "        merged_innerland = merged_innerland.append(temp)\n",
    "    for j in lists_Yeongdong:\n",
    "        temp = merged_list.loc[np.where(np.array(merged_list[\"conzone\"]) == j)]\n",
    "        merged_Yeongdong = merged_Yeongdong.append(temp)\n",
    "    break"
   ]
  },
  {
   "cell_type": "markdown",
   "metadata": {},
   "source": [
    "## 탐색적 데이터 분석(맛보기)"
   ]
  },
  {
   "cell_type": "code",
   "execution_count": 180,
   "metadata": {},
   "outputs": [
    {
     "name": "stdout",
     "output_type": "stream",
     "text": [
      "속도가 0이 아닌 포인트는 몇개인가\n",
      "True     314345\n",
      "False     27813\n",
      "Name: speed, dtype: int64\n",
      "=====================\n",
      "속도가 4분위를 벗어나는 이상값은 몇개인가\n",
      "True    342158\n",
      "Name: speed, dtype: int64\n",
      "=====================\n",
      "속도가 가장 높은 값은 어느 지점인가\n",
      "conzone             0010CZS320\n",
      "date                  20130901\n",
      "dates      2013-09-01 00:00:00\n",
      "speed                      170\n",
      "type                         1\n",
      "Name: 253560, dtype: object\n",
      "=====================\n",
      "속도가 가장 낮은 지점은 어느 지점인가\n",
      "conzone             0010CZE010\n",
      "date                  20180321\n",
      "dates      2018-03-21 00:00:00\n",
      "speed                        0\n",
      "type                         1\n",
      "Name: 443, dtype: object\n"
     ]
    }
   ],
   "source": [
    "data = merged_main\n",
    "\n",
    "h = (1.5) * (np.sort(data[\"speed\"])[round((0.25)*(len(data)+1))] + np.sort(data[\"speed\"])[round((0.75)*(len(data)+1))])\n",
    "upper = round(np.sort(data[\"speed\"])[round((0.75)*(len(data)+1))] + h)\n",
    "\n",
    "print(\"속도가 0이 아닌 포인트는 몇개인가\")\n",
    "print((0<data[\"speed\"]).value_counts())\n",
    "print(\"=====================\")\n",
    "print(\"속도가 4분위를 벗어나는 이상값은 몇개인가\")\n",
    "print((data[\"speed\"]<upper).value_counts())\n",
    "print(\"=====================\")\n",
    "print(\"속도가 가장 높은 값은 어느 지점인가\")\n",
    "print(data.loc[np.argmax(data[\"speed\"])])\n",
    "print(\"=====================\")\n",
    "print(\"속도가 가장 낮은 지점은 어느 지점인가\")\n",
    "print(data.loc[np.argmin(data[\"speed\"])])"
   ]
  },
  {
   "cell_type": "code",
   "execution_count": 181,
   "metadata": {},
   "outputs": [
    {
     "data": {
      "text/plain": [
       "dates\n",
       "2012    88.615773\n",
       "2013    88.627797\n",
       "2014    89.264458\n",
       "2015    93.047259\n",
       "2016    92.976788\n",
       "2017    92.568525\n",
       "2018    91.599242\n",
       "Name: speed, dtype: float64"
      ]
     },
     "execution_count": 181,
     "metadata": {},
     "output_type": "execute_result"
    }
   ],
   "source": [
    "#연도별 평균속도\n",
    "\n",
    "merged_list.groupby(merged_list[\"dates\"].apply(lambda x:x.year))[\"speed\"].mean()"
   ]
  },
  {
   "cell_type": "markdown",
   "metadata": {},
   "source": [
    "## R에서의 추가 분석을 위한 구간별 연도별 평균속도 데이터셋 만들기"
   ]
  },
  {
   "cell_type": "code",
   "execution_count": 15,
   "metadata": {},
   "outputs": [],
   "source": [
    "merged_kyongbu = merged_kyongbu[merged_kyongbu[\"speed\"] != 0]\n",
    "merged_westsea = merged_westsea[merged_westsea[\"speed\"] != 0]\n",
    "merged_honam = merged_honam[merged_honam[\"speed\"] != 0]\n",
    "merged_innerland = merged_innerland[merged_innerland[\"speed\"] != 0]\n",
    "merged_Yeongdong = merged_Yeongdong[merged_Yeongdong[\"speed\"] != 0]"
   ]
  },
  {
   "cell_type": "code",
   "execution_count": 19,
   "metadata": {},
   "outputs": [],
   "source": [
    "merged_kyongbu[\"date_format\"] = merged_kyongbu[\"date\"].apply(lambda x: pd.to_datetime(str(x),format = \"%Y%m%d\",box=False))\n",
    "merged_westsea[\"date_format\"] = merged_westsea[\"date\"].apply(lambda x: pd.to_datetime(str(x),format = \"%Y%m%d\",box=False))\n",
    "merged_honam[\"date_format\"] = merged_honam[\"date\"].apply(lambda x: pd.to_datetime(str(x),format = \"%Y%m%d\",box=False))\n",
    "merged_innerland[\"date_format\"] = merged_innerland[\"date\"].apply(lambda x: pd.to_datetime(str(x),format = \"%Y%m%d\",box=False))\n",
    "merged_Yeongdong[\"date_format\"] = merged_Yeongdong[\"date\"].apply(lambda x: pd.to_datetime(str(x),format = \"%Y%m%d\",box=False))"
   ]
  },
  {
   "cell_type": "markdown",
   "metadata": {},
   "source": [
    "## 만약의 사태에 대비하여 파일들을 임시로 저장한다."
   ]
  },
  {
   "cell_type": "code",
   "execution_count": 29,
   "metadata": {},
   "outputs": [],
   "source": [
    "merged_kyongbu.to_csv(\"속도데이터_경부.csv\",encoding=\"utf-8\")\n",
    "merged_westsea.to_csv(\"속도데이터-서해안.csv\",encoding=\"utf-8\")\n",
    "merged_honam.to_csv(\"속도데이터-호남.csv\",encoding=\"utf-8\")\n",
    "merged_innerland.to_csv(\"속도데이터-중부내륙.csv\",encoding=\"utf-8\")\n",
    "merged_Yeongdong.to_csv(\"속도데이터-영동.csv\",encoding=\"utf-8\")"
   ]
  },
  {
   "cell_type": "code",
   "execution_count": 4,
   "metadata": {},
   "outputs": [],
   "source": [
    "merged_kyongbu = pd.read_csv(\"속도데이터_경부.csv\",encoding=\"utf-8\",engine=\"python\",index_col = 0)\n",
    "merged_westsea = pd.read_csv(\"속도데이터-서해안.csv\",encoding=\"utf-8\",engine=\"python\",index_col = 0)\n",
    "merged_honam = pd.read_csv(\"속도데이터-호남.csv\",encoding=\"utf-8\",engine=\"python\",index_col = 0)\n",
    "merged_innerland = pd.read_csv(\"속도데이터-중부내륙.csv\",encoding=\"utf-8\",engine=\"python\",index_col = 0)\n",
    "merged_Yeongdong = pd.read_csv(\"속도데이터-영동.csv\",encoding=\"utf-8\",engine=\"python\",index_col = 0)"
   ]
  },
  {
   "cell_type": "code",
   "execution_count": 27,
   "metadata": {},
   "outputs": [],
   "source": [
    "kyongbu_mean = merged_kyongbu.groupby(merged_kyongbu[\"date_format\"].apply(lambda x : x[0:4]))[\"speed\"].mean()\n",
    "\n",
    "westsea_mean = merged_westsea.groupby(merged_westsea[\"date_format\"].apply(lambda x : x[0:4]))[\"speed\"].mean()\n",
    "\n",
    "honam_mean = merged_honam.groupby(merged_honam[\"date_format\"].apply(lambda x : x[0:4]))[\"speed\"].mean()\n",
    "\n",
    "innerland_mean = merged_innerland.groupby(merged_innerland[\"date_format\"].apply(lambda x : x[0:4]))[\"speed\"].mean()\n",
    "\n",
    "Yeongdong_mean = merged_Yeongdong.groupby(merged_Yeongdong[\"date_format\"].apply(lambda x : x[0:4]))[\"speed\"].mean()"
   ]
  },
  {
   "cell_type": "code",
   "execution_count": null,
   "metadata": {},
   "outputs": [],
   "source": []
  },
  {
   "cell_type": "code",
   "execution_count": 42,
   "metadata": {},
   "outputs": [
    {
     "data": {
      "text/html": [
       "<div>\n",
       "<style scoped>\n",
       "    .dataframe tbody tr th:only-of-type {\n",
       "        vertical-align: middle;\n",
       "    }\n",
       "\n",
       "    .dataframe tbody tr th {\n",
       "        vertical-align: top;\n",
       "    }\n",
       "\n",
       "    .dataframe thead th {\n",
       "        text-align: right;\n",
       "    }\n",
       "</style>\n",
       "<table border=\"1\" class=\"dataframe\">\n",
       "  <thead>\n",
       "    <tr style=\"text-align: right;\">\n",
       "      <th>date_format</th>\n",
       "      <th>2012</th>\n",
       "      <th>2013</th>\n",
       "      <th>2014</th>\n",
       "      <th>2015</th>\n",
       "      <th>2016</th>\n",
       "      <th>2017</th>\n",
       "      <th>2018</th>\n",
       "    </tr>\n",
       "  </thead>\n",
       "  <tbody>\n",
       "    <tr>\n",
       "      <th>경부</th>\n",
       "      <td>93.807838</td>\n",
       "      <td>93.561655</td>\n",
       "      <td>94.214452</td>\n",
       "      <td>94.716791</td>\n",
       "      <td>94.055922</td>\n",
       "      <td>93.706339</td>\n",
       "      <td>93.615070</td>\n",
       "    </tr>\n",
       "    <tr>\n",
       "      <th>서해안</th>\n",
       "      <td>98.711479</td>\n",
       "      <td>99.071360</td>\n",
       "      <td>99.889607</td>\n",
       "      <td>100.582614</td>\n",
       "      <td>99.516067</td>\n",
       "      <td>99.223373</td>\n",
       "      <td>99.283800</td>\n",
       "    </tr>\n",
       "    <tr>\n",
       "      <th>호남</th>\n",
       "      <td>95.026853</td>\n",
       "      <td>95.983864</td>\n",
       "      <td>95.827775</td>\n",
       "      <td>97.147585</td>\n",
       "      <td>96.420845</td>\n",
       "      <td>97.542540</td>\n",
       "      <td>96.838329</td>\n",
       "    </tr>\n",
       "    <tr>\n",
       "      <th>중부내륙</th>\n",
       "      <td>95.804951</td>\n",
       "      <td>95.740329</td>\n",
       "      <td>97.172796</td>\n",
       "      <td>98.095114</td>\n",
       "      <td>96.814999</td>\n",
       "      <td>96.310661</td>\n",
       "      <td>96.028651</td>\n",
       "    </tr>\n",
       "    <tr>\n",
       "      <th>영동</th>\n",
       "      <td>92.038565</td>\n",
       "      <td>91.678966</td>\n",
       "      <td>92.517549</td>\n",
       "      <td>91.860405</td>\n",
       "      <td>91.350546</td>\n",
       "      <td>91.210083</td>\n",
       "      <td>93.006983</td>\n",
       "    </tr>\n",
       "  </tbody>\n",
       "</table>\n",
       "</div>"
      ],
      "text/plain": [
       "date_format       2012       2013       2014        2015       2016  \\\n",
       "경부           93.807838  93.561655  94.214452   94.716791  94.055922   \n",
       "서해안          98.711479  99.071360  99.889607  100.582614  99.516067   \n",
       "호남           95.026853  95.983864  95.827775   97.147585  96.420845   \n",
       "중부내륙         95.804951  95.740329  97.172796   98.095114  96.814999   \n",
       "영동           92.038565  91.678966  92.517549   91.860405  91.350546   \n",
       "\n",
       "date_format       2017       2018  \n",
       "경부           93.706339  93.615070  \n",
       "서해안          99.223373  99.283800  \n",
       "호남           97.542540  96.838329  \n",
       "중부내륙         96.310661  96.028651  \n",
       "영동           91.210083  93.006983  "
      ]
     },
     "execution_count": 42,
     "metadata": {},
     "output_type": "execute_result"
    }
   ],
   "source": [
    "DataFrame([kyongbu_mean,westsea_mean,honam_mean,innerland_mean,Yeongdong_mean],index = [\"경부\",\"서해안\",\"호남\",\"중부내륙\",\"영동\"])"
   ]
  },
  {
   "cell_type": "markdown",
   "metadata": {},
   "source": [
    "## R에서 추가 분석을 위해 csv 형태로 저장한다."
   ]
  },
  {
   "cell_type": "code",
   "execution_count": 37,
   "metadata": {},
   "outputs": [],
   "source": [
    "mean_merged.to_csv(\"속도데이터-평균.csv\",encoding=\"utf-8\")"
   ]
  },
  {
   "cell_type": "markdown",
   "metadata": {},
   "source": [
    "# 사용 완료"
   ]
  }
 ],
 "metadata": {
  "kernelspec": {
   "display_name": "basic",
   "language": "python",
   "name": "basic"
  },
  "language_info": {
   "codemirror_mode": {
    "name": "ipython",
    "version": 3
   },
   "file_extension": ".py",
   "mimetype": "text/x-python",
   "name": "python",
   "nbconvert_exporter": "python",
   "pygments_lexer": "ipython3",
   "version": "3.8.1"
  }
 },
 "nbformat": 4,
 "nbformat_minor": 2
}
