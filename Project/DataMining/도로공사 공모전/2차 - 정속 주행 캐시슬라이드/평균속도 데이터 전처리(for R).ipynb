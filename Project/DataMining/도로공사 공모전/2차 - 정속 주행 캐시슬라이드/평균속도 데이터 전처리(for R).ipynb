{
 "cells": [
  {
   "cell_type": "code",
   "execution_count": null,
   "metadata": {},
   "outputs": [],
   "source": [
    "import pandas as pd\n",
    "from pandas import DataFrame,Series\n",
    "import numpy as np\n",
    "import sys\n",
    "import os\n",
    "import re"
   ]
  },
  {
   "cell_type": "markdown",
   "metadata": {},
   "source": [
    "## 각각 폴더별로 분산 저장되어있는 파일들을 모두 꺼내 하나의 폴더로 통합한다."
   ]
  },
  {
   "cell_type": "code",
   "execution_count": 27,
   "metadata": {},
   "outputs": [],
   "source": [
    "before_path = input(\"대체 전 경로 입력\")\n",
    "dir_list = os.listdir(before_path)\n",
    "\n",
    "replace_path = input(\"대체 후 경로 입력\")\n",
    "\n",
    "for i in dir_list:\n",
    "    temp = os.listdir(before_path+\"//\"+i)\n",
    "    os.rename(before_path+\"//\"+str(i)+\"//\"+temp[0],replace_path+\"//\"+str(i[:28])+\".csv\")"
   ]
  },
  {
   "cell_type": "markdown",
   "metadata": {},
   "source": [
    "## 파일들을 모두 읽어 통합 데이터프레임을 만들고, 시간 변수를 다시 읽어들어 판다스 date 타입으로 바꾼다."
   ]
  },
  {
   "cell_type": "code",
   "execution_count": 150,
   "metadata": {},
   "outputs": [],
   "source": [
    "#통합된 폴더에서 파일들을 다시 읽어와 통합된 데이터프레임(merged_list)로 만든다.\n",
    "\n",
    "merged_list = DataFrame()\n",
    "for i in dir_list:\n",
    "    temp = pd.read_csv(replace_path+\"//\"+i+\".csv\",sep = \"|\",encoding=\"EUC-KR\",names=[\"date\",\"conzone\",\"type\",\"speed\"],index_col=False)\n",
    "    merged_list = merged_list.append(temp)\n",
    "\n",
    "# 인덱스 재배열\n",
    "    \n",
    "merged_list = DataFrame.reset_index(merged_list)\n",
    "del merged_list[\"index\"]\n",
    "\n",
    "# 시간 인덱싱\n",
    "\n",
    "if input(\"시간 인덱싱을 할까요?(시간 10분 소요), Yes : 1, No : else\") == \"1\" :\n",
    "    merged_list[\"dates\"] = merged_list[\"date\"].apply(lambda x: pd.to_datetime(x,format=\"%Y%m%d\"))\n",
    "    \n",
    "if input(\"작업물을 저장할까요? yes : 1, no : else\") == \"1\" :\n",
    "    merged_list.to_csv(\"result.csv\",encoding=\"utf-8\",index_cols = None)"
   ]
  },
  {
   "cell_type": "code",
   "execution_count": 159,
   "metadata": {},
   "outputs": [],
   "source": [
    "?merged_list.to_csv"
   ]
  },
  {
   "cell_type": "code",
   "execution_count": 160,
   "metadata": {},
   "outputs": [],
   "source": [
    "merged_list.to_csv(replace_path+\"//\"+\"result.csv\",encoding=\"utf-8\",index=False)"
   ]
  },
  {
   "cell_type": "code",
   "execution_count": 172,
   "metadata": {},
   "outputs": [
    {
     "name": "stdout",
     "output_type": "stream",
     "text": [
      "원하는 콘존의 ID 첫 네자리를 입력하세요0010\n",
      "작업을 계속 할까요(continue : 1)0\n"
     ]
    }
   ],
   "source": [
    "# 콘존만 저장되어있는 csv파일을 읽어 참조용 파일로 활용한다.\n",
    "\n",
    "conzones = pd.read_csv(\"콘존.csv\",encoding=\"EUC-KR\")\n",
    "merged_main = DataFrame(columns = [\"date\",\"conzone\",\"type\",\"speed\"])\n",
    "killswitch = \"1\"\n",
    "\n",
    "# 콘존(0001XXXXX)형태에서 첫 네자리의 숫자를 입력한다.(경부고속도로 : 0010)\n",
    "while True:\n",
    "    lists_selected = Series()\n",
    "    merged_selected = DataFrame(columns = [\"date\",\"conzone\",\"type\",\"speed\"])\n",
    "    # 작업 중단 여부를 결정(killswitch = 0이면 작업 중단)\n",
    "    if killswitch == \"1\":\n",
    "        conzone_id = input(\"원하는 콘존의 ID 첫 네자리를 입력하세요\")\n",
    "        for i in np.array(conzones[\"콘존ID\"]):\n",
    "            if i[0:4] == conzone_id:\n",
    "                lists_selected = pd.concat([lists_selected,Series(i)])\n",
    "\n",
    "        for j in lists_selected:\n",
    "            temp = merged_list.loc[np.where(np.array(merged_list[\"conzone\"]) == j)]\n",
    "            merged_selected = merged_selected.append(temp)\n",
    "        merged_main = merged_main.append(merged_kyongbu)\n",
    "        merged_main = merged_main.reset_index(drop = True)\n",
    "        merged_selected.to_csv(replace_path+\"//\"+\"VDS_총통행거리_수정\"+str(conzone_id+\".csv\"))\n",
    "        killswitch = input(\"작업을 계속 할까요(continue : 1)\")\n",
    "    else:\n",
    "        break"
   ]
  },
  {
   "cell_type": "code",
   "execution_count": 173,
   "metadata": {},
   "outputs": [],
   "source": [
    "data = merged_main\n",
    "\n",
    "h = (1.5) * (np.sort(data[\"speed\"])[round((0.25)*(len(data)+1))] + np.sort(data[\"speed\"])[round((0.75)*(len(data)+1))])\n",
    "lower = round(np.sort(data[\"speed\"])[round((0.25)*(len(data)+1))] - h)\n",
    "upper = round(np.sort(data[\"speed\"])[round((0.75)*(len(data)+1))] + h)\n"
   ]
  },
  {
   "cell_type": "markdown",
   "metadata": {},
   "source": [
    "## 데이터 분석을 위한 전처리"
   ]
  },
  {
   "cell_type": "code",
   "execution_count": 166,
   "metadata": {},
   "outputs": [],
   "source": [
    "# 경부고속도로 ,서해고속도로, 호남고속도로, 중부내륙, 영동고속도로의 콘존ID들(0010 패밀리, 0250 패밀리)를 리스트로 일단 저장\n",
    "\n",
    "lists_kyongbu = Series()\n",
    "lists_westsea = Series()\n",
    "lists_honam = Series()\n",
    "lists_innerland = Series()\n",
    "lists_Yeongdong = Series()\n",
    "\n",
    "for i in np.array(conzones[\"콘존ID\"]):\n",
    "    if i[0:4] == \"0010\":\n",
    "        lists_kyongbu = pd.concat([lists_kyongbu,Series(i)])\n",
    "    if i[0:4] == \"0150\":\n",
    "        lists_westsea = pd.concat([lists_westsea,Series(i)])\n",
    "    if i[0:4] == \"0251\":\n",
    "        lists_honam = pd.concat([lists_honam,Series(i)])\n",
    "    if i[0:4] == \"0450\":\n",
    "        lists_innerland = pd.concat([lists_innerland,Series(i)])\n",
    "    if i[0:4] == \"0500\":\n",
    "        lists_Yeongdong = pd.concat([lists_Yeongdong,Series(i)])"
   ]
  },
  {
   "cell_type": "code",
   "execution_count": 8,
   "metadata": {},
   "outputs": [],
   "source": [
    "merged_list = pd.read_csv(replace_path+\"VDS_구간통행속도_1일_1개월_통합.csv\",encoding=\"utf-8\",engine=\"python\",index_col = 0)"
   ]
  },
  {
   "cell_type": "code",
   "execution_count": 165,
   "metadata": {},
   "outputs": [
    {
     "ename": "NameError",
     "evalue": "name 'lists_westsea' is not defined",
     "output_type": "error",
     "traceback": [
      "\u001b[1;31m---------------------------------------------------------------------------\u001b[0m",
      "\u001b[1;31mNameError\u001b[0m                                 Traceback (most recent call last)",
      "\u001b[1;32m<ipython-input-165-9eab32a0d289>\u001b[0m in \u001b[0;36m<module>\u001b[1;34m\u001b[0m\n\u001b[0;32m     13\u001b[0m         \u001b[0mtemp\u001b[0m \u001b[1;33m=\u001b[0m \u001b[0mmerged_list\u001b[0m\u001b[1;33m.\u001b[0m\u001b[0mloc\u001b[0m\u001b[1;33m[\u001b[0m\u001b[0mnp\u001b[0m\u001b[1;33m.\u001b[0m\u001b[0mwhere\u001b[0m\u001b[1;33m(\u001b[0m\u001b[0mnp\u001b[0m\u001b[1;33m.\u001b[0m\u001b[0marray\u001b[0m\u001b[1;33m(\u001b[0m\u001b[0mmerged_list\u001b[0m\u001b[1;33m[\u001b[0m\u001b[1;34m\"conzone\"\u001b[0m\u001b[1;33m]\u001b[0m\u001b[1;33m)\u001b[0m \u001b[1;33m==\u001b[0m \u001b[0mj\u001b[0m\u001b[1;33m)\u001b[0m\u001b[1;33m]\u001b[0m\u001b[1;33m\u001b[0m\u001b[0m\n\u001b[0;32m     14\u001b[0m         \u001b[0mmerged_kyongbu\u001b[0m \u001b[1;33m=\u001b[0m \u001b[0mmerged_kyongbu\u001b[0m\u001b[1;33m.\u001b[0m\u001b[0mappend\u001b[0m\u001b[1;33m(\u001b[0m\u001b[0mtemp\u001b[0m\u001b[1;33m)\u001b[0m\u001b[1;33m\u001b[0m\u001b[0m\n\u001b[1;32m---> 15\u001b[1;33m     \u001b[1;32mfor\u001b[0m \u001b[0mj\u001b[0m \u001b[1;32min\u001b[0m \u001b[0mlists_westsea\u001b[0m\u001b[1;33m:\u001b[0m\u001b[1;33m\u001b[0m\u001b[0m\n\u001b[0m\u001b[0;32m     16\u001b[0m         \u001b[0mtemp\u001b[0m \u001b[1;33m=\u001b[0m \u001b[0mmerged_list\u001b[0m\u001b[1;33m.\u001b[0m\u001b[0mloc\u001b[0m\u001b[1;33m[\u001b[0m\u001b[0mnp\u001b[0m\u001b[1;33m.\u001b[0m\u001b[0mwhere\u001b[0m\u001b[1;33m(\u001b[0m\u001b[0mnp\u001b[0m\u001b[1;33m.\u001b[0m\u001b[0marray\u001b[0m\u001b[1;33m(\u001b[0m\u001b[0mmerged_list\u001b[0m\u001b[1;33m[\u001b[0m\u001b[1;34m\"conzone\"\u001b[0m\u001b[1;33m]\u001b[0m\u001b[1;33m)\u001b[0m \u001b[1;33m==\u001b[0m \u001b[0mj\u001b[0m\u001b[1;33m)\u001b[0m\u001b[1;33m]\u001b[0m\u001b[1;33m\u001b[0m\u001b[0m\n\u001b[0;32m     17\u001b[0m         \u001b[0mmerged_westsea\u001b[0m \u001b[1;33m=\u001b[0m \u001b[0mmerged_westsea\u001b[0m\u001b[1;33m.\u001b[0m\u001b[0mappend\u001b[0m\u001b[1;33m(\u001b[0m\u001b[0mtemp\u001b[0m\u001b[1;33m)\u001b[0m\u001b[1;33m\u001b[0m\u001b[0m\n",
      "\u001b[1;31mNameError\u001b[0m: name 'lists_westsea' is not defined"
     ]
    }
   ],
   "source": [
    "# 앞에서 저장한 구간별 콘존ID 리스트와 매칭시켜서, (0010 패밀리, 0250 패밀리 등) 해당 콘존에 해당하는 데이터셋을 담아준다.\n",
    "\n",
    "merged_kyongbu = DataFrame(columns = [\"date\",\"conzone\",\"type\",\"speed\"])\n",
    "merged_westsea = DataFrame(columns = [\"date\",\"conzone\",\"type\",\"speed\"])\n",
    "merged_honam = DataFrame(columns = [\"date\",\"conzone\",\"type\",\"speed\"])\n",
    "merged_innerland = DataFrame(columns = [\"date\",\"conzone\",\"type\",\"speed\"])\n",
    "merged_Yeongdong = DataFrame(columns = [\"date\",\"conzone\",\"type\",\"speed\"])\n",
    "\n",
    "\n",
    "\n",
    "while True:\n",
    "    for j in lists_kyongbu:\n",
    "        temp = merged_list.loc[np.where(np.array(merged_list[\"conzone\"]) == j)]\n",
    "        merged_kyongbu = merged_kyongbu.append(temp)\n",
    "    for j in lists_westsea:\n",
    "        temp = merged_list.loc[np.where(np.array(merged_list[\"conzone\"]) == j)]\n",
    "        merged_westsea = merged_westsea.append(temp)\n",
    "    for j in lists_honam:\n",
    "        temp = merged_list.loc[np.where(np.array(merged_list[\"conzone\"]) == j)]\n",
    "        merged_honam = merged_honam.append(temp)\n",
    "    for j in lists_innerland:\n",
    "        temp = merged_list.loc[np.where(np.array(merged_list[\"conzone\"]) == j)]\n",
    "        merged_innerland = merged_innerland.append(temp)\n",
    "    for j in lists_Yeongdong:\n",
    "        temp = merged_list.loc[np.where(np.array(merged_list[\"conzone\"]) == j)]\n",
    "        merged_Yeongdong = merged_Yeongdong.append(temp)\n",
    "    break"
   ]
  },
  {
   "cell_type": "markdown",
   "metadata": {},
   "source": [
    "## 탐색적 데이터 분석(맛보기)"
   ]
  },
  {
   "cell_type": "code",
   "execution_count": 180,
   "metadata": {},
   "outputs": [
    {
     "name": "stdout",
     "output_type": "stream",
     "text": [
      "속도가 0이 아닌 포인트는 몇개인가\n",
      "True     314345\n",
      "False     27813\n",
      "Name: speed, dtype: int64\n",
      "=====================\n",
      "속도가 4분위를 벗어나는 이상값은 몇개인가\n",
      "True    342158\n",
      "Name: speed, dtype: int64\n",
      "=====================\n",
      "속도가 가장 높은 값은 어느 지점인가\n",
      "conzone             0010CZS320\n",
      "date                  20130901\n",
      "dates      2013-09-01 00:00:00\n",
      "speed                      170\n",
      "type                         1\n",
      "Name: 253560, dtype: object\n",
      "=====================\n",
      "속도가 가장 낮은 지점은 어느 지점인가\n",
      "conzone             0010CZE010\n",
      "date                  20180321\n",
      "dates      2018-03-21 00:00:00\n",
      "speed                        0\n",
      "type                         1\n",
      "Name: 443, dtype: object\n"
     ]
    }
   ],
   "source": [
    "data = merged_main\n",
    "\n",
    "h = (1.5) * (np.sort(data[\"speed\"])[round((0.25)*(len(data)+1))] + np.sort(data[\"speed\"])[round((0.75)*(len(data)+1))])\n",
    "upper = round(np.sort(data[\"speed\"])[round((0.75)*(len(data)+1))] + h)\n",
    "\n",
    "print(\"속도가 0이 아닌 포인트는 몇개인가\")\n",
    "print((0<data[\"speed\"]).value_counts())\n",
    "print(\"=====================\")\n",
    "print(\"속도가 4분위를 벗어나는 이상값은 몇개인가\")\n",
    "print((data[\"speed\"]<upper).value_counts())\n",
    "print(\"=====================\")\n",
    "print(\"속도가 가장 높은 값은 어느 지점인가\")\n",
    "print(data.loc[np.argmax(data[\"speed\"])])\n",
    "print(\"=====================\")\n",
    "print(\"속도가 가장 낮은 지점은 어느 지점인가\")\n",
    "print(data.loc[np.argmin(data[\"speed\"])])"
   ]
  },
  {
   "cell_type": "code",
   "execution_count": 181,
   "metadata": {},
   "outputs": [
    {
     "data": {
      "text/plain": [
       "dates\n",
       "2012    88.615773\n",
       "2013    88.627797\n",
       "2014    89.264458\n",
       "2015    93.047259\n",
       "2016    92.976788\n",
       "2017    92.568525\n",
       "2018    91.599242\n",
       "Name: speed, dtype: float64"
      ]
     },
     "execution_count": 181,
     "metadata": {},
     "output_type": "execute_result"
    }
   ],
   "source": [
    "#연도별 평균속도\n",
    "\n",
    "merged_list.groupby(merged_list[\"dates\"].apply(lambda x:x.year))[\"speed\"].mean()"
   ]
  },
  {
   "cell_type": "markdown",
   "metadata": {},
   "source": [
    "## R에서의 추가 분석을 위한 구간별 연도별 평균속도 데이터셋 만들기"
   ]
  },
  {
   "cell_type": "code",
   "execution_count": 15,
   "metadata": {},
   "outputs": [],
   "source": [
    "merged_kyongbu = merged_kyongbu[merged_kyongbu[\"speed\"] != 0]\n",
    "merged_westsea = merged_westsea[merged_westsea[\"speed\"] != 0]\n",
    "merged_honam = merged_honam[merged_honam[\"speed\"] != 0]\n",
    "merged_innerland = merged_innerland[merged_innerland[\"speed\"] != 0]\n",
    "merged_Yeongdong = merged_Yeongdong[merged_Yeongdong[\"speed\"] != 0]"
   ]
  },
  {
   "cell_type": "code",
   "execution_count": 19,
   "metadata": {},
   "outputs": [],
   "source": [
    "merged_kyongbu[\"date_format\"] = merged_kyongbu[\"date\"].apply(lambda x: pd.to_datetime(str(x),format = \"%Y%m%d\",box=False))\n",
    "merged_westsea[\"date_format\"] = merged_westsea[\"date\"].apply(lambda x: pd.to_datetime(str(x),format = \"%Y%m%d\",box=False))\n",
    "merged_honam[\"date_format\"] = merged_honam[\"date\"].apply(lambda x: pd.to_datetime(str(x),format = \"%Y%m%d\",box=False))\n",
    "merged_innerland[\"date_format\"] = merged_innerland[\"date\"].apply(lambda x: pd.to_datetime(str(x),format = \"%Y%m%d\",box=False))\n",
    "merged_Yeongdong[\"date_format\"] = merged_Yeongdong[\"date\"].apply(lambda x: pd.to_datetime(str(x),format = \"%Y%m%d\",box=False))"
   ]
  },
  {
   "cell_type": "markdown",
   "metadata": {},
   "source": [
    "## 만약의 사태에 대비하여 파일들을 임시로 저장한다."
   ]
  },
  {
   "cell_type": "code",
   "execution_count": 29,
   "metadata": {},
   "outputs": [],
   "source": [
    "merged_kyongbu.to_csv(\"속도데이터_경부.csv\",encoding=\"utf-8\")\n",
    "merged_westsea.to_csv(\"속도데이터-서해안.csv\",encoding=\"utf-8\")\n",
    "merged_honam.to_csv(\"속도데이터-호남.csv\",encoding=\"utf-8\")\n",
    "merged_innerland.to_csv(\"속도데이터-중부내륙.csv\",encoding=\"utf-8\")\n",
    "merged_Yeongdong.to_csv(\"속도데이터-영동.csv\",encoding=\"utf-8\")"
   ]
  },
  {
   "cell_type": "code",
   "execution_count": 4,
   "metadata": {},
   "outputs": [],
   "source": [
    "merged_kyongbu = pd.read_csv(\"속도데이터_경부.csv\",encoding=\"utf-8\",engine=\"python\",index_col = 0)\n",
    "merged_westsea = pd.read_csv(\"속도데이터-서해안.csv\",encoding=\"utf-8\",engine=\"python\",index_col = 0)\n",
    "merged_honam = pd.read_csv(\"속도데이터-호남.csv\",encoding=\"utf-8\",engine=\"python\",index_col = 0)\n",
    "merged_innerland = pd.read_csv(\"속도데이터-중부내륙.csv\",encoding=\"utf-8\",engine=\"python\",index_col = 0)\n",
    "merged_Yeongdong = pd.read_csv(\"속도데이터-영동.csv\",encoding=\"utf-8\",engine=\"python\",index_col = 0)"
   ]
  },
  {
   "cell_type": "code",
   "execution_count": 27,
   "metadata": {},
   "outputs": [],
   "source": [
    "kyongbu_mean = merged_kyongbu.groupby(merged_kyongbu[\"date_format\"].apply(lambda x : x[0:4]))[\"speed\"].mean()\n",
    "\n",
    "westsea_mean = merged_westsea.groupby(merged_westsea[\"date_format\"].apply(lambda x : x[0:4]))[\"speed\"].mean()\n",
    "\n",
    "honam_mean = merged_honam.groupby(merged_honam[\"date_format\"].apply(lambda x : x[0:4]))[\"speed\"].mean()\n",
    "\n",
    "innerland_mean = merged_innerland.groupby(merged_innerland[\"date_format\"].apply(lambda x : x[0:4]))[\"speed\"].mean()\n",
    "\n",
    "Yeongdong_mean = merged_Yeongdong.groupby(merged_Yeongdong[\"date_format\"].apply(lambda x : x[0:4]))[\"speed\"].mean()"
   ]
  },
  {
   "cell_type": "code",
   "execution_count": null,
   "metadata": {},
   "outputs": [],
   "source": []
  },
  {
   "cell_type": "code",
   "execution_count": 42,
   "metadata": {},
   "outputs": [
    {
     "data": {
      "text/html": [
       "<div>\n",
       "<style scoped>\n",
       "    .dataframe tbody tr th:only-of-type {\n",
       "        vertical-align: middle;\n",
       "    }\n",
       "\n",
       "    .dataframe tbody tr th {\n",
       "        vertical-align: top;\n",
       "    }\n",
       "\n",
       "    .dataframe thead th {\n",
       "        text-align: right;\n",
       "    }\n",
       "</style>\n",
       "<table border=\"1\" class=\"dataframe\">\n",
       "  <thead>\n",
       "    <tr style=\"text-align: right;\">\n",
       "      <th>date_format</th>\n",
       "      <th>2012</th>\n",
       "      <th>2013</th>\n",
       "      <th>2014</th>\n",
       "      <th>2015</th>\n",
       "      <th>2016</th>\n",
       "      <th>2017</th>\n",
       "      <th>2018</th>\n",
       "    </tr>\n",
       "  </thead>\n",
       "  <tbody>\n",
       "    <tr>\n",
       "      <th>경부</th>\n",
       "      <td>93.807838</td>\n",
       "      <td>93.561655</td>\n",
       "      <td>94.214452</td>\n",
       "      <td>94.716791</td>\n",
       "      <td>94.055922</td>\n",
       "      <td>93.706339</td>\n",
       "      <td>93.615070</td>\n",
       "    </tr>\n",
       "    <tr>\n",
       "      <th>서해안</th>\n",
       "      <td>98.711479</td>\n",
       "      <td>99.071360</td>\n",
       "      <td>99.889607</td>\n",
       "      <td>100.582614</td>\n",
       "      <td>99.516067</td>\n",
       "      <td>99.223373</td>\n",
       "      <td>99.283800</td>\n",
       "    </tr>\n",
       "    <tr>\n",
       "      <th>호남</th>\n",
       "      <td>95.026853</td>\n",
       "      <td>95.983864</td>\n",
       "      <td>95.827775</td>\n",
       "      <td>97.147585</td>\n",
       "      <td>96.420845</td>\n",
       "      <td>97.542540</td>\n",
       "      <td>96.838329</td>\n",
       "    </tr>\n",
       "    <tr>\n",
       "      <th>중부내륙</th>\n",
       "      <td>95.804951</td>\n",
       "      <td>95.740329</td>\n",
       "      <td>97.172796</td>\n",
       "      <td>98.095114</td>\n",
       "      <td>96.814999</td>\n",
       "      <td>96.310661</td>\n",
       "      <td>96.028651</td>\n",
       "    </tr>\n",
       "    <tr>\n",
       "      <th>영동</th>\n",
       "      <td>92.038565</td>\n",
       "      <td>91.678966</td>\n",
       "      <td>92.517549</td>\n",
       "      <td>91.860405</td>\n",
       "      <td>91.350546</td>\n",
       "      <td>91.210083</td>\n",
       "      <td>93.006983</td>\n",
       "    </tr>\n",
       "  </tbody>\n",
       "</table>\n",
       "</div>"
      ],
      "text/plain": [
       "date_format       2012       2013       2014        2015       2016  \\\n",
       "경부           93.807838  93.561655  94.214452   94.716791  94.055922   \n",
       "서해안          98.711479  99.071360  99.889607  100.582614  99.516067   \n",
       "호남           95.026853  95.983864  95.827775   97.147585  96.420845   \n",
       "중부내륙         95.804951  95.740329  97.172796   98.095114  96.814999   \n",
       "영동           92.038565  91.678966  92.517549   91.860405  91.350546   \n",
       "\n",
       "date_format       2017       2018  \n",
       "경부           93.706339  93.615070  \n",
       "서해안          99.223373  99.283800  \n",
       "호남           97.542540  96.838329  \n",
       "중부내륙         96.310661  96.028651  \n",
       "영동           91.210083  93.006983  "
      ]
     },
     "execution_count": 42,
     "metadata": {},
     "output_type": "execute_result"
    }
   ],
   "source": [
    "DataFrame([kyongbu_mean,westsea_mean,honam_mean,innerland_mean,Yeongdong_mean],index = [\"경부\",\"서해안\",\"호남\",\"중부내륙\",\"영동\"])"
   ]
  },
  {
   "cell_type": "markdown",
   "metadata": {},
   "source": [
    "## R에서 추가 분석을 위해 csv 형태로 저장한다."
   ]
  },
  {
   "cell_type": "code",
   "execution_count": 37,
   "metadata": {},
   "outputs": [],
   "source": [
    "mean_merged.to_csv(\"속도데이터-평균.csv\",encoding=\"utf-8\")"
   ]
  },
  {
   "cell_type": "markdown",
   "metadata": {},
   "source": [
    "# 사용 완료"
   ]
  }
 ],
 "metadata": {
  "kernelspec": {
   "display_name": "Python 3",
   "language": "python",
   "name": "python3"
  },
  "language_info": {
   "codemirror_mode": {
    "name": "ipython",
    "version": 3
   },
   "file_extension": ".py",
   "mimetype": "text/x-python",
   "name": "python",
   "nbconvert_exporter": "python",
   "pygments_lexer": "ipython3",
   "version": "3.7.4"
  }
 },
 "nbformat": 4,
 "nbformat_minor": 2
}
