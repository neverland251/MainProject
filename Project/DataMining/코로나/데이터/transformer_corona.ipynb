{
 "cells": [
  {
   "cell_type": "code",
   "execution_count": 50,
   "metadata": {},
   "outputs": [],
   "source": [
    "from selenium.common.exceptions import NoSuchWindowException\n",
    "from selenium import webdriver\n",
    "from selenium.webdriver import ActionChains as AC\n",
    "from selenium.webdriver.common.keys import Keys\n",
    "from selenium.webdriver.support.ui import WebDriverWait\n",
    "\n",
    "from pandas import Series,DataFrame\n",
    "from bs4 import BeautifulSoup as bs\n",
    "import pandas as pd\n",
    "import numpy as np\n",
    "import random\n",
    "\n",
    "import csv\n",
    "\n",
    "from time import sleep\n",
    "import re"
   ]
  },
  {
   "cell_type": "code",
   "execution_count": 51,
   "metadata": {},
   "outputs": [],
   "source": [
    "from keras import models\n",
    "from keras.models import Sequential\n",
    "from keras.models import Model\n",
    "from keras.models import load_model\n",
    "from keras import backend as K\n",
    "\n",
    "from keras import layers\n",
    "from keras.layers import Layer\n",
    "from keras.layers import Input,Dense,Flatten,Embedding,Permute,Dot,Reshape\n",
    "from keras.layers.convolutional import Conv1D,MaxPooling1D,MaxPooling2D\n",
    "from keras.layers import Dropout\n",
    "from keras.layers import LSTM,GRU\n",
    "\n",
    "\n",
    "import time\n",
    "\n",
    "from keras.callbacks import Callback\n",
    "\n",
    "from keras.preprocessing import sequence\n",
    "from keras.utils import np_utils\n",
    "\n",
    "import tensorflow as tf\n",
    "from tensorflow.python.framework import function\n",
    "import math\n",
    "\n",
    "from sklearn.model_selection import train_test_split\n",
    "from sklearn.feature_extraction.text import CountVectorizer\n",
    "from sklearn.metrics import roc_auc_score,accuracy_score\n",
    "\n",
    "import scipy\n",
    "from scipy.sparse import dok_matrix\n",
    "\n",
    "import pandas as pd\n",
    "from pandas import DataFrame, Series\n",
    "import numpy as np\n",
    "from scipy import stats\n",
    "\n",
    "import re\n",
    "\n",
    "import matplotlib as mpl\n",
    "import matplotlib.pyplot as plt\n",
    "import matplotlib.font_manager as fm\n",
    "\n",
    "import copy\n",
    "\n",
    "from konlpy.tag import Okt\n",
    "from konlpy.tag import Komoran\n",
    "from konlpy.tag import Kkma\n",
    "\n",
    "Okt = Okt()\n",
    "Kom = Komoran()\n",
    "Kkma = Kkma()"
   ]
  },
  {
   "cell_type": "markdown",
   "metadata": {},
   "source": [
    "## 1. 데이터 준비 및 EDA"
   ]
  },
  {
   "cell_type": "markdown",
   "metadata": {},
   "source": [
    "### 1) 데이터 LOAD"
   ]
  },
  {
   "cell_type": "code",
   "execution_count": 52,
   "metadata": {},
   "outputs": [],
   "source": [
    "import os\n",
    "\n",
    "list_dir = os.listdir(\"C:/Users/23/Desktop/Project/코로나/데이터/\")\n",
    "file_list = np.array(list_dir)[np.where(DataFrame(list(Series(list_dir).apply(lambda x : x.split(\".\"))))[[3]] == \"txt\")[0]]"
   ]
  },
  {
   "cell_type": "code",
   "execution_count": 327,
   "metadata": {},
   "outputs": [
    {
     "name": "stderr",
     "output_type": "stream",
     "text": [
      "C:\\Users\\23\\Anaconda3\\envs\\tensorflow\\lib\\site-packages\\ipykernel_launcher.py:4: DeprecationWarning: The default dtype for empty Series will be 'object' instead of 'float64' in a future version. Specify a dtype explicitly to silence this warning.\n",
      "  after removing the cwd from sys.path.\n"
     ]
    }
   ],
   "source": [
    "\n",
    "rawdata = DataFrame()\n",
    "\n",
    "for i in file_list:\n",
    "    texts = Series()\n",
    "    with open(\"C:/Users/23/Desktop/Project/코로나/데이터/\" + str(i) ,encoding = \"utf-8\") as text:\n",
    "        for line in text:\n",
    "            texts = pd.concat([texts, Series(line).str.rsplit(\"\\t\")])\n",
    "            columns = [\"DATE\", \"PRESS\", \"TITLE\", \"TEXT\"]\n",
    "            col_length = DataFrame(list(pd.concat([texts, Series(line).str.rsplit(\"\\t\")]))).shape[1]\n",
    "            columns.extend([i for i in range(0 , (col_length - 4))])\n",
    "        texts = DataFrame(list(texts.reset_index(drop = True)),columns = columns).iloc[:,0:4]\n",
    "        rawdata = pd.concat([rawdata, texts])"
   ]
  },
  {
   "cell_type": "code",
   "execution_count": 328,
   "metadata": {},
   "outputs": [],
   "source": [
    "text = rawdata[\"TEXT\"]"
   ]
  },
  {
   "cell_type": "code",
   "execution_count": 382,
   "metadata": {},
   "outputs": [],
   "source": [
    "target = rawdata[\"PRESS\"]"
   ]
  },
  {
   "cell_type": "code",
   "execution_count": 331,
   "metadata": {},
   "outputs": [],
   "source": [
    "#texts_for_vocabulary = pd.concat([text,target])\n",
    "texts_for_vocuabulary= text"
   ]
  },
  {
   "cell_type": "markdown",
   "metadata": {},
   "source": [
    "### 2) EDA"
   ]
  },
  {
   "cell_type": "markdown",
   "metadata": {},
   "source": [
    "## 2. 데이터 전처리"
   ]
  },
  {
   "cell_type": "code",
   "execution_count": 57,
   "metadata": {},
   "outputs": [],
   "source": [
    "\n",
    "length_1 = DataFrame()\n",
    "\n",
    "for i,j in enumerate(np.array(text)):\n",
    "    good = DataFrame([len(j)],index=[i])\n",
    "    length_1 = pd.concat([length_1,good],axis=0)"
   ]
  },
  {
   "cell_type": "code",
   "execution_count": 58,
   "metadata": {},
   "outputs": [
    {
     "data": {
      "image/png": "[encoded data removed]",
      "text/plain": [
       "<Figure size 432x288 with 1 Axes>"
      ]
     },
     "metadata": {
      "needs_background": "light"
     },
     "output_type": "display_data"
    }
   ],
   "source": [
    "a = length_1.hist()\n",
    "plt.show(a)"
   ]
  },
  {
   "cell_type": "code",
   "execution_count": 59,
   "metadata": {},
   "outputs": [
    {
     "name": "stderr",
     "output_type": "stream",
     "text": [
      "C:\\Users\\23\\Anaconda3\\envs\\tensorflow\\lib\\site-packages\\ipykernel_launcher.py:3: VisibleDeprecationWarning: Creating an ndarray from ragged nested sequences (which is a list-or-tuple of lists-or-tuples-or ndarrays with different lengths or shapes) is deprecated. If you meant to do this, you must specify 'dtype=object' when creating the ndarray\n",
      "  This is separate from the ipykernel package so we can avoid doing imports until\n"
     ]
    }
   ],
   "source": [
    "\n",
    "length_1 = DataFrame()\n",
    "\n",
    "for i,j in enumerate(np.array(morphsVectored[(int(len(morphsVectored) / 2)) + 1 : len(morphsVectored)])):\n",
    "    good = DataFrame([len(j)],index=[i])\n",
    "    length_1 = pd.concat([length_1,good],axis=0)"
   ]
  },
  {
   "cell_type": "code",
   "execution_count": 60,
   "metadata": {},
   "outputs": [
    {
     "data": {
      "image/png": "[encoded data removed]",
      "text/plain": [
       "<Figure size 432x288 with 1 Axes>"
      ]
     },
     "metadata": {
      "needs_background": "light"
     },
     "output_type": "display_data"
    }
   ],
   "source": [
    "a = length_1.hist()\n",
    "plt.show(a)"
   ]
  },
  {
   "cell_type": "code",
   "execution_count": 61,
   "metadata": {},
   "outputs": [],
   "source": [
    "def vect_tokenizer(text):\n",
    "    return Kom.nouns(text)"
   ]
  },
  {
   "cell_type": "markdown",
   "metadata": {},
   "source": [
    "### 1) 색인사전 구성"
   ]
  },
  {
   "cell_type": "code",
   "execution_count": 62,
   "metadata": {},
   "outputs": [],
   "source": [
    "text = texts_for_vocabulary"
   ]
  },
  {
   "cell_type": "code",
   "execution_count": 332,
   "metadata": {
    "scrolled": true
   },
   "outputs": [
    {
     "name": "stdout",
     "output_type": "stream",
     "text": [
      "있는 색인사전을 쓸까요(0), 아님 신규로 만들까요(1)1\n"
     ]
    },
    {
     "name": "stderr",
     "output_type": "stream",
     "text": [
      "C:\\Users\\23\\Anaconda3\\envs\\tensorflow\\lib\\site-packages\\sklearn\\feature_extraction\\text.py:484: UserWarning: The parameter 'token_pattern' will not be used since 'tokenizer' is not None'\n",
      "  warnings.warn(\"The parameter 'token_pattern' will not be used\"\n"
     ]
    }
   ],
   "source": [
    "## CountVectorizer로 문자 : 숫자로 이루어진 색인 사전을 만든다.\n",
    "## 이미 만들어진 색인사전을 이용해도 됩니다.\n",
    "\n",
    "zero_or_one = input(\"있는 색인사전을 쓸까요(0), 아님 신규로 만들까요(1)\")\n",
    "\n",
    "if zero_or_one == \"1\":\n",
    "    vect = CountVectorizer(tokenizer = vect_tokenizer ,min_df = 1, analyzer = \"word\")\n",
    "    vect.fit(text)\n",
    "    vocabulary = vect.vocabulary_\n",
    "    vocabulary['CLS'] = len(vocabulary) + 1\n",
    "    vocabulary['EOS'] = len(vocabulary) + 1\n",
    "    DataFrame([vect.vocabulary_]).to_csv(\"색인사전.csv\",encoding=\"utf-8\",index=False)\n",
    "if zero_or_one == \"0\":\n",
    "    vocabulary = pd.read_csv(\"색인사전.csv\",engine=\"python\",encoding=\"utf-8\")\n",
    "    vocabulary = vocabulary.to_dict(orient=\"records\")[0]"
   ]
  },
  {
   "cell_type": "markdown",
   "metadata": {},
   "source": [
    "### 2) 문장  토큰화"
   ]
  },
  {
   "cell_type": "code",
   "execution_count": 341,
   "metadata": {},
   "outputs": [
    {
     "name": "stdout",
     "output_type": "stream",
     "text": [
      "있는 벡터화 쓸까요(0), 아님 신규로 만들까요(1)1\n"
     ]
    }
   ],
   "source": [
    "zero_or_one = input(\"있는 벡터화 쓸까요(0), 아님 신규로 만들까요(1)\")\n",
    "\n",
    "morphsVectored = list()\n",
    "\n",
    "if zero_or_one == \"1\":\n",
    "\n",
    "    ## 다시 형태소 분석기를 돌려서, text의 문장을 형태소로 분해하여 morphs에 담는다.\n",
    "    ## 시간이 오래 걸립니다. 5분정도\n",
    "\n",
    "    morphs = list()\n",
    "\n",
    "    for i in text:\n",
    "        temp = Kom.nouns(i)\n",
    "        temp.insert(0,'CLS')\n",
    "        temp.append(\"EOS\")\n",
    "        morphs.append(temp)\n",
    "        \n",
    "    for i in morphs:\n",
    "        temporailyList = list()\n",
    "        for k in i:\n",
    "            #print(k)\n",
    "            try:\n",
    "                temporailyList.append(vocabulary[k])\n",
    "            except KeyError:\n",
    "                temporailyList.append(0)\n",
    "        morphsVectored.append(temporailyList)\n",
    "\n",
    "    DataFrame(morphsVectored).to_csv(\"벡터화.csv\",index=False,encoding=\"utf-8\")\n",
    "\n",
    "if zero_or_one == \"0\" :\n",
    "    morphsVectored = list()\n",
    "    rawdata = pd.read_csv(\"벡터화.csv\",engine=\"python\",encoding =\" utf-8\")\n",
    "\n",
    "    for i in range(0,len(rawdata)):\n",
    "        morphsVectored.append(list(rawdata.loc[i,:].dropna()))"
   ]
  },
  {
   "cell_type": "code",
   "execution_count": 413,
   "metadata": {},
   "outputs": [],
   "source": [
    "# text classification\n",
    "target = pd.get_dummies(DataFrame(target))\n",
    "\n",
    "input_1 = sequence.pad_sequences(morphsVectored ,maxlen = 70)\n",
    "\n",
    "X_train, X_test, y_train, y_test = train_test_split(input_1, target ,test_size=0.25)\n",
    "#y_train = np_utils.to_categorical(y_train)\n",
    "#y_test = np_utils.to_categorical(y_test)"
   ]
  },
  {
   "cell_type": "code",
   "execution_count": 70,
   "metadata": {},
   "outputs": [],
   "source": [
    "# text generating\n",
    "\n",
    "input_1 = sequence.pad_sequences(morphsVectored[1 : (int(len(morphsVectored) / 2))],maxlen = 70)\n",
    "\n",
    "input_2 = sequence.pad_sequences(morphsVectored[(int(len(morphsVectored) / 2)) + 1 : len(morphsVectored)],maxlen = 20)\n",
    "\n",
    "X_train_1,X_val_1,X_train_2,X_val_2 = train_test_split(input_1, input_2 ,test_size=0.25)\n",
    "#y_train = np_utils.to_categorical(y_train)\n",
    "#y_test = np_utils.to_categorical(y_test)\n",
    "\n",
    "dummies_temp = DataFrame(columns = [i for i in range(1,len(vocabulary) + 1)])"
   ]
  },
  {
   "cell_type": "markdown",
   "metadata": {},
   "source": [
    "## 3. 모델 구성"
   ]
  },
  {
   "cell_type": "code",
   "execution_count": 347,
   "metadata": {},
   "outputs": [],
   "source": [
    "# Positioning Encoding 생성 함수\n",
    "\n",
    "def get_timing_signal_1d(length,\n",
    "                         channels,\n",
    "                         min_timescale=1.0,\n",
    "                         max_timescale=1.0e4,\n",
    "                         start_index=0):\n",
    "    position = tf.cast(tf.range(length) + start_index,dtype=tf.float32)\n",
    "    num_timescales = channels // 2\n",
    "    log_timescale_increment = (\n",
    "        math.log(float(max_timescale) / float(min_timescale)) /\n",
    "        (tf.cast(num_timescales, dtype=tf.float32) - 1))\n",
    "    inv_timescales = min_timescale * tf.exp(\n",
    "        tf.cast(tf.range(num_timescales),dtype=tf.float32) * -log_timescale_increment)\n",
    "    scaled_time = tf.expand_dims(position, 1) * tf.expand_dims(inv_timescales, 0)\n",
    "    signal = tf.concat([tf.sin(scaled_time), tf.cos(scaled_time)], axis=1)\n",
    "    signal = tf.pad(signal, [[0, 0], [0, tf.math.floormod(channels, 2)]])\n",
    "    signal = tf.reshape(signal, [1, length, channels])\n",
    "    return signal\n",
    "\n",
    "# 패딩 마스크 생성 함수\n",
    "\n",
    "def create_padding_mask(seq):\n",
    "    seq = tf.cast(tf.math.equal(seq, 0), tf.float32)\n",
    "\n",
    "    # add extra dimensions to add the padding\n",
    "    # to the attention logits.\n",
    "    return seq[:, tf.newaxis, :]  # (batch_size, 1, 1, seq_len)\n",
    "\n",
    "#미리보기 마스크 생성 함수\n",
    "\n",
    "def create_look_ahead_mask(size):\n",
    "    # 단어 순서에 따라 상삼각행렬을 만들어준다.\n",
    "    mask = 1 - tf.linalg.band_part(tf.ones((size, size)), -1, 0)\n",
    "    return mask  # (seq_len, seq_len)"
   ]
  },
  {
   "cell_type": "markdown",
   "metadata": {},
   "source": [
    "### 1) 파라미터"
   ]
  },
  {
   "cell_type": "code",
   "execution_count": 414,
   "metadata": {},
   "outputs": [],
   "source": [
    "# text_classification\n",
    "\n",
    "multi_head_num = 8\n",
    "encoder_num = 5\n",
    "decoder_num = 5\n",
    "vocab_size = len(vocabulary) + 1\n",
    "target_size = target.shape[1]\n",
    "embedding_dim = 300\n",
    "dense_dim = 100\n",
    "\n",
    "sen_len_1 = input_1[0].shape[0]\n",
    "sen_len_2 = input_1[0].shape[0]"
   ]
  },
  {
   "cell_type": "code",
   "execution_count": 350,
   "metadata": {},
   "outputs": [],
   "source": [
    "#text_generating\n",
    "\n",
    "multi_head_num = 8\n",
    "encoder_num = 5\n",
    "decoder_num = 5\n",
    "vocab_size = len(vocabulary) + 1\n",
    "target_size = len(vocabulary) + 1\n",
    "embedding_dim = 300\n",
    "dense_dim = 100\n",
    "\n",
    "sen_len_1 = input_1[0].shape[0]\n",
    "sen_len_2 = input_2[0].shape[0]"
   ]
  },
  {
   "cell_type": "markdown",
   "metadata": {},
   "source": [
    "### 2)입력 구성"
   ]
  },
  {
   "cell_type": "code",
   "execution_count": 415,
   "metadata": {},
   "outputs": [],
   "source": [
    "## input_1 ##\n",
    "\n",
    "input_vec_1 = layers.Input([sen_len_1])\n",
    "c_embedding = layers.Embedding(vocab_size, embedding_dim)(input_vec_1)\n",
    "\n",
    "position_encoding = layers.Lambda(lambda x : \n",
    "                                      get_timing_signal_1d(length = int(x.shape[1]), \n",
    "                                                           channels = int(x.shape[2])))(c_embedding)\n",
    "\n",
    "c_embedding = layers.Lambda(lambda x :\n",
    "                           x[0] + x[1])([c_embedding,position_encoding])"
   ]
  },
  {
   "cell_type": "code",
   "execution_count": 416,
   "metadata": {},
   "outputs": [],
   "source": [
    "## input_2 ##\n",
    "\n",
    "input_vec_2 = layers.Input([sen_len_2])\n",
    "o_embedding = layers.Embedding(vocab_size, embedding_dim)(input_vec_2)\n",
    "\n",
    "position_encoding = layers.Lambda(lambda x : \n",
    "                                      get_timing_signal_1d(length = int(x.shape[1]), \n",
    "                                                           channels = int(x.shape[2])))(o_embedding)\n",
    "    \n",
    "o_embedding = layers.Lambda(lambda x :\n",
    "                           x[0] + x[1])([o_embedding,position_encoding])"
   ]
  },
  {
   "cell_type": "markdown",
   "metadata": {},
   "source": [
    "### 3) Transformer 모델 구성"
   ]
  },
  {
   "cell_type": "markdown",
   "metadata": {},
   "source": [
    "#### (1)encoder"
   ]
  },
  {
   "cell_type": "code",
   "execution_count": 417,
   "metadata": {},
   "outputs": [
    {
     "name": "stdout",
     "output_type": "stream",
     "text": [
      "0\n",
      "1\n",
      "2\n",
      "3\n",
      "4\n"
     ]
    }
   ],
   "source": [
    "for i in range(0, encoder_num):\n",
    "    print(i)\n",
    "\n",
    "    if i == 0:\n",
    "        queries = layers.Dense(dense_dim)(c_embedding)\n",
    "        keys = layers.Dense(dense_dim)(c_embedding)\n",
    "        values = layers.Dense(dense_dim)(c_embedding)\n",
    "        \n",
    "        query_key = layers.Dot(axes = 2)([queries,keys])\n",
    "        query_key = layers.Lambda(lambda x: (x / np.sqrt(dense_dim)))(query_key)\n",
    "        query_key = layers.Softmax()(query_key)\n",
    "        \n",
    "        query_key = layers.Lambda(lambda x : x + (create_padding_mask(input_vec_1) * (-1e9)))(query_key)\n",
    "        \n",
    "        attention = layers.Dot(axes=1)([query_key,values])\n",
    "        \n",
    "        for j in range(0 ,(multi_head_num - 1)):\n",
    "            queries_n = layers.Dense(dense_dim)(c_embedding)\n",
    "            keys_n = layers.Dense(dense_dim)(c_embedding)\n",
    "            values_n = layers.Dense(dense_dim)(c_embedding)\n",
    "\n",
    "            query_key_n = layers.Dot(axes = 2)([queries_n,keys_n])\n",
    "            query_key_n = layers.Lambda(lambda x: (x / np.sqrt(dense_dim)))(query_key_n)\n",
    "            query_key_n = layers.Softmax()(query_key_n)\n",
    "            \n",
    "            query_key_n = layers.Lambda(lambda x : x + (create_padding_mask(input_vec_1) * (-1e9)))(query_key_n)\n",
    "\n",
    "            attention_n = layers.Dot(axes=1)([query_key_n,values_n])\n",
    "\n",
    "            attention = layers.Concatenate()([attention,attention_n])\n",
    "            \n",
    "        attention_head = layers.Dense(embedding_dim)(attention)\n",
    "\n",
    "        encoder_resnet = layers.Add()([c_embedding,attention_head])\n",
    "        encoder_resnet = layers.BatchNormalization()(encoder_resnet)\n",
    "\n",
    "        encoder_output_resnet = layers.Dense(embedding_dim)(encoder_resnet)\n",
    "        encoder_output_resnet = layers.Add()([encoder_output_resnet, encoder_resnet])\n",
    "        encoder_output_resnet = layers.BatchNormalization()(encoder_output_resnet)\n",
    "        \n",
    "    else :\n",
    "        \n",
    "        quries = layers.Dense(dense_dim)(encoder_output_resnet)\n",
    "        keys = layers.Dense(dense_dim)(encoder_output_resnet)\n",
    "        values = layers.Dense(dense_dim)(encoder_output_resnet)\n",
    "\n",
    "        query_key = layers.Dot(axes = 2)([queries,keys])\n",
    "        query_key = layers.Lambda(lambda x: (x / np.sqrt(dense_dim)))(query_key)\n",
    "        query_key = layers.Softmax()(query_key)\n",
    "        \n",
    "        query_key = layers.Lambda(lambda x : x + (create_padding_mask(input_vec_1) * (-1e9)))(query_key)\n",
    "\n",
    "        attention = layers.Dot(axes=1)([query_key,values])\n",
    "\n",
    "        for j in range(0 ,(multi_head_num - 1)):\n",
    "            queries_n = layers.Dense(dense_dim)(encoder_output_resnet)\n",
    "            keys_n = layers.Dense(dense_dim)(encoder_output_resnet)\n",
    "            values_n = layers.Dense(dense_dim)(encoder_output_resnet)\n",
    "\n",
    "            query_key_n = layers.Dot(axes = 2)([queries_n,keys_n])\n",
    "            query_key_n = layers.Lambda(lambda x: (x / np.sqrt(dense_dim)))(query_key_n)\n",
    "            query_key_n = layers.Softmax()(query_key_n)\n",
    "            \n",
    "            query_key_n = layers.Lambda(lambda x : x + (create_padding_mask(input_vec_1) * (-1e9)))(query_key_n)\n",
    "\n",
    "            attention_n = layers.Dot(axes=1)([query_key_n,values_n])\n",
    "\n",
    "            attention = layers.Concatenate()([attention,attention_n])\n",
    "\n",
    "        attention_head = layers.Dense(embedding_dim)(attention)\n",
    "\n",
    "        encoder_resnet = layers.Add()([encoder_output_resnet,attention_head])\n",
    "        encoder_resnet = layers.BatchNormalization()(encoder_resnet)\n",
    "\n",
    "        encoder_output_resnet = layers.Dense(embedding_dim)(encoder_resnet)\n",
    "        encoder_output_resnet = layers.Add()([encoder_output_resnet, encoder_resnet])\n",
    "        encoder_output_resnet = layers.BatchNormalization()(encoder_output_resnet)\n",
    "   "
   ]
  },
  {
   "cell_type": "markdown",
   "metadata": {},
   "source": [
    "#### (2) Decoder"
   ]
  },
  {
   "cell_type": "code",
   "execution_count": 418,
   "metadata": {},
   "outputs": [
    {
     "name": "stdout",
     "output_type": "stream",
     "text": [
      "0\n",
      "1\n",
      "2\n",
      "3\n",
      "4\n"
     ]
    }
   ],
   "source": [
    " for i in range(0, decoder_num):\n",
    "    \n",
    "    print(i)    \n",
    "    \n",
    "    ## first floor decoder\n",
    "    \n",
    "    if i == 0 :    \n",
    "        queries = layers.Dense(dense_dim)(o_embedding)\n",
    "        keys = layers.Dense(dense_dim)(o_embedding)\n",
    "        values = layers.Dense(dense_dim)(o_embedding)\n",
    "\n",
    "        query_key = layers.Dot(axes = 2)([keys,queries])\n",
    "        query_key = layers.Lambda(lambda x: (x / np.sqrt(dense_dim)))(query_key)\n",
    "        query_key = layers.Softmax()(query_key)\n",
    "        \n",
    "        combined_mask = tf.maximum((create_look_ahead_mask(input_vec_2.shape[1]) * (-1e9)), \n",
    "                   (create_look_ahead_mask(input_vec_2.shape[1]) * (-1e9)))\n",
    "        \n",
    "        query_key = layers.Lambda(lambda x : x + combined_mask)(query_key)\n",
    "        \n",
    "        attention = layers.Dot(axes=1)([query_key,values])\n",
    "        \n",
    "        for j in range(0 ,(multi_head_num - 1)):\n",
    "            \n",
    "            queries_n = layers.Dense(dense_dim)(o_embedding)\n",
    "            keys_n = layers.Dense(dense_dim)(o_embedding)\n",
    "            values_n = layers.Dense(dense_dim)(o_embedding)\n",
    "\n",
    "            query_key_n = layers.Dot(axes = 2)([keys_n,queries_n])\n",
    "            query_key_n = layers.Lambda(lambda x: (x / np.sqrt(dense_dim)))(query_key_n)\n",
    "            query_key_n = layers.Softmax()(query_key_n)\n",
    "            \n",
    "            query_key_n = layers.Lambda(lambda x : x + combined_mask)(query_key_n)\n",
    "\n",
    "            attention_n = layers.Dot(axes=1)([query_key_n,values_n])\n",
    "\n",
    "            attention = layers.Concatenate()([attention,attention_n])\n",
    "\n",
    "        attention_head = layers.Dense(embedding_dim)(attention)\n",
    "\n",
    "        decoder_resnet = layers.Add()([o_embedding,attention_head])\n",
    "        decoder_resnet = layers.BatchNormalization()(decoder_resnet)\n",
    "\n",
    "        decoder_output_resnet = layers.Dense(embedding_dim)(decoder_resnet)\n",
    "        decoder_output_resnet = layers.Add()([decoder_output_resnet, decoder_resnet])\n",
    "        decoder_output_resnet = layers.BatchNormalization()(decoder_output_resnet)\n",
    "        \n",
    "        queries = layers.Dense(dense_dim)(decoder_output_resnet)\n",
    "        keys = layers.Dense(dense_dim)(encoder_output_resnet)\n",
    "        values = layers.Dense(dense_dim)(encoder_output_resnet)\n",
    "        \n",
    "        query_key = layers.Dot(axes = 2)([keys,queries])\n",
    "        query_key = layers.Lambda(lambda x: (x / np.sqrt(dense_dim)))(query_key)\n",
    "        query_key = layers.Softmax()(query_key)\n",
    "        \n",
    "        query_key = layers.Lambda(lambda x : x + (create_padding_mask(input_vec_2) * (-1e9)))(query_key)\n",
    "\n",
    "        attention = layers.Dot(axes=1)([query_key,values])\n",
    "\n",
    "        for j in range(0 ,(multi_head_num - 1)):\n",
    "            queries_n = layers.Dense(dense_dim)(decoder_output_resnet)\n",
    "            keys_n = layers.Dense(dense_dim)(encoder_output_resnet)\n",
    "            values_n = layers.Dense(dense_dim)(encoder_output_resnet)\n",
    "\n",
    "            query_key_n = layers.Dot(axes = 2)([keys_n,queries_n])\n",
    "            query_key_n = layers.Lambda(lambda x: (x / np.sqrt(dense_dim)))(query_key_n)\n",
    "            query_key_n = layers.Softmax()(query_key_n)\n",
    "            \n",
    "            query_key_n = layers.Lambda(lambda x : x + (create_padding_mask(input_vec_2) * (-1e9)))(query_key_n)\n",
    "\n",
    "            attention_n = layers.Dot(axes=1)([query_key_n,values_n])\n",
    "\n",
    "            attention = layers.Concatenate()([attention,attention_n])\n",
    "\n",
    "        attention_head = layers.Dense(embedding_dim)(attention)\n",
    "\n",
    "        decoder_resnet = layers.Add()([decoder_output_resnet,attention_head])\n",
    "        decoder_resnet = layers.BatchNormalization()(decoder_resnet)\n",
    "\n",
    "        decoder_output_resnet = layers.Dense(embedding_dim)(decoder_resnet)\n",
    "        decoder_output_resnet = layers.Add()([decoder_output_resnet, decoder_resnet])\n",
    "        decoder_output_resnet = layers.BatchNormalization()(decoder_output_resnet)\n",
    "        \n",
    "    else:\n",
    "        \n",
    "              ## n-th floor decoder  \n",
    "        \n",
    "        queries = layers.Dense(dense_dim)(decoder_output_resnet)\n",
    "        keys = layers.Dense(dense_dim)(decoder_output_resnet)\n",
    "        values = layers.Dense(dense_dim)(decoder_output_resnet)\n",
    "\n",
    "        query_key = layers.Dot(axes = 2)([keys,queries])\n",
    "        query_key = layers.Lambda(lambda x: (x / np.sqrt(dense_dim)))(query_key)\n",
    "        query_key = layers.Softmax()(query_key)\n",
    "        \n",
    "        combined_mask = tf.maximum((create_look_ahead_mask(input_vec_2.shape[1]) * (-1e9)), \n",
    "           (create_look_ahead_mask(input_vec_2.shape[1]) * (-1e9)))\n",
    "        \n",
    "        query_key = layers.Lambda(lambda x : x + combined_mask)(query_key)\n",
    "        \n",
    "        attention = layers.Dot(axes=1)([query_key,values])\n",
    "        \n",
    "        for j in range(0 ,(multi_head_num - 1)):\n",
    "            \n",
    "            queries_n = layers.Dense(dense_dim)(decoder_output_resnet)\n",
    "            keys_n = layers.Dense(dense_dim)(decoder_output_resnet)\n",
    "            values_n = layers.Dense(dense_dim)(decoder_output_resnet)\n",
    "\n",
    "            query_key_n = layers.Dot(axes = 2)([keys_n,queries_n])\n",
    "            query_key_n = layers.Lambda(lambda x: (x / np.sqrt(dense_dim)))(query_key_n)\n",
    "            query_key_n = layers.Softmax()(query_key_n)\n",
    "            \n",
    "            query_key_n = layers.Lambda(lambda x : x + combined_mask)(query_key_n)\n",
    "\n",
    "            attention_n = layers.Dot(axes=1)([query_key_n,values_n])\n",
    "\n",
    "            attention = layers.Concatenate()([attention,attention_n])\n",
    "\n",
    "        attention_head = layers.Dense(embedding_dim)(attention)\n",
    "\n",
    "        decoder_resnet = layers.Add()([decoder_output_resnet,attention_head])\n",
    "        decoder_resnet = layers.BatchNormalization()(decoder_resnet)\n",
    "\n",
    "        decoder_output_resnet = layers.Dense(embedding_dim)(decoder_resnet)\n",
    "        decoder_output_resnet = layers.Add()([decoder_output_resnet, decoder_resnet])\n",
    "        decoder_output_resnet = layers.BatchNormalization()(decoder_output_resnet)\n",
    "        \n",
    "        queries = layers.Dense(dense_dim)(decoder_output_resnet)\n",
    "        keys = layers.Dense(dense_dim)(encoder_output_resnet)\n",
    "        values = layers.Dense(dense_dim)(encoder_output_resnet)\n",
    "        \n",
    "        query_key = layers.Dot(axes = 2)([keys,queries])\n",
    "        query_key = layers.Lambda(lambda x: (x / np.sqrt(dense_dim)))(query_key)\n",
    "        query_key = layers.Softmax()(query_key)\n",
    "        \n",
    "        query_key = layers.Lambda(lambda x : x + (create_padding_mask(input_vec_2) * (-1e9)))(query_key)\n",
    "\n",
    "        attention = layers.Dot(axes=1)([query_key,values])\n",
    "\n",
    "        for j in range(0 ,(multi_head_num - 1)):\n",
    "            queries_n = layers.Dense(dense_dim)(decoder_output_resnet)\n",
    "            keys_n = layers.Dense(dense_dim)(encoder_output_resnet)\n",
    "            values_n = layers.Dense(dense_dim)(encoder_output_resnet)\n",
    "\n",
    "            query_key_n = layers.Dot(axes = 2)([keys_n,queries_n])\n",
    "            query_key_n = layers.Lambda(lambda x: (x / np.sqrt(dense_dim)))(query_key_n)\n",
    "            query_key_n = layers.Softmax()(query_key_n)\n",
    "            \n",
    "            query_key_n = layers.Lambda(lambda x : x + (create_padding_mask(input_vec_2) * (-1e9)))(query_key_n)\n",
    "\n",
    "            attention_n = layers.Dot(axes=1)([query_key_n,values_n])\n",
    "\n",
    "            attention = layers.Concatenate()([attention,attention_n])\n",
    "\n",
    "        attention_head = layers.Dense(embedding_dim)(attention)\n",
    "\n",
    "        decoder_resnet = layers.Add()([decoder_output_resnet,attention_head])\n",
    "        decoder_resnet = layers.BatchNormalization()(decoder_resnet)\n",
    "\n",
    "        decoder_output_resnet = layers.Dense(embedding_dim)(decoder_resnet)\n",
    "        decoder_output_resnet = layers.Add()([decoder_output_resnet, decoder_resnet])\n",
    "        decoder_output_resnet = layers.BatchNormalization()(decoder_output_resnet)"
   ]
  },
  {
   "cell_type": "markdown",
   "metadata": {},
   "source": [
    "#### (3) 출력 및 모델 결합"
   ]
  },
  {
   "cell_type": "code",
   "execution_count": 419,
   "metadata": {},
   "outputs": [],
   "source": [
    "# text_classification\n",
    "\n",
    "output_vec = layers.GlobalAveragePooling1D()(decoder_output_resnet)\n",
    "\n",
    "output_vec = layers.Dense(output_vec.shape[1])(output_vec)\n",
    "\n",
    "output_vec = layers.Dense(target_size, activation=\"softmax\")(output_vec)\n",
    "\n",
    "transformer = Model(inputs = [input_vec_1,input_vec_2], outputs = [output_vec])"
   ]
  },
  {
   "cell_type": "code",
   "execution_count": 321,
   "metadata": {},
   "outputs": [],
   "source": [
    "# text generating\n",
    "\n",
    "output_vec = layers.Dense(target_size,activation=\"softmax\")(decoder_output_resnet)\n",
    "\n",
    "#output_vec = layers.Lambda(lambda x : x[:,0,:])(output_vec)\n",
    "\n",
    "transformer = Model(inputs = [input_vec_1,input_vec_2], outputs = [output_vec])"
   ]
  },
  {
   "cell_type": "markdown",
   "metadata": {},
   "source": [
    "#### (4) 시각화"
   ]
  },
  {
   "cell_type": "code",
   "execution_count": null,
   "metadata": {
    "scrolled": false
   },
   "outputs": [],
   "source": [
    "transformer.summary()"
   ]
  },
  {
   "cell_type": "code",
   "execution_count": 422,
   "metadata": {},
   "outputs": [],
   "source": [
    "#transformer.save(\"tranformer_cls.h5\")\n",
    "transformer.save(\"tranformer.h5\")"
   ]
  },
  {
   "cell_type": "markdown",
   "metadata": {},
   "source": [
    "## 4. 훈련 및 평가"
   ]
  },
  {
   "cell_type": "code",
   "execution_count": null,
   "metadata": {},
   "outputs": [],
   "source": [
    "X_train"
   ]
  },
  {
   "cell_type": "code",
   "execution_count": 366,
   "metadata": {},
   "outputs": [],
   "source": [
    "from keras.callbacks import EarlyStopping\n",
    "\n",
    "early_stopping = EarlyStopping(patience = 3)"
   ]
  },
  {
   "cell_type": "code",
   "execution_count": 423,
   "metadata": {
    "scrolled": false
   },
   "outputs": [],
   "source": [
    "transformer.compile(loss=\"categorical_crossentropy\", optimizer=\"adam\", metrics = [\"accuracy\"])"
   ]
  },
  {
   "cell_type": "code",
   "execution_count": null,
   "metadata": {},
   "outputs": [
    {
     "name": "stderr",
     "output_type": "stream",
     "text": [
      "C:\\Users\\23\\Anaconda3\\envs\\tensorflow\\lib\\site-packages\\tensorflow\\python\\framework\\indexed_slices.py:434: UserWarning: Converting sparse IndexedSlices to a dense Tensor of unknown shape. This may consume a large amount of memory.\n",
      "  \"Converting sparse IndexedSlices to a dense Tensor of unknown shape. \"\n"
     ]
    },
    {
     "name": "stdout",
     "output_type": "stream",
     "text": [
      "Train on 867 samples, validate on 290 samples\n",
      "Epoch 1/50\n",
      "190/867 [=====>........................] - ETA: 2:00:18 - loss: 4.5250 - accuracy: 0.0632"
     ]
    }
   ],
   "source": [
    "#text_classification\n",
    "\n",
    "    transformer.fit([X_train, X_train] , \n",
    "                    y_train ,\n",
    "                    epochs=50,\n",
    "                    batch_size = 5, \n",
    "                    validation_data = ([X_test, X_test], y_test),\n",
    "                    callbacks = [early_stopping]\n",
    "                   )"
   ]
  },
  {
   "cell_type": "code",
   "execution_count": null,
   "metadata": {
    "scrolled": true
   },
   "outputs": [],
   "source": [
    "for i in range(0,940) :\n",
    "    y_train = np.array([np.array(\n",
    "    dummies_temp.merge(\n",
    "        pd.get_dummies(j), \n",
    "        how = \"outer\").fillna(0)\n",
    "                ) \n",
    "    for i,j in enumerate(X_train_2[i : i + 10])])\n",
    "    \n",
    "    j = np.random.randint(11,200) - 10\n",
    "    \n",
    "    y_test = np.array([np.array(\n",
    "    dummies_temp.merge(\n",
    "        pd.get_dummies(j), \n",
    "        how = \"outer\").fillna(0)\n",
    "                ) \n",
    "    for i,j in enumerate(X_val_2[j : j + 10])])\n",
    "    \n",
    "    #X_val_1_reshape = X_val_1[j].reshape((1,X_val_1[j].shape[0]))\n",
    "    #X_val_2_reshape = X_val_2[j].reshape((1,X_val_2[j].shape[0]))\n",
    "    \n",
    "\n",
    "    transformer.fit([X_train_1[i : i + 10], X_train_2[i : i + 10]] , \n",
    "                    y_train ,\n",
    "                    epochs=50,\n",
    "                    batch_size = 5, \n",
    "                    validation_data = ([X_val_1[j : j + 10], X_val_2[j : j + 10]], y_test),\n",
    "                    #callbacks = [early_stopping]\n",
    "                   )"
   ]
  }
 ],
 "metadata": {
  "kernelspec": {
   "display_name": "tensorflow",
   "language": "python",
   "name": "tensorflow"
  },
  "language_info": {
   "codemirror_mode": {
    "name": "ipython",
    "version": 3
   },
   "file_extension": ".py",
   "mimetype": "text/x-python",
   "name": "python",
   "nbconvert_exporter": "python",
   "pygments_lexer": "ipython3",
   "version": "3.6.10"
  }
 },
 "nbformat": 4,
 "nbformat_minor": 4
}
